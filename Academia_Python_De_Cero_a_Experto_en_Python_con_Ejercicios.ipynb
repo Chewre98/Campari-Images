{
  "nbformat": 4,
  "nbformat_minor": 0,
  "metadata": {
    "colab": {
      "provenance": [],
      "authorship_tag": "ABX9TyP07z7yBmWRNAjqld8/ROQm",
      "include_colab_link": true
    },
    "kernelspec": {
      "name": "python3",
      "display_name": "Python 3"
    },
    "language_info": {
      "name": "python"
    }
  },
  "cells": [
    {
      "cell_type": "markdown",
      "metadata": {
        "id": "view-in-github",
        "colab_type": "text"
      },
      "source": [
        "<a href=\"https://colab.research.google.com/github/Chewre98/Campari-Images/blob/main/Academia_Python_De_Cero_a_Experto_en_Python_con_Ejercicios.ipynb\" target=\"_parent\"><img src=\"https://colab.research.google.com/assets/colab-badge.svg\" alt=\"Open In Colab\"/></a>"
      ]
    },
    {
      "cell_type": "markdown",
      "source": [
        "**Sección 2**"
      ],
      "metadata": {
        "id": "mJSFM5oCf0hv"
      }
    },
    {
      "cell_type": "markdown",
      "source": [
        "\n",
        "Para definir una cadena se usa ya sea comilla doble o simple tambien\n",
        "\n",
        "---\n",
        "\n"
      ],
      "metadata": {
        "id": "OEgWm-MfhQWr"
      }
    },
    {
      "cell_type": "code",
      "execution_count": null,
      "metadata": {
        "colab": {
          "base_uri": "https://localhost:8080/"
        },
        "id": "knb0R4vlg2fs",
        "outputId": "eb4611c9-53aa-49ce-cec2-bcb784fe301a"
      },
      "outputs": [
        {
          "output_type": "stream",
          "name": "stdout",
          "text": [
            "hola mundo\n",
            "hola mundo\n"
          ]
        }
      ],
      "source": [
        "print(\"hola mundo\")\n",
        "print('hola mundo')"
      ]
    },
    {
      "cell_type": "markdown",
      "source": [
        "Para saber cuantos rows python can manage on our computer"
      ],
      "metadata": {
        "id": "R0BCp-KrrczJ"
      }
    },
    {
      "cell_type": "code",
      "source": [
        "import sys\n",
        "\n",
        "def rows_that_can_be_managed():\n",
        "  \"\"\"Returns the number of rows that can be managed on Python with 16 GB of RAM.\"\"\"\n",
        "  available_memory = sys.getsizeof(1) * 16 * 1024 * 1024\n",
        "  row_size = sys.getsizeof([1])\n",
        "  return available_memory / row_size\n",
        "\n",
        "if __name__ == \"__main__\":\n",
        "  print(rows_that_can_be_managed())\n"
      ],
      "metadata": {
        "colab": {
          "base_uri": "https://localhost:8080/"
        },
        "id": "mdNRt-9Kg65f",
        "outputId": "1cb3a80e-8a17-47ee-951a-ea0d2cf7318a"
      },
      "execution_count": null,
      "outputs": [
        {
          "output_type": "stream",
          "name": "stdout",
          "text": [
            "7340032.0\n"
          ]
        }
      ]
    },
    {
      "cell_type": "markdown",
      "source": [
        "**10. Direccion de memoria**"
      ],
      "metadata": {
        "id": "Db92usUIc4pr"
      }
    },
    {
      "cell_type": "code",
      "source": [
        "x = 10\n",
        "y = 2\n",
        "z = x + y\n",
        "print(x)\n",
        "print(y)\n",
        "print(z)\n",
        "print(id(x))\n",
        "print(id(y))\n",
        "print(id(z))"
      ],
      "metadata": {
        "colab": {
          "base_uri": "https://localhost:8080/"
        },
        "id": "ZxmsOPo7c76B",
        "outputId": "4eed8465-d2f4-4316-ef7d-5b90c187b69b"
      },
      "execution_count": null,
      "outputs": [
        {
          "output_type": "stream",
          "name": "stdout",
          "text": [
            "10\n",
            "2\n",
            "12\n",
            "137800356577808\n",
            "137800356577552\n",
            "137800356577872\n"
          ]
        }
      ]
    },
    {
      "cell_type": "markdown",
      "source": [
        "declarar variables de texto vs numericas"
      ],
      "metadata": {
        "id": "d54HTZwJtmvf"
      }
    },
    {
      "cell_type": "code",
      "source": [
        "nombre = 'juan'\n",
        "telefono = 5589383928\n",
        "print(nombre, telefono )"
      ],
      "metadata": {
        "colab": {
          "base_uri": "https://localhost:8080/"
        },
        "id": "iepkDIHCtp9F",
        "outputId": "43f7e485-41fd-472b-8dff-ac2f60e853f2"
      },
      "execution_count": null,
      "outputs": [
        {
          "output_type": "stream",
          "name": "stdout",
          "text": [
            "juan 5589383928\n"
          ]
        }
      ]
    },
    {
      "cell_type": "markdown",
      "source": [
        "Debemos respetar mayusculas y minusculas en python para que agarre correctamente"
      ],
      "metadata": {
        "id": "B3liL1YLu1Ah"
      }
    },
    {
      "cell_type": "markdown",
      "source": [
        "Para concatenar cadenas utilizamos el simbolo de +"
      ],
      "metadata": {
        "id": "TJbTB9E96D8E"
      }
    },
    {
      "cell_type": "code",
      "source": [
        "color_fav = 'azul'\n",
        "print(\"Micolor favorito es: \" + color_fav)"
      ],
      "metadata": {
        "colab": {
          "base_uri": "https://localhost:8080/"
        },
        "id": "K-YocOlgvpM8",
        "outputId": "2a7b9ad7-37f4-4317-9e34-0ae7a764450f"
      },
      "execution_count": null,
      "outputs": [
        {
          "output_type": "stream",
          "name": "stdout",
          "text": [
            "Micolor favorito es: azul\n"
          ]
        }
      ]
    },
    {
      "cell_type": "markdown",
      "source": [
        "Para añadir espacios podemos usar las comillas y dejar espacio en blanco"
      ],
      "metadata": {
        "id": "G_bOvHsHATU0"
      }
    },
    {
      "cell_type": "code",
      "source": [
        "color_fav = 'azul' + \" \" + \",\" + 'azul marino'\n",
        "print(\"Mis colores favoritos es: \" + color_fav)"
      ],
      "metadata": {
        "colab": {
          "base_uri": "https://localhost:8080/"
        },
        "id": "D58nLnL46iBt",
        "outputId": "cc167535-d930-41a6-b840-5e108e3afb1d"
      },
      "execution_count": null,
      "outputs": [
        {
          "output_type": "stream",
          "name": "stdout",
          "text": [
            "Mis colores favoritos es: azul ,azul marino\n"
          ]
        }
      ]
    },
    {
      "cell_type": "markdown",
      "source": [
        "Otra forma de concatenar texto en lugar de + es usando simplemente la , (coma)"
      ],
      "metadata": {
        "id": "0bFeck5UCZ2K"
      }
    },
    {
      "cell_type": "code",
      "source": [
        "color_fav = 'azul'\n",
        "second_color_fav = 'negro'\n",
        "print(\"Micolor favorito es: \" ,color_fav, second_color_fav)"
      ],
      "metadata": {
        "colab": {
          "base_uri": "https://localhost:8080/"
        },
        "id": "PMWV7Zr0An69",
        "outputId": "a3c96d91-e9e2-4f8c-d4a7-716132127b32"
      },
      "execution_count": null,
      "outputs": [
        {
          "output_type": "stream",
          "name": "stdout",
          "text": [
            "Micolor favorito es:  azul negro\n"
          ]
        }
      ]
    },
    {
      "cell_type": "markdown",
      "source": [
        "Podemos cambiar el tipo de dato para poder manipular numeros en string"
      ],
      "metadata": {
        "id": "IgR6k4SvKaZI"
      }
    },
    {
      "cell_type": "code",
      "source": [
        "a = \"5\" # como esta entre comillas es una cadena de texto\n",
        "b = \"10\"\n",
        "print(int(a) + int(b))"
      ],
      "metadata": {
        "colab": {
          "base_uri": "https://localhost:8080/"
        },
        "id": "m4i6oNirCtUi",
        "outputId": "8b4eb447-a1b3-47c4-cc30-a3d0fa37c5d6"
      },
      "execution_count": null,
      "outputs": [
        {
          "output_type": "stream",
          "name": "stdout",
          "text": [
            "15\n"
          ]
        }
      ]
    },
    {
      "cell_type": "markdown",
      "source": [
        "Valores booleanos"
      ],
      "metadata": {
        "id": "C27tRBpmPRsO"
      }
    },
    {
      "cell_type": "code",
      "source": [
        "from ast import If\n",
        "var = 13>21\n",
        "print(var)\n",
        "\n",
        "if var:\n",
        "   print('El resultado fue verdadero')\n",
        "else:\n",
        "   print('el 2do numero es mas grande')\n",
        "\n"
      ],
      "metadata": {
        "colab": {
          "base_uri": "https://localhost:8080/"
        },
        "id": "S1hHNGA1Lqak",
        "outputId": "f82df9e8-26f7-4794-898a-1a90ea353185"
      },
      "execution_count": null,
      "outputs": [
        {
          "output_type": "stream",
          "name": "stdout",
          "text": [
            "False\n",
            "el 2do numero es mas grande\n"
          ]
        }
      ]
    },
    {
      "cell_type": "markdown",
      "source": [
        "Para pedir al usuario que ingrese una cadena string con INPUT\n",
        "\n",
        "\n",
        "1.   List item\n",
        "2.   List item\n",
        "\n"
      ],
      "metadata": {
        "id": "JCH1S_48dkLl"
      }
    },
    {
      "cell_type": "code",
      "source": [
        "resultado = input('Ingresa una cadena de texto')\n",
        "print(resultado)\n"
      ],
      "metadata": {
        "colab": {
          "base_uri": "https://localhost:8080/"
        },
        "id": "kfZBMCWRQ5oD",
        "outputId": "96e4f309-9d8e-4a2d-d245-f2c740243dd8"
      },
      "execution_count": null,
      "outputs": [
        {
          "output_type": "stream",
          "name": "stdout",
          "text": [
            "Ingresa una cadena de textoHola\n",
            "Hola\n"
          ]
        }
      ]
    },
    {
      "cell_type": "markdown",
      "source": [
        "Ejercicio: califica tu dia, ingresar un numero con la funcion INPUT que califique como estuvo tu día"
      ],
      "metadata": {
        "id": "vZ3N-K0__70Y"
      }
    },
    {
      "cell_type": "code",
      "source": [
        "calificacion = int(input(\"ingresa un numero que represente como estuvo tu dia del 1 al 10: \"))\n",
        "print(f\"tu dia estuvo del: {calificacion}\")"
      ],
      "metadata": {
        "colab": {
          "base_uri": "https://localhost:8080/"
        },
        "id": "H9ncf6WSe1_w",
        "outputId": "9ab2f221-636a-4c6e-fc53-b471a0f02e28"
      },
      "execution_count": null,
      "outputs": [
        {
          "output_type": "stream",
          "name": "stdout",
          "text": [
            "ingresa un numero que represente como estuvo tu dia del 1 al 10: 7\n",
            "tu dia estuvo del: 7\n"
          ]
        }
      ]
    },
    {
      "cell_type": "markdown",
      "source": [
        "Ejercicio: pide nombre y autor de un libro y el resuletado debe ser la suma de estos en una oracion\n"
      ],
      "metadata": {
        "id": "L9o443mrCo8X"
      }
    },
    {
      "cell_type": "code",
      "source": [
        "titulo = input(\"Cual es el nombre del libro: \")\n",
        "autor = input('Cual es el nombre del autor del lirbro:')\n",
        "resul = (f\"El libro se llama {titulo} y fue escrito por {autor}\") # la f significa forma o formato\n",
        "# Interpolacion es incluir variables en una cadena como {}\n",
        "# sin la letra f al inicio no funcionará la interpolación\n",
        "print(resul)"
      ],
      "metadata": {
        "colab": {
          "base_uri": "https://localhost:8080/"
        },
        "id": "7ilT7WEUBNiZ",
        "outputId": "6ea07296-a57e-4367-c80d-e61b5bd99f5c"
      },
      "execution_count": null,
      "outputs": [
        {
          "output_type": "stream",
          "name": "stdout",
          "text": [
            "Cual es el nombre del libro: car sagan \n",
            "Cual es el nombre del autor del lirbro:cosmos\n",
            "El libro se llama car sagan  y fue escrito por cosmos\n"
          ]
        }
      ]
    },
    {
      "cell_type": "markdown",
      "source": [
        "Ejercicio:  Calculadora de area y permitro de rectangulos donde se le proporciones el alto y ancho"
      ],
      "metadata": {
        "id": "ID1rsNY6nDYL"
      }
    },
    {
      "cell_type": "code",
      "source": [
        "altura = int(input('proporcione la altura: '))\n",
        "ancho = int(input('proporcione el ancho: '))\n",
        "area = altura * ancho\n",
        "perimetro = (altura + ancho)*2\n",
        "print(f'El area del rectangulo es:  {area}')\n",
        "print(f'El perimetro del rectangulo es:  {perimetro}')"
      ],
      "metadata": {
        "id": "L0NdANtCDMVQ",
        "colab": {
          "base_uri": "https://localhost:8080/"
        },
        "outputId": "8b6d9dea-3df1-47ff-a97e-799d173c0e1c"
      },
      "execution_count": null,
      "outputs": [
        {
          "output_type": "stream",
          "name": "stdout",
          "text": [
            "proporcione la altura: 5\n",
            "proporcione el ancho: 67\n",
            "El area del rectangulo es:  335\n",
            "El perimetro del rectangulo es:  144\n"
          ]
        }
      ]
    },
    {
      "cell_type": "markdown",
      "source": [
        "Se puede asignar operaciones en python, es decir:"
      ],
      "metadata": {
        "id": "kU-x6Q3nx4xY"
      }
    },
    {
      "cell_type": "code",
      "source": [
        "variable = 5\n",
        "variable += 1\n",
        "print(variable)\n",
        "\n",
        "variable *= 3\n",
        "print(variable)\n",
        "\n",
        "variable -= 4\n",
        "print(variable)\n",
        "\n",
        "variable /= 4\n",
        "print(variable)\n",
        "\n"
      ],
      "metadata": {
        "id": "4GbmDJZtorot",
        "colab": {
          "base_uri": "https://localhost:8080/"
        },
        "outputId": "8bd03611-4ebb-49a9-9ae0-ed64cec010d7"
      },
      "execution_count": null,
      "outputs": [
        {
          "output_type": "stream",
          "name": "stdout",
          "text": [
            "6\n",
            "18\n",
            "14\n",
            "3.5\n"
          ]
        }
      ]
    },
    {
      "cell_type": "markdown",
      "source": [
        "Operadores de comparación"
      ],
      "metadata": {
        "id": "lYwp-Gds01HU"
      }
    },
    {
      "cell_type": "code",
      "source": [
        "a = 13\n",
        "b = 21\n",
        "variablee = a == b\n",
        "diferen = a != b  # se usa != para comparar si son diferentes\n",
        "mayor = a > b\n",
        "print('¿La variable a es igual a b?: ', variablee)\n",
        "print('¿La variable a es diferente a b?: ', diferen)\n",
        "print('¿La variable a es mayor a b?: ', mayor)"
      ],
      "metadata": {
        "colab": {
          "base_uri": "https://localhost:8080/"
        },
        "id": "Wj6Aqd8nyHWQ",
        "outputId": "b5e20eda-371a-4c6a-c236-0da17b4c8271"
      },
      "execution_count": null,
      "outputs": [
        {
          "output_type": "stream",
          "name": "stdout",
          "text": [
            "¿La variable a es igual a b?:  False\n",
            "¿La variable a es diferente a b?:  True\n",
            "¿La variable a es mayor a b?:  False\n"
          ]
        }
      ]
    },
    {
      "cell_type": "markdown",
      "source": [
        "Ejercicio: Hacer calculadora de si es par o no par cierto número proporcionado por el cliente\n"
      ],
      "metadata": {
        "id": "MbYa_yrjEZGl"
      }
    },
    {
      "cell_type": "code",
      "source": [
        "a = int(input('ingresa un numero: '))\n",
        "\n",
        "if a % 2 == 0:\n",
        "  print(f'El numero {a} es par')\n",
        "\n",
        "else:  print(f'El numero {a} es impar')"
      ],
      "metadata": {
        "colab": {
          "base_uri": "https://localhost:8080/"
        },
        "id": "C8QqaGis1NsW",
        "outputId": "2e08353c-cba5-4e1c-8c8d-d4be703f178e"
      },
      "execution_count": null,
      "outputs": [
        {
          "output_type": "stream",
          "name": "stdout",
          "text": [
            "ingresa un numero: 7\n",
            "El numero 7 es impar\n"
          ]
        }
      ]
    },
    {
      "cell_type": "markdown",
      "source": [
        "Ejercicio: Calculadora si una persona es adulto(mayor de 18 años)"
      ],
      "metadata": {
        "id": "-BygBNBLGLCc"
      }
    },
    {
      "cell_type": "code",
      "source": [
        "w = int(input('Ingresa tu edad: '))\n",
        "\n",
        "if w >= 18:\n",
        "  print('Eres un adulto ')\n",
        "else: print('Eres un menor de edad')"
      ],
      "metadata": {
        "colab": {
          "base_uri": "https://localhost:8080/"
        },
        "id": "FDLYt1dyFSmc",
        "outputId": "72306389-9764-4ff5-fb3f-756fd5791f10"
      },
      "execution_count": null,
      "outputs": [
        {
          "output_type": "stream",
          "name": "stdout",
          "text": [
            "Ingresa tu edad: 12\n",
            "Eres un menor de edad\n"
          ]
        }
      ]
    },
    {
      "cell_type": "markdown",
      "source": [
        "Operadores and, or y not"
      ],
      "metadata": {
        "id": "E6BaBl4dHlOO"
      }
    },
    {
      "cell_type": "code",
      "source": [
        "a = True\n",
        "b = False\n",
        "\n",
        "resul = a and b\n",
        "print(resul)\n",
        "\n",
        "resul = a or b\n",
        "print(resul)\n",
        "\n",
        "resul =  not b\n",
        "print(resul)\n",
        "\n"
      ],
      "metadata": {
        "colab": {
          "base_uri": "https://localhost:8080/"
        },
        "id": "EurJvAFHGzyw",
        "outputId": "5d5a24a0-f599-41f9-8bc8-0ed043851691"
      },
      "execution_count": null,
      "outputs": [
        {
          "output_type": "stream",
          "name": "stdout",
          "text": [
            "False\n",
            "True\n",
            "True\n"
          ]
        }
      ]
    },
    {
      "cell_type": "markdown",
      "source": [
        "Ejercicio: Decir si un nuemro esta en el rango del 1 al 10\n"
      ],
      "metadata": {
        "id": "fo1OOOLDIdfj"
      }
    },
    {
      "cell_type": "code",
      "source": [
        "a = int(input('ingresa un numero: '))\n",
        "if a >= 1 and a<= 10:\n",
        "  print(f'El numero {a} esta en el intervalo del 1 al 10')\n",
        "else:   print(f'El numero no {a} esta en el intervalo del 1 al 10')\n"
      ],
      "metadata": {
        "colab": {
          "base_uri": "https://localhost:8080/"
        },
        "id": "mnQzjH2lH7Zk",
        "outputId": "f8e1c075-d1bc-4c47-dbb3-7340b398ecf6"
      },
      "execution_count": null,
      "outputs": [
        {
          "output_type": "stream",
          "name": "stdout",
          "text": [
            "ingresa un numero: 11\n",
            "El numero no 11 esta en el intervalo del 1 al 10\n"
          ]
        }
      ]
    },
    {
      "cell_type": "markdown",
      "source": [
        "Ejercicio: si un padre tiene vacaciones o dia de descanso, puede ir al juego de su hijo"
      ],
      "metadata": {
        "id": "x0qMysP9JhfN"
      }
    },
    {
      "cell_type": "code",
      "source": [
        "descanso   = True\n",
        "vacasiones = False\n",
        "\n",
        "if descanso or vacasiones:\n",
        "  print('El padre podra ir al juego')\n",
        "else:   print('El padre no podra ir al juego')\n"
      ],
      "metadata": {
        "colab": {
          "base_uri": "https://localhost:8080/"
        },
        "id": "KgQSfKkgI7df",
        "outputId": "99692676-2289-4066-d711-d78e12056980"
      },
      "execution_count": null,
      "outputs": [
        {
          "output_type": "stream",
          "name": "stdout",
          "text": [
            "El padre podra ir al juego\n"
          ]
        }
      ]
    },
    {
      "cell_type": "markdown",
      "source": [
        "\\ antes de algo indica que es un caracter especial, si en el print queremos concatenar algo con '' ya no las podremos volver a utilizar y tendremos que usar \\ para indicar que es especial"
      ],
      "metadata": {
        "id": "12ELQLJULzkl"
      }
    },
    {
      "cell_type": "markdown",
      "source": [
        "Python no anida con llaves si no solo con los espacios que vamos dejando(identacion)"
      ],
      "metadata": {
        "id": "RDLwq9HCMnex"
      }
    },
    {
      "cell_type": "markdown",
      "source": [
        "If anidado"
      ],
      "metadata": {
        "id": "HNaqeiTBNARD"
      }
    },
    {
      "cell_type": "code",
      "source": [
        "def determinar_nivel(edad):\n",
        "    if edad < 3:\n",
        "        nivel = \"Bebé\"\n",
        "    elif edad >= 3 and edad < 6:\n",
        "        nivel = \"Infantil\"\n",
        "    elif edad >= 6 and edad < 12:\n",
        "        nivel = \"Primaria\"\n",
        "    elif edad >= 12 and edad < 15:\n",
        "        nivel = \"Secundaria\"\n",
        "    else:\n",
        "        nivel = \"Superior\"\n",
        "\n",
        "    return nivel\n",
        "\n",
        "# Solicitar al usuario ingresar la edad\n",
        "try:\n",
        "    edad_usuario = int(input(\"Ingresa tu edad: \"))\n",
        "    nivel_usuario = determinar_nivel(edad_usuario)\n",
        "    print(f\"Tu nivel es: {nivel_usuario}\")\n",
        "except ValueError:\n",
        "    print(\"Error: Ingresa un número entero válido.\")\n"
      ],
      "metadata": {
        "colab": {
          "base_uri": "https://localhost:8080/"
        },
        "id": "5fksVUeOTtsY",
        "outputId": "047375d2-a577-42f9-8c69-7d049c11f350"
      },
      "execution_count": null,
      "outputs": [
        {
          "output_type": "stream",
          "name": "stdout",
          "text": [
            "Ingresa tu edad: 25\n",
            "Tu nivel es: Superior\n"
          ]
        }
      ]
    },
    {
      "cell_type": "markdown",
      "source": [
        "El bloque try-except en Python se utiliza para manejar excepciones, es decir, situaciones inesperadas o errores que pueden ocurrir durante la ejecución del programa. Cuando un error ocurre en un bloque de código dentro del try, el flujo del programa se desvía inmediatamente al bloque except, donde puedes manejar el error de manera controlada."
      ],
      "metadata": {
        "id": "YVlY4wo6UpKu"
      }
    },
    {
      "cell_type": "markdown",
      "source": [
        "return: El uso de return es fundamental para obtener resultados y utilizarlos en otras partes del programa. Sin return, una función realizaría alguna tarea pero no proporcionaría un valor que se pueda usar fuera de ella.\n"
      ],
      "metadata": {
        "id": "T0NWwNJhU53U"
      }
    },
    {
      "cell_type": "code",
      "source": [
        "def sumar(a, b):\n",
        "    resultado = a + b\n",
        "    return resultado\n",
        "\n",
        "# Llamamos a la función y almacenamos el resultado en una variable\n",
        "resultado_suma = sumar(5, 3)\n",
        "\n",
        "print(resultado_suma)  # Imprimirá 8, que es el resultado devuelto por la función\n"
      ],
      "metadata": {
        "id": "XK1LJp8kUIkT"
      },
      "execution_count": null,
      "outputs": []
    },
    {
      "cell_type": "markdown",
      "source": [
        "Ejercicio: El usuario mete 2 numero y debe de regresar el mayor"
      ],
      "metadata": {
        "id": "GjXY2OAGXQ_e"
      }
    },
    {
      "cell_type": "code",
      "source": [
        "a = int(input('ingresa numero: '))\n",
        "b = int(input('ingresa second numero: '))\n",
        "\n",
        "if a > b:\n",
        "  print('fisrt mas grande')\n",
        "elif b > a:\n",
        "    print('second mas grande')\n",
        "else:     print('son  iguales')\n",
        "\n"
      ],
      "metadata": {
        "colab": {
          "base_uri": "https://localhost:8080/"
        },
        "id": "N-sP33IeXWj1",
        "outputId": "588b2de2-a084-4b97-c773-e39b225089c3"
      },
      "execution_count": null,
      "outputs": [
        {
          "output_type": "stream",
          "name": "stdout",
          "text": [
            "ingresa numero: 14\n",
            "ingresa second numero: 21\n",
            "b mas grande\n"
          ]
        }
      ]
    },
    {
      "cell_type": "markdown",
      "source": [
        "Ejercicio: que el usurio meta nombre del libros, ID y devuelba precio y si el envio es gratuito.\n"
      ],
      "metadata": {
        "id": "XCK8PN0os2GI"
      }
    },
    {
      "cell_type": "code",
      "source": [
        "libro = input('Indica el titulo del libro que buscas: ')\n",
        "ID    = input('Indica el ID del libro que buscas: ')\n",
        "envio = True\n",
        "\n",
        "precio = print(f'''\n",
        "               'El libro tiene precio de 230 MX '\n",
        "               'y el envio gratis es: {envio}'\n",
        "               ''')"
      ],
      "metadata": {
        "colab": {
          "base_uri": "https://localhost:8080/"
        },
        "id": "Z4NSAD9MYPX9",
        "outputId": "f1ba1d71-b71a-4c55-ff40-4c8ce2c05be5"
      },
      "execution_count": null,
      "outputs": [
        {
          "output_type": "stream",
          "name": "stdout",
          "text": [
            "Indica el titulo del libro que buscas: r\n",
            "Indica el ID del libro que buscas: r\n",
            "\n",
            "               'El libro tiene precio de 230 MX '\n",
            "               'y el envio gratis es: True'\n",
            "               \n"
          ]
        }
      ]
    },
    {
      "cell_type": "markdown",
      "source": [
        "Como viste si usa print y f y 3 comillas puedes imprimir varias cosas al mismo tiempo"
      ],
      "metadata": {
        "id": "nRof8_tHukb8"
      }
    },
    {
      "cell_type": "markdown",
      "source": [
        "En el if else el else es opcional, tiene que estar bien identado oseasea con espacio s bien definidos auqnue no hace que pongas muchos espacios, solo con un espacio basta"
      ],
      "metadata": {
        "id": "l1Rml1Miv3_N"
      }
    },
    {
      "cell_type": "markdown",
      "source": [
        "Para comentar un cachote de codigo puedes seleccionarlo y utilizar Ctrl + / para comentarlo todo"
      ],
      "metadata": {
        "id": "qvF59CTScA5l"
      }
    },
    {
      "cell_type": "code",
      "source": [
        "x = True\n",
        "print('el valor de x es True') if x else print('es false')\n",
        "\n",
        "#solo para que veas que if se puede ocupar de distintas maneras como despues de un  print\n",
        "# Aqui el if funciona porque es muy pequeño el codigo, si fuera mas gradne debes de identarlo"
      ],
      "metadata": {
        "colab": {
          "base_uri": "https://localhost:8080/"
        },
        "id": "_nrmplVpt1O-",
        "outputId": "9c002db5-7089-426e-a388-375be373c9fe"
      },
      "execution_count": null,
      "outputs": [
        {
          "output_type": "stream",
          "name": "stdout",
          "text": [
            "el valor de x es True\n"
          ]
        }
      ]
    },
    {
      "cell_type": "markdown",
      "source": [
        "Ejercicio: si el usuario pones un mes indicarlo a que estacion pertenece.\n",
        "\n",
        "Estación\tMeses\n",
        "Invierno\tDiciembre, Enero, Febrero\n",
        "Primavera\tMarzo, Abril, Mayo\n",
        "Verano\tJunio, Julio, Agosto\n",
        "Otoño\tSeptiembre, Octubre, Noviembre"
      ],
      "metadata": {
        "id": "3wipren7dHpO"
      }
    },
    {
      "cell_type": "code",
      "source": [
        "mes = input('Inserta un mes: ')\n",
        "\n",
        "if mes in ['diciembre', 'enero']:\n",
        "  print (f'el mes {mes} es de la estacion invierno')\n",
        "elif mes in ['marzo', 'abril', 'mayo']:\n",
        "    print (f'el mes {mes} es de la estacion primavera')\n",
        "elif mes in ['junio', 'julio', 'agosto']:\n",
        "    print (f'el mes {mes} es de la estacion verano')\n",
        "elif mes in ['septiembre', 'octubre', 'noviembre']:\n",
        "    print (f'el mes {mes} es de la estacion otoño')\n",
        "\n",
        "else: print('escribiste mal el nombre del mes')\n"
      ],
      "metadata": {
        "colab": {
          "base_uri": "https://localhost:8080/"
        },
        "id": "loUMisr0cXqz",
        "outputId": "0fcfd0ed-3055-4966-a514-ca166b81af3c"
      },
      "execution_count": null,
      "outputs": [
        {
          "output_type": "stream",
          "name": "stdout",
          "text": [
            "Inserta un mes: marzo\n",
            "el mes marzo es de la estacion primavera\n"
          ]
        }
      ]
    },
    {
      "cell_type": "markdown",
      "source": [
        "Ejercicio: divide los años de la vida en 3 etapas niño, adulto, vida. y segun los rangos de edad que creas, calculadora.\n"
      ],
      "metadata": {
        "id": "Qn_UhIfegO_L"
      }
    },
    {
      "cell_type": "code",
      "source": [
        "edad = int(input('ingresa tu edad: '))\n",
        "\n",
        "if edad >= 0 and edad <18:\n",
        "  print('estas chavo')\n",
        "elif edad >= 18 and edad <50:\n",
        "  print('eres adulto')\n",
        "elif edad >= 50 and edad <150:\n",
        "  print('eres anciano')\n",
        "\n",
        "else: print('ingresa un valor adecuado')"
      ],
      "metadata": {
        "colab": {
          "base_uri": "https://localhost:8080/"
        },
        "id": "nLlkUn1ld90e",
        "outputId": "948999a4-ff17-42fc-b439-6bc36e5247d1"
      },
      "execution_count": null,
      "outputs": [
        {
          "output_type": "stream",
          "name": "stdout",
          "text": [
            "ingresa tu edad: 25\n",
            "eres adulto\n"
          ]
        }
      ]
    },
    {
      "cell_type": "markdown",
      "source": [
        "Ejercicio: imprime 0,1 y 2 con while"
      ],
      "metadata": {
        "id": "YtiHCY1TkwwS"
      }
    },
    {
      "cell_type": "code",
      "source": [
        "contador = 0\n",
        "\n",
        "while contador < 3:\n",
        "  print(contador)\n",
        "  contador += 1\n",
        "else:\n",
        "  print('acabo el ciclo gg')"
      ],
      "metadata": {
        "colab": {
          "base_uri": "https://localhost:8080/"
        },
        "id": "p4tzwDv2hQqS",
        "outputId": "40cf5735-11dc-408d-96fc-f3a2a4959967"
      },
      "execution_count": null,
      "outputs": [
        {
          "output_type": "stream",
          "name": "stdout",
          "text": [
            "0\n",
            "1\n",
            "2\n",
            "acabo el ciclo gg\n"
          ]
        }
      ]
    },
    {
      "cell_type": "markdown",
      "source": [
        "Ejercicio: lista de 5 a 0 de manera descendente con while"
      ],
      "metadata": {
        "id": "z6tWORf4lwJV"
      }
    },
    {
      "cell_type": "code",
      "source": [
        "numero = 5\n",
        "\n",
        "while numero <= 5 and numero >= 0:\n",
        "  print(numero)\n",
        "  numero -= 1\n",
        "else:\n",
        "  print('acabo el ciclo')"
      ],
      "metadata": {
        "colab": {
          "base_uri": "https://localhost:8080/"
        },
        "id": "NCEKxChnlC38",
        "outputId": "5d645758-4adc-4cf0-a21e-3832595511e3"
      },
      "execution_count": null,
      "outputs": [
        {
          "output_type": "stream",
          "name": "stdout",
          "text": [
            "5\n",
            "4\n",
            "3\n",
            "2\n",
            "1\n",
            "0\n",
            "acabo el ciclo\n"
          ]
        }
      ]
    },
    {
      "cell_type": "markdown",
      "source": [
        "Ejmplo de for"
      ],
      "metadata": {
        "id": "kY5F48IDnN-d"
      }
    },
    {
      "cell_type": "code",
      "source": [
        "palabra = 'hola'\n",
        "for letra in palabra:\n",
        "  print(letra)\n",
        "else: print('acabo el ciclo')"
      ],
      "metadata": {
        "colab": {
          "base_uri": "https://localhost:8080/"
        },
        "id": "clwLLgy6mn4U",
        "outputId": "183318e8-8421-4c5f-867a-354711711906"
      },
      "execution_count": null,
      "outputs": [
        {
          "output_type": "stream",
          "name": "stdout",
          "text": [
            "h\n",
            "o\n",
            "l\n",
            "a\n",
            "acabo el ciclo\n"
          ]
        }
      ]
    },
    {
      "cell_type": "markdown",
      "source": [
        "La palabra reservada 'break' va a romper con nuestro ciclo. Esto puede ser util cuando andamos buscando cierta palabra y la encontramos y ya no necesitamos continuar con nuestro ciclo for"
      ],
      "metadata": {
        "id": "K6urLMrUoG_e"
      }
    },
    {
      "cell_type": "code",
      "source": [
        "word = 'holandaa'\n",
        "\n",
        "for letra in word:\n",
        "  if letra == 'a':\n",
        "    print(letra)\n",
        "    break\n",
        "else: (':v')"
      ],
      "metadata": {
        "colab": {
          "base_uri": "https://localhost:8080/"
        },
        "id": "O_5ghPUnne2y",
        "outputId": "798e1021-8896-40e2-adcf-1dbef1d9bb21"
      },
      "execution_count": null,
      "outputs": [
        {
          "output_type": "stream",
          "name": "stdout",
          "text": [
            "a\n"
          ]
        }
      ]
    },
    {
      "cell_type": "markdown",
      "source": [
        "Ejemplo de palabra reservada continue para for y while   \n",
        "\n",
        "Cuando se ejecuta la declaración continue, el programa salta al inicio del bucle (para for) o vuelve a evaluar la condición (para while), ignorando cualquier código que siga a la declaración continue en la iteración actual.\n"
      ],
      "metadata": {
        "id": "p1P9kTGVusJ_"
      }
    },
    {
      "cell_type": "code",
      "source": [
        "# Ejemplo con for\n",
        "for i in range(1, 6):\n",
        "    if i == 3:\n",
        "        continue\n",
        "    print(i)\n",
        "\n",
        "print('--------------------------------')\n",
        "contador = 0\n",
        "while contador < 5:\n",
        "    contador += 1\n",
        "    if contador == 3:\n",
        "        continue\n",
        "    print(contador)"
      ],
      "metadata": {
        "colab": {
          "base_uri": "https://localhost:8080/"
        },
        "id": "uH2s0bIHodsb",
        "outputId": "7e4ad14e-e27a-4ca1-e564-b6207325fe40"
      },
      "execution_count": null,
      "outputs": [
        {
          "output_type": "stream",
          "name": "stdout",
          "text": [
            "1\n",
            "2\n",
            "4\n",
            "5\n",
            "--------------------------------\n",
            "1\n",
            "2\n",
            "4\n",
            "5\n"
          ]
        }
      ]
    },
    {
      "cell_type": "markdown",
      "source": [
        "Ejercicio: Imprime los numeros pares del 1 al 10 pero sin el 8"
      ],
      "metadata": {
        "id": "8P4Xfdkkv8Tm"
      }
    },
    {
      "cell_type": "code",
      "source": [
        "for i in range(11):\n",
        " if i == 8:\n",
        "  continue\n",
        " if i % 2 == 0:\n",
        "  print(i)"
      ],
      "metadata": {
        "id": "pHcNXfoxuzMr",
        "colab": {
          "base_uri": "https://localhost:8080/"
        },
        "outputId": "603ecf58-3e58-425e-fefd-99e968982700"
      },
      "execution_count": null,
      "outputs": [
        {
          "output_type": "stream",
          "name": "stdout",
          "text": [
            "0\n",
            "2\n",
            "4\n",
            "6\n",
            "10\n"
          ]
        }
      ]
    },
    {
      "cell_type": "markdown",
      "source": [
        "Ejemplo: Las listas van en [ ]"
      ],
      "metadata": {
        "id": "LxUQTzeezADR"
      }
    },
    {
      "cell_type": "markdown",
      "source": [
        "Si queremos llamar solo a cierto elemento de nuestra lista"
      ],
      "metadata": {
        "id": "pojzVpoDzSK5"
      }
    },
    {
      "cell_type": "markdown",
      "source": [
        "Para acceder a un rango de nuestra lista usamos [ : ]"
      ],
      "metadata": {
        "id": "Br9ZE27Xz2F2"
      }
    },
    {
      "cell_type": "code",
      "source": [
        "listita = ['a','b','c','d']\n",
        "\n",
        "print(listita[2])   # 2 es numero correspondiente al lugar en our lista\n",
        "# -1 seria el ultimo lugar, -2 el penultimo y asi sucesivamente\n",
        "\n",
        "print('con [0.2 estamos tomando desde el primero hasta el 3er lugar]: ',listita[0:2])\n",
        "\n",
        "# Para empezar desde el inicio de la lista hasta el que queramos\n",
        "\n",
        "print(listita[:3])\n",
        "\n",
        "# Ahora desde el valor indicado hasta el final de la lista\n",
        "print(listita[2:])\n",
        "\n",
        "#Cmabiar/modificar el valor de cierto valor de nuestra lista\n",
        "listita[2] = 'Ramona'\n",
        "print(listita)\n",
        "\n",
        "#Para saber cuantos elementos contiene nuestra lista usamos len\n",
        "print(len(listita))\n",
        "\n",
        "#Para agregar un elemento usamos el metodo append\n",
        "listita.append('koko')\n",
        "print(listita)\n",
        "\n",
        "#Insertar un elemento en un indice especifico usamos insert\n",
        "listita.insert(1, 'panquesito')  # Lo insertamos en el indice 1\n",
        "print(listita)\n",
        "\n",
        "#Para remover un elemento\n",
        "listita.remove('Ramona')\n",
        "print('removimos Ramona con método remove: ', listita)\n",
        "\n",
        "#Con el metodo pop por default elimina el último elemento de la lista pero también se le podemos indicar la posición\n",
        "listita.pop()\n",
        "print('pop por default elimina el ultimo: ', listita)\n",
        "\n",
        "#Para eliminar un indice en nuestra lista\n",
        "del listita[0]\n",
        "print('elimina el un idice: ', listita)\n",
        "\n",
        "#Para eliminar nuestra lista por completo\n",
        "listita.clear()\n",
        "print('elimina por completo con clear: ', listita)\n",
        "\n",
        "#Eliminar por completo de la memoria nuestra list\n",
        "\n",
        "del listita\n"
      ],
      "metadata": {
        "colab": {
          "base_uri": "https://localhost:8080/"
        },
        "id": "LXvMF4XkzbyO",
        "outputId": "fe8649cd-53a2-42f4-8610-08e30dcb83eb"
      },
      "execution_count": null,
      "outputs": [
        {
          "output_type": "stream",
          "name": "stdout",
          "text": [
            "c\n",
            "con [0.2 estamos tomando desde el primero hasta el 3er lugar]:  ['a', 'b']\n",
            "['a', 'b', 'c']\n",
            "['c', 'd']\n",
            "['a', 'b', 'Ramona', 'd']\n",
            "4\n",
            "['a', 'b', 'Ramona', 'd', 'koko']\n",
            "['a', 'panquesito', 'b', 'Ramona', 'd', 'koko']\n",
            "removimos Ramona con método remove:  ['a', 'panquesito', 'b', 'd', 'koko']\n",
            "pop por default elimina el ultimo:  ['a', 'panquesito', 'b', 'd']\n",
            "elimina el un idice:  ['panquesito', 'b', 'd']\n",
            "elimina por completo con clear:  []\n"
          ]
        }
      ]
    },
    {
      "cell_type": "markdown",
      "source": [
        "El operarador . nos permite acceder a metodos o funciones de una lista"
      ],
      "metadata": {
        "id": "jfqZHOnEBPAw"
      }
    },
    {
      "cell_type": "markdown",
      "source": [
        "Ejercicios:\n",
        " - 1.-Iterar de un rango de 0 a 10 los numeros divisibles entre 3\n",
        "\n",
        " - 2.- Crear un rango de numeros de 2 a 6 e imprimelos\n",
        "\n",
        " - 3.- Crear un rango de 3 a 10, pero con incrementos de 2 en 2\n"
      ],
      "metadata": {
        "id": "y9cLumF4t3nX"
      }
    },
    {
      "cell_type": "code",
      "source": [
        "for i in range(11):\n",
        "  if i % 3 == 0:\n",
        "    print(i)\n",
        "\n",
        "print('----------------')\n",
        "\n",
        "for t in range(2, 7):\n",
        "  print(t)\n",
        "\n",
        "print('----------------')\n",
        "\n",
        "for w in range(3, 11):\n",
        "  if w % 2 == 0:\n",
        "    print(w)\n",
        "\n",
        "print('----------------')\n",
        "print('otra manera de hcer el 3')\n",
        "\n",
        "for q in range(3, 11, 2):\n",
        "  print(q)"
      ],
      "metadata": {
        "id": "djjp_7bN0TVF",
        "colab": {
          "base_uri": "https://localhost:8080/"
        },
        "outputId": "c7ae7ada-a1d1-4211-84d4-727c38ddb00c"
      },
      "execution_count": null,
      "outputs": [
        {
          "output_type": "stream",
          "name": "stdout",
          "text": [
            "0\n",
            "3\n",
            "6\n",
            "9\n",
            "----------------\n",
            "2\n",
            "3\n",
            "4\n",
            "5\n",
            "6\n",
            "----------------\n",
            "4\n",
            "6\n",
            "8\n",
            "10\n",
            "----------------\n",
            "otra manera de hcer el 3\n",
            "3\n",
            "5\n",
            "7\n",
            "9\n"
          ]
        }
      ]
    },
    {
      "cell_type": "markdown",
      "source": [
        "Las tuplas van dentro de () y a diferencia de las listas las tuplas ya no se pueden modificar\n"
      ],
      "metadata": {
        "id": "Xgi0jT_r0Llw"
      }
    },
    {
      "cell_type": "code",
      "source": [
        "#si nuestra tupla solo va a tener un valor debe llevar una coma al final\n",
        "tupla = ('pollo',)\n",
        "print(tupla)"
      ],
      "metadata": {
        "colab": {
          "base_uri": "https://localhost:8080/"
        },
        "id": "IT4KFOUXvvHj",
        "outputId": "0721e97e-0460-48e6-939d-de182895e2f5"
      },
      "execution_count": null,
      "outputs": [
        {
          "output_type": "stream",
          "name": "stdout",
          "text": [
            "('pollo',)\n"
          ]
        }
      ]
    },
    {
      "cell_type": "markdown",
      "source": [
        "para que el for no haha un salto de linea con \\n le podemos especificar que queremos de separación con end"
      ],
      "metadata": {
        "id": "O46S-oEr3KWh"
      }
    },
    {
      "cell_type": "code",
      "source": [
        "frutas = ('mango','manzana','uva','limon', 'guayaba')\n",
        "for i in frutas:\n",
        "  print(i, end = ' ')\n",
        "\n"
      ],
      "metadata": {
        "colab": {
          "base_uri": "https://localhost:8080/"
        },
        "id": "-wykv6yz2hLh",
        "outputId": "8c54fd7b-52d2-4dc4-dcc2-930f844a1853"
      },
      "execution_count": null,
      "outputs": [
        {
          "output_type": "stream",
          "name": "stdout",
          "text": [
            "mango manzana uva limon guayaba "
          ]
        }
      ]
    },
    {
      "cell_type": "code",
      "source": [
        "frutas = ('mango','manzana','uva','limon', 'guayaba')\n",
        "\n",
        "# Para convertir nuestra tupla a una lista usamos list\n",
        "lista = list(frutas)\n",
        "print(lista)\n",
        "\n",
        "# Aunque la tupla es inmodificable se puede convertir a lista, modificarla y volverla a cambiar a tupla\n",
        "# con el método tuple\n",
        "tupla = tuple(lista)\n",
        "print(tupla)\n",
        "\n",
        "#Lo que si podemos hacerle a la tupla es elimarla con del\n",
        "del tupla"
      ],
      "metadata": {
        "colab": {
          "base_uri": "https://localhost:8080/"
        },
        "id": "ZPIqGN_S4qzU",
        "outputId": "5a9f90b1-5dad-4243-a6e9-d3913be93b80"
      },
      "execution_count": null,
      "outputs": [
        {
          "output_type": "stream",
          "name": "stdout",
          "text": [
            "['mango', 'manzana', 'uva', 'limon', 'guayaba']\n",
            "('mango', 'manzana', 'uva', 'limon', 'guayaba')\n"
          ]
        }
      ]
    },
    {
      "cell_type": "markdown",
      "source": [
        "Ejercicio: Dada la sig lista: (12,1,8,3,2,5,8) imprimir solo los menores a 5 en una lista"
      ],
      "metadata": {
        "id": "T1PkuiNJ8K2b"
      }
    },
    {
      "cell_type": "code",
      "source": [
        "tupla = (12,1,8,3,2,5,8)\n",
        "lista = []\n",
        "for i in lista_xd:\n",
        "  if i <5:\n",
        "    lista.append(i)\n",
        "print(lista)"
      ],
      "metadata": {
        "colab": {
          "base_uri": "https://localhost:8080/"
        },
        "id": "PPBVI5pQ5Zdu",
        "outputId": "1e51922e-d0e5-4ea1-82c1-56ae1a6da2dc"
      },
      "execution_count": null,
      "outputs": [
        {
          "output_type": "stream",
          "name": "stdout",
          "text": [
            "[1, 3, 2]\n"
          ]
        }
      ]
    },
    {
      "cell_type": "markdown",
      "source": [
        "Un set no permite duplicados, no tiene orden, no es posible modificarlo elemntos sin embargo se pueden añadir mas, por lo que no podemos usar [ ] para llamar a cierto elemento. Un SET se define con { }\n"
      ],
      "metadata": {
        "id": "2tRCghNZ9jfd"
      }
    },
    {
      "cell_type": "code",
      "source": [
        "conjunto = {'marte', 'tierra' , 'mercurio', 'saturno'}\n",
        "print(conjunto)\n",
        "\n",
        "#Revisar si un elemento esta presente en el set\n",
        "print( 'marte' in conjunto)\n",
        "\n",
        "#Para añadir un nuevo elemento\n",
        "conjunto.add('pluton')\n",
        "print(conjunto)\n",
        "\n",
        "#No se pueden duplicar elementos\n",
        "conjunto.add('pluton')\n",
        "print(conjunto) # no se agregara de nuevo tierra, si no que hace una convolución\n",
        "\n",
        "#Podemos quitar elementos del set con remove\n",
        "conjunto.remove('pluton')\n",
        "print(conjunto)\n",
        "\n",
        "#Con discar eliiminamos un elemento y en caso de que el elemento no exista en el set no lanzara error y simplemente\n",
        "# no eliminara nada ya que no habra coincidido con ningun elemento del conjunto\n",
        "\n",
        "conjunto.discard('galatxia')\n",
        "print(conjunto)\n",
        "\n",
        "# con clear borramos todos los elementos\n",
        "conjunto.clear()\n",
        "print(conjunto)\n",
        "\n",
        "#Con del eliminamos el set de la fas de la tierra\n",
        "del conjunto\n",
        "\n"
      ],
      "metadata": {
        "colab": {
          "base_uri": "https://localhost:8080/"
        },
        "id": "dc_7YI908jrh",
        "outputId": "c5d6d564-887c-4422-a3c4-3cec7936c975"
      },
      "execution_count": null,
      "outputs": [
        {
          "output_type": "stream",
          "name": "stdout",
          "text": [
            "{'mercurio', 'tierra', 'saturno', 'marte'}\n",
            "True\n",
            "{'tierra', 'marte', 'mercurio', 'pluton', 'saturno'}\n",
            "{'tierra', 'marte', 'mercurio', 'pluton', 'saturno'}\n",
            "{'tierra', 'marte', 'mercurio', 'saturno'}\n",
            "{'tierra', 'marte', 'mercurio', 'saturno'}\n",
            "set()\n"
          ]
        }
      ]
    },
    {
      "cell_type": "code",
      "source": [
        "# Definir un diccionario\n",
        "diccionario = {'key': 'valor',\n",
        "               'ID' : '13434',\n",
        "              'ID2' : '3245'}\n",
        "\n",
        "# Largo de nuestro diccioanrio\n",
        "print(len(diccionario))\n",
        "\n",
        "#En un diccioanrio no existen indices con los que podamos ubicar los elementos\n",
        "#Para acceder a un elemento tenemos que excribir explicitamente la llave\n",
        "\n",
        "print(diccionario['ID'])\n",
        "\n",
        "#Otrq forma de recuperar un elemento es con get:\n",
        "print(diccionario.get('ID2'))\n",
        "\n",
        "#Modificar elementos del diccioanrio\n",
        "diccionario['ID'] = 'hola k ace'\n",
        "print('diccioanrio con elemento modificado: ',diccionario )\n",
        "\n",
        "#Para recorrer el diccionario con un for es con el método .items() la primera variable re\n",
        "#recorrera la llave y si pones la 2da variable tambien iterara los elemntos.\n",
        "\n",
        "for i, u in diccionario.items():\n",
        " print(i, u)\n",
        "print('----------------------------------------')\n",
        "#Para recuperar solo las llavas usamos .keys()\n",
        "\n",
        "for i in diccionario.keys():\n",
        "  print(i)\n",
        "\n",
        "print('----------------------------------------')\n",
        "\n",
        "# Para traernos los valores usamos values()\n",
        "for i in diccionario.values():\n",
        "  print(i)\n",
        "\n",
        "print('----------------------------------------')\n",
        "\n",
        "# Probar que una llave ya se encuentra en nuestro diccionario\n",
        "print(':v' in diccionario)\n",
        "\n",
        "# No se pueden añadir llaves duplicadas, para añadir hacemos:\n",
        "print('----------------------------------------')\n",
        "\n",
        "diccionario['IDE'] = 'perrito'\n",
        "print(diccionario)\n",
        "\n",
        "#Para borrar una llave y por ende su respectivo valor usamos pop\n",
        "print('----------------------------------------')\n",
        "\n",
        "diccionario.pop('ID')\n",
        "print(diccionario)\n",
        "\n",
        "#Para dejar limpia todo el diccionario usamos clear()\n",
        "print('----------------------------------------')\n",
        "\n",
        "diccionario.clear()\n",
        "print(diccionario)\n",
        "\n",
        "#Para eliminar definitivamente el diccionario usamos del\n",
        "del diccionario\n",
        "\n"
      ],
      "metadata": {
        "colab": {
          "base_uri": "https://localhost:8080/"
        },
        "id": "1XeTclGt_hcK",
        "outputId": "a0c07077-b508-4ee9-f05e-62888a7146f3"
      },
      "execution_count": null,
      "outputs": [
        {
          "output_type": "stream",
          "name": "stdout",
          "text": [
            "3\n",
            "13434\n",
            "3245\n",
            "diccioanrio con elemento modificado:  {'key': 'valor', 'ID': 'hola k ace', 'ID2': '3245'}\n",
            "key valor\n",
            "ID hola k ace\n",
            "ID2 3245\n",
            "----------------------------------------\n",
            "key\n",
            "ID\n",
            "ID2\n",
            "----------------------------------------\n",
            "valor\n",
            "hola k ace\n",
            "3245\n",
            "----------------------------------------\n",
            "False\n",
            "----------------------------------------\n",
            "{'key': 'valor', 'ID': 'hola k ace', 'ID2': '3245', 'IDE': 'perrito'}\n",
            "----------------------------------------\n",
            "{'key': 'valor', 'ID2': '3245', 'IDE': 'perrito'}\n",
            "----------------------------------------\n",
            "{}\n"
          ]
        }
      ]
    },
    {
      "cell_type": "markdown",
      "source": [
        "En la funcion lo que va dentro del parentesisi son los paramentros ejem"
      ],
      "metadata": {
        "id": "q1rZTBrAfrTa"
      }
    },
    {
      "cell_type": "code",
      "source": [
        "def name(nombre, apellido):\n",
        " print(f'El nombre es {nombre} con apellido {apellido}')\n",
        "\n",
        "name('Emmanuel', 'Chew')"
      ],
      "metadata": {
        "id": "xcz8sxYDGK-v",
        "colab": {
          "base_uri": "https://localhost:8080/"
        },
        "outputId": "1791283b-855d-4476-a5ac-7b307f7fb8a8"
      },
      "execution_count": null,
      "outputs": [
        {
          "output_type": "stream",
          "name": "stdout",
          "text": [
            "El nombre es Emmanuel con apellido Chew\n"
          ]
        }
      ]
    },
    {
      "cell_type": "markdown",
      "source": [
        "Con return podemos llamar directamente el resultado de una funcion ejemplo.\n"
      ],
      "metadata": {
        "id": "5RxxpGU6u5hS"
      }
    },
    {
      "cell_type": "code",
      "source": [
        "def sumita(a,b):\n",
        "  return a + b\n",
        "\n",
        "#Probemos our función\n",
        "sumita(5,3)"
      ],
      "metadata": {
        "colab": {
          "base_uri": "https://localhost:8080/"
        },
        "id": "ptlutaHLmGKl",
        "outputId": "2cbd7ee7-5644-469f-ad5f-2ee2aee89e07"
      },
      "execution_count": null,
      "outputs": [
        {
          "output_type": "execute_result",
          "data": {
            "text/plain": [
              "8"
            ]
          },
          "metadata": {},
          "execution_count": 4
        }
      ]
    },
    {
      "cell_type": "markdown",
      "source": [
        "Con return recuperamos el resultado directamente pero podemos darle mas vuelta asignandole el valor a una variable."
      ],
      "metadata": {
        "id": "w0TuxolTvN2d"
      }
    },
    {
      "cell_type": "code",
      "source": [
        "def sumita(a,b):\n",
        "  return a + b\n",
        "\n",
        "resultado = sumita(5,3)\n",
        "print(resultado)"
      ],
      "metadata": {
        "colab": {
          "base_uri": "https://localhost:8080/"
        },
        "id": "vqTt6LumvFKZ",
        "outputId": "b479d720-14de-4e63-ed5a-318dd3dcb77f"
      },
      "execution_count": null,
      "outputs": [
        {
          "output_type": "stream",
          "name": "stdout",
          "text": [
            "8\n"
          ]
        }
      ]
    },
    {
      "cell_type": "markdown",
      "source": [
        "Podemos agregar -> int para dar una pista al usuario de que nuestra función regresara un entero aunque esto no se cumpla ya que recordemos que los tipos de variable en python son dinámicos"
      ],
      "metadata": {
        "id": "HVRsCgxU21OL"
      }
    },
    {
      "cell_type": "code",
      "source": [
        "def sumita(a,b) -> int:\n",
        "  return a + b"
      ],
      "metadata": {
        "id": "XlO5UfPQvpsD"
      },
      "execution_count": null,
      "outputs": []
    },
    {
      "cell_type": "markdown",
      "source": [
        "En caso de que no sepamos cuantos argumentos le vamos a pasar a our función ponemos dentro del argumento *argumento asi podremos poner los argumentos que queramos y python los tratara como tupla"
      ],
      "metadata": {
        "id": "mVj6J23X_hC3"
      }
    },
    {
      "cell_type": "code",
      "source": [
        "def nombrecitos(*nombres):\n",
        "  for i in nombres:\n",
        "    print(i)\n",
        "\n",
        "nombrecitos('juan', 'Emma', 'rojo', 'luis')\n"
      ],
      "metadata": {
        "id": "HPe_fQqY_1CX",
        "colab": {
          "base_uri": "https://localhost:8080/"
        },
        "outputId": "bdb0a631-105a-4d86-f871-df3568f20cb3"
      },
      "execution_count": null,
      "outputs": [
        {
          "output_type": "stream",
          "name": "stdout",
          "text": [
            "juan\n",
            "Emma\n",
            "rojo\n",
            "luis\n"
          ]
        }
      ]
    },
    {
      "cell_type": "markdown",
      "source": [
        "Ejercicio: crear una función donde el usuario le pase multiples numeros y devuelba la suma"
      ],
      "metadata": {
        "id": "yuqrK-D9KnHN"
      }
    },
    {
      "cell_type": "code",
      "source": [
        "def sumita(*argu):\n",
        "#  pass es una sentencia nula, lo que significa que no realiza ninguna operación\n",
        "  resultado = 0\n",
        "  for uwu in argu:\n",
        "    #resultado = resultado + valor\n",
        "    resultado += uwu\n",
        "  return resultado\n",
        "\n",
        "\n",
        "\n",
        "#Llamar nuestra funcion\n",
        "print(sumita(8,7,2))"
      ],
      "metadata": {
        "colab": {
          "base_uri": "https://localhost:8080/"
        },
        "id": "_Qt8I6MWGXe3",
        "outputId": "407cad89-eebf-4ae7-ac6b-07381c110abc"
      },
      "execution_count": null,
      "outputs": [
        {
          "output_type": "stream",
          "name": "stdout",
          "text": [
            "17\n"
          ]
        }
      ]
    },
    {
      "cell_type": "markdown",
      "source": [
        "Otra forma con  chatgpt dio esto"
      ],
      "metadata": {
        "id": "5KXnjVKfScWF"
      }
    },
    {
      "cell_type": "code",
      "source": [
        "def calcular_suma():\n",
        "    numeros = input(\"Ingresa los números separados por espacios: \")\n",
        "    numeros_lista = numeros.split()\n",
        "\n",
        "    try:\n",
        "        numeros_enteros = [int(num) for num in numeros_lista]\n",
        "        suma = sum(numeros_enteros)\n",
        "        print(\"La suma de los números es:\", suma)\n",
        "    except ValueError:\n",
        "        print(\"Error: Ingresa solo números enteros separados por espacios.\")\n",
        "\n",
        "calcular_suma()"
      ],
      "metadata": {
        "colab": {
          "base_uri": "https://localhost:8080/"
        },
        "id": "wtQQNrXgPO41",
        "outputId": "46340ee5-3bd0-4358-85df-335fd63cecd8"
      },
      "execution_count": null,
      "outputs": [
        {
          "output_type": "stream",
          "name": "stdout",
          "text": [
            "Ingresa los números separados por espacios: 5 9 0\n",
            "La suma de los números es: 14\n"
          ]
        }
      ]
    },
    {
      "cell_type": "markdown",
      "source": [
        "Ejercicio: la misma calculadora pasada pero ahora en lugar de sumar multiplicalos"
      ],
      "metadata": {
        "id": "FrOQpGJqTROo"
      }
    },
    {
      "cell_type": "code",
      "source": [
        "def multiplicacion(*args):\n",
        " contador = 1\n",
        " for i in args:\n",
        "    contador *= i\n",
        " return contador\n",
        "\n",
        "print(multiplicacion(3,5,2))"
      ],
      "metadata": {
        "id": "6AvBAP_wRe_h",
        "colab": {
          "base_uri": "https://localhost:8080/"
        },
        "outputId": "da8f7ac5-c96f-4719-ccc2-8863d607ba7c"
      },
      "execution_count": null,
      "outputs": [
        {
          "output_type": "stream",
          "name": "stdout",
          "text": [
            "30\n"
          ]
        }
      ]
    },
    {
      "cell_type": "markdown",
      "source": [
        "Para meter multiles argumentos de lista de terminos usamos doble **"
      ],
      "metadata": {
        "id": "0ebME9nlz9gF"
      }
    },
    {
      "cell_type": "code",
      "source": [
        "def dicci(**terminos):\n",
        "  for llave, valor in terminos.items():\n",
        "    print(llave, valor)\n",
        "\n",
        "#Probemos\n",
        "dicci(ID = '3143')\n"
      ],
      "metadata": {
        "id": "6gUKgq1GWiDK",
        "colab": {
          "base_uri": "https://localhost:8080/"
        },
        "outputId": "9c16b2a4-eb71-4b0b-9264-2af4504c7af8"
      },
      "execution_count": null,
      "outputs": [
        {
          "output_type": "stream",
          "name": "stdout",
          "text": [
            "ID 3143\n"
          ]
        }
      ]
    },
    {
      "cell_type": "markdown",
      "source": [
        "Ejemplo: calculadora de factorial"
      ],
      "metadata": {
        "id": "4NBYCmcpo_q7"
      }
    },
    {
      "cell_type": "code",
      "source": [
        "def factorial(numero):\n",
        " if numero == 1:\n",
        "  return 1\n",
        " else:\n",
        "  return numero * factorial(numero-1)   #factorial es un metodo que calcula el factorial\n",
        "\n",
        "#usemos nuestra funcion\n",
        "facto = factorial(3)\n",
        "print(facto)"
      ],
      "metadata": {
        "id": "mQsoDYsg1Vjx",
        "colab": {
          "base_uri": "https://localhost:8080/"
        },
        "outputId": "12bd6204-9c19-483b-cf46-a03454e3c849"
      },
      "execution_count": null,
      "outputs": [
        {
          "output_type": "stream",
          "name": "stdout",
          "text": [
            "6\n"
          ]
        }
      ]
    },
    {
      "cell_type": "markdown",
      "source": [
        "Ejercicio: Imprimir desde cierto numero hasta el 1 de manera descendente, con funciones recursivas"
      ],
      "metadata": {
        "id": "Yyfas2M8rvkH"
      }
    },
    {
      "cell_type": "code",
      "source": [
        "def decreciente(n):\n",
        "  if n >= 1:\n",
        "    print(n)\n",
        "    decreciente(n-1)\n",
        "\n",
        "\n",
        "#probemos\n",
        "decre = decreciente(8)\n",
        "print(decre)\n"
      ],
      "metadata": {
        "colab": {
          "base_uri": "https://localhost:8080/"
        },
        "id": "B8P-2SH1v7jx",
        "outputId": "8cb74fba-70be-4aa3-ab3f-d4f0b73a98e4"
      },
      "execution_count": null,
      "outputs": [
        {
          "output_type": "stream",
          "name": "stdout",
          "text": [
            "8\n",
            "7\n",
            "6\n",
            "5\n",
            "4\n",
            "3\n",
            "2\n",
            "1\n",
            "None\n"
          ]
        }
      ]
    },
    {
      "cell_type": "markdown",
      "source": [
        "Otra manera sin usar la función recursiva"
      ],
      "metadata": {
        "id": "050e05HL2QtO"
      }
    },
    {
      "cell_type": "code",
      "source": [
        "def decreciente(n):\n",
        "  while n >= 1:\n",
        "    print(n)\n",
        "    n = n-1\n",
        "\n",
        "#probemos\n",
        "decre = decreciente(8)\n",
        "print(decre)\n",
        "\n"
      ],
      "metadata": {
        "colab": {
          "base_uri": "https://localhost:8080/"
        },
        "id": "nsFL5Nv1pu7m",
        "outputId": "e444b3be-cf65-4647-a901-6c90cf0312a3"
      },
      "execution_count": null,
      "outputs": [
        {
          "output_type": "stream",
          "name": "stdout",
          "text": [
            "8\n",
            "7\n",
            "6\n",
            "5\n",
            "4\n",
            "3\n",
            "2\n",
            "1\n",
            "None\n"
          ]
        }
      ]
    },
    {
      "cell_type": "markdown",
      "source": [
        "Ejercicio: Calculadora de impuestos\n",
        "\n",
        "Crea una funcion que calcule el total de un pago incluyendo impuestos.\n",
        "\n",
        "Pago total = pago_sin_impuesto + pago_sin_impuesto * (impuesto/100)"
      ],
      "metadata": {
        "id": "7X_6i8_J2qfD"
      }
    },
    {
      "cell_type": "code",
      "source": [
        "def calcu_tax(monto):\n",
        "  s = monto + monto * (16/100)\n",
        "  print(f'El precio ya con impuestos: {s}')\n",
        "  return s\n",
        "\n",
        "\n",
        "#Probemos nuestra funcion!!!\n",
        "con_impuestos = calcu_tax(134)\n"
      ],
      "metadata": {
        "colab": {
          "base_uri": "https://localhost:8080/"
        },
        "id": "t-4sWjLH19eQ",
        "outputId": "a45cc67c-54c1-41f4-f8ce-a43c792570a2"
      },
      "execution_count": null,
      "outputs": [
        {
          "output_type": "stream",
          "name": "stdout",
          "text": [
            "El precio ya con impuestos: 155.44\n"
          ]
        }
      ]
    },
    {
      "cell_type": "markdown",
      "source": [
        "Ejercicio: Función para convertir grados celcius a fahrenheit y viceversa."
      ],
      "metadata": {
        "id": "aEer9BbJ8wKR"
      }
    },
    {
      "cell_type": "code",
      "source": [
        "def tempe(celsius):\n",
        "  fahrenheit = (celsius * 9/5) + 32\n",
        "  print(f'{celsius} grados C es equivalente a {fahrenheit} grados F')\n",
        "  return fahrenheit\n",
        "\n",
        "#Probemos\n",
        "grados = tempe(32)"
      ],
      "metadata": {
        "colab": {
          "base_uri": "https://localhost:8080/"
        },
        "id": "gFtuf66w6g5H",
        "outputId": "f0517118-36eb-49d4-bde3-b88890fe5cf8"
      },
      "execution_count": null,
      "outputs": [
        {
          "output_type": "stream",
          "name": "stdout",
          "text": [
            "32 grados C es equivalente a 89.6 grados F\n"
          ]
        }
      ]
    },
    {
      "cell_type": "markdown",
      "source": [
        "Una clase es como una plantilla de las cuales vamos a poder crear instancias u objetos, La clase va a poseer atributos y metodos que van a establecer las caracteristicas y comportamiento de los objetos que vamos a crear"
      ],
      "metadata": {
        "id": "rQ1KLRdgIWZw"
      }
    },
    {
      "cell_type": "code",
      "source": [
        "class uwu:\n",
        "  def __init__(self):  #self es una referencia al objeto en si mismo\n",
        "  # los 2 guiones bajos se les conoce como dunder, se conocen como métodos tipo dunder\n",
        "    self.nombre = 'juan'  #nombre es un atributo/objeto de nuestra clase\n",
        "    self.edad = 23\n",
        "    self.apellido = 'Ramirez'\n",
        "\n",
        "z = uwu()  # con esta hacemos llamar de manera indirecta el metodo init\n",
        "print(z.nombre) #llamamos al nombre de la clase\n",
        "print(z.edad)\n",
        "\n",
        "\n",
        " #Por ejemplo existen tambien los sig metodos:\n",
        "\n",
        " #def __str__(self):\n",
        " #def __repr__(self):\n",
        "\n"
      ],
      "metadata": {
        "colab": {
          "base_uri": "https://localhost:8080/"
        },
        "id": "izfHt8F6_mS5",
        "outputId": "f6d87c02-c85a-4d2e-8512-7738765219e1"
      },
      "execution_count": null,
      "outputs": [
        {
          "output_type": "stream",
          "name": "stdout",
          "text": [
            "juan\n",
            "23\n"
          ]
        }
      ]
    },
    {
      "cell_type": "code",
      "source": [
        "class uwu:\n",
        "  def __init__(self, nombre, edad, apellido):\n",
        "    self.nombre = nombre   #self nombre es atributo y nombre es un parametro\n",
        "    self.edad = edad\n",
        "    self.apellido = apellido\n",
        "\n",
        "persona1 = uwu('Emmanuel', 25, 'Chew')  # uwu es el constructor de la clase: un constructor es un metodo para poder crear un objeto\n",
        "print(persona1.nombre) #llamamos al nombre de la clase\n",
        "print(persona1.edad)\n",
        "print(persona1.apellido)\n",
        "\n",
        "print('-----------------------------')\n",
        "\n",
        "persona2 = uwu('Raul', 22, 'Mendez')\n",
        "print(persona2.nombre)\n",
        "print(persona2.edad)\n",
        "print(persona2.apellido)\n",
        "\n"
      ],
      "metadata": {
        "colab": {
          "base_uri": "https://localhost:8080/"
        },
        "id": "VQtnXv4T0e3F",
        "outputId": "f8a32204-633b-4ac7-9567-c8164f5c14dc"
      },
      "execution_count": null,
      "outputs": [
        {
          "output_type": "stream",
          "name": "stdout",
          "text": [
            "Emmanuel\n",
            "25\n",
            "Chew\n",
            "-----------------------------\n",
            "Raul\n",
            "22\n",
            "Mendez\n"
          ]
        }
      ]
    },
    {
      "cell_type": "markdown",
      "source": [
        "Self apunta al objeto que se estara ejecutand actualmente"
      ],
      "metadata": {
        "id": "Hhww5gXNAgC_"
      }
    },
    {
      "cell_type": "code",
      "source": [
        "def carro():\n",
        "  def __init__(self, marca, color, )"
      ],
      "metadata": {
        "id": "jl4RepYw4wgG"
      },
      "execution_count": null,
      "outputs": []
    },
    {
      "cell_type": "markdown",
      "source": [
        "Un método es igual a una función. Pero se le llama método porque se le asocia con una clase"
      ],
      "metadata": {
        "id": "2E8D9FEaOdr4"
      }
    },
    {
      "cell_type": "markdown",
      "source": [
        "Haremos otro metodo"
      ],
      "metadata": {
        "id": "P_LHDEuzPOkS"
      }
    },
    {
      "cell_type": "code",
      "source": [
        "class uwu:\n",
        "  def __init__(self, nombre, edad, apellido):\n",
        "    self.nombre = nombre   #self nombre es atributo y nombre es un parametro\n",
        "    self.edad = edad       #En lugar de self podemos usar otra palabra como this\n",
        "    self.apellido = apellido\n",
        "\n",
        "  def mostrarDetalle(self):\n",
        "    print(f'Persona {self.nombre} {self.edad} {self.apellido}')\n",
        "\n",
        "\n",
        "persona1 = uwu('Emmanuel', 25, 'Chew')  # uwu es el constructor de la clase: un constructor es un metodo para poder crear un objeto\n",
        "persona1.mostrarDetalle()\n",
        "\n",
        "print('-----------------------------')\n",
        "\n",
        "persona2 = uwu('Raul', 22, 'Mendez')\n",
        "persona2.mostrarDetalle()"
      ],
      "metadata": {
        "colab": {
          "base_uri": "https://localhost:8080/"
        },
        "id": "ihKsWxi-PMDF",
        "outputId": "a9fd75b2-bfe8-436e-a0a1-97208d90ecd8"
      },
      "execution_count": null,
      "outputs": [
        {
          "output_type": "stream",
          "name": "stdout",
          "text": [
            "Persona Emmanuel 25 Chew\n",
            "-----------------------------\n",
            "Persona Raul 22 Mendez\n"
          ]
        }
      ]
    },
    {
      "cell_type": "code",
      "source": [
        "#Podemos manadar a llamar el metodo de la clase asi\n",
        "uwu.mostrarDetalle(persona1)   #Clase.metodo.objeto\n",
        "\n",
        "#Añadirle un atributo extra al objeto\n",
        "persona1.telefono = '3453456534'\n",
        "print(persona1.telefono)\n",
        "\n",
        "#Hemos creado el atributo telefono para persona1 sin embargo este atributo no lo tendra persona2 UnU"
      ],
      "metadata": {
        "colab": {
          "base_uri": "https://localhost:8080/"
        },
        "id": "oAsU4rIfbQ2r",
        "outputId": "3620a29b-4587-4aad-a702-40f9982bc7e3"
      },
      "execution_count": null,
      "outputs": [
        {
          "output_type": "stream",
          "name": "stdout",
          "text": [
            "Persona Emmanuel 25 Chew\n",
            "3453456534\n"
          ]
        }
      ]
    },
    {
      "cell_type": "markdown",
      "source": [
        "Docstring es como se le conoce cuando documentas tu código\n"
      ],
      "metadata": {
        "id": "JRdWSIPsgNxg"
      }
    },
    {
      "cell_type": "code",
      "source": [
        "class calculadora:\n",
        "  def __init__(self, A, B):\n",
        "    self.operandoA = A #Le asignamos el valor de nuestro paramento\n",
        "    self.operandoB = B\n",
        "\n",
        "#Definamos nuestor método sumar, sera un metodo de nuestra clase\n",
        "  def sumar(self):\n",
        "    return self.operandoA + self.operandoB\n",
        "#Añadamos el metodo de restar\n",
        "  def restar(self):\n",
        "    return self.operandoA - self.operandoB\n",
        "\n",
        "  def dividir(self):\n",
        "    return self.operandoA / self.operandoB\n",
        "\n",
        "#Probemos\n",
        "objeto = calculadora(13,4)\n",
        "print(objeto.sumar())\n",
        "print(objeto.restar())\n",
        "print(f'Division: {objeto.dividir():.2f}')  # El :.2f es apra darle el formato de solo 2 decimales"
      ],
      "metadata": {
        "colab": {
          "base_uri": "https://localhost:8080/"
        },
        "id": "RP86GfwDetmC",
        "outputId": "fe2de76a-ece8-4e23-d89e-d8f722347140"
      },
      "execution_count": null,
      "outputs": [
        {
          "output_type": "stream",
          "name": "stdout",
          "text": [
            "17\n",
            "9\n",
            "Division: 3.25\n"
          ]
        }
      ]
    },
    {
      "cell_type": "markdown",
      "source": [
        "Ejercicio:Haz una calculadora de areas de rectangulo, donde el usuario ingrese el ancho y altura, clase rectangulo con atributos base y altura"
      ],
      "metadata": {
        "id": "7EwthEhxlO8V"
      }
    },
    {
      "cell_type": "code",
      "source": [
        "class RECTANGULO_AREA:\n",
        "  def __init__(self, base, altura):\n",
        "    self.bacecita   = base\n",
        "    self.alturita = altura\n",
        "\n",
        "  def metodo(self):\n",
        "    return  self.bacecita * self.alturita\n",
        "\n",
        "\n",
        " #Probemos\n",
        "  bacecita = int(input('Ingresa la base: '))\n",
        "  alturita = int(input('Ingresa la altura: '))\n",
        "  objeto1 = RECTANGULO_AREA(bacecita, alturita)  #llamamos a la clase\n",
        "  print(f'El área del resctangulo es: {objeto1.metodo()}')\n",
        "\n",
        "\n",
        "#No me estaba corriendo porque primero tiene que correr la clase y una vez que la clase\n",
        "# exista, ya puedes crear objetos\n",
        "  bacecita = int(input('Ingresa la base: '))\n",
        "  alturita = int(input('Ingresa la altura: '))\n",
        "  objeto2 = RECTANGULO_AREA(bacecita, alturita)\n",
        "  print(f'El área del resctangulo es: {objeto2.metodo()}')"
      ],
      "metadata": {
        "colab": {
          "base_uri": "https://localhost:8080/"
        },
        "id": "9k2xlW1qiLB_",
        "outputId": "f5478c91-ac73-4b86-8e28-c31c390141bd"
      },
      "execution_count": null,
      "outputs": [
        {
          "output_type": "stream",
          "name": "stdout",
          "text": [
            "Ingresa la base: 3\n",
            "Ingresa la altura: 5\n",
            "El área del resctangulo es: 15\n",
            "Ingresa la base: 7\n",
            "Ingresa la altura: 8\n",
            "El área del resctangulo es: 56\n"
          ]
        }
      ]
    },
    {
      "cell_type": "markdown",
      "source": [
        "Ejercicio: Calculadora de un cubo con clases y metodo"
      ],
      "metadata": {
        "id": "nsZIOx_6EFQK"
      }
    },
    {
      "cell_type": "code",
      "source": [
        "class cubo:\n",
        "  def __init__(self, largo, ancho, profundidad):\n",
        "    self.lar = largo\n",
        "    self.anc = ancho\n",
        "    self.pro = profundidad\n",
        "\n",
        "  def area(self):\n",
        "    return self.lar * self.anc * self.pro\n",
        "\n",
        "#probemos\n",
        "\n",
        "  lar = int(input('Ingresa el largo del cubo: '))\n",
        "  anc = int(input('Ingresa el ancho del cubo: '))\n",
        "  pro = int(input('Ingresa la profundiad del cubo: '))\n",
        "  objeto1 = cubo(lar, anc, pro)\n",
        "  print(f'El volumen del cubo es: {objeto1.area()}')"
      ],
      "metadata": {
        "colab": {
          "base_uri": "https://localhost:8080/"
        },
        "id": "Tlg-GMGgmxO6",
        "outputId": "b400fa4b-871c-4140-f105-8876583e4cbb"
      },
      "execution_count": null,
      "outputs": [
        {
          "output_type": "stream",
          "name": "stdout",
          "text": [
            "Ingresa el largo del cubo: 4\n",
            "Ingresa el ancho del cubo: 5\n",
            "Ingresa la profundiad del cubo: 3\n",
            "El volumen del cubo es: 60\n"
          ]
        }
      ]
    },
    {
      "cell_type": "markdown",
      "source": [
        "Podemos robustecer init haciendo que podamos pasarle varios argumentos variables como ya lo hemos visto con * para varios parametros y ** para diccionarios.\n"
      ],
      "metadata": {
        "id": "M1u6bqgbIE44"
      }
    },
    {
      "cell_type": "code",
      "source": [
        "class uwu:\n",
        "  def __init__(self, nombre, edad, apellido, *valores, **terminos):\n",
        "    self.nombre = nombre   #self nombre es atributo y nombre es un parametro\n",
        "    self.edad = edad       #En lugar de self podemos usar otra palabra como this\n",
        "    self.apellido = apellido\n",
        "    self.valores = valores\n",
        "    self.terminos = terminos\n",
        "\n",
        "  def mostrarDetalle(self):\n",
        "    print(f'Persona {self.nombre} {self.edad} {self.apellido} {self.valores} {self.terminos}')\n",
        "\n",
        "\n",
        "persona1 = uwu('Emmanuel', 25, 'Chew', '3434534', 2,3,4,5,ID='OlaKAce', pk = '324' )  # uwu es el constructor de la clase: un constructor es un metodo para poder crear un objeto\n",
        "persona1.mostrarDetalle()\n",
        "\n",
        "print('-----------------------------')\n",
        "\n",
        "persona2 = uwu('Raul', 22, 'Mendez')\n",
        "persona2.mostrarDetalle()"
      ],
      "metadata": {
        "colab": {
          "base_uri": "https://localhost:8080/"
        },
        "id": "f20Rw2BLnRkY",
        "outputId": "e88ef2e3-572a-4fc9-b01d-3f0f3230f0a8"
      },
      "execution_count": null,
      "outputs": [
        {
          "output_type": "stream",
          "name": "stdout",
          "text": [
            "Persona Emmanuel 25 Chew ('3434534', 2, 3, 4, 5) {'ID': 'OlaKAce', 'pk': '324'}\n",
            "-----------------------------\n",
            "Persona Raul 22 Mendez () {}\n"
          ]
        }
      ]
    },
    {
      "cell_type": "markdown",
      "source": [
        "Encapsulamiento: En python podemos acceder a los atributos ya que son publicos pero pero no es recomendablle hacerlo fuera de nuestra clase, para indicar que no debemos alterar atributos fuera de nuestra clase usamos guion bajo _ despues de self._\n",
        "\n",
        "Encapsulados es para encapsular cosas que nos e deben estar accediendo.\n"
      ],
      "metadata": {
        "id": "V_p5Wo8JKblq"
      }
    },
    {
      "cell_type": "code",
      "source": [
        "class uwu:\n",
        "  def __init__(self, nombre, edad, apellido):\n",
        "    self._nombre = nombre   #self nombre es atributo y nombre es un parametro\n",
        "    self.__edad = edad        #Tambien podemos usar doble __ guion bajo para restrinjir el acceso aunque no es comun\n",
        "    self._apellido = apellido   #En lugar de self podemos usar otra palabra como this\n",
        "\n",
        "\n",
        "  def mostrarDetalle(self):\n",
        "    print(f'Persona {self._nombre} {self.__edad} {self._apellido}')\n",
        "\n",
        "\n",
        "persona1 = uwu('Emmanuel', 25, 'Chew')  # uwu es el constructor de la clase: un constructor es un metodo para poder crear un objeto\n",
        "persona1._nombre = 'Pikachu'\n",
        "persona1.mostrarDetalle()\n"
      ],
      "metadata": {
        "colab": {
          "base_uri": "https://localhost:8080/"
        },
        "id": "fyfYVYQGI7tA",
        "outputId": "f880eeef-a85e-4b63-c644-621260193289"
      },
      "execution_count": null,
      "outputs": [
        {
          "output_type": "stream",
          "name": "stdout",
          "text": [
            "Persona Pikachu 25 Chew\n"
          ]
        }
      ]
    },
    {
      "cell_type": "markdown",
      "source": [
        "Como se vió en el ejemplo pude alterar el nombre a pesar de que ._ me advertia que no lo hiciera"
      ],
      "metadata": {
        "id": "nCjtvt2eLXsi"
      }
    },
    {
      "cell_type": "markdown",
      "source": [
        "get: obtener/ modificar atributos de nuestra clase\n",
        "\n",
        "set: colocar/modificar atributos de nuestra clase"
      ],
      "metadata": {
        "id": "SEYtVxSRMD5o"
      }
    },
    {
      "cell_type": "code",
      "source": [
        "class uwu:\n",
        "  def __init__(self, nombre, edad, apellido):\n",
        "    self._nombre = nombre   #self nombre es atributo y nombre es un parametro\n",
        "    self.__edad = edad        #Tambien podemos usar doble __ guion bajo para restrinjir el acceso aunque no es comun\n",
        "    self._apellido = apellido   #En lugar de self podemos usar otra palabra como this\n",
        "\n",
        "\n",
        "\n",
        "  def mostrarDetalle(self):\n",
        "    print(f'Persona {self._nombre} {self.__edad} {self._apellido}')\n",
        "\n",
        "  @property #este decorador hara que el atributo name de la clase solo sea accesible a traves del metodo\n",
        "  def name(self)\n",
        "  return self._nombre\n",
        "\n",
        "persona1 = uwu('Emmanuel', 25, 'Chew')  # uwu es el constructor de la clase: un constructor es un metodo para poder crear un objeto\n",
        "persona1._nombre = 'Pikachu'\n",
        "persona1.mostrarDetalle()\n"
      ],
      "metadata": {
        "id": "46vqbMFTLJdN"
      },
      "execution_count": null,
      "outputs": []
    },
    {
      "cell_type": "markdown",
      "source": [
        "cada que veamos un atributo de una clase con guion bajo _ es porque es un encapsulamiento para que no se modifique.\n",
        "\n",
        "Para asegurarnos que esto no suceda usaremos un decorador, un decorardor basicamente modifica el comportamineto de nuestro método.\n",
        "\n",
        "Si queremos ser todavia mas restrictivos ponemos doble guion bajo, para que no modifiquen un atributo de la clase directamente.\n",
        "\n",
        "Con el decorador @property vamos a recuperar el atributo _nombre de manera indirecta."
      ],
      "metadata": {
        "id": "4C2bQFyeFFf8"
      }
    },
    {
      "cell_type": "code",
      "source": [
        "class uwu:\n",
        "  def __init__(self, nombre, edad, apellido):\n",
        "    self._nombre = nombre   #self nombre es atributo y nombre es un parametro\n",
        "    self.__edad = edad        #Tambien podemos usar doble __ guion bajo para restrinjir el acceso aunque no es comun\n",
        "    self._apellido = apellido   #En lugar de self podemos usar otra palabra como this\n",
        "\n",
        "  @property #este decorador hara que el atributo name de la clase solo sea accesible a traves del metodo\n",
        "  def name(self):\n",
        "    return self._nombre\n",
        "\n",
        "  @name.setter\n",
        "  def nombre(self, nombre)\n",
        "   self._nombre  = nombre  #con esto modificamos correctamente nuestra clase y lo manda a llamar como un atributo de our clase\n",
        "\n",
        "\n",
        "\n",
        "persona1 = uwu('Emmanuel', 25, 'Chew')  # uwu es el constructor de la clase: un constructor es un metodo para poder crear un objeto\n",
        "print(persona1.name)\n",
        "persona1.nombre = 'Se cambia el nombre a Luis'  # CON EL DECORADOR PODEMOS MODIFICAR EL NOMBRE ASI DE FACIL\n",
        "print(persona1.nombre)\n",
        "\n",
        "#ESTAMOS HACIENDO USO DEL METODO SET Y GET PARA ACCEDER DE MANERA INDIRECTA A LOS ATRIBUTOS\n"
      ],
      "metadata": {
        "colab": {
          "base_uri": "https://localhost:8080/"
        },
        "id": "XdnLd-KGCzno",
        "outputId": "6bf838f9-1969-45f1-e1fb-64bb9e9f9fb2"
      },
      "execution_count": null,
      "outputs": [
        {
          "output_type": "stream",
          "name": "stdout",
          "text": [
            "Emmanuel\n"
          ]
        }
      ]
    },
    {
      "cell_type": "markdown",
      "source": [
        "Gracias a lo anterior en el print(persona1.nombre) podemos omitir el parentesis en print(persona1.nombre()) ya que ya se esta mandando a llamar automaticamente con el decorador"
      ],
      "metadata": {
        "id": "hGVxA6cP5mbH"
      }
    },
    {
      "cell_type": "markdown",
      "source": [
        "Gracias a que ya tenemos nuestra clase completa ya lo podemos mandar a llamar desde otro archivo"
      ],
      "metadata": {
        "id": "db57mhi_xF1n"
      }
    },
    {
      "cell_type": "code",
      "source": [
        "from nombre de nuestro archivo/modulo import la_clase_que quieras_llamar\n",
        "\n",
        "# si queremos llamar todas las clases de un archivo ponemos import *"
      ],
      "metadata": {
        "id": "RV1DzRH8xMD0"
      },
      "execution_count": null,
      "outputs": []
    },
    {
      "cell_type": "code",
      "source": [
        "#Para saber en que modeulo estamos trabajando podemos usar esto:\n",
        "\n",
        "if __name__ == '__main__':\n",
        "\n",
        " # Con esto podemos hacer que solo se ejecute lo que estemos haciendo en el archivo actual y que\n",
        " # se ejecute lo del modulo que estemos importando"
      ],
      "metadata": {
        "id": "uuVVAb_syeoE"
      },
      "execution_count": null,
      "outputs": []
    },
    {
      "cell_type": "code",
      "source": [
        "#Para dar formato al código podemos utilizar\n",
        "print('Aqui pon el titulo'.center(50,'-'))"
      ],
      "metadata": {
        "colab": {
          "base_uri": "https://localhost:8080/"
        },
        "id": "ebIgfiLBzo9T",
        "outputId": "f0992e6c-b8d8-4754-9caf-91b9bbfdc832"
      },
      "execution_count": null,
      "outputs": [
        {
          "output_type": "stream",
          "name": "stdout",
          "text": [
            "----------------Aqui pon el titulo----------------\n"
          ]
        }
      ]
    },
    {
      "cell_type": "code",
      "source": [
        "#Para eliminar y guardar recursos usamos\n",
        "\n",
        "def __del__(self)\n",
        "  print('pon los que vayas a eliminar para q sepas {self._nombre}')"
      ],
      "metadata": {
        "id": "iv6oHHYPz5Vx"
      },
      "execution_count": null,
      "outputs": []
    },
    {
      "cell_type": "markdown",
      "source": [
        "La herenecia es que de 1 o varias clases pudan ser heredadas atributos de las clases padres a las clases hijas"
      ],
      "metadata": {
        "id": "aDQn9SYo4b7A"
      }
    },
    {
      "cell_type": "code",
      "source": [
        "class Persona:\n",
        "  def __init__(self, nombre, edad):\n",
        "    self.nombre = nombre\n",
        "    self.edad = edad\n",
        "\n",
        "class Empleado(Persona):\n",
        "  def __init__(self, nombre, edad, sueldo):\n",
        "    super(). __init__(nombre, edad)\n",
        "    self.sueldo = sueldo\n",
        "\n",
        "empleado1 = Empleado('Juan', 28, 5000)\n",
        "print(empleado1.nombre)\n",
        "print(empleado1.edad)\n",
        "print(empleado1.sueldo)"
      ],
      "metadata": {
        "colab": {
          "base_uri": "https://localhost:8080/"
        },
        "id": "c9Jag_304lxq",
        "outputId": "290123a6-8c58-496c-aab9-22137249f8f5"
      },
      "execution_count": null,
      "outputs": [
        {
          "output_type": "stream",
          "name": "stdout",
          "text": [
            "Juan\n",
            "28\n",
            "5000\n"
          ]
        }
      ]
    },
    {
      "cell_type": "markdown",
      "source": [
        "Ejercicio: crear clase padre vehiculo y 2 clases hijas bicicleta y coche"
      ],
      "metadata": {
        "id": "noEFIb2cl_AP"
      }
    },
    {
      "cell_type": "code",
      "source": [
        "\"\"\"\n",
        "Definir una clase padre llamada Vehiculo y dos clases hijas llamadas Coche y Bicicleta,\n",
        "las cuales heredan de la clase Padre Vehiculo.\n",
        "La clase padre debe tener los siguientes atributos y métodos\n",
        "\n",
        "Vehiculo (Clase Padre):\n",
        "-Atributos (color, ruedas)\n",
        "-Métodos ( __init__() y __str__ )\n",
        "\n",
        "Coche  (Clase Hija de Vehículo) (Además de los atributos y métodos heradados de Vehículo):\n",
        "-Atributos ( velocidad (km/hr) )\n",
        "-Métodos ( __init__() y __str__() )\n",
        "\n",
        "Bicicleta  (Clase Hija de Vehículo) (Además de los atributos y métodos heradados de Vehículo):\n",
        "-Atributos ( tipo (urbana/montaña/etc )\n",
        "-Métodos ( __init__() y __str__() )\n",
        "\"\"\"\n",
        "\n",
        "class Vehiculo:\n",
        "    def __init__(self, color, ruedas):\n",
        "        self.color = color\n",
        "        self.ruedas = ruedas\n",
        "\n",
        "    def __str__(self):    #el dunder str es para que se imprima de mejor manera\n",
        "        return 'Color: ' + self.color + ', Ruedas: ' + str(self.ruedas)\n",
        "\n",
        "class Coche(Vehiculo):\n",
        "    def __init__(self, color, ruedas, velocidad):\n",
        "        super().__init__(color, ruedas)\n",
        "        self.velocidad = velocidad\n",
        "\n",
        "    def __str__(self):\n",
        "        return super().__str__() + ', Velocidad (km/hr): ' + str(self.velocidad)\n",
        "\n",
        "class Bicicleta(Vehiculo):\n",
        "    def __init__(self, color, ruedas, tipo):\n",
        "        super().__init__(color, ruedas)\n",
        "        self.tipo = tipo\n",
        "\n",
        "    def __str__(self):\n",
        "        return super().__str__() + ', Tipo: ' + self.tipo\n",
        "\n",
        "# Creamos un objeto de la clase Vehiculo\n",
        "vehiculo = Vehiculo('Rojo', 4)\n",
        "print(vehiculo)\n",
        "\n",
        "# Creamos un objeto de la clase hija Coche\n",
        "coche = Coche('Azul', 4, 150)\n",
        "print(coche)\n",
        "\n",
        "# Creamos un objeto de la clase hija Bicicleta\n",
        "bicicleta = Bicicleta('Blanca', 2, 'Urbano')\n",
        "print(bicicleta)\n",
        "\n",
        "\n"
      ],
      "metadata": {
        "id": "sDhK5SJBqBKX"
      },
      "execution_count": null,
      "outputs": []
    },
    {
      "cell_type": "markdown",
      "source": [],
      "metadata": {
        "id": "np6UxisFdxDM"
      }
    },
    {
      "cell_type": "markdown",
      "source": [
        "Con print(class.mro()) se puede ver donde se esta ejecutando el metodo , siempre busca en las classes hijas y luego en las Padres y asi hasta llegar a LA class objeto\n"
      ],
      "metadata": {
        "id": "fvik03kXBNHF"
      }
    },
    {
      "cell_type": "markdown",
      "source": [
        "En python el nombre de las variables \"constantes\" se escuibe todo en mayusculas.\n",
        "\n",
        "Por convencion en python cuando vemos el nombre de una constante no debemos de cambair el valor a pesar de que si se puede cambiar el valor."
      ],
      "metadata": {
        "id": "nyyY4PKK4PIo"
      }
    },
    {
      "cell_type": "markdown",
      "source": [
        "La sobrecarga de operadores en python es que un mismo operador puede comportarse de diferente forma.\n",
        "\n",
        "Por ejemplo el operador suma se comporta diferente si esta trabajando con un tipo string o con un tipo entero o con tipo lista.\n",
        "\n",
        "Se usa para poder operar objetos de"
      ],
      "metadata": {
        "id": "ZZHYTHOG6tMt"
      }
    },
    {
      "cell_type": "markdown",
      "source": [
        "El polimorfismo en Python se refiere a la capacidad de diferentes objetos de responder a la misma operación de manera diferente. Esto se logra a través de la herencia y el uso de métodos con el mismo nombre pero comportamientos distintos en las clases derivadas. Aquí tienes un ejemplo conciso de polimorfismo en Python:\n",
        "\n",
        "En este ejemplo, la clase base Animal tiene un método speak(), pero no tiene una implementación concreta. Las clases derivadas Dog y Cat heredan de Animal y proporcionan sus propias implementaciones del método speak(). Luego, la función animal_sound() toma un objeto de tipo Animal como argumento y llama al método speak() de ese objeto, permitiendo que diferentes tipos de animales (en este caso, perros y gatos) respondan a la misma operación (speak()) de manera diferente. Esto es un ejemplo clásico de polimorfismo en acción.\n",
        "\n"
      ],
      "metadata": {
        "id": "UJL5xiQsBaAx"
      }
    },
    {
      "cell_type": "code",
      "source": [
        "class Animal:\n",
        "    def speak(self):\n",
        "        pass\n",
        "\n",
        "class Dog(Animal):\n",
        "    def speak(self):\n",
        "        return \"Woof!\"\n",
        "\n",
        "class Cat(Animal):\n",
        "    def speak(self):\n",
        "        return \"Meow!\"\n",
        "\n",
        "def animal_sound(animal):\n",
        "    return animal.speak()\n",
        "\n",
        "dog = Dog()\n",
        "cat = Cat()\n",
        "\n",
        "print(animal_sound(dog))  # Salida: Woof!\n",
        "print(animal_sound(cat))  # Salida: Meow!\n"
      ],
      "metadata": {
        "id": "zAvsjB6uBMi5",
        "colab": {
          "base_uri": "https://localhost:8080/"
        },
        "outputId": "cd7401dc-25e4-4efe-b686-1db0aa19c3cd"
      },
      "execution_count": null,
      "outputs": [
        {
          "output_type": "stream",
          "name": "stdout",
          "text": [
            "Woof!\n",
            "Meow!\n"
          ]
        }
      ]
    },
    {
      "cell_type": "markdown",
      "source": [
        "Las exepciones es apra que si da error no se vea tan feo el error, ademas podemos poner con palabras reservadas que tipo de error en caso de que se de se printee.\n"
      ],
      "metadata": {
        "id": "ql0dys9Rf99X"
      }
    },
    {
      "cell_type": "code",
      "source": [
        "a = 10\n",
        "b = 0\n",
        "\n",
        "try:\n",
        "    resultado = a / b\n",
        "except Exception as e:   # la palabra Exception se puede cambiar por otras palabras reservadas, según el tipo de error\n",
        "# Exception es para el tipo de error mas generico\n",
        "    print(f'ocurrió un error: {e}')\n",
        "    resultado = None\n",
        "\n",
        "print(f'resultado: {resultado}')"
      ],
      "metadata": {
        "id": "YpMaclTqEqpd",
        "colab": {
          "base_uri": "https://localhost:8080/"
        },
        "outputId": "3a9b905b-6922-4a78-d459-bcdaa05deb4c"
      },
      "execution_count": null,
      "outputs": [
        {
          "output_type": "stream",
          "name": "stdout",
          "text": [
            "ocurrió un error: division by zero\n",
            "resultado: None\n"
          ]
        }
      ]
    },
    {
      "cell_type": "markdown",
      "source": [
        "Se pueden hacer mas excepciones siempre dejando el error mas generico hasta el final con el fin de que primero asalgan lo serrores mas especificos y en caso de que no cachen el error ahora si expulsar un mensaje de error generico como Exception.\n"
      ],
      "metadata": {
        "id": "im8PvMkdjujS"
      }
    },
    {
      "cell_type": "code",
      "source": [
        "a = 10\n",
        "b = 0\n",
        "\n",
        "try:\n",
        "    resultado = a / b\n",
        "\n",
        "except ZeroDivisionError as e:\n",
        "    print(f'ocurrió un error: {e}')\n",
        "except TypeError as e:\n",
        "    print(f'ocurrió un error: {e}')\n",
        "except Exception as e:\n",
        "    print(f'ocurrió un error: {e}')\n",
        "finally:\n",
        "    print('siempre se ejecutra este bloque fianl')\n",
        "    resultado = None\n",
        "\n",
        "\n",
        "\n",
        "# Independientemente del error siempre se ejecutra el bloque de finaly\n",
        "\n",
        "print(f'resultado: {resultado}')\n",
        "\n",
        "# Si pusieremos Exception el inico las demas excepciones especificas ya no se realizarian"
      ],
      "metadata": {
        "colab": {
          "base_uri": "https://localhost:8080/"
        },
        "id": "hZs-WYJFjuBw",
        "outputId": "1040ad9c-c7ff-4e5f-f3ef-c8b91f247eb4"
      },
      "execution_count": null,
      "outputs": [
        {
          "output_type": "stream",
          "name": "stdout",
          "text": [
            "ocurrió un error: division by zero\n",
            "siempre se ejecutra este bloque fianl\n",
            "resultado: None\n"
          ]
        }
      ]
    },
    {
      "cell_type": "markdown",
      "source": [
        "se puede usar la excepcion de una clase como:\n",
        "\n",
        "if a != b:\n",
        "  raise clase('mensaje que quieras que salga')"
      ],
      "metadata": {
        "id": "K5PSt62PBq73"
      }
    },
    {
      "cell_type": "markdown",
      "source": [
        "Se puede crear archivos de caulquier tipo y pasarle informacion a estos archivos"
      ],
      "metadata": {
        "id": "4QGR0MElDJxH"
      }
    },
    {
      "cell_type": "code",
      "source": [
        "try:\n",
        "    archivo = open('prueba.txt', 'w', encoding = 'utf8')  # con la 'w' nos permitirá escribir información en nuestro archivo\n",
        "    archivo.write('estamos agregando info al archivo')\n",
        "    archivo.write('ola k ace')\n",
        "finally:\n",
        "    archivo.close()\n",
        "\n",
        "    #utf8 es el encoding que soporta acentos"
      ],
      "metadata": {
        "id": "ic9hw3jxheUv"
      },
      "execution_count": null,
      "outputs": []
    },
    {
      "cell_type": "code",
      "source": [
        "#Para leer un archivo\n",
        "archivo = open('prueba.txt', 'r', encoding = 'utf8')\n",
        "\n",
        "print(archivo(5)) # solo leera 5 caracteres del archivo\n",
        "print(archivo.readline()) # leera todoo"
      ],
      "metadata": {
        "id": "fkCbxxCtEzBA"
      },
      "execution_count": null,
      "outputs": []
    },
    {
      "cell_type": "markdown",
      "source": [
        "La diagonal inversa \\  se utiliza para escapar caracteres especiales, osease para decirle al python que lo que sigue despues de \\ es caracter especia.\n",
        "\n",
        "Se utiliza en windows ya que utilzia diagonal inversa para la ruta de las carpetas por lo que tienes que poner doble \\\\ en las rutas para que lo lea chido.\n",
        "\n",
        "En cada parte donde aya diagonal en una ruta windows va doble diagonal"
      ],
      "metadata": {
        "id": "-o3Nz97ox7wA"
      }
    },
    {
      "cell_type": "code",
      "source": [
        "#siempre tenemos que cerrar el archivo pero con with\n",
        "\n",
        "with open('archivo.txt' 'r', encoding = 'utf8') as archivo:\n",
        "  print(archivo.read())"
      ],
      "metadata": {
        "id": "LTi3nvhb71pP"
      },
      "execution_count": null,
      "outputs": []
    },
    {
      "cell_type": "code",
      "source": [
        "class manejoArchivos:\n",
        "  def __init__(self, nombre)\n",
        "  self.nombre = nombre\n",
        "\n",
        "  def __enter__(self):\n",
        "    print('obtenemos el recurso'.center( 50, '-'))"
      ],
      "metadata": {
        "id": "CLHhf_zF-y1s"
      },
      "execution_count": null,
      "outputs": []
    },
    {
      "cell_type": "markdown",
      "source": [
        "Cada manejador de bases de datos tiene su propio modulo a instalar con ayuda de pip install, download, delete.\n"
      ],
      "metadata": {
        "id": "Q1SreZSBkjpX"
      }
    },
    {
      "cell_type": "code",
      "source": [
        "#ejemplo de como conectarse a postgress desde python\n",
        "\n",
        "import psycopg2\n",
        "conexion = psycopg2.connect(\n",
        "user='postgres'\n",
        "password='admin'\n",
        "host='127.0.0.1',    # eS EL ip DE TU LAPTOP EN caso de que sea un servidor local\n",
        "port='5432',\n",
        "databáse='test_db,        #nombre de la base\n",
        "\n",
        "cUrsor = conexion.cursor()    #The cursor is used to interact with the database.\n",
        "sentencia = 'SELECT * FROM person\n",
        "cursor.execute (sentencia)   #You can use the cursor's execute() method to send SQL queries to the database\n",
        "registros = cursor.fetchall()\n",
        "print(registros)\n",
        "\n",
        "#For SELECT queries, you can use methods like fetchone(), fetchall(), or fetchmany() to retrieve data from the result set. These methods allow you to navigate through the rows returned by the query.\n",
        "\n",
        "cursor.close()\n",
        "conexion.close()\n",
        "\n",
        " #es muy importante usar close para cerrar la conexion\n",
        "\n",
        "\n"
      ],
      "metadata": {
        "id": "LGuiddMMkt8v"
      },
      "execution_count": null,
      "outputs": []
    },
    {
      "cell_type": "markdown",
      "source": [
        "In Python, the with statement is used to manage resources, such as files or database connections, in a more efficient and safer way. It provides a convenient way to ensure that certain operations are carried out before and after a block of code, regardless of whether an exception is raised or not. When it comes to connecting to databases, using the with statement can help ensure that database connections are properly established and closed.\n",
        "\n",
        "When connecting to databases, you often need to open a connection, perform operations, and then close the connection to release resources. The with statement simplifies this process by automatically taking care of the closing step even if an exception occurs.\n",
        "\n",
        "Here's an example of how you might use the with statement to connect to a database using the sqlite3 module in Python:\n"
      ],
      "metadata": {
        "id": "dsOng4qEWkUc"
      }
    },
    {
      "cell_type": "code",
      "source": [
        "import sqlite3\n",
        "\n",
        "# Establish a connection using the with statement\n",
        "with sqlite3.connect('my_database.db') as connection:\n",
        "    # Create a cursor\n",
        "    cursor = connection.cursor()\n",
        "\n",
        "    # Execute SQL queries or other database operations\n",
        "    cursor.execute('SELECT * FROM users')\n",
        "    rows = cursor.fetchall()\n",
        "    for row in rows:\n",
        "        print(row)\n",
        "\n",
        "# The connection is automatically closed when the with block is exited\n",
        "\n",
        "#In this example, the with statement is used to create a connection to an SQLite database file. Inside the with block, you can perform various database operations using the cursor. When the with block is exited (either normally or due to an exception), the connection is automatically closed, ensuring that resources are properly managed.\n",
        "\n",
        "#Using the with statement helps prevent resource leaks and simplifies your code. It's especially useful when dealing with resources that need to be explicitly closed or released, such as file handles or database connections.\n"
      ],
      "metadata": {
        "id": "rpc1gMtuWhat"
      },
      "execution_count": null,
      "outputs": []
    },
    {
      "cell_type": "markdown",
      "source": [
        "Ejercicio del curso:"
      ],
      "metadata": {
        "id": "zXmSFCu5EsPR"
      }
    },
    {
      "cell_type": "code",
      "source": [
        "import psycopg2\n",
        "\n",
        "conexion = psycopg2.connect(user='postgres',password='admin',host='127.0.0.1',port='5432',database='test_db')\n",
        "\n",
        "try:\n",
        "    with conexion:\n",
        "        with conexion.cursor() as cursor:\n",
        "            sentencia = 'SELECT * FROM persona WHERE id_persona IN %s'\n",
        "            # llaves_primarias = ((1,2,3),)\n",
        "            entrada = input('Proporciona los id\\'s a buscar (separado por comas): ')\n",
        "            llaves_primarias = (tuple(entrada.split(',')),)\n",
        "            cursor.execute(sentencia, llaves_primarias)\n",
        "            registros = cursor.fetchall()\n",
        "            for registro in registros:\n",
        "                print(registro)\n",
        "except Exception as e:\n",
        "    print(f'Ocurrió un error: {e}')\n",
        "finally:\n",
        "    conexion.close()"
      ],
      "metadata": {
        "id": "mvcbCogDWpcd"
      },
      "execution_count": null,
      "outputs": []
    },
    {
      "cell_type": "markdown",
      "source": [
        ".commit() guarda los cambios hechos en la base de datos, pero al usar with ya no es necesario porque lo hace de manera automatica"
      ],
      "metadata": {
        "id": "cFMNMIkdQ789"
      }
    },
    {
      "cell_type": "markdown",
      "source": [
        "**INSERTA REGISTRO EN LA BD DESDE PYTHON**\n",
        "\n"
      ],
      "metadata": {
        "id": "MFmBU4_sTSS4"
      }
    },
    {
      "cell_type": "code",
      "source": [
        "import psycopg2\n",
        "\n",
        "conexion = psycopg2.connect(user='postgres',password='admin',host='127.0.0.1',port='5432',database='test_db')\n",
        "\n",
        "try:\n",
        "    with conexion:\n",
        "        with conexion.cursor() as cursor:\n",
        "            sentencia = 'INSERT INTO persona(nombre, apellido, email) VALUES(%s, %s, %s)'\n",
        "            valores = ('Carlos', 'Lara', 'clara@mail.com')\n",
        "            cursor.execute(sentencia, valores)\n",
        "            # conexion.commit()\n",
        "            registros_insertados = cursor.rowcount\n",
        "            print(f'Registros Insertados: {registros_insertados}')\n",
        "except Exception as e:\n",
        "    print(f'Ocurrió un error: {e}')\n",
        "finally:\n",
        "    conexion.close()"
      ],
      "metadata": {
        "id": "5VQNXmh1Ew-q"
      },
      "execution_count": null,
      "outputs": []
    },
    {
      "cell_type": "markdown",
      "source": [
        "**INSERTA DE REGISTROS MULTIPLES EN LA BD DESDE PYTHON**"
      ],
      "metadata": {
        "id": "wsuBqy2YgDzY"
      }
    },
    {
      "cell_type": "markdown",
      "source": [
        "Si algo sale mal se hace un commit rollback es decir se da marcha atras a la incesercion de datos.\n"
      ],
      "metadata": {
        "id": "nUUMmDuagH6H"
      }
    },
    {
      "cell_type": "code",
      "source": [
        "import psycopg2\n",
        "\n",
        "conexion = psycopg2.connect(user='postgres',password='admin',host='127.0.0.1',port='5432',database='test_db')\n",
        "\n",
        "try:\n",
        "    with conexion:\n",
        "        with conexion.cursor() as cursor:\n",
        "            sentencia = 'SELECT * FROM persona WHERE id_persona IN %s'\n",
        "            # llaves_primarias = ((1,2,3),)\n",
        "            entrada = input('Proporciona los id\\'s a buscar (separado por comas): ')\n",
        "            llaves_primarias = (tuple(entrada.split(',')),)\n",
        "            cursor.execute(sentencia, llaves_primarias)\n",
        "            registros = cursor.fetchall()\n",
        "            for registro in registros:\n",
        "                print(registro)\n",
        "except Exception as e:\n",
        "    print(f'Ocurrió un error: {e}')\n",
        "finally:\n",
        "    conexion.close()"
      ],
      "metadata": {
        "id": "IQptGHgChIU6"
      },
      "execution_count": null,
      "outputs": []
    },
    {
      "cell_type": "markdown",
      "source": [
        "**ACTUALIZA UN REGISTRO EN LA BD DESDE PYTHON**\n",
        "\n",
        "\n",
        "\n"
      ],
      "metadata": {
        "id": "I_V2amEdioBi"
      }
    },
    {
      "cell_type": "code",
      "source": [
        "import psycopg2\n",
        "\n",
        "conexion = psycopg2.connect(user='postgres',password='admin',host='127.0.0.1',port='5432',database='test_db')\n",
        "\n",
        "try:\n",
        "    with conexion:\n",
        "        with conexion.cursor() as cursor:\n",
        "            sentencia = 'UPDATE persona SET nombre=%s, apellido=%s, email=%s WHERE id_persona=%s'\n",
        "            valores = ('Juan Carlos', 'Juarez', 'jcjuarez@mail.com', 1)\n",
        "            cursor.execute(sentencia, valores)\n",
        "            registros_actualizados = cursor.rowcount\n",
        "            print(f'Registros Actualizados: {registros_actualizados}')\n",
        "except Exception as e:\n",
        "    print(f'Ocurrió un error: {e}')\n",
        "finally:\n",
        "    conexion.close()"
      ],
      "metadata": {
        "id": "zhog6bEYhIJc"
      },
      "execution_count": null,
      "outputs": []
    },
    {
      "cell_type": "markdown",
      "source": [
        "**ACTUALIZAR VARIOS REGISTROS EN LA BD DESDE PYTHON**\n"
      ],
      "metadata": {
        "id": "YidWY1QQkm73"
      }
    },
    {
      "cell_type": "code",
      "source": [
        "import psycopg2\n",
        "\n",
        "conexion = psycopg2.connect(user='postgres',password='admin',host='127.0.0.1',port='5432',database='test_db')\n",
        "\n",
        "try:\n",
        "    with conexion:\n",
        "        with conexion.cursor() as cursor:\n",
        "            sentencia = 'UPDATE persona SET nombre=%s, apellido=%s, email=%s WHERE id_persona=%s'\n",
        "            valores = (\n",
        "                ('Juan', 'Perez', 'jperez@mail.com', 1),\n",
        "                ('Ivonne', 'Gutierrez', 'igutierrez@mail.com', 2)\n",
        "            )\n",
        "            cursor.executemany(sentencia, valores)\n",
        "            registros_actualizados = cursor.rowcount\n",
        "            print(f'Registros Actualizados: {registros_actualizados}')\n",
        "except Exception as e:\n",
        "    print(f'Ocurrió un error: {e}')\n",
        "finally:\n",
        "    conexion.close()\n"
      ],
      "metadata": {
        "id": "duGO0zcykq9E"
      },
      "execution_count": null,
      "outputs": []
    },
    {
      "cell_type": "markdown",
      "source": [
        "**ELIMINAR UN REGISTRO EN LA BD DESDE PYTHON**\n"
      ],
      "metadata": {
        "id": "hRxkW8FWksIl"
      }
    },
    {
      "cell_type": "code",
      "source": [
        "import psycopg2\n",
        "\n",
        "conexion = psycopg2.connect(user='postgres',password='admin',host='127.0.0.1',port='5432',database='test_db')\n",
        "\n",
        "try:\n",
        "    with conexion:\n",
        "        with conexion.cursor() as cursor:\n",
        "            sentencia = 'DELETE FROM persona WHERE id_persona=%s'\n",
        "            entrada = input('Proporciona el id_persona a eliminar: ')\n",
        "            valores = (entrada,) # se le pone una coma para que lo reconozca, que sea una tupla de un solo valor\n",
        "            cursor.execute(sentencia, valores)\n",
        "            registros_eliminados = cursor.rowcount\n",
        "            print(f'Registros Eliminados: {registros_eliminados}')\n",
        "except Exception as e:\n",
        "    print(f'Ocurrió un error: {e}')\n",
        "finally:\n",
        "    conexion.close()"
      ],
      "metadata": {
        "id": "lq2DC3dGnetl"
      },
      "execution_count": null,
      "outputs": []
    },
    {
      "cell_type": "markdown",
      "source": [
        "**ELIMINAR VARIOS REGISTROS EN LA BD DESDE PYTHON**\n"
      ],
      "metadata": {
        "id": "5lqbxnk6nRDi"
      }
    },
    {
      "cell_type": "code",
      "source": [
        "import psycopg2\n",
        "\n",
        "conexion = psycopg2.connect(user='postgres',password='admin',host='127.0.0.1',port='5432',database='test_db')\n",
        "\n",
        "try:\n",
        "    with conexion:\n",
        "        with conexion.cursor() as cursor:\n",
        "            sentencia = 'DELETE FROM persona WHERE id_persona IN %s'\n",
        "            entrada = input('Proporciona los id_persona a eliminar (separados por coma): ')\n",
        "            valores = (tuple(entrada.split(',')),)\n",
        "            cursor.execute(sentencia, valores)\n",
        "            registros_eliminados = cursor.rowcount\n",
        "            print(f'Registros Eliminados: {registros_eliminados}')\n",
        "except Exception as e:\n",
        "    print(f'Ocurrió un error: {e}')\n",
        "finally:\n",
        "    conexion.close()"
      ],
      "metadata": {
        "id": "ScyUrkx7npW8"
      },
      "execution_count": null,
      "outputs": []
    },
    {
      "cell_type": "markdown",
      "source": [
        "**Manejo de transacciones**\n"
      ],
      "metadata": {
        "id": "BCmcSdIq0868"
      }
    },
    {
      "cell_type": "code",
      "source": [
        "import psycopg2 as bd\n",
        "\n",
        "conexion = bd.connect(user='postgres',password='admin',host='127.0.0.1',port='5432',database='test_db')\n",
        "\n",
        "try:\n",
        "    conexion.autocommit = False\n",
        "    cursor = conexion.cursor()\n",
        "    sentencia = 'INSERT INTO persona(nombre, apellido, email) VALUES(%s, %s, %s)'\n",
        "    valores = ('Carlos', 'Lara', 'clara@mail.com')\n",
        "    cursor.execute(sentencia, valores)\n",
        "\n",
        "    sentencia = 'UPDATE persona SET nombre=%s, apellido=%s, email=%s WHERE id_persona=%s'\n",
        "    valores = ('Juan Carlos', 'Juarez','jcjuarez@mail.com', 1)\n",
        "    cursor.execute(sentencia, valores)\n",
        "\n",
        "    conexion.commit()\n",
        "    print('Termina la transacción, se hizo commit')\n",
        "except Exception as e:\n",
        "    conexion.rollback()\n",
        "    print(f'Ocurrió un error, se hizo rollback: {e}')\n",
        "finally:\n",
        "    conexion.close()\n"
      ],
      "metadata": {
        "id": "CNigsxsc0_bR"
      },
      "execution_count": null,
      "outputs": []
    },
    {
      "cell_type": "markdown",
      "source": [
        "**Manejo de transacciones con WITH**\n"
      ],
      "metadata": {
        "id": "jr6-GKYpVi-k"
      }
    },
    {
      "cell_type": "code",
      "source": [
        "import psycopg2 as bd\n",
        "\n",
        "conexion = bd.connect(user='postgres',password='admin',host='127.0.0.1',port='5432',database='test_db')\n",
        "\n",
        "try:\n",
        "    with conexion:\n",
        "        with conexion.cursor() as cursor:\n",
        "            sentencia = 'INSERT INTO persona(nombre, apellido, email) VALUES(%s, %s, %s)'\n",
        "            valores = ('Alex', 'Rojas', 'arojas@mail.com')\n",
        "            cursor.execute(sentencia, valores)\n",
        "\n",
        "            sentencia = 'UPDATE persona SET nombre=%s, apellido=%s, email=%s WHERE id_persona=%s'\n",
        "            valores = ('Juan', 'Perez','jperez@mail.com', 1)\n",
        "            cursor.execute(sentencia, valores)\n",
        "except Exception as e:\n",
        "    print(f'Ocurrió un error, se hizo rollback: {e}')\n",
        "finally:\n",
        "    conexion.close()\n",
        "print('Termina la transacción, se hizo commit')\n"
      ],
      "metadata": {
        "id": "0-lIZ09jVoak"
      },
      "execution_count": null,
      "outputs": []
    },
    {
      "cell_type": "markdown",
      "source": [
        "En el curso vimos como insertar, eliminar, hacer queries etc desde python. No lo puse por que es mucho y es para ingresar datos por dato, tendre que checarlo a fondo despues para insertar grandes cantidaddes de datos.\n"
      ],
      "metadata": {
        "id": "5kVr-DQWZU8S"
      }
    },
    {
      "cell_type": "code",
      "source": [
        "a = 0b1010 # el 0B indica que sera numero bienario, lo demas es 10 pero en binario\n",
        "\n",
        "# con ob es el sistema\n",
        "# 0xA es para hexadecimal"
      ],
      "metadata": {
        "id": "4MQ8LyntZibl"
      },
      "execution_count": null,
      "outputs": []
    },
    {
      "cell_type": "markdown",
      "source": [
        "**Para dar formato al punto flotante**"
      ],
      "metadata": {
        "id": "bW6Vu1etbodd"
      }
    },
    {
      "cell_type": "code",
      "source": [
        "a = 3.0\n",
        "print(f'a es igual a:   {a:.2f}')  #lo que esta dentro de las llaves da formato de 2 decimales"
      ],
      "metadata": {
        "colab": {
          "base_uri": "https://localhost:8080/"
        },
        "id": "TVvnR2-vbrzs",
        "outputId": "e71397f7-d1c0-4220-a338-80847a4abc2d"
      },
      "execution_count": null,
      "outputs": [
        {
          "output_type": "stream",
          "name": "stdout",
          "text": [
            "a es igual a:   3.00\n"
          ]
        }
      ]
    },
    {
      "cell_type": "code",
      "source": [
        "# podemos ver si un numero es infinito\n",
        "\n",
        "import math\n",
        "\n",
        "infinito = float('inf')\n",
        "print(f' Es infinit0?: {math.isinf(infinito)}')\n",
        "\n",
        "#infinito negativo\n",
        "infinito = float('-inf')\n",
        "print(f' Es infinit0?: {math.isinf(infinito)}')"
      ],
      "metadata": {
        "colab": {
          "base_uri": "https://localhost:8080/"
        },
        "id": "mIjCKQz7bz0f",
        "outputId": "01a4c836-9259-481f-e139-f2e82bfc5ac8"
      },
      "execution_count": null,
      "outputs": [
        {
          "output_type": "stream",
          "name": "stdout",
          "text": [
            " Es infinit0?: True\n",
            " Es infinit0?: True\n"
          ]
        }
      ]
    },
    {
      "cell_type": "code",
      "source": [
        "import math\n",
        "from decimal import Decimal\n",
        "\n",
        "# NaN - Not a number (no es un número)\n",
        "# NaN no es sensible a mayúsculas/minúsculas\n",
        "# NaN es un tipo de dato numérico indefinido\n",
        "a = float('NaN')\n",
        "# print(f'a: {a}')\n",
        "# print(f'Es NaN (not a number)?: {math.isnan(a)}')\n",
        "\n",
        "a = Decimal('NaN')\n",
        "print(f'a: {a}')\n",
        "print(f'Es NaN (not a number)?: {math.isnan(a)}')"
      ],
      "metadata": {
        "id": "4mbvxtnGdwnh"
      },
      "execution_count": null,
      "outputs": []
    },
    {
      "cell_type": "markdown",
      "source": [
        "**Para convertir a booleano**"
      ],
      "metadata": {
        "id": "f2ENzOQ9j1cb"
      }
    },
    {
      "cell_type": "code",
      "source": [
        "# bool contiene los valores de True y False\n",
        "# Tipos numericos, False para 0, True dem√°s valores\n",
        "valor = 0\n",
        "resultado = bool(valor)\n",
        "# print(f'Valor {valor}, resultado: {resultado}')\n",
        "valor = 15\n",
        "resultado = bool(valor)\n",
        "# print(f'Valor {valor}, resultado: {resultado}')\n",
        "\n",
        "# Tipo str, False para '', True dem√°s valores\n",
        "valor = ''\n",
        "resultado = bool(valor)\n",
        "# print(f'Valor {valor}, resultado: {resultado}')\n",
        "valor = 'Hola'\n",
        "resultado = bool(valor)\n",
        "# print(f'Valor {valor}, resultado: {resultado}')\n",
        "\n",
        "# Tipo colecciones, False para colecciones vacias, True para todas las dem√°s colecciones\n",
        "# Lista\n",
        "valor = []\n",
        "resultado = bool(valor)\n",
        "# print(f'Valor {valor}, resultado: {resultado}')\n",
        "valor = [2,3,4]\n",
        "resultado = bool(valor)\n",
        "# print(f'Valor {valor}, resultado: {resultado}')\n",
        "\n",
        "# Tupla\n",
        "valor = ()\n",
        "resultado = bool(valor)\n",
        "# print(f'Valor {valor}, resultado: {resultado}')\n",
        "valor = (2,3,4)\n",
        "resultado = bool(valor)\n",
        "# print(f'Valor {valor}, resultado: {resultado}')\n",
        "\n",
        "# Diccionario\n",
        "valor = {}\n",
        "resultado = bool(valor)\n",
        "print(f'Valor {valor}, resultado: {resultado}')\n",
        "valor = {'nombre':'Juan', 'apellido':'Perez'}\n",
        "resultado = bool(valor)\n",
        "print(f'Valor {valor}, resultado: {resultado}')\n"
      ],
      "metadata": {
        "id": "BspQ3XgWj4lh"
      },
      "execution_count": null,
      "outputs": []
    },
    {
      "cell_type": "markdown",
      "source": [
        "**Profundizando en el tipo str**"
      ],
      "metadata": {
        "id": "kxngCYUzTNZp"
      }
    },
    {
      "cell_type": "code",
      "source": [
        "# Concatenación automática en python\n",
        "variable = 'Adios'\n",
        "mensaje = 'Hola' 'Mundo' + variable\n",
        "mensaje += 'Universidad' 'Python'\n",
        "print(mensaje)"
      ],
      "metadata": {
        "id": "b9wB5WvQTKlU"
      },
      "execution_count": null,
      "outputs": []
    },
    {
      "cell_type": "markdown",
      "source": [
        "A las clases ya incluidas en python se les conoce como Bult-in\n",
        "\n",
        "Para solicitar descripcion de las funciones y clases usamos help()\n"
      ],
      "metadata": {
        "id": "Qz2p7BbSTbKv"
      }
    },
    {
      "cell_type": "code",
      "source": [
        "# Profundizando en el tipo str\n",
        "import math\n",
        "\n",
        "help(math.isnan)\n",
        "help(str.capitalize)\n",
        "help(math)\n",
        "help(str)"
      ],
      "metadata": {
        "id": "A-ACj6emTkNf"
      },
      "execution_count": null,
      "outputs": []
    },
    {
      "cell_type": "markdown",
      "source": [
        "Uso de docstring en Python:\n",
        "\n",
        "Algunas pautas para escribir buenos docstrings incluyen:\n",
        "\n",
        "Comenzar con una breve descripción del objeto.\n",
        "Especificar los parámetros (en el caso de funciones o métodos).\n",
        "Describir lo que devuelve la función o método.\n",
        "Proporcionar ejemplos de uso cuando sea apropiado.\n",
        "El uso de docstrings en Python es una práctica recomendada porque facilita la comprensión y el mantenimiento del código, así como la generación automática de documentación utilizando herramientas como Sphinx o herramientas integradas en entornos de desarrollo."
      ],
      "metadata": {
        "id": "ZW6G1Vol6XQT"
      }
    },
    {
      "cell_type": "code",
      "source": [
        "#Funciones y métodos:\n",
        "\n",
        "def saludar(nombre):\n",
        "    \"\"\"\n",
        "    Esta función recibe un nombre como argumento\n",
        "    y devuelve un saludo personalizado.\n",
        "    \"\"\"\n",
        "    return f\"Hola, {nombre}!\"\n",
        "\n",
        "# Para acceder al docstring de la función:\n",
        "print(saludar.__doc__)\n"
      ],
      "metadata": {
        "id": "-e_HbPNS-MBy"
      },
      "execution_count": null,
      "outputs": []
    },
    {
      "cell_type": "code",
      "source": [
        "#Clases\n",
        "\n",
        "class Persona:\n",
        "    \"\"\"\n",
        "    Esta clase representa a una persona\n",
        "    con un nombre y una edad.\n",
        "    \"\"\"\n",
        "\n",
        "    def __init__(self, nombre, edad):\n",
        "        self.nombre = nombre\n",
        "        self.edad = edad\n",
        "\n",
        "# Para acceder al docstring de la clase:\n",
        "print(Persona.__doc__)\n"
      ],
      "metadata": {
        "id": "seVNscV3-PVK"
      },
      "execution_count": null,
      "outputs": []
    },
    {
      "cell_type": "code",
      "source": [
        "#Módulos:\n",
        "\n",
        "\n",
        "\"\"\"\n",
        "Este es un módulo de ejemplo que contiene\n",
        "una función y una clase.\n",
        "\"\"\"\n",
        "\n",
        "def funcion_ejemplo():\n",
        "    \"\"\"\n",
        "    Esta función es un ejemplo.\n",
        "    \"\"\"\n",
        "    pass\n",
        "\n",
        "class ClaseEjemplo:\n",
        "    \"\"\"\n",
        "    Esta clase es un ejemplo.\n",
        "    \"\"\"\n",
        "    pass\n",
        "\n",
        "# Para acceder al docstring del módulo:\n",
        "import nombre_del_modulo\n",
        "print(nombre_del_modulo.__doc__)\n"
      ],
      "metadata": {
        "id": "cwp2-XZ2-W28"
      },
      "execution_count": null,
      "outputs": []
    },
    {
      "cell_type": "code",
      "source": [
        "#ejemplo del curso\n",
        "\n",
        "class MiClase:\n",
        "    '''\n",
        "    Este es un ejemplo de la documentación\n",
        "    de nuestra clase\n",
        "    '''\n",
        "\n",
        "    def __init__(self):\n",
        "        '''\n",
        "        Método de inicio\n",
        "        de nuestra clase\n",
        "        '''\n",
        "\n",
        "    def mi_metodo(self, param1, param2):\n",
        "        '''\n",
        "        Esta es la documentación de nuestro método\n",
        "        :param param1 Este es parámetro1:\n",
        "        :param param2 Este es parámetro2:\n",
        "        :return Este es el valor de retorno:\n",
        "        '''\n",
        "\n",
        "# Profundizando en el tipo str\n",
        "from mi_clase import MiClase\n",
        "\n",
        "# help(MiClase)\n",
        "print(MiClase.__doc__)\n",
        "print(MiClase.__init__.__doc__)\n",
        "print(MiClase.mi_metodo.__doc__)\n",
        "print(MiClase.mi_metodo)\n",
        "print(type(MiClase.mi_metodo))"
      ],
      "metadata": {
        "id": "zzq8Il2Q6ZV3"
      },
      "execution_count": null,
      "outputs": []
    },
    {
      "cell_type": "markdown",
      "source": [
        "**str son inmutables en Python**"
      ],
      "metadata": {
        "id": "5duQD_I_KjU1"
      }
    },
    {
      "cell_type": "code",
      "source": [
        "# Profundizando en el tipo str\n",
        "\n",
        "# help(str.capitalize)\n",
        "\n",
        "mensaje1 = 'hola mundo'\n",
        "mensaje2 = mensaje1.capitalize()\n",
        "print(f'mensaje1: {mensaje1}, id: {hex(id(mensaje1))}')\n",
        "print(f'mensaje2: {mensaje2}, id: {hex(id(mensaje2))}')\n",
        "mensaje1 += 'adios'\n",
        "print(f'mensaje1: {mensaje1}, id: {hex(id(mensaje1))}')\n"
      ],
      "metadata": {
        "id": "IynTLmuXKjp4"
      },
      "execution_count": null,
      "outputs": []
    },
    {
      "cell_type": "markdown",
      "source": [
        "**Método join para cadenas en Python**"
      ],
      "metadata": {
        "id": "0T6cRb-1OKXJ"
      }
    },
    {
      "cell_type": "code",
      "source": [
        "# Profundizando en el tipo str\n",
        "\n",
        "# help(str.join)\n",
        "\n",
        "tupla_str = ('Hola','Mundo','Universidad','Python')\n",
        "mensaje = ' '.join(tupla_str)\n",
        "print(f'mensaje: {mensaje}')\n",
        "\n",
        "lista_cursos = ['Java', 'Python', 'Angular', 'Spring']\n",
        "mensaje = ', '.join(lista_cursos)\n",
        "print(f'mensaje: {mensaje}')\n",
        "\n",
        "cadena = 'HolaMundo'\n",
        "mensaje = '.'.join(cadena)\n",
        "print(f'mensaje: {mensaje}')\n",
        "\n",
        "diccionario = {'nombre':'Juan', 'apellido': 'Perez', 'edad':'18'}\n",
        "llaves = ' '.join(diccionario.keys())\n",
        "valores = ' '.join(diccionario.values())\n",
        "print(f'llaves: {llaves}, type: {type(llaves)}')\n",
        "print(f'valores: {valores}, type: {type(valores)}')"
      ],
      "metadata": {
        "colab": {
          "base_uri": "https://localhost:8080/"
        },
        "id": "00Nr8v3KOKwC",
        "outputId": "d838df4b-17da-4de9-e5d2-9014d551cfa7"
      },
      "execution_count": null,
      "outputs": [
        {
          "output_type": "stream",
          "name": "stdout",
          "text": [
            "mensaje: Hola Mundo Universidad Python\n",
            "mensaje: Java, Python, Angular, Spring\n",
            "mensaje: H.o.l.a.M.u.n.d.o\n",
            "llaves: nombre apellido edad, type: <class 'str'>\n",
            "valores: Juan Perez 18, type: <class 'str'>\n"
          ]
        }
      ]
    },
    {
      "cell_type": "markdown",
      "source": [
        "**Método split para cadenas en Python**"
      ],
      "metadata": {
        "id": "j8EsRbECRcjC"
      }
    },
    {
      "cell_type": "code",
      "source": [
        "# Profundizando en el tipo str\n",
        "\n",
        "# help(str.split)\n",
        "\n",
        "cursos = 'Java Python JavaScript Angular Spring Excel'\n",
        "lista_cursos = cursos.split()\n",
        "# print(f'lista cursos: {lista_cursos}')\n",
        "# print(type(lista_cursos))\n",
        "\n",
        "cursos_separados_coma = 'Java, Python, JavaScript, Angular, Spring, Excel'\n",
        "lista_cursos = cursos_separados_coma.split(', ')\n",
        "# print(f'lista cursos: {lista_cursos}')\n",
        "# print(len(lista_cursos))\n",
        "\n",
        "lista_cursos = cursos_separados_coma.split(', ', 3)\n",
        "print(f'lista cursos: {lista_cursos}')\n",
        "print(len(lista_cursos))\n",
        "\n"
      ],
      "metadata": {
        "id": "b0qp1bVfOQsp"
      },
      "execution_count": null,
      "outputs": []
    },
    {
      "cell_type": "markdown",
      "source": [
        "Para string utilizamos %s   Para numeriocos %d y para sustituir puntos flotantes usamos %.2f"
      ],
      "metadata": {
        "id": "GkWhAzreCSyN"
      }
    },
    {
      "cell_type": "code",
      "source": [
        "# Dar formato a un str\n",
        "nombre = 'Juan'\n",
        "edad = 28\n",
        "mensaje_con_formato = 'Mi nombre es %s y tengo %d años'%(nombre,edad)\n",
        "# print(mensaje_con_formato)\n",
        "\n",
        "persona = ('Karla','Gomez', 5000.00)\n",
        "# mensaje_con_formato = 'Hola %s %s. Tu sueldo es %.2f'%persona\n",
        "# print(mensaje_con_formato)\n",
        "mensaje_con_formato = 'Hola %s %s. Tu sueldo es %.2f'\n",
        "print(mensaje_con_formato%persona)"
      ],
      "metadata": {
        "colab": {
          "base_uri": "https://localhost:8080/"
        },
        "id": "1yVDJWvfCUnP",
        "outputId": "5a6914da-41df-4cd7-8039-9396cd313f59"
      },
      "execution_count": null,
      "outputs": [
        {
          "output_type": "stream",
          "name": "stdout",
          "text": [
            "Hola Karla Gomez. Tu sueldo es 5000.00\n"
          ]
        }
      ]
    },
    {
      "cell_type": "markdown",
      "source": [
        "Placeholder = marcador de posicion {}"
      ],
      "metadata": {
        "id": "taC4kEJKDHv2"
      }
    },
    {
      "cell_type": "code",
      "source": [
        "# Dar formato a un str\n",
        "nombre = 'Juan'\n",
        "edad = 28\n",
        "sueldo = 3000\n",
        "mensaje = 'Nombre {} Edad {} Sueldo {:.2f}'.format(nombre, edad, sueldo)\n",
        "# print(mensaje)\n",
        "\n",
        "mensaje = 'Nombre {0} Edad {1} Sueldo {2:.2f}'.format(nombre, edad, sueldo)\n",
        "# print(mensaje)\n",
        "\n",
        "mensaje = 'Sueldo {2:.2f} Edad {1} Nombre {0}'.format(nombre, edad, sueldo)\n",
        "print(mensaje)"
      ],
      "metadata": {
        "colab": {
          "base_uri": "https://localhost:8080/"
        },
        "id": "I_ZnvrDIDLai",
        "outputId": "ebeac70a-79fc-48e6-dd73-ac1e5c26a0a4"
      },
      "execution_count": null,
      "outputs": [
        {
          "output_type": "stream",
          "name": "stdout",
          "text": [
            "Sueldo 3000.00 Edad 28 Nombre Juan\n"
          ]
        }
      ]
    },
    {
      "cell_type": "markdown",
      "source": [
        "Parte 2"
      ],
      "metadata": {
        "id": "9lSG_Df7JO3Q"
      }
    },
    {
      "cell_type": "code",
      "source": [
        "# Dar formato a un str\n",
        "nombre = 'Juan'\n",
        "edad = 28\n",
        "sueldo = 3000\n",
        "mensaje = 'Nombre {} Edad {} Sueldo {:.2f}'.format(nombre, edad, sueldo)\n",
        "# print(mensaje)\n",
        "\n",
        "mensaje = 'Nombre {0} Edad {1} Sueldo {2:.2f}'.format(nombre, edad, sueldo)\n",
        "# print(mensaje)\n",
        "\n",
        "mensaje = 'Sueldo {2:.2f} Edad {1} Nombre {0}'.format(nombre, edad, sueldo)\n",
        "# print(mensaje)\n",
        "\n",
        "mensaje = 'Nombre {n} Edad {e} Sueldo {s:.2f}'.format(n=nombre,e=edad,s=sueldo)\n",
        "# print(mensaje)\n",
        "\n",
        "diccionario = {'nombre':'Ivan', 'edad':35, 'sueldo':8000.00}\n",
        "mensaje = 'Nombre {dic[nombre]} Edad {dic[edad]} Sueldo {dic[sueldo]:.2f}'.format(dic=diccionario)\n",
        "print(mensaje)"
      ],
      "metadata": {
        "id": "HjVi16szH3nO"
      },
      "execution_count": null,
      "outputs": []
    },
    {
      "cell_type": "markdown",
      "source": [
        "A esto se le conoce como interpolacion(agrear una variable o una funcion a un placeholder{})"
      ],
      "metadata": {
        "id": "7q15OXudKTBX"
      }
    },
    {
      "cell_type": "code",
      "source": [
        "# Dar formato a un str\n",
        "nombre = 'Juan'\n",
        "edad = 28\n",
        "sueldo = 3000\n",
        "mensaje = f'Nombre {nombre} Edad {edad} Sueldo {sueldo:.2f}'\n",
        "# print(mensaje)\n",
        "\n",
        "# Método print\n",
        "print(nombre, edad, sueldo, sep=', ')"
      ],
      "metadata": {
        "id": "uwhLWwLaKb0Y"
      },
      "execution_count": null,
      "outputs": []
    },
    {
      "cell_type": "code",
      "source": [
        "# multiplicación str\n",
        "resultado = 3*'Hola'\n",
        "print(f'Resultado: {resultado}')\n",
        "\n",
        "# multiplicación tuplas\n",
        "resultado = 5*('Hola',10)\n",
        "print(f'Resultado: {resultado}')\n",
        "\n",
        "# multiplicación listas\n",
        "resultado = 10*[0]\n",
        "print(f'Resultado: {resultado}, largo: {len(resultado)}')\n"
      ],
      "metadata": {
        "id": "FU0XabS4QLHE"
      },
      "execution_count": null,
      "outputs": []
    },
    {
      "cell_type": "code",
      "source": [
        "\n",
        "# caracteres de escape\n",
        "resultado = 'Hola \\' Mundo'\n",
        "print(f'Resultado: {resultado}')\n",
        "\n",
        "resultado = 'Se va a eliminar el punto.\\b\\b\\b'\n",
        "print(f'Resultado: {resultado}')\n",
        "\n",
        "# Caracter \\\n",
        "resultado = 'c:\\\\nuevo\\\\juan' #para que no haga el salto de linea (estamos cancelando \\n)\n",
        "print(f'Resultado: {resultado}')\n",
        "\n",
        "# raw string  La r es de R o r es raw y todo lo que siga ya no sera caracter especial\n",
        "resultado = r'Cadena con \\n salto de línea'\n",
        "print(f'Resultado: {resultado}')\n",
        "\n",
        "resultado = R'c:\\nuevo\\juan'\n",
        "print(f'Resultado: {resultado}')\n"
      ],
      "metadata": {
        "id": "UJrYw5lxb-2i"
      },
      "execution_count": null,
      "outputs": []
    },
    {
      "cell_type": "markdown",
      "source": [
        "Unicode es un set de caracteres universal.\n",
        "\n",
        "ASCII (American Standard Code for Information Interchange) is the most common character encoding format for text data in computers and on the internet. In standard ASCII-encoded data, there are unique values for 128 alphabetic, numeric or special additional characters and control codes.\n",
        "\n"
      ],
      "metadata": {
        "id": "Qhh4QWagcVuF"
      }
    },
    {
      "cell_type": "code",
      "source": [
        "print('Hola\\u0020Mundo')\n",
        "print('Notación simple:', '\\u0041')\n",
        "print('Notación extendida:','\\U00000041')\n",
        "print('Notación hexadecimal','\\x41')   #Todas imprimen A pero en diferentes bases hexadecimal, octadecimal etc\n",
        "print('Corazón:','\\u2665')\n",
        "print('Cara sonriendo:','\\U0001f600')\n",
        "print('Serpiente:','\\U0001F40D')\n",
        "\n",
        "# Caracteres ascii\n",
        "caracter = chr(65)\n",
        "print('A mayúscula:', caracter)\n",
        "caracter = chr(64)\n",
        "print('Símbolo @:', caracter)\n",
        "caracter = chr(97)\n",
        "print('a minúscula:', caracter)"
      ],
      "metadata": {
        "colab": {
          "base_uri": "https://localhost:8080/"
        },
        "id": "MmBiJenJeGI9",
        "outputId": "b969a025-9657-4ed3-fd54-d76f0e71f9ae"
      },
      "execution_count": null,
      "outputs": [
        {
          "output_type": "stream",
          "name": "stdout",
          "text": [
            "Hola Mundo\n",
            "Notación simple: A\n",
            "Notación extendida: A\n",
            "Notación hexadecimal A\n",
            "Corazón: ♥\n",
            "Cara sonriendo: 😀\n",
            "Serpiente: 🐍\n",
            "A mayúscula: A\n",
            "Símbolo @: @\n",
            "a minúscula: a\n"
          ]
        }
      ]
    },
    {
      "cell_type": "markdown",
      "source": [
        "Un bite es un conjunto de 8 bits y constituye el minimo elemento de memoria direccionable en una computadora."
      ],
      "metadata": {
        "id": "UF_2SKxp6q-o"
      }
    },
    {
      "cell_type": "code",
      "source": [
        "# caracteres bytes\n",
        "caracteres_en_bytes = b'Hola Mundo'\n",
        "print(caracteres_en_bytes)\n",
        "\n",
        "mensaje = b'Universidad Python' #la b antes indica que es un bite\n",
        "print(mensaje[1])  #la posicion 1 seria la letra U pero saldra en bites\n",
        "print(chr(mensaje[1]))\n",
        "\n",
        "lista_caracteres = mensaje.split()  #se puede aplicar split a un asi a los bites\n",
        "print(lista_caracteres)\n"
      ],
      "metadata": {
        "id": "rLJYN-GNeN-J"
      },
      "execution_count": null,
      "outputs": []
    },
    {
      "cell_type": "markdown",
      "source": [
        "En Python, el término \"encode\" se refiere al proceso de convertir una cadena de caracteres (texto) en una secuencia de bytes, generalmente utilizando una codificación específica, como UTF-8, UTF-16, ISO-8859-1, etc. Este proceso se utiliza para representar caracteres legibles por humanos en una forma que sea adecuada para su almacenamiento en disco, transmisión a través de una red o manipulación en un programa.\n",
        "\n",
        "La codificación es esencial cuando se trabaja con texto en Python y otros lenguajes de programación porque las computadoras almacenan y manipulan datos en forma de bytes, no en forma de caracteres legibles por humanos. Por lo tanto, cuando desea guardar un archivo de texto en disco, enviar texto a través de una red o realizar cualquier operación que involucre texto, es necesario codificarlo en una secuencia de bytes antes de llevar a cabo la acción correspondiente.\n",
        "\n",
        "Por ejemplo, en Python, puedes utilizar el método encode() en una cadena de caracteres para convertirla en una secuencia de bytes utilizando una codificación específica"
      ],
      "metadata": {
        "id": "iaW6X4-O_Bu5"
      }
    },
    {
      "cell_type": "code",
      "source": [
        "# caracteres bytes\n",
        "caracteres_en_bytes = b'Hola Mundo'\n",
        "print(caracteres_en_bytes)\n",
        "\n",
        "mensaje = b'Universidad Python'\n",
        "print(mensaje[1])\n",
        "print(chr(mensaje[1]))\n",
        "\n",
        "lista_caracteres = mensaje.split()\n",
        "print(lista_caracteres)\n",
        "\n",
        "# Convertir str a bytes\n",
        "string = 'Programación con Python'\n",
        "print('string original:', string)\n",
        "bytes = string.encode('UTF-8')    #encode codifica a\n",
        "print('bytes codificado:', bytes)\n",
        "# Convertir bytes a str\n",
        "string2 = bytes.decode('UTF-8')\n",
        "print('string decodificado:', string2)\n",
        "print(string == string2)"
      ],
      "metadata": {
        "id": "XvfbMIBi-nvw"
      },
      "execution_count": null,
      "outputs": []
    },
    {
      "cell_type": "markdown",
      "source": [
        "URL : Uniform Resource Locator\n",
        "\n",
        "La url es la direccion especifica que se asigana a cada uno de los recursos disponibles en internet"
      ],
      "metadata": {
        "id": "E269KOnV_1hZ"
      }
    },
    {
      "cell_type": "code",
      "source": [
        "# Leer contenido online\n",
        "import urllib\n",
        "from urllib.request import urlopen\n",
        "\n",
        "# Debido a cambios en la libreria se deben hacer los siguientes cambios:\n",
        "peticion = urllib.request.Request(\n",
        "    'http://globalmentoring.com.mx/recursos/GlobalMentoring.txt',\n",
        "    data=None,\n",
        "    headers={\n",
        "        'User-Agent': 'Mozilla/5.0 (Macintosh; Intel Mac OS X 10_9_3) AppleWebKit/537.36 (KHTML, like Gecko) Chrome/35.0.1916.47 Safari/537.36'\n",
        "    }\n",
        ")\n",
        "with urlopen(peticion) as mensaje:     #utilizamos with para que abre y cierra en automatico\n",
        "    # contenido = mensaje.read()\n",
        "    contenido = mensaje.read().decode('utf-8')  # decoficamos cos si nos saldria en bites y pues o queremos leegible\n",
        "    print(contenido)\n",
        "\n",
        "with open('nuevo_archivo.txt','w', encoding='utf-8') as archivo:\n",
        "    archivo.write(contenido)"
      ],
      "metadata": {
        "colab": {
          "base_uri": "https://localhost:8080/"
        },
        "id": "8pMU6Nrc_DcH",
        "outputId": "97810dcc-def3-4b6d-f94d-1c6b8e0a3e2e"
      },
      "execution_count": null,
      "outputs": [
        {
          "output_type": "stream",
          "name": "stdout",
          "text": [
            "En GlobalMentoring.com.mx ofrecemos cursos online para que te conviertas en el profesional que siempre has deseado.\n",
            "\n",
            "Nuestro listado de cursos incluyen:\n",
            "1. Universidad Python\n",
            "2. Universidad Java\n",
            "3. Universidad Excel\n",
            "4. Universidad Desarrollo Web - Front End Developer\n",
            "5. Universidad JavaScript\n",
            "6. Universidad Angular\n",
            "7. Universidad Spring\n",
            "\n",
            "Entre muchos temas más.\n",
            "\n",
            "Te invitamos a inscribirte ya mismo.\n",
            "\n",
            "Tu amigo e instructor\n",
            "\n",
            "Ing. Ubaldo Acosta\n",
            "Fundador de GlobalMentoring.com.mx\n"
          ]
        }
      ]
    },
    {
      "cell_type": "markdown",
      "source": [
        "Toda la informacion que leemos desde internet nos va a regresar bite"
      ],
      "metadata": {
        "id": "Yl2cVGZpI7ko"
      }
    },
    {
      "cell_type": "code",
      "source": [
        "# Leer contenido online\n",
        "import urllib\n",
        "from urllib.request import urlopen\n",
        "\n",
        "palabras = []\n",
        "# Debido a cambios en la libreria se deben hacer los siguientes cambios:\n",
        "peticion = urllib.request.Request(\n",
        "    'http://globalmentoring.com.mx/recursos/GlobalMentoring.txt',\n",
        "    data=None,\n",
        "    headers={\n",
        "        'User-Agent': 'Mozilla/5.0 (Macintosh; Intel Mac OS X 10_9_3) AppleWebKit/537.36 (KHTML, like Gecko) Chrome/35.0.1916.47 Safari/537.36'\n",
        "    }\n",
        ")\n",
        "with urlopen(peticion) as mensaje:\n",
        "    for linea in mensaje:\n",
        "        palabras_por_linea = linea.decode('utf-8').split()\n",
        "        for palabra in palabras_por_linea:\n",
        "            palabras.append(palabra)\n",
        "print(palabras)\n"
      ],
      "metadata": {
        "colab": {
          "base_uri": "https://localhost:8080/"
        },
        "id": "E569qcs0BcTg",
        "outputId": "433ddd1b-b124-4bee-e31a-cf8a417398ee"
      },
      "execution_count": null,
      "outputs": [
        {
          "output_type": "stream",
          "name": "stdout",
          "text": [
            "['En', 'GlobalMentoring.com.mx', 'ofrecemos', 'cursos', 'online', 'para', 'que', 'te', 'conviertas', 'en', 'el', 'profesional', 'que', 'siempre', 'has', 'deseado.', 'Nuestro', 'listado', 'de', 'cursos', 'incluyen:', '1.', 'Universidad', 'Python', '2.', 'Universidad', 'Java', '3.', 'Universidad', 'Excel', '4.', 'Universidad', 'Desarrollo', 'Web', '-', 'Front', 'End', 'Developer', '5.', 'Universidad', 'JavaScript', '6.', 'Universidad', 'Angular', '7.', 'Universidad', 'Spring', 'Entre', 'muchos', 'temas', 'más.', 'Te', 'invitamos', 'a', 'inscribirte', 'ya', 'mismo.', 'Tu', 'amigo', 'e', 'instructor', 'Ing.', 'Ubaldo', 'Acosta', 'Fundador', 'de', 'GlobalMentoring.com.mx']\n"
          ]
        }
      ]
    },
    {
      "cell_type": "code",
      "source": [
        "# Leer contenido online\n",
        "import urllib\n",
        "from urllib.request import urlopen\n",
        "\n",
        "# Debido a cambios en la libreria se deben hacer los siguientes cambios:\n",
        "peticion = urllib.request.Request(\n",
        "    'http://globalmentoring.com.mx/recursos/GlobalMentoring.txt',\n",
        "    data=None,\n",
        "    headers={\n",
        "        'User-Agent': 'Mozilla/5.0 (Macintosh; Intel Mac OS X 10_9_3) AppleWebKit/537.36 (KHTML, like Gecko) Chrome/35.0.1916.47 Safari/537.36'\n",
        "    }\n",
        ")\n",
        "with urlopen(peticion) as mensaje:\n",
        "    contenido = mensaje.read().decode('utf-8')\n",
        "\n",
        "# Contar ocurrencias de una cadena\n",
        "print('No. veces Universidad: ', contenido.count('Universidad'))\n",
        "\n",
        "# upper convierte a mayúsculas un str\n",
        "print(contenido.upper())\n",
        "print(contenido)\n",
        "\n",
        "# lower convierte a minúsculas un str\n",
        "print(contenido.lower())\n",
        "\n",
        "# buscamos la cadena python en el contenido\n",
        "print('Existe python?: ','python'.lower() in contenido.lower())\n",
        "print('Existe Python?: ','Python'.upper() in contenido.upper())\n",
        "\n",
        "# startswith - inicia con\n",
        "print('Inicia con: ',contenido.startswith('En GlobalMentoring.com.mx'))\n",
        "\n",
        "# endswith - termina con\n",
        "print('Termina con:', contenido.lower().endswith('globalmentoring.com.mx'.lower()))"
      ],
      "metadata": {
        "colab": {
          "base_uri": "https://localhost:8080/"
        },
        "id": "RGz7bMFSJIAN",
        "outputId": "699ac66a-0fa7-474b-9f1d-93a63eb10c87"
      },
      "execution_count": null,
      "outputs": [
        {
          "output_type": "stream",
          "name": "stdout",
          "text": [
            "No. veces Universidad:  7\n",
            "EN GLOBALMENTORING.COM.MX OFRECEMOS CURSOS ONLINE PARA QUE TE CONVIERTAS EN EL PROFESIONAL QUE SIEMPRE HAS DESEADO.\n",
            "\n",
            "NUESTRO LISTADO DE CURSOS INCLUYEN:\n",
            "1. UNIVERSIDAD PYTHON\n",
            "2. UNIVERSIDAD JAVA\n",
            "3. UNIVERSIDAD EXCEL\n",
            "4. UNIVERSIDAD DESARROLLO WEB - FRONT END DEVELOPER\n",
            "5. UNIVERSIDAD JAVASCRIPT\n",
            "6. UNIVERSIDAD ANGULAR\n",
            "7. UNIVERSIDAD SPRING\n",
            "\n",
            "ENTRE MUCHOS TEMAS MÁS.\n",
            "\n",
            "TE INVITAMOS A INSCRIBIRTE YA MISMO.\n",
            "\n",
            "TU AMIGO E INSTRUCTOR\n",
            "\n",
            "ING. UBALDO ACOSTA\n",
            "FUNDADOR DE GLOBALMENTORING.COM.MX\n",
            "En GlobalMentoring.com.mx ofrecemos cursos online para que te conviertas en el profesional que siempre has deseado.\n",
            "\n",
            "Nuestro listado de cursos incluyen:\n",
            "1. Universidad Python\n",
            "2. Universidad Java\n",
            "3. Universidad Excel\n",
            "4. Universidad Desarrollo Web - Front End Developer\n",
            "5. Universidad JavaScript\n",
            "6. Universidad Angular\n",
            "7. Universidad Spring\n",
            "\n",
            "Entre muchos temas más.\n",
            "\n",
            "Te invitamos a inscribirte ya mismo.\n",
            "\n",
            "Tu amigo e instructor\n",
            "\n",
            "Ing. Ubaldo Acosta\n",
            "Fundador de GlobalMentoring.com.mx\n",
            "en globalmentoring.com.mx ofrecemos cursos online para que te conviertas en el profesional que siempre has deseado.\n",
            "\n",
            "nuestro listado de cursos incluyen:\n",
            "1. universidad python\n",
            "2. universidad java\n",
            "3. universidad excel\n",
            "4. universidad desarrollo web - front end developer\n",
            "5. universidad javascript\n",
            "6. universidad angular\n",
            "7. universidad spring\n",
            "\n",
            "entre muchos temas más.\n",
            "\n",
            "te invitamos a inscribirte ya mismo.\n",
            "\n",
            "tu amigo e instructor\n",
            "\n",
            "ing. ubaldo acosta\n",
            "fundador de globalmentoring.com.mx\n",
            "Existe python?:  True\n",
            "Existe Python?:  True\n",
            "Inicia con:  True\n",
            "Termina con: True\n"
          ]
        }
      ]
    },
    {
      "cell_type": "code",
      "source": [
        "# Leer contenido online\n",
        "import urllib\n",
        "from urllib.request import urlopen\n",
        "\n",
        "# Debido a cambios en la libreria se deben hacer los siguientes cambios:\n",
        "peticion = urllib.request.Request(\n",
        "    'http://globalmentoring.com.mx/recursos/GlobalMentoring.txt',\n",
        "    data=None,\n",
        "    headers={\n",
        "        'User-Agent': 'Mozilla/5.0 (Macintosh; Intel Mac OS X 10_9_3) AppleWebKit/537.36 (KHTML, like Gecko) Chrome/35.0.1916.47 Safari/537.36'\n",
        "    }\n",
        ")\n",
        "with urlopen(peticion) as mensaje:\n",
        "    contenido = mensaje.read().decode('utf-8')\n",
        "\n",
        "# Contar ocurrencias de una cadena\n",
        "print('No. veces Universidad: ', contenido.count('Universidad'))\n",
        "\n",
        "# upper convierte a mayúsculas un str\n",
        "print(contenido.upper())\n",
        "print(contenido)\n",
        "\n",
        "# lower convierte a minúsculas un str\n",
        "print(contenido.lower())\n",
        "\n",
        "# buscamos la cadena python en el contenido\n",
        "print('Existe python?: ','python'.lower() in contenido.lower())\n",
        "print('Existe Python?: ','Python'.upper() in contenido.upper())\n",
        "\n",
        "mensaje = 'Hola Mundo'\n",
        "print(mensaje.lower().islower())\n",
        "print(mensaje.upper().isupper())"
      ],
      "metadata": {
        "colab": {
          "base_uri": "https://localhost:8080/"
        },
        "id": "H-Ktv912JsKk",
        "outputId": "2c8de120-55e4-44ef-f4e8-55599eaf4b82"
      },
      "execution_count": null,
      "outputs": [
        {
          "output_type": "stream",
          "name": "stdout",
          "text": [
            "No. veces Universidad:  7\n",
            "EN GLOBALMENTORING.COM.MX OFRECEMOS CURSOS ONLINE PARA QUE TE CONVIERTAS EN EL PROFESIONAL QUE SIEMPRE HAS DESEADO.\n",
            "\n",
            "NUESTRO LISTADO DE CURSOS INCLUYEN:\n",
            "1. UNIVERSIDAD PYTHON\n",
            "2. UNIVERSIDAD JAVA\n",
            "3. UNIVERSIDAD EXCEL\n",
            "4. UNIVERSIDAD DESARROLLO WEB - FRONT END DEVELOPER\n",
            "5. UNIVERSIDAD JAVASCRIPT\n",
            "6. UNIVERSIDAD ANGULAR\n",
            "7. UNIVERSIDAD SPRING\n",
            "\n",
            "ENTRE MUCHOS TEMAS MÁS.\n",
            "\n",
            "TE INVITAMOS A INSCRIBIRTE YA MISMO.\n",
            "\n",
            "TU AMIGO E INSTRUCTOR\n",
            "\n",
            "ING. UBALDO ACOSTA\n",
            "FUNDADOR DE GLOBALMENTORING.COM.MX\n",
            "En GlobalMentoring.com.mx ofrecemos cursos online para que te conviertas en el profesional que siempre has deseado.\n",
            "\n",
            "Nuestro listado de cursos incluyen:\n",
            "1. Universidad Python\n",
            "2. Universidad Java\n",
            "3. Universidad Excel\n",
            "4. Universidad Desarrollo Web - Front End Developer\n",
            "5. Universidad JavaScript\n",
            "6. Universidad Angular\n",
            "7. Universidad Spring\n",
            "\n",
            "Entre muchos temas más.\n",
            "\n",
            "Te invitamos a inscribirte ya mismo.\n",
            "\n",
            "Tu amigo e instructor\n",
            "\n",
            "Ing. Ubaldo Acosta\n",
            "Fundador de GlobalMentoring.com.mx\n",
            "en globalmentoring.com.mx ofrecemos cursos online para que te conviertas en el profesional que siempre has deseado.\n",
            "\n",
            "nuestro listado de cursos incluyen:\n",
            "1. universidad python\n",
            "2. universidad java\n",
            "3. universidad excel\n",
            "4. universidad desarrollo web - front end developer\n",
            "5. universidad javascript\n",
            "6. universidad angular\n",
            "7. universidad spring\n",
            "\n",
            "entre muchos temas más.\n",
            "\n",
            "te invitamos a inscribirte ya mismo.\n",
            "\n",
            "tu amigo e instructor\n",
            "\n",
            "ing. ubaldo acosta\n",
            "fundador de globalmentoring.com.mx\n",
            "Existe python?:  True\n",
            "Existe Python?:  True\n",
            "True\n",
            "True\n"
          ]
        }
      ]
    },
    {
      "cell_type": "code",
      "source": [
        "\n",
        "# Alinear cadenas\n",
        "\n",
        "# center - Centrar un str\n",
        "titulo = 'Sitio Web de GlobalMentoring.com.mx'\n",
        "# print(len(titulo))\n",
        "# print(titulo.center(10,'*'))\n",
        "# print(len(titulo.center(50,'*')))\n",
        "print(titulo.center(len(titulo)+10,'-'))"
      ],
      "metadata": {
        "colab": {
          "base_uri": "https://localhost:8080/"
        },
        "id": "gBOiSCyWKBRX",
        "outputId": "073a159f-cddb-4904-818f-61b19da34240"
      },
      "execution_count": null,
      "outputs": [
        {
          "output_type": "stream",
          "name": "stdout",
          "text": [
            "-----Sitio Web de GlobalMentoring.com.mx-----\n"
          ]
        }
      ]
    },
    {
      "cell_type": "code",
      "source": [
        "# center - Centrar un str\n",
        "titulo = 'Sitio Web de GlobalMentoring.com.mx'\n",
        "# print(len(titulo))\n",
        "# print(titulo.center(10,'*'))\n",
        "# print(len(titulo.center(50,'*')))\n",
        "print(titulo.center(len(titulo)+10,'-'))\n",
        "\n",
        "# ljust - alinea a la izquierda\n",
        "# print(titulo.ljust(50,'*'))\n",
        "print(titulo.ljust(len(titulo)+10,'-'))"
      ],
      "metadata": {
        "colab": {
          "base_uri": "https://localhost:8080/"
        },
        "id": "swSw-hioMKKl",
        "outputId": "818a8ea7-98fc-4786-8dea-6542ffbe1aea"
      },
      "execution_count": null,
      "outputs": [
        {
          "output_type": "stream",
          "name": "stdout",
          "text": [
            "-----Sitio Web de GlobalMentoring.com.mx-----\n",
            "Sitio Web de GlobalMentoring.com.mx----------\n"
          ]
        }
      ]
    },
    {
      "cell_type": "code",
      "source": [
        "# Reemplazar contenido en un str\n",
        "print(contenido.replace(' ','-'))  #reemplzara los espacios en blanco con -\n",
        "print(contenido.replace(' ',','))  #reemplzara los espacios en blanco con ,\n",
        "\n",
        "# Eliminar caracteres al inicio y final de un str - strip\n",
        "titulo = ' *** GlobalMentoring.com.mx *** '\n",
        "print('Cadena original:',titulo, len(titulo))\n",
        "titulo = titulo.strip()\n",
        "print('Cadena modificada:',titulo, len(titulo))\n",
        "titulo = '***GlobalMentoring.com.mx***'.strip('*')\n",
        "print('Cadena modificada:',titulo)\n",
        "titulo = '***GlobalMentoring.com.mx***'.lstrip('*')\n",
        "print('Cadena modificada:',titulo)\n",
        "titulo = '***GlobalMentoring.com.mx***'.rstrip('*')\n",
        "print('Cadena modificada:',titulo)\n",
        "\n",
        "titulo = ' *** GlobalMentoring.com.mx *** '.strip().strip('*').strip()\n",
        "print('Cadena modificada:',titulo)\n"
      ],
      "metadata": {
        "colab": {
          "base_uri": "https://localhost:8080/"
        },
        "id": "Eu6sW1KFNF1n",
        "outputId": "6cc0798c-62db-4c81-8d39-e19a74465342"
      },
      "execution_count": null,
      "outputs": [
        {
          "output_type": "stream",
          "name": "stdout",
          "text": [
            "En-GlobalMentoring.com.mx-ofrecemos-cursos-online-para-que-te-conviertas-en-el-profesional-que-siempre-has-deseado.\n",
            "\n",
            "Nuestro-listado-de-cursos-incluyen:\n",
            "1.-Universidad-Python\n",
            "2.-Universidad-Java\n",
            "3.-Universidad-Excel\n",
            "4.-Universidad-Desarrollo-Web---Front-End-Developer\n",
            "5.-Universidad-JavaScript\n",
            "6.-Universidad-Angular\n",
            "7.-Universidad-Spring\n",
            "\n",
            "Entre-muchos-temas-más.\n",
            "\n",
            "Te-invitamos-a-inscribirte-ya-mismo.\n",
            "\n",
            "Tu-amigo-e-instructor\n",
            "\n",
            "Ing.-Ubaldo-Acosta\n",
            "Fundador-de-GlobalMentoring.com.mx\n",
            "En,GlobalMentoring.com.mx,ofrecemos,cursos,online,para,que,te,conviertas,en,el,profesional,que,siempre,has,deseado.\n",
            "\n",
            "Nuestro,listado,de,cursos,incluyen:\n",
            "1.,Universidad,Python\n",
            "2.,Universidad,Java\n",
            "3.,Universidad,Excel\n",
            "4.,Universidad,Desarrollo,Web,-,Front,End,Developer\n",
            "5.,Universidad,JavaScript\n",
            "6.,Universidad,Angular\n",
            "7.,Universidad,Spring\n",
            "\n",
            "Entre,muchos,temas,más.\n",
            "\n",
            "Te,invitamos,a,inscribirte,ya,mismo.\n",
            "\n",
            "Tu,amigo,e,instructor\n",
            "\n",
            "Ing.,Ubaldo,Acosta\n",
            "Fundador,de,GlobalMentoring.com.mx\n",
            "Cadena original:  *** GlobalMentoring.com.mx ***  32\n",
            "Cadena modificada: *** GlobalMentoring.com.mx *** 30\n",
            "Cadena modificada: GlobalMentoring.com.mx\n",
            "Cadena modificada: GlobalMentoring.com.mx***\n",
            "Cadena modificada: ***GlobalMentoring.com.mx\n",
            "Cadena modificada: GlobalMentoring.com.mx\n"
          ]
        }
      ]
    },
    {
      "cell_type": "code",
      "source": [
        "variable = None\n",
        "\n",
        "if bool(variable):\n",
        "    print('Se considera verdadera')\n",
        "else:\n",
        "    print('Se considera falsa')\n",
        "\n",
        "print(type(variable))\n",
        "'''\n",
        "Ocho formas de generar un bool False en Python\n",
        "1. Comilla simple o doble ''/\"\" (cadena vacía)\n",
        "2. Lista vacía []\n",
        "3. Tupla vacía ()\n",
        "4. Diccionario vacío {}\n",
        "5. Entero 0\n",
        "6. Flotante 0.0\n",
        "7. bool False\n",
        "8. None\n",
        "'''"
      ],
      "metadata": {
        "colab": {
          "base_uri": "https://localhost:8080/",
          "height": 89
        },
        "id": "An2UEszcOt0a",
        "outputId": "ec85ed69-dc0d-43ad-ba4c-9044a20b31b1"
      },
      "execution_count": null,
      "outputs": [
        {
          "output_type": "stream",
          "name": "stdout",
          "text": [
            "Se considera falsa\n",
            "<class 'NoneType'>\n"
          ]
        },
        {
          "output_type": "execute_result",
          "data": {
            "text/plain": [
              "'\\nOcho formas de generar un bool False en Python\\n1. Comilla simple o doble \\'\\'/\"\" (cadena vacía)\\n2. Lista vacía []\\n3. Tupla vacía ()\\n4. Diccionario vacío {}\\n5. Entero 0\\n6. Flotante 0.0 \\n7. bool False\\n8. None\\n'"
            ],
            "application/vnd.google.colaboratory.intrinsic+json": {
              "type": "string"
            }
          },
          "metadata": {},
          "execution_count": 1
        }
      ]
    },
    {
      "cell_type": "code",
      "source": [
        "# Unpacking - desempaquetado\n",
        "valores = 1,2,3\n",
        "print(valores)\n",
        "print(type(valores))\n",
        "\n",
        "valor1, valor2, valor3 = 1, 2, 3\n",
        "print(valor1, valor2, valor3)\n",
        "\n",
        "valor1, _, valor3 = 1, 2, 3  #al guion bajo si se le asiganan valores, pero covencionalmente significaria que no lo ocupemos\n",
        "print(valor1, valor3)\n",
        "\n",
        "valor1, valor2, *valor3 = 1, 2, 3, 4, 5, 6, 7, 8, 9\n",
        "print(valor1, valor2, valor3)\n",
        "\n",
        "valor1, valor2, *valor3, valor4, valor5 = 1, 2, 3, 4, 5, 6, 7, 8, 9\n",
        "print(valor1, valor2, valor3, valor4, valor5)\n",
        "\n",
        "#agregando el asterisco antes de una variable puede tomar multiples valores\n",
        "\n",
        "\n",
        "def regresa_varios_datos():\n",
        "    return (1, 2, 3)\n",
        "\n",
        "valor1, valor2, valor3 = regresa_varios_datos()\n",
        "print(valor1, valor2, valor3)\n",
        "\n",
        "valor1, *valores_restantes = regresa_varios_datos()\n",
        "print(valor1, valores_restantes)\n"
      ],
      "metadata": {
        "id": "-yGZFhLVNVHx",
        "colab": {
          "base_uri": "https://localhost:8080/"
        },
        "outputId": "c3d22949-067a-4549-f231-1d66ad11b94a"
      },
      "execution_count": null,
      "outputs": [
        {
          "output_type": "stream",
          "name": "stdout",
          "text": [
            "(1, 2, 3)\n",
            "<class 'tuple'>\n",
            "1 2 3\n",
            "1 3\n",
            "1 2 [3, 4, 5, 6, 7, 8, 9]\n",
            "1 2 [3, 4, 5, 6, 7] 8 9\n"
          ]
        }
      ]
    },
    {
      "cell_type": "code",
      "source": [
        "# help(str.partition)\n",
        "hora, _, minutos = '17:20'.partition(':')\n",
        "# print(type(variable))\n",
        "print(hora, minutos)\n",
        "\n",
        "# Esto no ayudo a particionar una lista para solo recolectar ciertos valores de esta cadena"
      ],
      "metadata": {
        "colab": {
          "base_uri": "https://localhost:8080/"
        },
        "id": "6q1ko567nVQH",
        "outputId": "e56b5b3a-86d4-4953-8e64-18aa4ea46430"
      },
      "execution_count": null,
      "outputs": [
        {
          "output_type": "stream",
          "name": "stdout",
          "text": [
            "17 20\n"
          ]
        }
      ]
    },
    {
      "cell_type": "code",
      "source": [
        "# Profundizando listas\n",
        "# Listas son mutables\n",
        "nombres1 = ['Juan', 'Karla', 'Pedro']\n",
        "nombres2 = 'Laura María Gonzalo Ernesto'.split()\n",
        "#split por default separa por espacios en blanco, pero puede ser lo que le pongas\n",
        "\n",
        "# Sumar listas\n",
        "print(f'Sumar listas {nombres1 + nombres2}')\n",
        "# Extender una lista con otra lista\n",
        "\n",
        "nombres1.extend(nombres2) #Extend altera nombres1, no solo los agrega, si no aque agrega y altera\n",
        "print(f'Extender la lista1: {nombres1}')"
      ],
      "metadata": {
        "id": "hNBn9nmjpTgh"
      },
      "execution_count": null,
      "outputs": []
    },
    {
      "cell_type": "code",
      "source": [
        "# Profundizando listas\n",
        "\n",
        "# Listas son mutables\n",
        "nombres1 = ['Juan', 'Karla', 'Pedro']\n",
        "nombres2 = 'Laura María Gonzalo Ernesto'.split()\n",
        "# Sumar listas\n",
        "print(f'Sumar listas {nombres1 + nombres2}')\n",
        "# Extender una lista con otra lista\n",
        "nombres1.extend(nombres2)\n",
        "print(f'Extender la lista1: {nombres1}')\n",
        "\n",
        "# Lista de números\n",
        "numeros1 = [10, 40, 15, 4, 20, 90, 4]\n",
        "print(f'Lista original: {numeros1}')\n",
        "# obtener el índice del primer elemento encontrado en una lista\n",
        "# help(list.index)\n",
        "print(f'Índice 4: {numeros1.index(4)}')\n",
        "\n",
        "# Invertir el orden de los elementos de una lista\n",
        "numeros1.reverse()\n",
        "print(f'Lista invertida: {numeros1}')\n",
        "\n",
        "# Ordenar los elementos de una lista\n",
        "numeros1.sort()\n",
        "print(f'Lista ordenada (ascendente): {numeros1}')\n",
        "# Ordenar de manera descendente una lista\n",
        "numeros1.sort(reverse=True)\n",
        "print(f'Lista ordenada (descendente): {numeros1}')\n",
        "\n",
        "# Obtener el valor min y max de una lista\n",
        "print(f'Valor mínimo: {min(numeros1)}')\n",
        "print(f'Valor máximo: {max(numeros1)}')\n",
        "\n",
        "# Copiar los elementos de una lista\n",
        "numeros2 = numeros1.copy()\n",
        "\n",
        "#copy es otra manera de crear una copia poco profunda(no es la misma direccion de memeoria pero si tiene los mismos\n",
        "#valores)\n",
        "\n",
        "# help(list.copy)\n",
        "print(f'Misma referencia? {numeros1 is numeros2}')\n",
        "print(f'Mismo contenido? {numeros1 == numeros2}')\n",
        "\n",
        "# Podemos usar el constructor de la lista\n",
        "numeros2 = list(numeros1) #otra forma de crear una shallow copy\n",
        "print(f'Misma referencia? {numeros1 is numeros2}')\n",
        "print(f'Mismo contenido? {numeros1 == numeros2}')\n",
        "\n",
        "# slicing\n",
        "numeros2 = numeros1[:]  # El [:] como no especifico de que indice empieza y en cual acaba, toamra de todo, de inicio al final\n",
        "print(f'Misma referencia? {numeros1 is numeros2}')\n",
        "print(f'Mismo contenido? {numeros1 == numeros2}')\n"
      ],
      "metadata": {
        "id": "aKa2Vpg0xq6e"
      },
      "execution_count": null,
      "outputs": []
    },
    {
      "cell_type": "code",
      "source": [
        "# Multiplicación listas\n",
        "lista_multiplicacion = 5*[[2, 5]]\n",
        "print(lista_multiplicacion)\n",
        "print(f'Misma referencia: {lista_multiplicacion[0] is lista_multiplicacion[1]}')\n",
        "print(f'Mismo contenido: {lista_multiplicacion[0] == lista_multiplicacion[1]}')\n",
        "lista_multiplicacion[2].append(10)\n",
        "print(lista_multiplicacion)\n",
        "\n",
        "# Matrices en Python\n",
        "matriz = [[10, 20], [30, 40, 50], [60, 70, 80, 90]]\n",
        "print(f'Matriz original: {matriz}')\n",
        "print(f'Renglón 0, Columna 0: {matriz[0][0]}')\n",
        "print(f'Renglón 2, Columna 3: {matriz[2][3]}')\n",
        "matriz[2][0] = 65"
      ],
      "metadata": {
        "colab": {
          "base_uri": "https://localhost:8080/"
        },
        "id": "ygduwc8q4tE6",
        "outputId": "287731e5-e8ad-4c66-f243-9b9e0b57439f"
      },
      "execution_count": null,
      "outputs": [
        {
          "output_type": "stream",
          "name": "stdout",
          "text": [
            "[[2, 5], [2, 5], [2, 5], [2, 5], [2, 5]]\n",
            "Misma referencia: True\n",
            "Mismo contenido: True\n",
            "[[2, 5, 10], [2, 5, 10], [2, 5, 10], [2, 5, 10], [2, 5, 10]]\n",
            "Matriz original: [[10, 20], [30, 40, 50], [60, 70, 80, 90]]\n",
            "Renglón 0, Columna 0: 10\n",
            "Renglón 2, Columna 3: 90\n"
          ]
        }
      ]
    },
    {
      "cell_type": "code",
      "source": [
        "\n",
        "lista_listas = [[10,14,87,90,71],[4,5,6,7],[9,0,11,15,45,61,70]]\n",
        "lista_listas.sort(key=len)\n",
        "print(f'Ordenar lista: {lista_listas}')\n",
        "\n",
        "# sorted built-in\n",
        "# help(sorted)\n",
        "nombres1 = ['Juan Carlos', 'Karla', 'Pedro', 'Esperanza']\n",
        "nombres1 = sorted(nombres1)\n",
        "print(nombres1)\n",
        "# ordenar de manera descendente\n",
        "nombres1 = sorted(nombres1, reverse=True)\n",
        "print(nombres1)\n",
        "# Ordenar por la cantidad de caracteres (largo)\n",
        "nombres1 = sorted(nombres1,key=len)\n",
        "print(nombres1)\n",
        "# built-in reversed\n",
        "nombres1 = reversed(nombres1)\n",
        "print(list(nombres1))"
      ],
      "metadata": {
        "colab": {
          "base_uri": "https://localhost:8080/"
        },
        "id": "9lVxN4JI40xa",
        "outputId": "cdd540f1-c742-4c02-c645-f3fc25170c42"
      },
      "execution_count": null,
      "outputs": [
        {
          "output_type": "stream",
          "name": "stdout",
          "text": [
            "Ordenar lista: [[4, 5, 6, 7], [10, 14, 87, 90, 71], [9, 0, 11, 15, 45, 61, 70]]\n",
            "['Esperanza', 'Juan Carlos', 'Karla', 'Pedro']\n",
            "['Pedro', 'Karla', 'Juan Carlos', 'Esperanza']\n",
            "['Pedro', 'Karla', 'Esperanza', 'Juan Carlos']\n",
            "['Juan Carlos', 'Esperanza', 'Karla', 'Pedro']\n"
          ]
        }
      ]
    },
    {
      "cell_type": "code",
      "source": [
        "# * desempaquetar\n",
        "numeros = [1,2,3]\n",
        "print(numeros)\n",
        "print(*numeros)\n",
        "print(*numeros, sep=' - ')\n",
        "\n",
        "# Desempaquetando al momento de pasar un parámetro a una función\n",
        "def sumar(a, b, c):\n",
        "    print(f'Resultado suma: {a + b + c}')\n",
        "\n",
        "sumar(*numeros) #con ayuda de #desempaqueta la lista [1,2,3] y asi se asigna un numero a cada variable a,b,c"
      ],
      "metadata": {
        "colab": {
          "base_uri": "https://localhost:8080/"
        },
        "id": "mn0qP3Jg8w-N",
        "outputId": "7b692a10-2b17-4c93-9fd8-0d6d2a6877d0"
      },
      "execution_count": null,
      "outputs": [
        {
          "output_type": "stream",
          "name": "stdout",
          "text": [
            "[1, 2, 3]\n",
            "1 2 3\n",
            "1 - 2 - 3\n",
            "Resultado suma: 6\n"
          ]
        }
      ]
    },
    {
      "cell_type": "code",
      "source": [
        "# Extraer algunas partes de una lista\n",
        "mi_lista = [1,2,3,4,5,6]\n",
        "a, *b, c, d = mi_lista\n",
        "print(a,b,c,d)\n",
        "\n",
        "# Unir lista\n",
        "lista1 = [1,2,3]\n",
        "lista2 = [4,5,6]\n",
        "lista3 = [lista1, lista2]\n",
        "print(f'Lista de listas: {lista3}')\n",
        "lista3 = [*lista1, *lista2]\n",
        "print(f'Unir listas: {lista3}')\n",
        "\n",
        "# Unir diccionarios\n",
        "#Para desempaquetar diccionarios se usa doble **\n",
        "dic1 = {'A':1, 'B':2, 'C':3}\n",
        "dic2 = {'D':4, 'E':5}\n",
        "dic3 = {**dic1, **dic2} #esto juntara todos los valores of both dictionaries in only one\n",
        "print(f'Unir diccionarios: {dic3}')\n",
        "\n",
        "# Construir una lista a partir de un str\n",
        "lista = [*'HolaMundo']  #desempaquetara todas las letras de este texto\n",
        "print(lista)\n",
        "print(*lista, sep='')"
      ],
      "metadata": {
        "colab": {
          "base_uri": "https://localhost:8080/"
        },
        "id": "UpJtbv54ccfX",
        "outputId": "4ae65a20-6f9d-47f0-b77c-a0c957eab359"
      },
      "execution_count": null,
      "outputs": [
        {
          "output_type": "stream",
          "name": "stdout",
          "text": [
            "1 [2, 3, 4] 5 6\n",
            "Lista de listas: [[1, 2, 3], [4, 5, 6]]\n",
            "Unir listas: [1, 2, 3, 4, 5, 6]\n",
            "Unir diccionarios: {'A': 1, 'B': 2, 'C': 3, 'D': 4, 'E': 5}\n",
            "['H', 'o', 'l', 'a', 'M', 'u', 'n', 'd', 'o']\n",
            "HolaMundo\n"
          ]
        }
      ]
    },
    {
      "cell_type": "code",
      "source": [
        "# print(dir(__builtins__))\n",
        "#con la funcion built in mezclas listas, tuplas etc\n",
        "# help(zip)\n",
        "numeros = (1,2,3)\n",
        "letras = ['a','b','c','d']\n",
        "indentificadores = 321, 322, 323, 324, 325\n",
        "conjunto = {6,4,0,9,8,15,10}\n",
        "mezcla = zip(numeros, letras, indentificadores, conjunto)\n",
        "# print(mezcla)\n",
        "print(list(mezcla))\n",
        "# print(tuple(zip(numeros, letras)))\n",
        "# print(type(mezcla))"
      ],
      "metadata": {
        "colab": {
          "base_uri": "https://localhost:8080/"
        },
        "id": "R8PvYGhojCf5",
        "outputId": "b332f984-f01d-491e-be61-5ba3029cd66d"
      },
      "execution_count": null,
      "outputs": [
        {
          "output_type": "stream",
          "name": "stdout",
          "text": [
            "[(1, 'a', 321, 0), (2, 'b', 322, 4), (3, 'c', 323, 6)]\n"
          ]
        }
      ]
    },
    {
      "cell_type": "code",
      "source": [
        "# iterar en paralelo\n",
        "for numero, letra, id, aleatorio in zip(numeros, letras, indentificadores, conjunto):\n",
        "    print(f'Número: {numero}, Letra: {letra}, Id: {id}, Aleatorio: {aleatorio}')\n",
        "\n",
        "    #para el bucle importa el orden de los contadores y el de la lista, etc que recorrera\n",
        "nueva_lista = []\n",
        "for numero, letra, id, aleatorio in zip(numeros, letras, indentificadores, conjunto):\n",
        "    nueva_lista.append(f'{id}-{numero}-{letra}-{aleatorio}')\n",
        "print(nueva_lista)\n",
        "\n",
        "# unzip\n",
        "mezcla = [(1,'a'),(2,'b'),(3,'c')]\n",
        "numeros, letras = zip(*mezcla)\n",
        "print(f'Números: {numeros}, Letras: {letras}')\n",
        "\n",
        "# ordenamiento usando zip\n",
        "letras = ['c', 'd', 'a', 'e', 'b']\n",
        "numeros = [3,2,4,1,0]\n",
        "mezcla = zip(letras, numeros)\n",
        "# Sin orden\n",
        "print(tuple(mezcla))\n",
        "# ordenar por letra (primer iterable)\n",
        "print(sorted(zip(letras, numeros)))\n",
        "\n",
        "# Crear un diccionario con zip y dos iterables\n",
        "llaves = ['Nombre', 'Apellido', 'Edad']\n",
        "valores = ['Juan', 'Perez', 18]\n",
        "diccionario = dict(zip(llaves, valores))\n",
        "print(diccionario)\n",
        "\n",
        "# Actualizar un elemento de un diccionario\n",
        "llave = ['Edad']\n",
        "nueva_edad = [28]\n",
        "diccionario.update(zip(llave, nueva_edad))\n",
        "print(diccionario)"
      ],
      "metadata": {
        "id": "BMl1Bv6_47DP"
      },
      "execution_count": null,
      "outputs": []
    },
    {
      "cell_type": "code",
      "source": [
        "# Produndizando en tuplas\n",
        "\n",
        "# Declarar variables\n",
        "a, b = 'Hola', 'Adios'\n",
        "print(a,b)\n",
        "# swap (intercambio)\n",
        "a, b = b, a\n",
        "print(a, b)\n",
        "#como vste se puede cambiar la asignacion de valores simplemente cambiando el orden de las variables\n",
        "\n",
        "\n",
        "# Regresar múltiples valores en una función\n",
        "def minmax(elementos):\n",
        "    return min(elementos), max(elementos)\n",
        "\n",
        "min, max = minmax([1,2,3,4,5])\n",
        "print(f'Valor min: {min}, Valor max: {max}')\n",
        "\n",
        "#------------------------------------------------------------\n",
        "\n",
        "# Regresa la suma de una tupla\n",
        "resultado = sum((1,2,3,4,5))\n",
        "print(f'Resultado: {resultado}')\n",
        "\n",
        "\n",
        "def sumar(*args):   # recuerda *args es para argumentos variables\n",
        "    return sum(args)\n",
        "\n",
        "resultado = sumar(1,2,3,4,5)\n",
        "print(f'Resultado: {resultado}')\n"
      ],
      "metadata": {
        "colab": {
          "base_uri": "https://localhost:8080/"
        },
        "id": "Ge0mtXEn9zg7",
        "outputId": "57d97a61-f4b9-4c9c-eafd-996a76e16752"
      },
      "execution_count": null,
      "outputs": [
        {
          "output_type": "stream",
          "name": "stdout",
          "text": [
            "Hola Adios\n",
            "Adios Hola\n",
            "Valor min: 1, Valor max: 5\n",
            "Resultado: 15\n",
            "Resultado: 15\n"
          ]
        }
      ]
    },
    {
      "cell_type": "markdown",
      "source": [
        "**Profundizar en set**"
      ],
      "metadata": {
        "id": "Tcb1_oSv3xbs"
      }
    },
    {
      "cell_type": "code",
      "source": [
        "#\n",
        "# Un set es una colección de elementos únicos y es mutable\n",
        "# Los elementos de un set deben ser inmutables\n",
        "# conjunto = {[1,2],[3,4]}\n",
        "conjunto = {'Juan', True, 18.0}\n",
        "print(conjunto)\n",
        "# Set vacío\n",
        "# conjunto = {} genera un dict vacío\n",
        "# print(type(conjunto))\n",
        "# set vacío correcto\n",
        "conjunto = set()\n",
        "print(conjunto)\n",
        "print(type(conjunto))\n",
        "# Mutable\n",
        "conjunto.add('Juan')\n",
        "print(conjunto)\n",
        "# Contiene valores únicos\n",
        "conjunto.add('Juan')\n",
        "print(conjunto)\n",
        "# Crear un set a partir de un iterable\n",
        "conjunto = set([4,5,7,8,4])\n",
        "print(conjunto)\n",
        "# Podemos agregar más elementos on incluso otro set\n",
        "conjunto2 = {100,200,300,300}\n",
        "conjunto.update(conjunto2)\n",
        "print(conjunto)\n",
        "conjunto.update([20,30,40,40])\n",
        "print(conjunto)\n",
        "\n",
        "# Copiar un set (copia poco profunda, solo copia referencias)\n",
        "conjunto_copia = conjunto.copy()\n",
        "print(conjunto_copia)\n",
        "# Verificar igualdad\n",
        "print(f'Es igual en contenido? {conjunto == conjunto_copia}')\n",
        "print(f'Es la misma referencia? {conjunto is conjunto_copia}')\n",
        "\n",
        "# Operaciones de conjuntos con set\n",
        "# Personas con distintas características\n",
        "pelo_negro = {'Juan','Karla','Pedro','María'}\n",
        "pelo_rubio = {'Lorenzo','Laura','Marco'}\n",
        "ojos_cafe = {'Karla','Laura'}\n",
        "menores_30 = {'Juan','Karla','María'}\n",
        "# Todos con ojos_cafe y pelo rubio (Union) (no se repiten los elementos)\n",
        "print(ojos_cafe.union(pelo_rubio))\n",
        "# Invertir el orden con el mismo resultado (conmutativa)\n",
        "print(pelo_rubio.union(ojos_cafe))\n",
        "\n",
        "# (intersetion) Sólo las personas con ojos cafe y pelo rubio (conmutativa)\n",
        "print(ojos_cafe.intersection(pelo_rubio))\n",
        "\n",
        "# (difference) Pelo negro sin ojos cafe (no es conmutativa)\n",
        "# las personas que se encuentran en el primer set pero NO en el segundo\n",
        "print(pelo_negro.difference(ojos_cafe))\n",
        "\n",
        "# (diferencia simétrica) Pelo negro u ojos cafe, pero NO ambos (conmutativa)\n",
        "print(pelo_negro.symmetric_difference(ojos_cafe))\n",
        "\n",
        "# Preguntar si un set está contenido en otro (subset)\n",
        "# revismos si los elementos del primer set están contenidos en el segundo set\n",
        "print(menores_30.issubset(pelo_negro))\n",
        "\n",
        "# Preguntar si un set contiene a otro set (superset)\n",
        "# revisar si los elementos del primer set están contenidos en el segundo set\n",
        "print(menores_30.issuperset(pelo_negro))\n",
        "\n",
        "# Preguntar si los de pelo negro no tienen pelo rubio (distjoin)\n",
        "print(pelo_negro.isdisjoint(pelo_rubio))"
      ],
      "metadata": {
        "id": "7L5iiAf3-JSd"
      },
      "execution_count": null,
      "outputs": []
    },
    {
      "cell_type": "markdown",
      "source": [
        "**Profundizando en diccionarios**\n",
        "\n",
        "A pesar de que los valores de los diccionarios son mutables, las llaves NO lo son, a partir de las new versiones de python"
      ],
      "metadata": {
        "id": "eRxg_IYb3zZY"
      }
    },
    {
      "cell_type": "code",
      "source": [
        "# Produndizando en diccionarios\n",
        "\n",
        "# Los dic guardan un orden (a diferencia de un set)\n",
        "diccionario = {'Nombre':'Juan','Apellido':'Perez','Edad':28}\n",
        "print(diccionario)\n",
        "\n",
        "# Los dic son mutables, pero las llaves deben ser inmutables\n",
        "# diccionario = {[1,2]:'Valor1'}\n",
        "# diccionario = {(1,2):'Valor1'}\n",
        "print(diccionario)\n",
        "\n",
        "# Se agrega una llave si no se encuentra\n",
        "diccionario['Departamento'] = 'Sistemas'\n",
        "print(diccionario)\n",
        "\n",
        "# No hay valores duplicados en las llaves de un diccionario (si ya existe se reemplaza)\n",
        "diccionario['Nombre'] = 'Juan Carlos'\n",
        "print(diccionario)\n",
        "\n",
        "# Recuperar un valor indicando una llave\n",
        "print(diccionario['Nombre'])\n",
        "# Si no encuentra la llave lanza una excepcion\n",
        "# print(diccionario['nombre'])\n",
        "\n",
        "# Método get recupera una llave, y si no existe NO lanza excepción\n",
        "# además podemos regresar un valor en caso de que no exista la llave\n",
        "print(diccionario.get('Nombres','No se encontró la llave'))\n",
        "print(diccionario)\n",
        "\n",
        "# setdefault sí modifica el diccionario, además se agregar un valor por default\n",
        "nombre = diccionario.setdefault('Nombres','Valor por default')\n",
        "print(nombre)\n",
        "print(diccionario)\n",
        "\n",
        "# Imprimir con pprint\n",
        "from pprint import pprint as pp\n",
        "# help(pp)\n",
        "pp(diccionario, sort_dicts=False)"
      ],
      "metadata": {
        "id": "Kr2iOMyj3zue"
      },
      "execution_count": null,
      "outputs": []
    },
    {
      "cell_type": "markdown",
      "source": [
        "**FUNCIONES ANIDADAS**"
      ],
      "metadata": {
        "id": "6Sq4cyhKAGXk"
      }
    },
    {
      "cell_type": "code",
      "source": [
        "# Funciones Anidadas\n",
        "\n",
        "def calculadora(a, b, operacion='sumar'):\n",
        "    # 1. Definir Función anidada\n",
        "    def sumar(a, b):\n",
        "        return a + b\n",
        "\n",
        "    def restar(a, b):\n",
        "        return a - b\n",
        "\n",
        "    # 2. Llamamos a la función anidada\n",
        "    if operacion == 'sumar':\n",
        "        print(f'Resultado sumar: {sumar(a, b)}')\n",
        "    elif operacion == 'restar':\n",
        "        print(f'Resultado restar: {restar(a, b)}')\n",
        "\n",
        "calculadora(5, 6)\n",
        "calculadora(4, 3, operacion='restar')"
      ],
      "metadata": {
        "colab": {
          "base_uri": "https://localhost:8080/"
        },
        "id": "PoU5_QIpAF9f",
        "outputId": "c25f531f-d723-408a-9960-76428a125da8"
      },
      "execution_count": null,
      "outputs": [
        {
          "output_type": "stream",
          "name": "stdout",
          "text": [
            "Resultado sumar: 11\n",
            "Resultado restar: 1\n"
          ]
        }
      ]
    },
    {
      "cell_type": "markdown",
      "source": [
        "**ALCANCE DE LAS VARIABLES**\n",
        "\n",
        "Cuando se define una funcion fuera de un if, bloque de codigo, while, etc se dice que es una variable global.\n",
        "\n",
        "Una variable local solo se podra utilizar dentro de la funcion, en cambio la global en donde sea.\n",
        "\n"
      ],
      "metadata": {
        "id": "6bwc5VZnAWRk"
      }
    },
    {
      "cell_type": "code",
      "source": [
        "# Alcance de Variables (scope)\n",
        "\n",
        "var_global = 'Variable global'\n",
        "\n",
        "def imprimir():\n",
        "    # Acceder a una variable global\n",
        "    global var_global\n",
        "    print(f'Variable global desde función: {var_global}')\n",
        "    # Definición de variable local\n",
        "    var_local = 'Variables local'\n",
        "    print(f'Variable local desde función: {var_local}')\n",
        "    var_global = 'Nuevo valor variable global'\n",
        "\n",
        "    def funcion_anidada():\n",
        "        print(f'Variable local dentro función anidada: {var_local}')\n",
        "\n",
        "    funcion_anidada()\n",
        "\n",
        "imprimir()\n",
        "print(f'Var global fuera función: {var_global}')\n",
        "# No es posible acceder a variables locales fuera\n",
        "# del bloque donde se definieron\n",
        "# print(f'Var local fuera función: {var_local}')"
      ],
      "metadata": {
        "id": "2rOem9BdAJVa"
      },
      "execution_count": null,
      "outputs": []
    },
    {
      "cell_type": "markdown",
      "source": [
        "Global variables are variables that can be accessed and modified from anywhere in your code, as long as they are in scope. You can use var_global throughout your program, and its value will persist as long as your program is running.\n",
        "\n",
        "Here's an example of how you might use a global variable in Python:"
      ],
      "metadata": {
        "id": "OReigtgZEsv_"
      }
    },
    {
      "cell_type": "code",
      "source": [
        "var_global = 42  # Initialize the global variable\n",
        "\n",
        "def some_function():\n",
        "    global var_global  # Use the global keyword to access the global variable\n",
        "    var_global += 1\n",
        "\n",
        "# Now you can call the function to modify the global variable\n",
        "some_function()\n",
        "print(var_global)  # This will print 43, as the function incremented the global variable\n"
      ],
      "metadata": {
        "id": "o0JhGPFoEtSI"
      },
      "execution_count": null,
      "outputs": []
    },
    {
      "cell_type": "markdown",
      "source": [],
      "metadata": {
        "id": "fcEMUcJBEwFi"
      }
    },
    {
      "cell_type": "code",
      "source": [
        "# MÃ¡s de funciones anidadas y alcance de variables\n",
        "\n",
        "def funcion_externa():\n",
        "    variable_local_externa = 'Variable local externa'\n",
        "\n",
        "    def funcion_anidada():\n",
        "        variable_local_anidada = 'Variable local anidada'\n",
        "\n",
        "#Con nonlocal podemos ocupar una variable externa o dentro de una funcion mas interna\n",
        "#es como una manera de comunicarse con el exterior\n",
        "        nonlocal variable_local_externa\n",
        "        variable_local_externa = 'Nuevo valor variable local externa'\n",
        "\n",
        "    funcion_anidada()\n",
        "\n",
        "    print(f'Valor variable local externa: {variable_local_externa}')\n",
        "    # No es posible acceder a una variable local mÃ¡s interna #segun yo si no le pones nonlocal\n",
        "    # print(f'Valor variable local anidada: {variable_local_anidada}')\n",
        "\n",
        "funcion_externa()\n",
        "\n"
      ],
      "metadata": {
        "id": "Tw5KfDWOEwgr",
        "colab": {
          "base_uri": "https://localhost:8080/"
        },
        "outputId": "fd67f19b-1216-41b8-86a1-f0aa4831c916"
      },
      "execution_count": null,
      "outputs": [
        {
          "output_type": "stream",
          "name": "stdout",
          "text": [
            "Valor variable local externa: Nuevo valor variable local externa\n"
          ]
        }
      ]
    },
    {
      "cell_type": "markdown",
      "source": [
        "Si solo vamos a printear el valor de una variable global desde una funcion si se puede, pero convenionalmente no se podria modificar su valor"
      ],
      "metadata": {
        "id": "w30WuB1-Gjut"
      }
    },
    {
      "cell_type": "code",
      "source": [
        "# Definimos variable global\n",
        "contador = 0\n",
        "\n",
        "def mostrar_contador():\n",
        "    print(contador)\n",
        "\n",
        "\n",
        "def modificar_contador(c):\n",
        "    # Sin esta línea no se usa la variable global\n",
        "    global contador\n",
        "    contador = c\n",
        "\n",
        "modificar_contador(5)\n",
        "mostrar_contador()\n"
      ],
      "metadata": {
        "colab": {
          "base_uri": "https://localhost:8080/"
        },
        "id": "a-H6MptuFPm0",
        "outputId": "38c1292e-fb77-408b-f9ed-5745a89861b0"
      },
      "execution_count": null,
      "outputs": [
        {
          "output_type": "stream",
          "name": "stdout",
          "text": [
            "5\n"
          ]
        }
      ]
    },
    {
      "cell_type": "code",
      "source": [
        "# Las funciones en python son ciudadanas de primera clase\n",
        "# First class citizens\n",
        "\n",
        "# Definimos la función\n",
        "def sumar(a, b):\n",
        "    return a + b\n",
        "\n",
        "# 1. Asignar una función a una variable (no se usan paréntesis, porque si no se estaria llamando a la funcion y ahorita solo queremos asignarla)\n",
        "mi_funcion = sumar\n",
        "\n",
        "# Verificar el tipo de variable\n",
        "print(type(mi_funcion))\n",
        "\n",
        "# Llamamos la función a través de la variable\n",
        "resultado = mi_funcion(5, 8)\n",
        "print(f'Resultado: {resultado}')"
      ],
      "metadata": {
        "id": "tNBx0l7ZH6-b"
      },
      "execution_count": null,
      "outputs": []
    },
    {
      "cell_type": "markdown",
      "source": [
        "En Python, puedes usar una función como argumento de otra función. Esto se conoce como \"funciones de orden superior\". Aquí tienes un ejemplo sencillo que demuestra cómo hacerlo:\n",
        "\n",
        "Supongamos que tienes dos funciones:\n",
        "\n",
        "Una función llamada cuadrado que toma un número como argumento y devuelve su cuadrado.\n",
        "Otra función llamada aplicar_funcion que toma dos argumentos: una función y un número, y aplica la función al número."
      ],
      "metadata": {
        "id": "EnDhp5MzOhuo"
      }
    },
    {
      "cell_type": "code",
      "source": [
        "def cuadrado(x):\n",
        "    return x ** 2\n",
        "\n",
        "def aplicar_funcion(funcion, numero):\n",
        "    resultado = funcion(numero)\n",
        "    return resultado\n",
        "\n",
        "#Ahora, puedes usar la función aplicar_funcion para aplicar la función cuadrado a un número:\n",
        "\n",
        "resultado = aplicar_funcion(cuadrado, 5)\n",
        "print(resultado)  # Esto imprimirá 25, que es el cuadrado de 5\n",
        "\n",
        "\n",
        "# En este ejemplo, cuadrado se pasa como argumento a aplicar_funcion, y luego aplicar_funcion llama a cuadrado(5), devolviendo el resultado, que es 25. Esto demuestra cómo puedes usar una función como argumento de otra función en Python."
      ],
      "metadata": {
        "id": "KK4NYy7kOhco"
      },
      "execution_count": null,
      "outputs": []
    },
    {
      "cell_type": "markdown",
      "source": [
        "**FUNCIONES LAMBDA**"
      ],
      "metadata": {
        "id": "EBGB7egaUxrQ"
      }
    },
    {
      "cell_type": "code",
      "source": [
        "# Funciones lambda\n",
        "# Son funciones anónimas, y son pequeñas (una línea de código)\n",
        "\n",
        "# No es posible asignar una función a una variable\n",
        "# mi_funcion = def sumar(a, b): return a + b\n",
        "\n",
        "# Con una función lambda(anónima, sin nombre, y una sola línea de código)\n",
        "# No se necesita agregar paréntesis para los parámetros\n",
        "# No se necesita usar la palabra return, pero sí debe regresar una expresión\n",
        "mi_funcion_lambda = lambda a, b: a + b\n",
        "\n",
        "resultado = mi_funcion_lambda(4,6)\n",
        "print(f'Resultado sumar con función lambda: {resultado}')\n",
        "\n",
        "# Función lambda que no recibe argumentos (debemos regresar una expresión válida)\n",
        "mi_funcion_lambda = lambda: 'Función sin argumentos'\n",
        "print(f'Llamar función lambda sin argumentos: {mi_funcion_lambda()}')\n",
        "\n",
        "# Función lambda con parámetros por default\n",
        "mi_funcion_lambda = lambda a=2, b=3: a + b\n",
        "print(f'Resultado argumentos por default: {mi_funcion_lambda()}')\n",
        "\n",
        "# Función lambda con argumentos variables *args y **kwargs\n",
        "mi_funcion_lambda = lambda *args, **kwargs: len(args) + len(kwargs)\n",
        "print(f'Resultado argumentos variables: {mi_funcion_lambda(1,2,3, a=5,b=6)}')\n",
        "\n",
        "# Funciones lambda con argumentos, argumentos variables y valores por default\n",
        "mi_funcion_lambda = lambda a, b, c=3, *args, **kwargs: a+b+c+len(args)+len(kwargs)\n",
        "print(f'Resultado función lambda: {mi_funcion_lambda(1,2,4, 5,6,7,e=5,f=7)}')  #e=5,f=7 son los parametros para our diccionario\n"
      ],
      "metadata": {
        "id": "YDe_GNb0Uzfh"
      },
      "execution_count": null,
      "outputs": []
    },
    {
      "cell_type": "code",
      "source": [
        "# Un closure es una función que defina a otra, y además la regresa\n",
        "# la función anidada puede acceder a las variables locales definidas\n",
        "# en la función principal o externa\n",
        "\n",
        "# Función principal\n",
        "def operacion(a, b):\n",
        "    # 1. Definimos una función interna o anidada\n",
        "    def sumar():\n",
        "        return a + b\n",
        "\n",
        "    # 2. Retornar la función\n",
        "    return sumar\n",
        "\n",
        "mi_funcion_closure = operacion(5, 2)\n",
        "print(f'Resultado de la función closure: {mi_funcion_closure()}')\n",
        "\n",
        "# Llamar la función regresada al vuelo\n",
        "print(f'Resultado de la función closure al vuelo: {operacion(2,3)()}')"
      ],
      "metadata": {
        "id": "3Zi3aHQXXtjH"
      },
      "execution_count": null,
      "outputs": []
    },
    {
      "cell_type": "code",
      "source": [
        "# Un closure es una función que defina a otra, y además la regresar\n",
        "# la función anidada puede acceder a las variables locales definidas\n",
        "# en la función principal o externa\n",
        "\n",
        "# Función principal\n",
        "# def operacion(a, b):\n",
        "#     # 1. Definimos una función interna o anidada\n",
        "#     def sumar():\n",
        "#         return a + b\n",
        "#\n",
        "#     # 2. Retornar la función\n",
        "#     return sumar\n",
        "\n",
        "# Función principal\n",
        "def operacion(a, b):\n",
        "    # 1. Definimos una función lambda interna o anidada y la retornamos\n",
        "    return lambda: a + b\n",
        "\n",
        "mi_funcion_closure = operacion(5, 2)\n",
        "print(f'Resultado de la función closure: {mi_funcion_closure()}')\n",
        "\n",
        "# Llamar la función regresada al vuelo\n",
        "print(f'Resultado de la función closure al vuelo: {operacion(2,3)()}')"
      ],
      "metadata": {
        "id": "y7fu-ZJ7YTdi"
      },
      "execution_count": null,
      "outputs": []
    },
    {
      "cell_type": "markdown",
      "source": [
        "Un decorador recibe como argumento una funcion.\n",
        "\n",
        " Los decoradores son funciones que se utilizan para extender la funcionalidad de otras funciones sin modificar su código. Aquí tienes una explicación paso a paso de lo que está sucediendo en tu código:\n",
        "\n",
        "Definición de un decorador (funcion_decorador_a):\n",
        "\n",
        "funcion_decorador_a es una función que toma otra función (funcion_a_decorar_b) como argumento.\n",
        "Dentro de funcion_decorador_a, se define una función interna llamada funcion_decorada_c.\n",
        "La función interna funcion_decorada_c:\n",
        "\n",
        "Esta función se utiliza para envolver la función que se va a decorar (funcion_a_decorar_b).\n",
        "Imprime un mensaje antes de llamar a funcion_a_decorar_b.\n",
        "Llama a funcion_a_decorar_b.\n",
        "Imprime un mensaje después de llamar a funcion_a_decorar_b.\n",
        "Uso de un decorador (@funcion_decorador_a):\n",
        "\n",
        "Al usar @funcion_decorador_a encima de una función, como en @funcion_decorador_a, estás aplicando el decorador a esa función.\n",
        "En este caso, mostrar_mensaje se convierte en una función decorada por funcion_decorador_a.\n",
        "Llamada a funciones decoradas:\n",
        "\n",
        "Cuando llamas a mostrar_mensaje(), en realidad estás llamando a la función decorada funcion_decorada_c que envuelve a mostrar_mensaje.\n",
        "Lo mismo ocurre cuando llamas a imprimir(). Estás llamando a la función decorada que envuelve a imprimir.\n",
        "Como resultado, cuando ejecutas mostrar_mensaje(), verás los mensajes \"Antes desde la función_decorada_c\", luego \"Hola desde función mostrar_mensaje\" (que proviene de la función original), y finalmente \"Después desde la función decorada_c\". Lo mismo ocurre cuando ejecutas imprimir(). El decorador ha extendido la funcionalidad de ambas funciones sin modificar su código original.\n",
        "\n",
        "\n",
        "\n",
        "\n"
      ],
      "metadata": {
        "id": "jnsMRPanZFOA"
      }
    },
    {
      "cell_type": "code",
      "source": [
        "# Decoradores\n",
        "# Un decorador es una función que recibe una función y regresa una función (al menos)\n",
        "# Lo utilizamos para extender funcionalidad de una función\n",
        "# 1. Función decorador (a)\n",
        "# 2. Función a decorar (b)\n",
        "# 3. Función decorada (c)\n",
        "def funcion_decorador_a(funcion_a_decorar_b):\n",
        "    def funcion_decorada_c():\n",
        "        print('Antes desde la función_decorada_c')\n",
        "        funcion_a_decorar_b()\n",
        "        print('Después desde la función decorada_c')\n",
        "\n",
        "    return funcion_decorada_c\n",
        "\n",
        "\n",
        "# Definimos una función y vamos a extender su funcionalidad con un decorador\n",
        "@funcion_decorador_a\n",
        "def mostrar_mensaje():\n",
        "    print('Hola desde función mostrar_mensaje')\n",
        "\n",
        "# Ejecutamos la función a decorar\n",
        "mostrar_mensaje()\n",
        "\n",
        "@funcion_decorador_a\n",
        "def imprimir():\n",
        "    print('Hola desde función imprimir')\n",
        "\n",
        "imprimir()"
      ],
      "metadata": {
        "id": "JWvefuvobAnk"
      },
      "execution_count": null,
      "outputs": []
    },
    {
      "cell_type": "code",
      "source": [
        "# Decoradores con argumentos\n",
        "# Un decorador es una función que recibe una función y regresa una función (al menos)\n",
        "# Lo utilizamos para extender funcionalidad de una función\n",
        "# 1. Función decorador (a)\n",
        "# 2. Función a decorar (b)\n",
        "# 3. Función decorada (c)\n",
        "# a(b) -> c\n",
        "def funcion_decorador_a(funcion_a_decorar_b):\n",
        "    def funcion_decorada_c(*args, **kwargs): #con esto se pueden pasar argumentos variables, como tuplas y diccionarios\n",
        "        print('Antes desde la función_decorada_c')\n",
        "        resultado = funcion_a_decorar_b(*args, **kwargs)\n",
        "        print('Después desde la función decorada_c')\n",
        "        return resultado\n",
        "\n",
        "    return funcion_decorada_c\n",
        "\n",
        "\n",
        "@funcion_decorador_a\n",
        "def sumar(a, b):\n",
        "    # print(f'Resultado suma: {a + b}')\n",
        "    return a + b\n",
        "\n",
        "resultado = sumar(5, 6)\n",
        "print(f'Resultado suma: {resultado}')\n",
        "\n"
      ],
      "metadata": {
        "id": "VSpEugHmcTG9"
      },
      "execution_count": null,
      "outputs": []
    },
    {
      "cell_type": "markdown",
      "source": [
        "La palabra reservada Yield = producir en español\n",
        "\n",
        "\n",
        "Generators in Python are a way to create iterable sequences of values. They are defined using functions and the yield keyword. Generators are used to generate values on-the-fly as they are needed, making them memory-efficient for large datasets. Here's a brief explanation of generators in Python:\n",
        "\n",
        "A generator function is defined like a regular function, but it contains one or more yield statements. When a generator function is called, it doesn't execute the function immediately. Instead, it returns a generator object that can be used to control the execution of the function. When you iterate over this generator object, the function's code is executed up to the yield statement. At that point, the value specified in yield is returned to the caller, and the function's state is saved. The next time you iterate, execution resumes from where it left off, continuing until the next yield or until the function completes.\n",
        "\n",
        "\n",
        "\n",
        "Each time the generator is iterated over, it yields the next value in the sequence. Generators are often used in situations where you have a large amount of data to process, and you don't want to load it all into memory at once. Instead, you can generate and process data one piece at a time, which can be more memory-efficient.\n",
        "\n",
        "\n",
        "\n",
        "\n",
        "\n"
      ],
      "metadata": {
        "id": "UQYISm89clCU"
      }
    },
    {
      "cell_type": "code",
      "source": [
        "# Generadores\n",
        "# Es una funci√≥n especial, retorna una secuencia de valores\n",
        "# suspende la ejecuci√≥n de la funci√≥n yield (producir) (no se usar return)\n",
        "def generador():\n",
        "    yield 1\n",
        "    print('Se reanuda la ejecuci√≥n')\n",
        "    yield 2\n",
        "    print('Se reanuda la ejecuci√≥n')\n",
        "    yield 3\n",
        "\n",
        "# Consumimos el generador a demanda\n",
        "gen = generador()\n",
        "# Con cada llamada consumimos un valor\n",
        "print(next(gen))\n",
        "print(next(gen))\n",
        "print(next(gen))\n",
        "# Si tratamos de consumir m√°s valores de los que produce el generador\n",
        "# lanza un error de StopIteration\n",
        "# print(next(gen))\n",
        "\n",
        "# Consumiendo los valores del generador con un ciclo for\n",
        "for valor in generador():\n",
        "    print(f'N√∫mero generado: {valor}')"
      ],
      "metadata": {
        "id": "ODrAfWqZckfJ"
      },
      "execution_count": null,
      "outputs": []
    },
    {
      "cell_type": "code",
      "source": [
        "# Generador de nÃºmeros del 1 al 5\n",
        "def generador_numeros():\n",
        "    for numero in range(1,6):\n",
        "        yield numero\n",
        "        print('Se reanuda la ejecuciÃ³n de la funciÃ³n')\n",
        "\n",
        "# Utilizamos el generador\n",
        "generador = generador_numeros()\n",
        "print(f'Objeto generador: {generador}')\n",
        "print(type(generador))\n",
        "\n",
        "# Consumimos los valores del generador\n",
        "for valor in generador:\n",
        "    print(f'NÃºmero producido: {valor}')\n",
        "\n",
        "# Consumir a demanda\n",
        "generador = generador_numeros()\n",
        "try:\n",
        "    print(f'consumimos a demanda: {next(generador)}')\n",
        "    print(f'consumimos a demanda: {next(generador)}')\n",
        "    print(f'consumimos a demanda: {next(generador)}')\n",
        "    print(f'consumimos a demanda: {next(generador)}')\n",
        "    print(f'consumimos a demanda: {next(generador)}')\n",
        "    print(f'consumimos a demanda: {next(generador)}')\n",
        "except StopIteration as e:\n",
        "    print(f'Error al consumir generador {e}')\n",
        "\n",
        "# Otra forma de consumir un generador\n",
        "generador = generador_numeros()\n",
        "while True:\n",
        "    try:\n",
        "        valor = next(generador)\n",
        "        print(f'ImpresiÃ³n valor generado: {valor}')\n",
        "    except StopIteration as e:\n",
        "        print('Se terminÃ³ de iterar el generador')\n",
        "        break"
      ],
      "metadata": {
        "id": "PtFSLs40cwCP"
      },
      "execution_count": null,
      "outputs": []
    },
    {
      "cell_type": "code",
      "source": [
        "# Expresión generadora (es un generador anónimo)\n",
        "multiplicacion = (valor*valor for valor in range(4)) #valor*valor es el yield\n",
        "print(type(multiplicacion))\n",
        "print(next(multiplicacion))\n",
        "print(next(multiplicacion))\n",
        "print(next(multiplicacion))\n",
        "print(next(multiplicacion))\n",
        "# print(next(multiplicacion))\n",
        "\n",
        "# También se puede pasar una expresión generadora a una función (sin paréntesis)\n",
        "import math\n",
        "suma = sum(valor*valor for valor in range(4))\n",
        "print(f'Resultado suma: {suma}')"
      ],
      "metadata": {
        "colab": {
          "base_uri": "https://localhost:8080/"
        },
        "id": "zZ4LG9CR3JGQ",
        "outputId": "3310c8d9-b425-4c82-8996-a78a65999ac1"
      },
      "execution_count": null,
      "outputs": [
        {
          "output_type": "stream",
          "name": "stdout",
          "text": [
            "<class 'generator'>\n",
            "0\n",
            "1\n",
            "4\n",
            "9\n",
            "Resultado suma: 14\n"
          ]
        }
      ]
    },
    {
      "cell_type": "code",
      "source": [
        "\n",
        "# También podemos usar una lista o cualquier otro iterador\n",
        "lista = ['Juan','Perez']\n",
        "generador = (valor for valor in lista)\n",
        "print(next(generador))\n",
        "print(next(generador))\n",
        "\n",
        "# Crear un string a partir de un generador creado a partir de una lista\n",
        "lista = ['Karla','Gomez', 22]\n",
        "contador = 0\n",
        "# Definimos una función para incrementar el contador\n",
        "def incremetar():\n",
        "    global contador\n",
        "    contador += 1\n",
        "    return contador\n",
        "# La primera para es el yield, la segunda es el for, entre paréntesis\n",
        "generador = (f'{incremetar()}. {nombre}' for nombre in lista)\n",
        "lista = list(generador)\n",
        "print(lista)\n",
        "cadena = ', '.join(lista)\n",
        "print(f'Cadena generada: {cadena}')"
      ],
      "metadata": {
        "id": "WI8650ky4jKY",
        "outputId": "f84d5b11-c3d4-4ce2-c706-1fd050c03599",
        "colab": {
          "base_uri": "https://localhost:8080/"
        }
      },
      "execution_count": null,
      "outputs": [
        {
          "output_type": "stream",
          "name": "stdout",
          "text": [
            "Juan\n",
            "Perez\n",
            "['1. Karla', '2. Gomez', '3. 22']\n",
            "Cadena generada: 1. Karla, 2. Gomez, 3. 22\n"
          ]
        }
      ]
    },
    {
      "cell_type": "markdown",
      "source": [
        "List comprehension is a concise way to create lists in Python. It allows you to generate a new list by applying an expression to each item in an existing iterable (e.g., a list, tuple, or range) and optionally filtering items based on a condition. List comprehensions are a more readable and often more efficient alternative to using traditional loops.\n",
        "\n",
        "Here's the basic syntax for a list comprehension:"
      ],
      "metadata": {
        "id": "DRRl2Znn0lcA"
      }
    },
    {
      "cell_type": "code",
      "source": [
        "#Creating a list of squares of numbers from 1 to 5:\n",
        "squares = [x**2 for x in range(1, 6)]\n",
        "print(squares)\n",
        "# Result: [1, 4, 9, 16, 25]\n",
        "\n",
        "#Filtering even numbers from a list:\n",
        "numbers = [1, 2, 3, 4, 5, 6, 7, 8, 9, 10]\n",
        "even_numbers = [x for x in numbers if x % 2 == 0]\n",
        "# Result: [2, 4, 6, 8, 10]\n",
        "\n",
        "#Converting a list of strings to uppercase:\n",
        "words = [\"hello\", \"world\", \"python\"]\n",
        "uppercase_words = [word.upper() for word in words]\n",
        "# Result: [\"HELLO\", \"WORLD\", \"PYTHON\"]\n",
        "\n",
        "\n",
        "#Creating a list of tuples with both the original number and its square:\n",
        "numbers = [1, 2, 3, 4, 5]\n",
        "number_square_pairs = [(x, x**2) for x in numbers]\n",
        "# Result: [(1, 1), (2, 4), (3, 9), (4, 16), (5, 25)]\n"
      ],
      "metadata": {
        "id": "fXrmn8cCEUuo",
        "colab": {
          "base_uri": "https://localhost:8080/"
        },
        "outputId": "d9dec1c7-aa5b-49a6-c075-c238c7bc349d"
      },
      "execution_count": null,
      "outputs": [
        {
          "output_type": "stream",
          "name": "stdout",
          "text": [
            "[1, 4, 9, 16, 25]\n"
          ]
        }
      ]
    },
    {
      "cell_type": "code",
      "source": [
        "numeros = range(10)\n",
        "lista_pares = []\n",
        "\n",
        "# Creamos una nueva lista con los valores pares multiplicados por si mismos\n",
        "for numero in numeros:\n",
        "    # Revisamos si es un número par\n",
        "    if numero % 2 == 0:\n",
        "        lista_pares.append(numero*numero)\n",
        "\n",
        "print(f'Lista Pares: {lista_pares}')\n",
        "\n",
        "# Hacemos lo mismo pero con list comprehensions\n",
        "# [expresion for var in coleción if condicion]\n",
        "# La condición de if es opcional\n",
        "lista_pares = []\n",
        "lista_pares = [numero*numero for numero in numeros if numero % 2 == 0]\n",
        "print(f'Lista Pares con list comprehensions: {lista_pares}')\n",
        "\n",
        "# Un ejemplo simila con dos condiciones (las condiciones son opcionales)\n",
        "# Solo se agrega el valor a la lista cuando el valor cumple ambas condiciones\n",
        "# es decir, debe ser divisible entre 2 y divisible entre 6\n",
        "pares = [numero for numero in range(50) if numero%2==0 if numero%6==0]\n",
        "print(f'Lista divisible entre 2 y 6: {pares}')\n",
        "\n",
        "# Agregando if else\n",
        "lista_pares = []\n",
        "lista_impares = []\n",
        "for numero in range(10):\n",
        "    if numero%2==0:\n",
        "        lista_pares.append(numero)\n",
        "    else:\n",
        "        lista_impares.append(numero)\n",
        "print(f'Pares: {lista_pares}')\n",
        "print(f'Impares: {lista_impares}')\n",
        "\n",
        "# El mismo ejercicio usando list comprehensions\n",
        "lista_pares = []\n",
        "lista_impares = []\n",
        "[lista_pares.append(numero) if numero%2==0 else lista_impares.append(numero)\n",
        " for numero in range(10)]\n",
        "print(f'Pares: {lista_pares}')\n",
        "print(f'Impares: {lista_impares}')\n",
        "\n",
        "# Lista de listas\n",
        "lista_listas = [[1,2,3],[4,5,6],[7,8,9,10]]\n",
        "# Convertimos la lista de listas en una sola lista\n",
        "lista_simple = [valor\n",
        "                for sublista in lista_listas\n",
        "                for valor in sublista]\n",
        "print(f'lista simple: {lista_simple}')\n",
        "\n",
        "# Ahora creamos una lista de numeros pares a partir de la lista_listas\n",
        "# Sin list comprehensions, ciclos for anidados\n",
        "lista_pares = []\n",
        "for sublista in lista_listas:\n",
        "    for valor in sublista:\n",
        "        if valor%2==0:\n",
        "            lista_pares.append(valor)\n",
        "print(f'Lista pares: {lista_pares}')\n",
        "\n",
        "# Con list comprehensions, en una sola línea de código\n",
        "# No es necesario separar las líneas, solo es para mejor lectura de código\n",
        "lista_pares = []\n",
        "lista_pares = [valor\n",
        "               for sublista in lista_listas\n",
        "               for valor in sublista\n",
        "               if valor%2==0]\n",
        "print(f'Lista pares: {lista_pares}')"
      ],
      "metadata": {
        "colab": {
          "base_uri": "https://localhost:8080/"
        },
        "id": "RPSkPQMX2M8N",
        "outputId": "ac31dc4a-e028-461b-a362-8b53aace23f7"
      },
      "execution_count": null,
      "outputs": [
        {
          "output_type": "stream",
          "name": "stdout",
          "text": [
            "Lista Pares: [0, 4, 16, 36, 64]\n",
            "Lista Pares con list comprehensions: [0, 4, 16, 36, 64]\n",
            "Lista divisible entre 2 y 6: [0, 6, 12, 18, 24, 30, 36, 42, 48]\n",
            "Pares: [0, 2, 4, 6, 8]\n",
            "Impares: [1, 3, 5, 7, 9]\n",
            "Pares: [0, 2, 4, 6, 8]\n",
            "Impares: [1, 3, 5, 7, 9]\n",
            "lista simple: [1, 2, 3, 4, 5, 6, 7, 8, 9, 10]\n",
            "Lista pares: [2, 4, 6, 8, 10]\n",
            "Lista pares: [2, 4, 6, 8, 10]\n"
          ]
        }
      ]
    },
    {
      "cell_type": "code",
      "source": [
        "# Palabras reservadas en Python (keywords)\n",
        "import keyword\n",
        "\n",
        "print('Palabras reservadas (keywords) en Python')\n",
        "print(keyword.kwlist)\n",
        "\n",
        "# Variable (no podemos utilizar keyword para el nombre de una variable)\n",
        "# as = 'Hola'\n",
        "# Función (no podemos utilizar keyword para el nombre de una función)\n",
        "# def is():\n",
        "#     pass"
      ],
      "metadata": {
        "id": "1ZetWsm98DrA"
      },
      "execution_count": null,
      "outputs": []
    },
    {
      "cell_type": "code",
      "source": [
        "class Persona:\n",
        "    contador_personas = 0\n",
        "\n",
        "    def __init__(self, nombre, apellido):\n",
        "        self.nombre = nombre\n",
        "        self.apellido = apellido\n",
        "\n",
        "# Mostrar los atributos de un objeto\n",
        "persona1 = Persona('Juan','Perez')\n",
        "print(persona1.__dict__)\n",
        "\n",
        "# Crear un atributo al vuelo\n",
        "print(persona1.contador_personas) # Accediendo al atributo de clase\n",
        "# Pero no es posible modificarlo con el objeto, sino con la clase\n",
        "persona1.contador_personas = 10\n",
        "print(persona1.__dict__)\n",
        "# El atributo anterior oculta al atributo de clase\n",
        "print(Persona.contador_personas) # Atributo clase\n",
        "print(persona1.contador_personas) # Atributo del objeto 1\n",
        "\n",
        "# Un segundo objeto\n",
        "persona2 = Persona('Karla', 'Gomez')\n",
        "print(persona2.__dict__)\n",
        "print(persona2.contador_personas)\n",
        "\n",
        "# Asociar un atributo de clase al vuelo\n",
        "# En automatico python creara la variable con el nuevo valor cos le asignamos un valor\n",
        "Persona.contador2 = 20\n",
        "print(Persona.contador2)\n",
        "\n",
        "# Desde los objetos creados, accedemos al nuevo atributo de la clase\n",
        "# Esto es posible por que los atributos de clase se comparten con todos los objetos\n",
        "print(persona1.contador2)\n",
        "print(persona2.contador2)"
      ],
      "metadata": {
        "id": "XRlWd6O4MHXv"
      },
      "execution_count": null,
      "outputs": []
    },
    {
      "cell_type": "markdown",
      "source": [
        "En Python, puedes implementar la sobrecarga de constructores (constructor overloading) de manera diferente a lenguajes como Java o C++. Python no admite la sobrecarga de métodos o constructores de la misma manera en que se hace en estos otros lenguajes, donde se pueden definir múltiples constructores con diferentes firmas (número o tipo de parámetros).\n",
        "\n",
        "En Python, la forma de lograr funcionalidad similar es mediante el uso de argumentos opcionales o valores predeterminados en el constructor. Aquí tienes un ejemplo:"
      ],
      "metadata": {
        "id": "iuibucIng7DB"
      }
    },
    {
      "cell_type": "code",
      "source": [
        "class MiClase:\n",
        "    def __init__(self, parametro1, parametro2=None):\n",
        "        self.parametro1 = parametro1\n",
        "        self.parametro2 = parametro2\n",
        "\n",
        "# Crear instancias de la clase\n",
        "objeto1 = MiClase(\"valor1\")\n",
        "objeto2 = MiClase(\"valor1\", \"valor2\")\n",
        "\n",
        "print(objeto1.parametro1)  # Imprime \"valor1\"\n",
        "print(objeto1.parametro2)  # Imprime \"None\"\n",
        "\n",
        "print(objeto2.parametro1)  # Imprime \"valor1\"\n",
        "print(objeto2.parametro2)  # Imprime \"valor2\"\n"
      ],
      "metadata": {
        "colab": {
          "base_uri": "https://localhost:8080/"
        },
        "id": "3UJEBqw8h48d",
        "outputId": "2dcd769f-d2ed-4ffe-d272-672336c8174c"
      },
      "execution_count": null,
      "outputs": [
        {
          "output_type": "stream",
          "name": "stdout",
          "text": [
            "valor1\n",
            "None\n",
            "valor1\n",
            "valor2\n"
          ]
        }
      ]
    },
    {
      "cell_type": "markdown",
      "source": [
        "En este código, la clase Persona tiene dos métodos de clase, crear_persona_vacia y crear_persona_con_valores, que permiten crear objetos Persona de diferentes maneras. Esto simplifica la creación de instancias y proporciona una forma más flexible de trabajar con objetos Persona.\n",
        "\n",
        "\n",
        "\n",
        "\n",
        "\n"
      ],
      "metadata": {
        "id": "9I6rTK_kjSKc"
      }
    },
    {
      "cell_type": "code",
      "source": [
        "# Simulaci√≥n de sobrecarga de constructores en python\n",
        "# otras formas de crear objectos\n",
        "class Persona:\n",
        "\n",
        "    def __init__(self, nombre, apellido):\n",
        "        self.nombre = nombre\n",
        "        self.apellido = apellido\n",
        "\n",
        "    @classmethod\n",
        "    def crear_persona_vacia(cls):\n",
        "        # Este método de clase crea una instancia de Persona con valores predeterminados.\n",
        "        return cls(None, None)\n",
        "\n",
        "    @classmethod\n",
        "    def crear_persona_con_valores(cls, nombre, apellido):\n",
        "        # Este método de clase crea una instancia de Persona con los valores proporcionados.\n",
        "        return cls(nombre, apellido)\n",
        "\n",
        "    def __str__(self):\n",
        "        return f'Nombre: {self.nombre}, Apellido: {self.apellido}'\n",
        "\n",
        "# Crear una persona con valores proporcionados\n",
        "persona1 = Persona('Juan', 'Perez')\n",
        "print(persona1)\n",
        "\n",
        "# Crear una persona vacía (sin nombre ni apellido) utilizando el método de clase\n",
        "persona2 = Persona.crear_persona_vacia()\n",
        "print(persona2)\n",
        "\n",
        "# Crear una persona con valores proporcionados utilizando el método de clase\n",
        "persona3 = Persona.crear_persona_con_valores('María', 'Gómez')\n",
        "print(persona3)\n"
      ],
      "metadata": {
        "colab": {
          "base_uri": "https://localhost:8080/"
        },
        "id": "eXGltfkwg7bt",
        "outputId": "0ebd665c-2190-4d51-f37d-30c9c4346e76"
      },
      "execution_count": null,
      "outputs": [
        {
          "output_type": "stream",
          "name": "stdout",
          "text": [
            "Nombre: Juan, Apellido: Perez\n",
            "Nombre: None, Apellido: None\n",
            "Nombre: María, Apellido: Gómez\n"
          ]
        }
      ]
    },
    {
      "cell_type": "markdown",
      "source": [
        "**Calculadora de F a C  &  C a F**"
      ],
      "metadata": {
        "id": "fWGhTdcfl6Ze"
      }
    },
    {
      "cell_type": "code",
      "source": [
        "class ConvertidorTemperatura:\n",
        "    MAX_CELSIUS = 100\n",
        "    MAX_FAHRENHEIT = 213\n",
        "\n",
        "    @classmethod\n",
        "    def c_f(cls, celsius):\n",
        "        if celsius > cls.MAX_CELSIUS:\n",
        "            raise ValueError(f'Temperatura C demasiado alta: {celsius}')\n",
        "        return celsius * 9/5 + 32\n",
        "\n",
        "    @classmethod\n",
        "    def f_c(cls, fahrenheit):\n",
        "        if fahrenheit > cls.MAX_FAHRENHEIT:\n",
        "            raise ValueError(f'Temperatura F demasiado alta: {fahrenheit}')\n",
        "        return (fahrenheit-32) * 5/9\n",
        "\n",
        "if __name__ == '__main__':\n",
        "    resultado = ConvertidorTemperatura.c_f(15)\n",
        "    print(f'15 C a F: {resultado:.2f}')\n",
        "    resultado = ConvertidorTemperatura.f_c(10)\n",
        "    print(f'10 F a C: {resultado:.2f}')\n"
      ],
      "metadata": {
        "colab": {
          "base_uri": "https://localhost:8080/"
        },
        "id": "IKJmdC6yjUEn",
        "outputId": "a2d872c5-da59-4274-f487-28ee9fba6bc3"
      },
      "execution_count": null,
      "outputs": [
        {
          "output_type": "stream",
          "name": "stdout",
          "text": [
            "15 C a F: 59.00\n",
            "10 F a C: -12.22\n"
          ]
        }
      ]
    },
    {
      "cell_type": "code",
      "source": [
        "# Representaci√≥n de objetos (str, repr, format)\n",
        "# print(dir(object))\n",
        "\n",
        "class Persona:\n",
        "    def __init__(self, nombre, apellido):\n",
        "        self.nombre = nombre\n",
        "        self.apellido = apellido\n",
        "\n",
        "    # repr, m√°s enfocado a los programadores\n",
        "    def __repr__(self):\n",
        "        return f'{self.__class__.__name__}(nombre:{self.nombre}, apellido:{self.apellido})'\n",
        "\n",
        "    # str es m√°s para el usuario final u otros sistemas\n",
        "    # la implementaci√≥n por default llama al m√©todo repr\n",
        "    def __str__(self):\n",
        "        return f'{self.__class__.__name__}: {self.nombre} {self.apellido}'\n",
        "\n",
        "    # format su implementaci√≥n por default es str\n",
        "    # se manda a llamar al usar f-string\n",
        "    def __format__(self, format_spec):\n",
        "        return f'{self.__class__.__name__} con nombre {self.nombre} y apellido {self.apellido}'\n",
        "\n",
        "persona1 = Persona('Juan','Perez')\n",
        "# repr (!r)\n",
        "print(f'Mi objeto persona1: {persona1!r}')\n",
        "# str (de manera autom√°tica el m√©todo print llama al m√©todo str)\n",
        "print(persona1)\n",
        "# format\n",
        "print(f'{persona1}')"
      ],
      "metadata": {
        "colab": {
          "base_uri": "https://localhost:8080/"
        },
        "id": "bYCMtEzsmCVF",
        "outputId": "ebea7f56-92e2-4d66-b24c-506a15d74c74"
      },
      "execution_count": null,
      "outputs": [
        {
          "output_type": "stream",
          "name": "stdout",
          "text": [
            "Mi objeto persona1: Persona(nombre:Juan, apellido:Perez)\n",
            "Persona: Juan Perez\n",
            "Persona con nombre Juan y apellido Perez\n"
          ]
        }
      ]
    },
    {
      "cell_type": "code",
      "source": [
        "# Ejemplo atributos publicos, protegidos, privados\n",
        "class MiClase:\n",
        "    def __init__(self, publico, protegido, privado):\n",
        "        self.publico = publico\n",
        "        self._protegido = protegido\n",
        "        self.__privado = privado\n",
        "\n",
        "\n",
        "objeto = MiClase('Valor público', 'Valor protegido', 'Valor privado')\n",
        "# Acceso al valor publico\n",
        "print(objeto.publico)\n",
        "# Modificar el valor publico\n",
        "objeto.publico = 'Modificando valor público'\n",
        "print(objeto.publico)\n",
        "\n",
        "# Acceso al valor protegido\n",
        "# Solo dentro de la misma clase o clase hija\n",
        "print(objeto._protegido)\n",
        "# Modificando valor protegido (solo dentro misma clase o subclases)\n",
        "objeto._protegido = 'Modificando valor protegido'\n",
        "print(objeto._protegido)\n",
        "\n",
        "# Accediendo al valor privado (solo dentro de la misma clase)\n",
        "# Directamente no se puede acceder\n",
        "#print(objeto.__privado)\n",
        "# Pero, se convierte a objeto._clase__atributo_privado\n",
        "print(objeto._MiClase__privado)\n",
        "# Incluso se puede modificar\n",
        "objeto._MiClase__privado = 'Cambiando valor privado'\n",
        "print(objeto._MiClase__privado)\n",
        "\n",
        "# En conclusión, no se puede comparar con otros lenguajes\n",
        "# como C++ o Java, ya que no es la misma funcionalidad\n",
        "# ni las mismas limitantes\n",
        "# Debemos ser programadores responsables y respetar las buenas prácticas\n",
        "# Impuestas en Python\n",
        "# En la mayoría de los casos es suficiente con usar un guión bajo\n",
        "# para encapsular y ocultar el detalle de una clase si somos programadores responsables"
      ],
      "metadata": {
        "colab": {
          "base_uri": "https://localhost:8080/"
        },
        "id": "InaobBG9sA5p",
        "outputId": "90ad3b3b-7d28-48f6-9565-73daa985f72f"
      },
      "execution_count": null,
      "outputs": [
        {
          "output_type": "stream",
          "name": "stdout",
          "text": [
            "Valor público\n",
            "Modificando valor público\n",
            "Valor protegido\n",
            "Modificando valor protegido\n",
            "Valor privado\n",
            "Cambiando valor privado\n"
          ]
        }
      ]
    },
    {
      "cell_type": "code",
      "source": [
        "# Orden de inicializacion de objetos\n",
        "class Padre:\n",
        "    def __init__(self):\n",
        "        print('Inicializador Padre')\n",
        "\n",
        "    def metodo(self):\n",
        "        print('Método padre')\n",
        "\n",
        "class Hijo(Padre):\n",
        "    # Se manda a llamar el método __init__ de la clase padre\n",
        "    # siempre y cuando la clase hija no defina su propio metodo init\n",
        "\n",
        "    # Definimos el metodo init\n",
        "    def __init__(self):\n",
        "        # De manera opcional podemos llamar al metodo __init__ de la clase padre (super)\n",
        "        print('Inicializador hijo')\n",
        "        super().__init__()\n",
        "\n",
        "    # Sobreescribimos el metodo heredado de la clase padre\n",
        "    def metodo(self):\n",
        "        print('Método sobreescrito hijo')\n",
        "        super().metodo()\n",
        "\n",
        "# padre1 = Padre()\n",
        "# padre1.metodo()\n",
        "hijo1 = Hijo()\n",
        "hijo1.metodo()"
      ],
      "metadata": {
        "colab": {
          "base_uri": "https://localhost:8080/"
        },
        "id": "9ZgYzGXZtdgX",
        "outputId": "00a94ee0-2e2a-46ba-d7fb-7627f0e8397a"
      },
      "execution_count": null,
      "outputs": [
        {
          "output_type": "stream",
          "name": "stdout",
          "text": [
            "Inicializador hijo\n",
            "Inicializador Padre\n",
            "Método sobreescrito hijo\n",
            "Método padre\n"
          ]
        }
      ]
    },
    {
      "cell_type": "markdown",
      "source": [
        "**HERENCIA SIMPLE**"
      ],
      "metadata": {
        "id": "Jx27v0X2tRCR"
      }
    },
    {
      "cell_type": "code",
      "source": [
        "# Ejemplo de herencia simple\n",
        "class ListaSimple:\n",
        "    def __init__(self, elementos):\n",
        "        self._elementos = list(elementos)\n",
        "\n",
        "    def agregar(self, elemento):\n",
        "        self._elementos.append(elemento)\n",
        "\n",
        "    def __getitem__(self, indice):\n",
        "        return self._elementos[indice]\n",
        "\n",
        "    def ordenar(self):\n",
        "        self._elementos.sort()\n",
        "\n",
        "    def __len__(self):\n",
        "        return len(self._elementos)\n",
        "\n",
        "    def __repr__(self):\n",
        "        return f'{self.__class__.__name__}({self._elementos!r})'\n",
        "\n",
        "class ListaOrdenada(ListaSimple):\n",
        "    def __init__(self, elementos=[]):\n",
        "        super().__init__(elementos)\n",
        "        # Ordenamos siempre los elementos una vez inicializados\n",
        "        self.ordenar()\n",
        "\n",
        "    def agregar(self, elemento):\n",
        "        super().agregar(elemento)\n",
        "        # Ordenamos el nuevo elemento\n",
        "        self.ordenar()\n",
        "\n",
        "# Lista sólo acepta números\n",
        "class ListaEnteros(ListaSimple):\n",
        "    def __init__(self, elementos=[]):\n",
        "        for elemento in elementos:\n",
        "            self._validar(elemento)\n",
        "        # Una vez validados los elementos, los agregamos\n",
        "        super().__init__(elementos)\n",
        "\n",
        "    def _validar(self, elemento):\n",
        "        # Validamos si el elemento es de tipo entero\n",
        "        if not isinstance(elemento, int):\n",
        "            raise ValueError(f'No es un valor entero: {elemento}')\n",
        "\n",
        "    # Sobreescribimos el método agregar de la clase padre\n",
        "    def agregar(self, elemento):\n",
        "        self._validar(elemento)\n",
        "        # Una vez validado lo agregamos a la lista\n",
        "        super().agregar(elemento)\n",
        "\n",
        "# Lista simple\n",
        "lista_simple = ListaSimple([5, 3, 6, 8])\n",
        "print(lista_simple)\n",
        "# Lista ordenada\n",
        "lista_ordenada = ListaOrdenada([4,3,6,9,10,-1])\n",
        "print(lista_ordenada)\n",
        "lista_ordenada.agregar(-14)\n",
        "print(lista_ordenada)\n",
        "print(len(lista_ordenada))\n",
        "#Lista enteros\n",
        "lista_enteros = ListaEnteros([1, 3, 4, -15])\n",
        "print(lista_enteros)\n"
      ],
      "metadata": {
        "id": "X7VECqCsyP7M",
        "outputId": "e7dd9314-a774-425e-f874-4f3ca2ad6882",
        "colab": {
          "base_uri": "https://localhost:8080/"
        }
      },
      "execution_count": null,
      "outputs": [
        {
          "output_type": "stream",
          "name": "stdout",
          "text": [
            "ListaSimple([5, 3, 6, 8])\n",
            "ListaOrdenada([-1, 3, 4, 6, 9, 10])\n",
            "ListaOrdenada([-14, -1, 3, 4, 6, 9, 10])\n",
            "7\n",
            "ListaEnteros([1, 3, 4, -15])\n"
          ]
        }
      ]
    },
    {
      "cell_type": "markdown",
      "source": [
        "**304: Profundizando en la HERENCIA**"
      ],
      "metadata": {
        "id": "VJA6HjKFa_WH"
      }
    },
    {
      "cell_type": "code",
      "source": [
        "class Clase1:\n",
        "    def __init__(self):\n",
        "        print('Clase1.__init__')\n",
        "\n",
        "    def metodo(self):\n",
        "        print('Método clase1')\n",
        "\n",
        "class Clase2(Clase1):\n",
        "    def __init__(self):\n",
        "        print('Clase2.__init__')\n",
        "        super().__init__()\n",
        "\n",
        "    def metodo(self):\n",
        "        print('Método clase2')\n",
        "        super().metodo()\n",
        "\n",
        "class Clase3(Clase1):\n",
        "    def __init__(self):\n",
        "        print('Clase3.__init__')\n",
        "        super().__init__()\n",
        "\n",
        "    def metodo(self):\n",
        "        print('Método clase3')\n",
        "        super().metodo()\n",
        "\n",
        "class Clase4(Clase2, Clase3):\n",
        "\n",
        "    def metodo(self):\n",
        "        print('Método clase4')\n",
        "        super().metodo()\n",
        "\n",
        "# Creamos objeto clase4\n",
        "clase4 = Clase4()\n",
        "# __bases__\n",
        "print(Clase4.__bases__)\n",
        "# mro\n",
        "print(Clase4.__mro__)\n",
        "# cual método se ejecuta\n",
        "clase4.metodo()"
      ],
      "metadata": {
        "id": "SYJFUoiDtWoj"
      },
      "execution_count": null,
      "outputs": []
    },
    {
      "cell_type": "markdown",
      "source": [
        "**305: Profundizando en el metodo isistance()**"
      ],
      "metadata": {
        "id": "xYdRHeJUiPRX"
      }
    },
    {
      "cell_type": "code",
      "source": [
        "# Ejemplo de herencia simple\n",
        "class ListaSimple:\n",
        "    def __init__(self, elementos):\n",
        "        self._elementos = list(elementos)\n",
        "\n",
        "    def agregar(self, elemento):\n",
        "        self._elementos.append(elemento)\n",
        "\n",
        "    def __getitem__(self, indice):\n",
        "        return self._elementos[indice]\n",
        "\n",
        "    def ordenar(self):\n",
        "        self._elementos.sort()\n",
        "\n",
        "    def __len__(self):\n",
        "        return len(self._elementos)\n",
        "\n",
        "    def __repr__(self):\n",
        "        return f'{self.__class__.__name__}({self._elementos!r})'\n",
        "\n",
        "class ListaOrdenada(ListaSimple):\n",
        "    def __init__(self, elementos=[]):\n",
        "        super().__init__(elementos)\n",
        "        # Ordenamos siempre los elementos una vez inicializados\n",
        "        self.ordenar()\n",
        "\n",
        "    def agregar(self, elemento):\n",
        "        super().agregar(elemento)\n",
        "        # Ordenamos el nuevo elemento\n",
        "        self.ordenar()\n",
        "\n",
        "# Lista sólo acepta números\n",
        "class ListaEnteros(ListaSimple):\n",
        "    def __init__(self, elementos=[]):\n",
        "        for elemento in elementos:\n",
        "            self._validar(elemento)\n",
        "        # Una vez validados los elementos, los agregamos\n",
        "        super().__init__(elementos)\n",
        "\n",
        "    def _validar(self, elemento):\n",
        "        # Validamos si el elemento es de tipo entero\n",
        "        if not isinstance(elemento, int):\n",
        "            raise ValueError(f'No es un valor entero: {elemento}')\n",
        "\n",
        "    # Sobreescribimos el método agregar de la clase padre\n",
        "    def agregar(self, elemento):\n",
        "        self._validar(elemento)\n",
        "        # Una vez validado lo agregamos a la lista\n",
        "        super().agregar(elemento)\n",
        "\n",
        "# Lista de Enteros Ordenada\n",
        "class ListaEnterosOrdenada(ListaEnteros, ListaOrdenada):\n",
        "    pass\n",
        "\n",
        "# Lista simple\n",
        "lista_simple = ListaSimple([5, 3, 6, 8])\n",
        "print(lista_simple)\n",
        "# Lista ordenada\n",
        "lista_ordenada = ListaOrdenada([4,3,6,9,10,-1])\n",
        "print(lista_ordenada)\n",
        "lista_ordenada.agregar(-14)\n",
        "print(lista_ordenada)\n",
        "print(len(lista_ordenada))\n",
        "#Lista enteros\n",
        "lista_enteros = ListaEnteros([1, 3, 4, -15])\n",
        "print(lista_enteros)\n",
        "# Lista enteros ordenada\n",
        "lista_enteros_ordenada = ListaEnterosOrdenada([4,5,-1, 10, 14, -4])\n",
        "print(lista_enteros_ordenada)\n",
        "lista_enteros_ordenada.agregar(-20)\n",
        "print(lista_enteros_ordenada)\n",
        "# Saber las clases padre y su orden\n",
        "print(ListaEnterosOrdenada.__bases__)\n",
        "# MRO (Method Resolution Order)\n",
        "print(ListaEnterosOrdenada.__mro__)\n",
        "# isinstance\n",
        "print('Es entero?', isinstance(10, int))\n",
        "print('Es cadena?', isinstance('hola', str))\n",
        "print('Es lista ent ord?', isinstance(lista_enteros_ordenada, ListaEnterosOrdenada))\n",
        "print('Es lista ent?', isinstance(lista_enteros_ordenada, ListaEnteros))\n",
        "print('Es lista ord?', isinstance(lista_enteros_ordenada, ListaOrdenada))\n",
        "print('Es lista simple?', isinstance(lista_enteros_ordenada, ListaSimple))\n",
        "print('Es object?', isinstance(lista_enteros_ordenada, object))\n",
        "print('Es de varios tipos?', isinstance(lista_enteros_ordenada, (ListaEnteros, ListaSimple)))\n"
      ],
      "metadata": {
        "colab": {
          "base_uri": "https://localhost:8080/"
        },
        "id": "yfEkguX0d-rj",
        "outputId": "30d9b330-dfca-43be-af23-73ddb145cc58"
      },
      "execution_count": null,
      "outputs": [
        {
          "output_type": "stream",
          "name": "stdout",
          "text": [
            "ListaSimple([5, 3, 6, 8])\n",
            "ListaOrdenada([-1, 3, 4, 6, 9, 10])\n",
            "ListaOrdenada([-14, -1, 3, 4, 6, 9, 10])\n",
            "7\n",
            "ListaEnteros([1, 3, 4, -15])\n",
            "ListaEnterosOrdenada([-4, -1, 4, 5, 10, 14])\n",
            "ListaEnterosOrdenada([-20, -4, -1, 4, 5, 10, 14])\n",
            "(<class '__main__.ListaEnteros'>, <class '__main__.ListaOrdenada'>)\n",
            "(<class '__main__.ListaEnterosOrdenada'>, <class '__main__.ListaEnteros'>, <class '__main__.ListaOrdenada'>, <class '__main__.ListaSimple'>, <class 'object'>)\n",
            "Es entero? True\n",
            "Es cadena? True\n",
            "Es lista ent ord? True\n",
            "Es lista ent? True\n",
            "Es lista ord? True\n",
            "Es lista simple? True\n",
            "Es object? True\n",
            "Es de varios tipos? True\n"
          ]
        }
      ]
    },
    {
      "cell_type": "markdown",
      "source": [
        "**306-310: Decoradores de clase en python**"
      ],
      "metadata": {
        "id": "0U1XRz3AMeCx"
      }
    },
    {
      "cell_type": "code",
      "source": [
        "# Decoradores de Clase\n",
        "# Permiten transformar de manera programÃ¡tica nuestra clase\n",
        "# Es similar a los decoradores de funciones (es metaprogramaciÃ³n)\n",
        "import inspect\n",
        "\n",
        "\n",
        "def decorador_repr(cls):\n",
        "    print('1. Se ejecuta decorador')\n",
        "    print(f'Recibimos el objeto de la clase: {cls.__name__}')\n",
        "\n",
        "    # Revisamos los atributos de la clase con el mÃ©todo vars\n",
        "    atributos = vars(cls)\n",
        "    # Iteramos cada atributo\n",
        "    # for nombre, atributo in atributos.items():\n",
        "    #     print(nombre, atributo)\n",
        "\n",
        "    # Revisamos si se ha sobreescrito el mÃ©todo __init__\n",
        "    if '__init__' not in atributos:\n",
        "        raise TypeError(f'{cls.__name__} no ha sobreescrito el mÃ©todo __init__')\n",
        "\n",
        "    firma_init = inspect.signature(cls.__init__)\n",
        "    print(f'Firma mÃ©todo __init__: {firma_init}')\n",
        "    # Recuperamos los parÃ¡metros, excepto el primero que es self\n",
        "    parametros_init = list(firma_init.parameters)[1:]\n",
        "    print(f'ParÃ¡metros init: {parametros_init}')\n",
        "\n",
        "    # Revisamos si cada parÃ¡metro tiene un mÃ©todo property asociado\n",
        "    for parametro in parametros_init:\n",
        "        # property es un valor de tipo built-in para preguntar si\n",
        "        # se estÃ¡ utilizando el decorador property\n",
        "        es_metodo_property = isinstance(atributos.get(parametro), property)\n",
        "        if not es_metodo_property:\n",
        "            raise TypeError(f'No existe un mÃ©todo property para el parÃ¡metro: {parametro}')\n",
        "\n",
        "    # Crear el mÃ©todo repr dinÃ¡micamente\n",
        "    def metodo_repr(self):\n",
        "        # Obtenemos el nombre de la clase dinÃ¡micamente\n",
        "        nombre_clase = self.__class__.__name__\n",
        "        print(f'Nombre clase: {nombre_clase}')\n",
        "\n",
        "        # Obtenemos los nombres de las propiedades y sus valores dinÃ¡micamente\n",
        "        # Expresion Generadora, crear nombre_atr=valor_atr\n",
        "        generador_arg = (f'{nombre}={getattr(self, nombre)!r}' for nombre in parametros_init)\n",
        "        # Lista del generador\n",
        "        lista_arg = list(generador_arg)\n",
        "        print(f'Lista del generador: {lista_arg}')\n",
        "        # Creamos la cadena a partir de la lista de argumentos\n",
        "        argumentos = ', '.join(lista_arg)\n",
        "        print(f'Argumentos del mÃ©todo repr: {argumentos}')\n",
        "        # Creamos la forma del mÃ©todo __repr__, sin su nombre, solo la firma\n",
        "        resultado_metodo_repr = f'{nombre_clase}({argumentos})'\n",
        "        print(f'Resultado mÃ©todo repr: {resultado_metodo_repr}')\n",
        "        return resultado_metodo_repr\n",
        "\n",
        "    # Agregar dinÃ¡micamente el mÃ©todo repr a nuestra clase\n",
        "    setattr(cls,'__repr__', metodo_repr)\n",
        "\n",
        "    return cls\n",
        "\n",
        "@decorador_repr\n",
        "class Persona:\n",
        "    def __init__(self, nombre, apellido, edad):\n",
        "        print('2. Se ejecuta el inicializador')\n",
        "        self._nombre = nombre\n",
        "        self._apellido = apellido\n",
        "        self._edad = edad\n",
        "\n",
        "    @property\n",
        "    def nombre(self):\n",
        "        return self._nombre\n",
        "\n",
        "    @property\n",
        "    def apellido(self):\n",
        "        return self._apellido\n",
        "\n",
        "    @property\n",
        "    def edad(self):\n",
        "        return self._edad\n",
        "\n",
        "    # def __repr__(self):\n",
        "    #     return f'Persona(nombre={self._nombre}, apellido={self._apellido})'\n",
        "\n",
        "persona1 = Persona('Juan','Perez', 28)\n",
        "print(persona1)\n",
        "pesona2 = Persona('Karla','Gomez', 30)\n",
        "print(pesona2)\n",
        "#Tiene los mÃ©todos de propiedad nombre, apellido, repr\n",
        "print(dir(Persona))\n",
        "# Tiene el mÃ©todo repr sobreescrito\n",
        "codigo_repr = inspect.getsource(persona1.__repr__)\n",
        "print(codigo_repr)"
      ],
      "metadata": {
        "id": "fXEsX6TLiOQs"
      },
      "execution_count": null,
      "outputs": []
    },
    {
      "cell_type": "markdown",
      "source": [
        "**311-312: Data classes en python**"
      ],
      "metadata": {
        "id": "JI0TNLEVCULU"
      }
    },
    {
      "cell_type": "code",
      "source": [
        "from dataclasses import dataclass\n",
        "from typing import ClassVar\n",
        "\n",
        "@dataclass(eq=True, frozen=True)\n",
        "class Domicilio:\n",
        "    calle: str\n",
        "    numero: int = 0\n",
        "\n",
        "@dataclass(eq=True, frozen=True)\n",
        "class Persona:\n",
        "    nombre: str\n",
        "    apellido: str\n",
        "    domicilio: Domicilio\n",
        "    contador_personas: ClassVar[int] = 0\n",
        "\n",
        "    def __post_init__(self):\n",
        "        if not self.nombre:\n",
        "            raise ValueError(f'Valor nombre vacío: {self.nombre}')\n",
        "\n",
        "domicilio1 = Domicilio('Saturno', 15)\n",
        "persona1 = Persona('Juan','Perez', domicilio1)\n",
        "print(f'{persona1!r}')\n",
        "# Variable de clase\n",
        "print(f'Variable clase: {Persona.contador_personas}')\n",
        "# Variables de instancia\n",
        "print(f'Variables de instancia: {persona1.__dict__}')\n",
        "# Variable con valores vacíos\n",
        "persona_vacia = Persona('Karla','', None)\n",
        "print(f'Persona vacía: {persona_vacia}')\n",
        "# Revisar igualdad entre objetos (__eq__)\n",
        "persona2 = Persona('Juan','Perez', Domicilio('Saturno', 15))\n",
        "print(f'Objetos iguales?: {persona1 == persona2}')\n",
        "# Agregar esta clase a una colecciones\n",
        "coleccion = {persona1, persona2}\n",
        "print(coleccion)\n",
        "# Frozen = True\n",
        "# coleccion[0].nombre='Juan Carlos'\n",
        "# persona1.nombre = 'Juan Carlos'"
      ],
      "metadata": {
        "id": "m1WOxEsuulVy",
        "colab": {
          "base_uri": "https://localhost:8080/"
        },
        "outputId": "45b49b2f-1e73-48ba-d0e6-cb99cffff019"
      },
      "execution_count": null,
      "outputs": [
        {
          "output_type": "stream",
          "name": "stdout",
          "text": [
            "Persona(nombre='Juan', apellido='Perez', domicilio=Domicilio(calle='Saturno', numero=15))\n",
            "Variable clase: 0\n",
            "Variables de instancia: {'nombre': 'Juan', 'apellido': 'Perez', 'domicilio': Domicilio(calle='Saturno', numero=15)}\n",
            "Persona vacía: Persona(nombre='Karla', apellido='', domicilio=None)\n",
            "Objetos iguales?: True\n",
            "{Persona(nombre='Juan', apellido='Perez', domicilio=Domicilio(calle='Saturno', numero=15))}\n"
          ]
        }
      ]
    },
    {
      "cell_type": "markdown",
      "source": [
        "El decorador dataclass en Python se utiliza para simplificar la creación de clases que principalmente almacenan datos (data classes). Fue introducido en Python 3.7 como parte del módulo dataclasses. Antes de dataclass, si querías crear una clase cuyo propósito principal era almacenar datos, tenías que escribir manualmente muchos métodos especiales como __init__, __repr__, __eq__, y otros.\n",
        "\n",
        "dataclass automatiza la creación de estos métodos especiales basándose en los atributos de la clase. Aquí tienes un ejemplo simple de cómo se usa:"
      ],
      "metadata": {
        "id": "waD4OHZdulGv"
      }
    },
    {
      "cell_type": "code",
      "source": [
        "from dataclasses import dataclass\n",
        "\n",
        "@dataclass\n",
        "class Persona:\n",
        "    nombre: str\n",
        "    edad: int\n",
        "    ciudad: str\n",
        "\n",
        "# Crear una instancia de la clase Persona\n",
        "persona = Persona(nombre=\"Juan\", edad=25, ciudad=\"Ciudad A\")\n",
        "\n",
        "# Acceder a los atributos\n",
        "print(persona.nombre)  # Salida: Juan\n",
        "print(persona.edad)    # Salida: 25\n",
        "print(persona.ciudad)  # Salida: Ciudad A\n"
      ],
      "metadata": {
        "id": "t8Qj0kRPHPx-"
      },
      "execution_count": null,
      "outputs": []
    },
    {
      "cell_type": "markdown",
      "source": [
        "En este ejemplo, @dataclass decorará la clase Persona. La clase ahora tiene automáticamente un método __init__ que inicializa los atributos, un método __repr__ que proporciona una representación de cadena legible, y otros métodos como __eq__ para comparar instancias, __hash__ para obtener un valor hash, etc.\n",
        "\n",
        "En resumen, dataclass es útil cuando estás creando clases cuyo principal propósito es almacenar datos y quieres evitar tener que escribir manualmente los métodos especiales asociados. Simplifica y hace más legible el código relacionado con la creación y manipulación de instancias de clases de datos."
      ],
      "metadata": {
        "id": "1KfXYL-vHXfj"
      }
    },
    {
      "cell_type": "markdown",
      "source": [
        "**3113-315: Procesar documentos JSON en python**\n",
        "\n",
        "Existen varias maneras, como el modulo request, pero la que se a continuacion es una de las mas simples"
      ],
      "metadata": {
        "id": "zivHWHp1lPXG"
      }
    },
    {
      "cell_type": "code",
      "source": [
        "# Leer archivo json\n",
        "# json = JavaScript Object Notation\n",
        "import urllib.request\n",
        "import json\n",
        "\n",
        "# Debido a cambios en la libreria ahora se deben pasar algunos cabeceros html\n",
        "peticion = urllib.request.Request(\n",
        "    'http://globalmentoring.com.mx/api/personas.json',\n",
        "    data=None,\n",
        "    headers={\n",
        "        'User-Agent': 'Mozilla/5.0 (Macintosh; Intel Mac OS X 10_9_3) AppleWebKit/537.36 (KHTML, like Gecko) Chrome/35.0.1916.47 Safari/537.36'\n",
        "    }\n",
        ")\n",
        "respuesta = urllib.request.urlopen(peticion)\n",
        "print(respuesta)\n",
        "cuerpo_respuesta = respuesta.read()\n",
        "print(cuerpo_respuesta)\n",
        "# Procesamos la respuesta json\n",
        "json_respuesta = json.loads(cuerpo_respuesta.decode(\"utf-8\"))\n",
        "print(json_respuesta)\n",
        "# Imprimimos sólo los nombres de las personas\n",
        "# json se convierte a listas y diccionarios de python\n",
        "print('Nombres de las personas en el archivo json:')\n",
        "for persona in json_respuesta['personas']:\n",
        "    print(persona['nombre'], persona['edad'])\n",
        "# Accedemos al total de personas de archivo\n",
        "print(f'Total de personas: {json_respuesta[\"total\"]}')\n",
        "# Accedemos al mensaje del archivo\n",
        "\n",
        "#esta es la 3er propiedad y se peude acceder asi como en la 2da propiedad igual\n",
        "print(f'Mensaje: {json_respuesta[\"mensaje\"]}')\n"
      ],
      "metadata": {
        "colab": {
          "base_uri": "https://localhost:8080/"
        },
        "id": "_3bZ83jNHX-x",
        "outputId": "c592e6f0-afb3-45c3-cbc5-4d7e6f01c45c"
      },
      "execution_count": null,
      "outputs": [
        {
          "output_type": "stream",
          "name": "stdout",
          "text": [
            "<http.client.HTTPResponse object at 0x7a7b04947700>\n",
            "b'{\"personas\":[{\"nombre\": \"Juan Perez\", \"edad\": \"28\"},{\"nombre\": \"Karla Gomez\", \"edad\": \"32\"},{\"nombre\": \"Carlos Lara\", \"edad\": \"35\"},{\"nombre\": \"Mar\\xc3\\xada Esparza\", \"edad\": \"22\"},{\"nombre\": \"Pedro Santos\", \"edad\": \"40\"}], \"total\": 5, \"mensaje\": \"exitoso\"}'\n",
            "{'personas': [{'nombre': 'Juan Perez', 'edad': '28'}, {'nombre': 'Karla Gomez', 'edad': '32'}, {'nombre': 'Carlos Lara', 'edad': '35'}, {'nombre': 'María Esparza', 'edad': '22'}, {'nombre': 'Pedro Santos', 'edad': '40'}], 'total': 5, 'mensaje': 'exitoso'}\n",
            "Nombres de las personas en el archivo json:\n",
            "Juan Perez 28\n",
            "Karla Gomez 32\n",
            "Carlos Lara 35\n",
            "María Esparza 22\n",
            "Pedro Santos 40\n",
            "Total de personas: 5\n",
            "Mensaje: exitoso\n"
          ]
        }
      ]
    },
    {
      "cell_type": "markdown",
      "source": [
        "**Ejercicio 316: consulta clima con JSON y Python**"
      ],
      "metadata": {
        "id": "WbdMSoRrsJJg"
      }
    },
    {
      "cell_type": "code",
      "source": [
        "import json\n",
        "import urllib.request\n",
        "\n",
        "# Debido a cambios en la libreria ahora se deben pasar algunos cabeceros html\n",
        "peticion = urllib.request.Request(\n",
        "    'http://globalmentoring.com.mx/api/clima.json',\n",
        "    data=None,\n",
        "    headers={\n",
        "        'User-Agent': 'Mozilla/5.0 (Macintosh; Intel Mac OS X 10_9_3) AppleWebKit/537.36 (KHTML, like Gecko) Chrome/35.0.1916.47 Safari/537.36'\n",
        "    }\n",
        ")\n",
        "respuesta = urllib.request.urlopen(peticion)\n",
        "# print(respuesta)\n",
        "cuerpo_respuesta = respuesta.read()\n",
        "#print(cuerpo_respuesta)\n",
        "# Procesamos la respuesta json\n",
        "json_respuesta = json.loads(cuerpo_respuesta.decode('utf-8'))\n",
        "# print(json_respuesta)\n",
        "# Ejercicio 1. Acceder a la descripción del clima\n",
        "# descripcion_clima = json_respuesta.get('clima')[0].get('descripcion')\n",
        "descripcion_clima = json_respuesta['clima'][0]['descripcion']\n",
        "print(f'Descripción clima: {descripcion_clima}')\n",
        "# Ejercicio 2. Mostrar la temperatura mínima y máxima\n",
        "temp_min = json_respuesta.get('principal').get('temp_min')\n",
        "print(f'Temperatura mínima: {temp_min}')\n",
        "temp_max = json_respuesta.get('principal').get('temp_max')\n",
        "print(f'Temperatura máxima: {temp_max}')"
      ],
      "metadata": {
        "id": "PnMNPTMElLAM"
      },
      "execution_count": null,
      "outputs": []
    },
    {
      "cell_type": "markdown",
      "source": [
        "**Ejercicio 317: Introduccion a Tkinter**\n",
        "\n",
        "\n",
        "Tkinter es una biblioteca estándar de Python que se utiliza para crear interfaces gráficas de usuario (GUI). Permite a los desarrolladores de Python crear aplicaciones con ventanas, botones, cuadros de texto, etiquetas y otros elementos visuales con los que los usuarios pueden interactuar.\n",
        "\n",
        "Algunas de las características y usos comunes de Tkinter incluyen:\n",
        "\n",
        "Desarrollo de Aplicaciones de Escritorio: Tkinter es utilizado para crear aplicaciones de escritorio con una interfaz gráfica de usuario.\n",
        "\n",
        "Herramientas Administrativas: Puede utilizarse para construir herramientas administrativas con una interfaz gráfica más amigable para el usuario.\n",
        "\n",
        "Programas de Configuración: A menudo se utiliza en programas de configuración que permiten a los usuarios ajustar preferencias y configuraciones.\n",
        "\n",
        "Aplicaciones Educativas: Es comúnmente utilizado en aplicaciones educativas para enseñar programación de GUI a principiantes debido a su simplicidad y facilidad de uso.\n",
        "\n",
        "Prototipado Rápido: Tkinter es útil para el prototipado rápido de interfaces gráficas, permitiendo a los desarrolladores visualizar y probar rápidamente diseños.\n",
        "\n",
        "Herramientas de Productividad: Puede ser utilizado para construir herramientas de productividad que facilitan tareas específicas a través de una interfaz gráfica.\n",
        "\n",
        "Un ejemplo simple de una aplicación Tkinter sería una calculadora con botones para los dígitos y operadores. Aquí hay un ejemplo básico para darte una idea:"
      ],
      "metadata": {
        "id": "BbiqO_fYAGaG"
      }
    },
    {
      "cell_type": "code",
      "source": [
        "# GUI - Graphical User Interface\n",
        "# Tkinter - TK Interface\n",
        "# Importamos el módulo de tkinter\n",
        "import tkinter as tk\n",
        "\n",
        "# Creamos un objeto usando la clase Tk\n",
        "ventana = tk.Tk()\n",
        "# Modificamos el tamaño de la ventana (pixeles)\n",
        "ventana.geometry('600x400')\n",
        "# Cambiamos el nombre de la ventana\n",
        "ventana.title('Hola Mundo')\n",
        "# Iniciamos la ventana (esta línea la ejecutamos al final)\n",
        "# Si la ejecutamos antes, no se muestran los cambios anteriores\n",
        "ventana.mainloop()"
      ],
      "metadata": {
        "colab": {
          "base_uri": "https://localhost:8080/",
          "height": 402
        },
        "id": "-aW0e2enAGz9",
        "outputId": "815de152-9257-43ed-91ea-86fdee65e66a"
      },
      "execution_count": null,
      "outputs": [
        {
          "output_type": "error",
          "ename": "TclError",
          "evalue": "ignored",
          "traceback": [
            "\u001b[0;31m---------------------------------------------------------------------------\u001b[0m",
            "\u001b[0;31mTclError\u001b[0m                                  Traceback (most recent call last)",
            "\u001b[0;32m<ipython-input-3-4436ec91dc53>\u001b[0m in \u001b[0;36m<cell line: 7>\u001b[0;34m()\u001b[0m\n\u001b[1;32m      5\u001b[0m \u001b[0;34m\u001b[0m\u001b[0m\n\u001b[1;32m      6\u001b[0m \u001b[0;31m# Creamos un objeto usando la clase Tk\u001b[0m\u001b[0;34m\u001b[0m\u001b[0;34m\u001b[0m\u001b[0m\n\u001b[0;32m----> 7\u001b[0;31m \u001b[0mventana\u001b[0m \u001b[0;34m=\u001b[0m \u001b[0mtk\u001b[0m\u001b[0;34m.\u001b[0m\u001b[0mTk\u001b[0m\u001b[0;34m(\u001b[0m\u001b[0;34m)\u001b[0m\u001b[0;34m\u001b[0m\u001b[0;34m\u001b[0m\u001b[0m\n\u001b[0m\u001b[1;32m      8\u001b[0m \u001b[0;31m# Modificamos el tamaño de la ventana (pixeles)\u001b[0m\u001b[0;34m\u001b[0m\u001b[0;34m\u001b[0m\u001b[0m\n\u001b[1;32m      9\u001b[0m \u001b[0mventana\u001b[0m\u001b[0;34m.\u001b[0m\u001b[0mgeometry\u001b[0m\u001b[0;34m(\u001b[0m\u001b[0;34m'600x400'\u001b[0m\u001b[0;34m)\u001b[0m\u001b[0;34m\u001b[0m\u001b[0;34m\u001b[0m\u001b[0m\n",
            "\u001b[0;32m/usr/lib/python3.10/tkinter/__init__.py\u001b[0m in \u001b[0;36m__init__\u001b[0;34m(self, screenName, baseName, className, useTk, sync, use)\u001b[0m\n\u001b[1;32m   2297\u001b[0m                 \u001b[0mbaseName\u001b[0m \u001b[0;34m=\u001b[0m \u001b[0mbaseName\u001b[0m \u001b[0;34m+\u001b[0m \u001b[0mext\u001b[0m\u001b[0;34m\u001b[0m\u001b[0;34m\u001b[0m\u001b[0m\n\u001b[1;32m   2298\u001b[0m         \u001b[0minteractive\u001b[0m \u001b[0;34m=\u001b[0m \u001b[0;32mFalse\u001b[0m\u001b[0;34m\u001b[0m\u001b[0;34m\u001b[0m\u001b[0m\n\u001b[0;32m-> 2299\u001b[0;31m         \u001b[0mself\u001b[0m\u001b[0;34m.\u001b[0m\u001b[0mtk\u001b[0m \u001b[0;34m=\u001b[0m \u001b[0m_tkinter\u001b[0m\u001b[0;34m.\u001b[0m\u001b[0mcreate\u001b[0m\u001b[0;34m(\u001b[0m\u001b[0mscreenName\u001b[0m\u001b[0;34m,\u001b[0m \u001b[0mbaseName\u001b[0m\u001b[0;34m,\u001b[0m \u001b[0mclassName\u001b[0m\u001b[0;34m,\u001b[0m \u001b[0minteractive\u001b[0m\u001b[0;34m,\u001b[0m \u001b[0mwantobjects\u001b[0m\u001b[0;34m,\u001b[0m \u001b[0museTk\u001b[0m\u001b[0;34m,\u001b[0m \u001b[0msync\u001b[0m\u001b[0;34m,\u001b[0m \u001b[0muse\u001b[0m\u001b[0;34m)\u001b[0m\u001b[0;34m\u001b[0m\u001b[0;34m\u001b[0m\u001b[0m\n\u001b[0m\u001b[1;32m   2300\u001b[0m         \u001b[0;32mif\u001b[0m \u001b[0museTk\u001b[0m\u001b[0;34m:\u001b[0m\u001b[0;34m\u001b[0m\u001b[0;34m\u001b[0m\u001b[0m\n\u001b[1;32m   2301\u001b[0m             \u001b[0mself\u001b[0m\u001b[0;34m.\u001b[0m\u001b[0m_loadtk\u001b[0m\u001b[0;34m(\u001b[0m\u001b[0;34m)\u001b[0m\u001b[0;34m\u001b[0m\u001b[0;34m\u001b[0m\u001b[0m\n",
            "\u001b[0;31mTclError\u001b[0m: no display name and no $DISPLAY environment variable"
          ]
        }
      ]
    },
    {
      "cell_type": "markdown",
      "source": [
        "Para hacer una calculadora con interfaz grafica"
      ],
      "metadata": {
        "id": "uMtWjabSEoce"
      }
    },
    {
      "cell_type": "code",
      "source": [
        "import tkinter as tk\n",
        "\n",
        "def click_button(value):\n",
        "    current = str(entry.get())\n",
        "    entry.delete(0, tk.END)\n",
        "    entry.insert(tk.END, current + str(value))\n",
        "\n",
        "def clear_entry():\n",
        "    entry.delete(0, tk.END)\n",
        "\n",
        "def calculate():\n",
        "    try:\n",
        "        result = eval(entry.get())\n",
        "        entry.delete(0, tk.END)\n",
        "        entry.insert(tk.END, str(result))\n",
        "    except Exception as e:\n",
        "        entry.delete(0, tk.END)\n",
        "        entry.insert(tk.END, \"Error\")\n",
        "\n",
        "# Crear la ventana principal\n",
        "root = tk.Tk()\n",
        "root.title(\"Calculadora\")\n",
        "\n",
        "# Crear un widget de entrada\n",
        "entry = tk.Entry(root, width=16, font=('Arial', 16), justify='right')\n",
        "entry.grid(row=0, column=0, columnspan=4)\n",
        "\n",
        "# Definir los botones y colocarlos en la interfaz\n",
        "buttons = [\n",
        "    '7', '8', '9', '/',\n",
        "    '4', '5', '6', '*',\n",
        "    '1', '2', '3', '-',\n",
        "    '0', '.', '=', '+'\n",
        "]\n",
        "\n",
        "row_val = 1\n",
        "col_val = 0\n",
        "\n",
        "for button in buttons:\n",
        "    tk.Button(root, text=button, padx=20, pady=20, font=('Arial', 14),\n",
        "              command=lambda b=button: click_button(b) if b != '=' else calculate()).grid(row=row_val, column=col_val)\n",
        "    col_val += 1\n",
        "    if col_val > 3:\n",
        "        col_val = 0\n",
        "        row_val += 1\n",
        "\n",
        "# Ejecutar la aplicación\n",
        "root.mainloop()\n"
      ],
      "metadata": {
        "colab": {
          "base_uri": "https://localhost:8080/",
          "height": 402
        },
        "id": "KzhRZXC9BUVh",
        "outputId": "89a25622-70d8-406d-90d2-da2e88fdeda4"
      },
      "execution_count": null,
      "outputs": [
        {
          "output_type": "error",
          "ename": "TclError",
          "evalue": "ignored",
          "traceback": [
            "\u001b[0;31m---------------------------------------------------------------------------\u001b[0m",
            "\u001b[0;31mTclError\u001b[0m                                  Traceback (most recent call last)",
            "\u001b[0;32m<ipython-input-5-9dbb91f9fb20>\u001b[0m in \u001b[0;36m<cell line: 21>\u001b[0;34m()\u001b[0m\n\u001b[1;32m     19\u001b[0m \u001b[0;34m\u001b[0m\u001b[0m\n\u001b[1;32m     20\u001b[0m \u001b[0;31m# Crear la ventana principal\u001b[0m\u001b[0;34m\u001b[0m\u001b[0;34m\u001b[0m\u001b[0m\n\u001b[0;32m---> 21\u001b[0;31m \u001b[0mroot\u001b[0m \u001b[0;34m=\u001b[0m \u001b[0mtk\u001b[0m\u001b[0;34m.\u001b[0m\u001b[0mTk\u001b[0m\u001b[0;34m(\u001b[0m\u001b[0;34m)\u001b[0m\u001b[0;34m\u001b[0m\u001b[0;34m\u001b[0m\u001b[0m\n\u001b[0m\u001b[1;32m     22\u001b[0m \u001b[0mroot\u001b[0m\u001b[0;34m.\u001b[0m\u001b[0mtitle\u001b[0m\u001b[0;34m(\u001b[0m\u001b[0;34m\"Calculadora\"\u001b[0m\u001b[0;34m)\u001b[0m\u001b[0;34m\u001b[0m\u001b[0;34m\u001b[0m\u001b[0m\n\u001b[1;32m     23\u001b[0m \u001b[0;34m\u001b[0m\u001b[0m\n",
            "\u001b[0;32m/usr/lib/python3.10/tkinter/__init__.py\u001b[0m in \u001b[0;36m__init__\u001b[0;34m(self, screenName, baseName, className, useTk, sync, use)\u001b[0m\n\u001b[1;32m   2297\u001b[0m                 \u001b[0mbaseName\u001b[0m \u001b[0;34m=\u001b[0m \u001b[0mbaseName\u001b[0m \u001b[0;34m+\u001b[0m \u001b[0mext\u001b[0m\u001b[0;34m\u001b[0m\u001b[0;34m\u001b[0m\u001b[0m\n\u001b[1;32m   2298\u001b[0m         \u001b[0minteractive\u001b[0m \u001b[0;34m=\u001b[0m \u001b[0;32mFalse\u001b[0m\u001b[0;34m\u001b[0m\u001b[0;34m\u001b[0m\u001b[0m\n\u001b[0;32m-> 2299\u001b[0;31m         \u001b[0mself\u001b[0m\u001b[0;34m.\u001b[0m\u001b[0mtk\u001b[0m \u001b[0;34m=\u001b[0m \u001b[0m_tkinter\u001b[0m\u001b[0;34m.\u001b[0m\u001b[0mcreate\u001b[0m\u001b[0;34m(\u001b[0m\u001b[0mscreenName\u001b[0m\u001b[0;34m,\u001b[0m \u001b[0mbaseName\u001b[0m\u001b[0;34m,\u001b[0m \u001b[0mclassName\u001b[0m\u001b[0;34m,\u001b[0m \u001b[0minteractive\u001b[0m\u001b[0;34m,\u001b[0m \u001b[0mwantobjects\u001b[0m\u001b[0;34m,\u001b[0m \u001b[0museTk\u001b[0m\u001b[0;34m,\u001b[0m \u001b[0msync\u001b[0m\u001b[0;34m,\u001b[0m \u001b[0muse\u001b[0m\u001b[0;34m)\u001b[0m\u001b[0;34m\u001b[0m\u001b[0;34m\u001b[0m\u001b[0m\n\u001b[0m\u001b[1;32m   2300\u001b[0m         \u001b[0;32mif\u001b[0m \u001b[0museTk\u001b[0m\u001b[0;34m:\u001b[0m\u001b[0;34m\u001b[0m\u001b[0;34m\u001b[0m\u001b[0m\n\u001b[1;32m   2301\u001b[0m             \u001b[0mself\u001b[0m\u001b[0;34m.\u001b[0m\u001b[0m_loadtk\u001b[0m\u001b[0;34m(\u001b[0m\u001b[0;34m)\u001b[0m\u001b[0;34m\u001b[0m\u001b[0;34m\u001b[0m\u001b[0m\n",
            "\u001b[0;31mTclError\u001b[0m: no display name and no $DISPLAY environment variable"
          ]
        }
      ]
    },
    {
      "cell_type": "markdown",
      "source": [
        "CHATGPT interfaz para serie de tiempo"
      ],
      "metadata": {
        "id": "Icz6kAwnCnI9"
      }
    },
    {
      "cell_type": "code",
      "source": [
        "import tkinter as tk\n",
        "from tkinter import filedialog\n",
        "import pandas as pd\n",
        "import matplotlib.pyplot as plt\n",
        "from statsmodels.tsa.arima.model import ARIMA\n",
        "\n",
        "class TimeSeriesApp:\n",
        "    def __init__(self, master):\n",
        "        self.master = master\n",
        "        self.master.title(\"Modelo de Serie de Tiempo\")\n",
        "\n",
        "        # Variables\n",
        "        self.data = None\n",
        "\n",
        "        # Interfaz\n",
        "        self.label = tk.Label(master, text=\"Cargar archivo de datos:\")\n",
        "        self.label.pack()\n",
        "\n",
        "        self.load_button = tk.Button(master, text=\"Cargar\", command=self.load_data)\n",
        "        self.load_button.pack()\n",
        "\n",
        "        self.plot_button = tk.Button(master, text=\"Visualizar\", command=self.plot_data)\n",
        "        self.plot_button.pack()\n",
        "\n",
        "        self.fit_button = tk.Button(master, text=\"Ajustar Modelo ARIMA\", command=self.fit_arima)\n",
        "        self.fit_button.pack()\n",
        "\n",
        "    def load_data(self):\n",
        "        file_path = filedialog.askopenfilename(title=\"Seleccionar archivo CSV\", filetypes=[(\"CSV files\", \"*.csv\")])\n",
        "        if file_path:\n",
        "            self.data = pd.read_csv(file_path)\n",
        "            print(\"Datos cargados correctamente.\")\n",
        "\n",
        "    def plot_data(self):\n",
        "        if self.data is not None:\n",
        "            plt.plot(self.data['Date'], self.data['Value'])\n",
        "            plt.title(\"Visualización de Datos de Serie de Tiempo\")\n",
        "            plt.xlabel(\"Fecha\")\n",
        "            plt.ylabel(\"Valor\")\n",
        "            plt.show()\n",
        "        else:\n",
        "            print(\"No se han cargado datos.\")\n",
        "\n",
        "    def fit_arima(self):\n",
        "        if self.data is not None:\n",
        "            # Aquí puedes implementar la lógica para ajustar un modelo ARIMA usando statsmodels\n",
        "            # En este ejemplo, simplemente mostraremos un mensaje\n",
        "            print(\"Modelo ARIMA ajustado correctamente.\")\n",
        "        else:\n",
        "            print(\"No se han cargado datos.\")\n",
        "\n",
        "# Crear la aplicación\n",
        "root = tk.Tk()\n",
        "app = TimeSeriesApp(root)\n",
        "\n",
        "# Ejecutar la aplicación\n",
        "root.mainloop()\n"
      ],
      "metadata": {
        "id": "rgZjJ5inB2U1"
      },
      "execution_count": null,
      "outputs": []
    },
    {
      "cell_type": "markdown",
      "source": [
        "**Ejercicio 318-319: Manejo de botones y eventos en Tkinter**\n",
        "\n",
        "\n",
        "\n"
      ],
      "metadata": {
        "id": "U8uq6-NHur6y"
      }
    },
    {
      "cell_type": "code",
      "source": [
        "# GUI - Graphical User Interface\n",
        "# Tkinter - TK Interface\n",
        "# Importamos el módulo de tkinter\n",
        "import tkinter as tk\n",
        "# Importamos el módulo del tema de tkinter\n",
        "from tkinter import ttk\n",
        "\n",
        "# Creamos un objeto usando la clase Tk\n",
        "ventana = tk.Tk()\n",
        "# Modificamos el tamaño de la ventana (pixeles)\n",
        "ventana.geometry('600x400')\n",
        "# Cambiamos el nombre de la ventana\n",
        "ventana.title('Hola Mundo')\n",
        "# Configuramos el ícono de la aplicación\n",
        "ventana.iconbitmap('icono.ico')\n",
        "\n",
        "# Creamos un método evento_click\n",
        "def evento_click():\n",
        "    boton1.config(text='Botón presionado')\n",
        "    print('Ejecución del evento_click')\n",
        "    # Creamos un nuevo botón y lo mostramos\n",
        "    boton2 = ttk.Button(ventana, text='Nuevo botón')\n",
        "    boton2.pack()\n",
        "\n",
        "# Creamos un boton (widget), el objeto padre es ventana\n",
        "boton1 = ttk.Button(ventana, text='Dar click', command=evento_click)\n",
        "# Utilizar el pack layout manager para mostrar el botón de la ventana\n",
        "boton1.pack()\n",
        "# Iniciamos la ventana (esta línea la ejecutamos al final)\n",
        "# Si la ejecutamos antes, no se muestran los cambios anteriores\n",
        "ventana.mainloop()"
      ],
      "metadata": {
        "id": "fh5udZkPu79X"
      },
      "execution_count": null,
      "outputs": []
    },
    {
      "cell_type": "markdown",
      "source": [
        "**320-324: Manejo de Grid manager en Tkinter, Propiedad sticky dentro del grid, Configuración de grid, Configuracion de botones, Padding**\n"
      ],
      "metadata": {
        "id": "2HmVeb_IABFm"
      }
    },
    {
      "cell_type": "code",
      "source": [
        "import tkinter as tk\n",
        "from tkinter import ttk\n",
        "\n",
        "ventana = tk.Tk()\n",
        "ventana.geometry('600x400')\n",
        "ventana.title('Manejo de Grid')\n",
        "ventana.iconbitmap('icono.ico')\n",
        "\n",
        "# Configurar el grid\n",
        "ventana.rowconfigure(0, weight=2)\n",
        "ventana.rowconfigure(1, weight=10)\n",
        "ventana.columnconfigure(0, weight=1)\n",
        "ventana.columnconfigure(1, weight=5)\n",
        "\n",
        "# Métodos de los eventos\n",
        "def evento1():\n",
        "    boton1.config(text='Botón 1 presionado')\n",
        "\n",
        "def evento2():\n",
        "    boton2.config(text='Botón 2 presionado')\n",
        "\n",
        "def evento4():\n",
        "    boton4.config(text='Botón 4 presionado', fg='blue', relief=tk.GROOVE, bg='yellow')\n",
        "\n",
        "# Definimos los botones\n",
        "boton1 = ttk.Button(ventana, text='Botón 1', command=evento1)\n",
        "boton1.grid(row=0, column=0, sticky='NSWE',\n",
        "            padx=40, pady=30, ipadx=20, ipady=50, columnspan=2, rowspan=2)\n",
        "\n",
        "# N(arriba), E(derecha), S(abajo), W(izquierda)\n",
        "boton2 = ttk.Button(ventana, text='Botón 2', command=evento2)\n",
        "# boton2.grid(row=1,column=0, sticky='NSWE')\n",
        "\n",
        "# Boton3\n",
        "boton3 = ttk.Button(ventana, text='Botón 3')\n",
        "# boton3.grid(row=0, column=1, sticky='NSWE')\n",
        "\n",
        "# Boton4\n",
        "boton4= tk.Button(ventana,text='Botón 4', command=evento4)\n",
        "# boton4.grid(row=1, column=1, sticky='NSWE')\n",
        "\n",
        "ventana.mainloop()\n"
      ],
      "metadata": {
        "id": "YDFwSQHaus23"
      },
      "execution_count": null,
      "outputs": []
    },
    {
      "cell_type": "markdown",
      "source": [
        "**325-328:Componente entry, Propiedades del componente entry, Manejo de eventos de entry, Manejo de variables y componente entry**"
      ],
      "metadata": {
        "id": "MHYe12jC1PVN"
      }
    },
    {
      "cell_type": "code",
      "source": [
        "import tkinter as tk\n",
        "from tkinter import ttk\n",
        "\n",
        "ventana = tk.Tk()\n",
        "ventana.geometry('600x400')\n",
        "ventana.title('Manejo de Grid')\n",
        "ventana.iconbitmap('icono.ico')\n",
        "\n",
        "# Definimos una variable que podremos modificar posteriormente (set), leer(get)\n",
        "entrada_var1 = tk.StringVar(value='Valor por default')\n",
        "entrada1 = ttk.Entry(ventana, width=30, textvariable=entrada_var1)\n",
        "entrada1.grid(row=0, column=0)\n",
        "# entrada1.insert(0,'Introduce una cadena')\n",
        "# entrada1.insert(tk.END, '.')\n",
        "\n",
        "def enviar():\n",
        "    # Recuperamos la información a partir de la variable asociada con la caja de texto\n",
        "    boton1.config(text=entrada_var1.get())\n",
        "    # Modificación utilizamos la variable de texto y el método set\n",
        "    entrada_var1.set('Cambio...')\n",
        "    # Recuperamos la información\n",
        "    print(entrada_var1.get())\n",
        "    print(entrada1.get())\n",
        "\n",
        "# Creamos un botón\n",
        "boton1 = ttk.Button(ventana, text='Enviar', command=enviar)\n",
        "boton1.grid(row=0, column=1)\n",
        "\n",
        "ventana.mainloop()\n"
      ],
      "metadata": {
        "id": "yatzmT2Y1PnJ"
      },
      "execution_count": null,
      "outputs": []
    },
    {
      "cell_type": "markdown",
      "source": [
        "**329-330:Manejo de etiquetas, manejo de mensajes**"
      ],
      "metadata": {
        "id": "3M6bGfTxOHY_"
      }
    },
    {
      "cell_type": "code",
      "source": [
        "import tkinter as tk\n",
        "from tkinter import ttk, messagebox\n",
        "\n",
        "ventana = tk.Tk()\n",
        "ventana.geometry('600x400')\n",
        "ventana.title('Manejo de Componentes')\n",
        "ventana.iconbitmap('icono.ico')\n",
        "\n",
        "entrada1 = ttk.Entry(ventana, width=30)\n",
        "entrada1.grid(row=0, column=0)\n",
        "\n",
        "# Etiqueta (label)\n",
        "etiqueta1 = tk.Label(ventana, text='Aquí se mostrará el contenido de la caja de texto')\n",
        "etiqueta1.grid(row=1, column=0, columnspan=2)\n",
        "\n",
        "def enviar():\n",
        "    # Modificamos el texto del label\n",
        "    etiqueta1.config(text=entrada1.get())\n",
        "    # Messagebox (cajas mensajes)\n",
        "    mensaje1 = entrada1.get()\n",
        "    if mensaje1:\n",
        "        messagebox.showinfo('Mensaje Informativo', mensaje1 + ' Informativo')\n",
        "        messagebox.showerror('Mensaje Error', mensaje1 + ' Error')\n",
        "        messagebox.showwarning('Mensaje Alerta', mensaje1 + ' Alerta')\n",
        "\n",
        "# Creamos un botón\n",
        "boton1 = ttk.Button(ventana, text='Enviar', command=enviar)\n",
        "boton1.grid(row=0, column=1)\n",
        "\n",
        "ventana.mainloop()"
      ],
      "metadata": {
        "id": "vobgbQoyOJZr"
      },
      "execution_count": null,
      "outputs": []
    },
    {
      "cell_type": "markdown",
      "source": [
        "**331-332: Menús**"
      ],
      "metadata": {
        "id": "jN5Vp_M0eCE6"
      }
    },
    {
      "cell_type": "code",
      "source": [
        "import tkinter as tk\n",
        "from tkinter import ttk, messagebox, Menu\n",
        "\n",
        "ventana = tk.Tk()\n",
        "ventana.geometry('600x400')\n",
        "ventana.title('Manejo de Componentes')\n",
        "ventana.iconbitmap('icono.ico')\n",
        "\n",
        "entrada1 = ttk.Entry(ventana, width=30)\n",
        "entrada1.grid(row=0, column=0)\n",
        "\n",
        "etiqueta1 = tk.Label(ventana, text='Aquí se mostrará el contenido de la caja de texto')\n",
        "etiqueta1.grid(row=1, column=0, columnspan=2)\n",
        "\n",
        "def enviar():\n",
        "    etiqueta1.config(text=entrada1.get())\n",
        "    mensaje1 = entrada1.get()\n",
        "    if mensaje1:\n",
        "        messagebox.showinfo('Mensaje Informativo', mensaje1 + ' Informativo')\n",
        "\n",
        "def crear_menu():\n",
        "    # Configurar el menú principal\n",
        "    menu_principal = Menu(ventana)\n",
        "    #tearoff = False para evitar que se separe el menú de la interfaz\n",
        "    submenu_archivo = Menu(menu_principal, tearoff=0)\n",
        "    # Agregamos una nueva opción al menú de archivo\n",
        "    submenu_archivo.add_command(label='Nuevo')\n",
        "    # Agregar un separador\n",
        "    submenu_archivo.add_separator()\n",
        "    # Agregamos la opción de salir\n",
        "    submenu_archivo.add_command(label='Salir')\n",
        "    # Agregamos el submenu al menu principal\n",
        "    menu_principal.add_cascade(menu=submenu_archivo, label='Archivo')\n",
        "    # Submenu ayuda\n",
        "    submenu_ayuda = Menu(menu_principal, tearoff=0)\n",
        "    # Agregamos una nueva opción al submenu\n",
        "    submenu_ayuda.add_command(label='Acerca De')\n",
        "    # Agregamos al menu principal este nuevo submenu\n",
        "    menu_principal.add_cascade(menu=submenu_ayuda, label='Ayuda')\n",
        "    # Mostramos el menu en la ventana principal\n",
        "    ventana.config(menu=menu_principal)\n",
        "\n",
        "boton1 = ttk.Button(ventana, text='Enviar', command=enviar)\n",
        "boton1.grid(row=0, column=1)\n",
        "\n",
        "crear_menu()\n",
        "\n",
        "ventana.mainloop()"
      ],
      "metadata": {
        "id": "COBXR3pweCYx"
      },
      "execution_count": null,
      "outputs": []
    },
    {
      "cell_type": "markdown",
      "source": [
        "**333: Programando la opción de salir en nuestro menú**"
      ],
      "metadata": {
        "id": "CVBi1WG6gTxr"
      }
    },
    {
      "cell_type": "code",
      "source": [
        "import sys\n",
        "import tkinter as tk\n",
        "from tkinter import ttk, messagebox, Menu\n",
        "\n",
        "ventana = tk.Tk()\n",
        "ventana.geometry('600x400')\n",
        "ventana.title('Manejo de Componentes')\n",
        "ventana.iconbitmap('icono.ico')\n",
        "\n",
        "entrada1 = ttk.Entry(ventana, width=30)\n",
        "entrada1.grid(row=0, column=0)\n",
        "\n",
        "etiqueta1 = tk.Label(ventana, text='Aquí se mostrará el contenido de la caja de texto')\n",
        "etiqueta1.grid(row=1, column=0, columnspan=2)\n",
        "\n",
        "def enviar():\n",
        "    etiqueta1.config(text=entrada1.get())\n",
        "    mensaje1 = entrada1.get()\n",
        "    if mensaje1:\n",
        "        messagebox.showinfo('Mensaje Informativo', mensaje1 + ' Informativo')\n",
        "\n",
        "def salir():\n",
        "    ventana.quit()\n",
        "    ventana.destroy()\n",
        "    print('Salimos...')\n",
        "    sys.exit()\n",
        "\n",
        "def crear_menu():\n",
        "    # Configurar el menú principal\n",
        "    menu_principal = Menu(ventana)\n",
        "    #tearoff = False para evitar que se separe el menú de la interfaz\n",
        "    submenu_archivo = Menu(menu_principal, tearoff=0)\n",
        "    # Agregamos una nueva opción al menú de archivo\n",
        "    submenu_archivo.add_command(label='Nuevo')\n",
        "    # Agregar un separador\n",
        "    submenu_archivo.add_separator()\n",
        "    # Agregamos la opción de salir\n",
        "    submenu_archivo.add_command(label='Salir', command=salir)\n",
        "    # Agregamos el submenu al menu principal\n",
        "    menu_principal.add_cascade(menu=submenu_archivo, label='Archivo')\n",
        "    # Submenu ayuda\n",
        "    submenu_ayuda = Menu(menu_principal, tearoff=0)\n",
        "    # Agregamos una nueva opción al submenu\n",
        "    submenu_ayuda.add_command(label='Acerca De')\n",
        "    # Agregamos al menu principal este nuevo submenu\n",
        "    menu_principal.add_cascade(menu=submenu_ayuda, label='Ayuda')\n",
        "    # Mostramos el menu en la ventana principal\n",
        "    ventana.config(menu=menu_principal)\n",
        "\n",
        "boton1 = ttk.Button(ventana, text='Enviar', command=enviar)\n",
        "boton1.grid(row=0, column=1)\n",
        "\n",
        "crear_menu()\n",
        "\n",
        "ventana.mainloop()"
      ],
      "metadata": {
        "id": "2dfg7QKPga-W"
      },
      "execution_count": null,
      "outputs": []
    },
    {
      "cell_type": "markdown",
      "source": [
        "**334-337: Ejercicio GUI loogin, solución**"
      ],
      "metadata": {
        "id": "EX2S9_nph6P4"
      }
    },
    {
      "cell_type": "code",
      "source": [
        "import tkinter as tk\n",
        "from tkinter import ttk, messagebox\n",
        "\n",
        "class LoginVentana(tk.Tk):\n",
        "    def __init__(self):\n",
        "        super().__init__()\n",
        "        # ventana principal\n",
        "        self.geometry('300x130')\n",
        "        self.title('Login')\n",
        "        self.iconbitmap('icono.ico')\n",
        "        self.resizable(0,0)\n",
        "        # configuración del grid\n",
        "        self.columnconfigure(0, weight=1)\n",
        "        self.columnconfigure(1, weight=3)\n",
        "        # Creamos los componentes\n",
        "        self._crear_componentes()\n",
        "\n",
        "    # Definir el método crear_componentes\n",
        "    def _crear_componentes(self):\n",
        "        # usuario\n",
        "        usuario_etiqueta = ttk.Label(self, text='Usuario:')\n",
        "        usuario_etiqueta.grid(row=0, column=0, sticky=tk.E, padx=5, pady=5)\n",
        "        self.usuario_entrada = ttk.Entry(self)\n",
        "        self.usuario_entrada.grid(row=0, column=1, sticky=tk.W, padx=5, pady=5)\n",
        "\n",
        "        # password\n",
        "        password_etiqueta = ttk.Label(self, text='Password:')\n",
        "        password_etiqueta.grid(row=1, column=0, sticky=tk.E, padx=5, pady=5)\n",
        "        self.password_entrada = ttk.Entry(self, show='*')\n",
        "        self.password_entrada.grid(row=1, column=1, sticky=tk.W, padx=5, pady=5)\n",
        "\n",
        "        # boton Login\n",
        "        login_boton = ttk.Button(self, text='Login', command=self._login)\n",
        "        login_boton.grid(row=3, column=0, columnspan=2)\n",
        "\n",
        "\n",
        "    def _login(self):\n",
        "        messagebox.showinfo('Datos Login',\n",
        "            f'usuario: {self.usuario_entrada.get()}, Password: {self.password_entrada.get()}')\n",
        "\n",
        "# Ejecutar la ventana\n",
        "if __name__ == '__main__':\n",
        "    login_ventana = LoginVentana()\n",
        "    login_ventana.mainloop()"
      ],
      "metadata": {
        "id": "Pg381wT11MJy"
      },
      "execution_count": null,
      "outputs": []
    },
    {
      "cell_type": "markdown",
      "source": [
        "**338-345:Manejo de tabuladores(Notebook) en Tkinter, Scrolled text, Data list, manejo de imagenes, barra de progreso**"
      ],
      "metadata": {
        "id": "c8nx_0daigk0"
      }
    },
    {
      "cell_type": "code",
      "source": [
        "import tkinter as tk\n",
        "from tkinter import ttk, messagebox, scrolledtext\n",
        "from time import sleep\n",
        "\n",
        "ventana = tk.Tk()\n",
        "ventana.geometry('650x400+1500+200')\n",
        "ventana.title('Componentes')\n",
        "ventana.iconbitmap('icono.ico')\n",
        "\n",
        "def crear_componentes_tabulador1(tabulador):\n",
        "    # Agregar una etiqueta y un componente de entrada\n",
        "    etiqueta1 = ttk.Label(tabulador, text='Nombre:')\n",
        "    etiqueta1.grid(row=0, column=0, sticky=tk.E)\n",
        "    entrada1 = ttk.Entry(tabulador, width=30)\n",
        "    entrada1.grid(row=0, column=1, padx=5, pady=5)\n",
        "\n",
        "    # Agregamos un botón\n",
        "    def enviar():\n",
        "        messagebox.showinfo('Mensaje', f'Nombre: {entrada1.get()}')\n",
        "\n",
        "    boton1 = ttk.Button(tabulador, text='Enviar', command=enviar)\n",
        "    boton1.grid(row=1, column=0, columnspan=2)\n",
        "\n",
        "def crear_componentes_tabulador2(tabulador):\n",
        "    contenido = 'Este es mi texto con el contenido'\n",
        "    # Creamos el componente de scroll\n",
        "    scroll = scrolledtext.ScrolledText(tabulador, width=50, height=10, wrap=tk.WORD)\n",
        "    scroll.insert(tk.INSERT, contenido)\n",
        "    # Mostramos el componente\n",
        "    scroll.grid(row=0, column=0)\n",
        "\n",
        "def crear_componentes_tabulador3(tabulador):\n",
        "    # Creamos una lista usando data list comprehensions\n",
        "    datos = [x+1 for x in range(100, 110)]\n",
        "    combobox = ttk.Combobox(tabulador, width=15, values=datos)\n",
        "    combobox.grid(row=0, column=0, padx=10, pady=10)\n",
        "    # Seleccionamos un elemento por default a mostrar\n",
        "    combobox.current(5)\n",
        "    # Agregar un boton para saber que opción seleccionó el usuario\n",
        "    def mostrar_valor():\n",
        "        messagebox.showinfo('Valor seleccionado', f'Valor seleccionado: {combobox.get()}')\n",
        "\n",
        "    boton1 = ttk.Button(tabulador, text='Mostrar valor Seleccionado', command=mostrar_valor)\n",
        "    boton1.grid(row=0, column=1)\n",
        "\n",
        "def crear_componentes_tabulador4(tabulador):\n",
        "    imagen = tk.PhotoImage(file='python-logo.png')\n",
        "    def mostrar_titulo():\n",
        "        messagebox.showinfo('Más info imagen', f'Nombre imagen: {imagen.cget(\"file\")}')\n",
        "    boton_imagen = ttk.Button(tabulador, image=imagen, command=mostrar_titulo)\n",
        "    boton_imagen.grid(row=0, column=0)\n",
        "\n",
        "def crear_componentes_tabulador5(tabulador):\n",
        "    # Creamos el componente de barra de progreso\n",
        "    barra_progreso = ttk.Progressbar(tabulador, orient='horizontal', length=550)\n",
        "    barra_progreso.grid(row=0, column=0, padx=10, pady=10, columnspan=4)\n",
        "    # Métodos para controlar los eventos de la barra de progreso\n",
        "    def ejecutar_barra():\n",
        "        barra_progreso['maximum'] = 100\n",
        "        for valor in range(101):\n",
        "            # Mandamos a esperar un poco antes de continuar con la ejecución de la barra\n",
        "            sleep(0.05)\n",
        "            # Incrementamos nuestra barra de progreso\n",
        "            barra_progreso['value'] = valor\n",
        "            # Actualizamos la barra de progreso\n",
        "            barra_progreso.update()\n",
        "        barra_progreso['value'] = 0\n",
        "\n",
        "    def ejecutar_ciclo():\n",
        "        barra_progreso.start()\n",
        "\n",
        "    def detener():\n",
        "        barra_progreso.stop()\n",
        "\n",
        "    def detener_despues():\n",
        "        esperar_ms = 1000\n",
        "        ventana.after(esperar_ms, barra_progreso.stop)\n",
        "\n",
        "    # Botones para controlar los eventos de una barra de progreso\n",
        "    boton_inicio = ttk.Button(tabulador,\n",
        "                              text='Ejecutar Barra de Progreso', command=ejecutar_barra)\n",
        "    boton_inicio.grid(row=1, column=0)\n",
        "    boton_ciclo = ttk.Button(tabulador, text='Ejecutar ciclo', command=ejecutar_ciclo)\n",
        "    boton_ciclo.grid(row=1, column=1)\n",
        "    boton_detener = ttk.Button(tabulador, text='Detener Ejecución', command=detener)\n",
        "    boton_detener.grid(row=1, column=2)\n",
        "    boton_despues = ttk.Button(tabulador,\n",
        "                               text='Detener Ejecución después', command=detener_despues)\n",
        "    boton_despues.grid(row=1, column=3)\n",
        "\n",
        "def crear_tabs():\n",
        "    # Creamos un tab control, para ello usamos la clase Notebook\n",
        "    control_tabulador = ttk.Notebook(ventana)\n",
        "    # Agregamos un marco (frame) para agregar dentrol del tab y organizar elementos\n",
        "    tabulador1 = ttk.Frame(control_tabulador)\n",
        "    # Agregamos el tabulador al control de tabuladores\n",
        "    control_tabulador.add(tabulador1, text='Tabulador 1')\n",
        "    # Mostramos el tabulador\n",
        "    control_tabulador.pack(fill='both')\n",
        "    # Creamos los componentes del tabulador1\n",
        "    crear_componentes_tabulador1(tabulador1)\n",
        "    # Creamos un segundo tabulador\n",
        "    tabulador2 = ttk.LabelFrame(control_tabulador, text='Contenido')\n",
        "    control_tabulador.add(tabulador2, text='Tabulador 2')\n",
        "    # Creamos los componentes del segundo tabulador\n",
        "    crear_componentes_tabulador2(tabulador2)\n",
        "    # Crear un tercer tabulador\n",
        "    tabulador3 = ttk.Frame(control_tabulador)\n",
        "    control_tabulador.add(tabulador3, text='Tabulador 3')\n",
        "    # Creamos los componentes del tercer tabulador\n",
        "    crear_componentes_tabulador3(tabulador3)\n",
        "    # Crear un cuarto tabulador\n",
        "    tabulador4 = ttk.LabelFrame(control_tabulador, text='Imagen')\n",
        "    control_tabulador.add(tabulador4, text='Tabulador 4')\n",
        "    # Creamos los componentes del cuarto tabulador\n",
        "    crear_componentes_tabulador4(tabulador4)\n",
        "    # Crear un quinto tabulador\n",
        "    tabulador5 = ttk.LabelFrame(control_tabulador, text='Progress Bar')\n",
        "    control_tabulador.add(tabulador5, text='Tabulador 5')\n",
        "    # Creamos los componentes del quinto tabulador\n",
        "    crear_componentes_tabulador5(tabulador5)\n",
        "\n",
        "crear_tabs()\n",
        "\n",
        "ventana.mainloop()"
      ],
      "metadata": {
        "id": "QCmpV7D21t7N"
      },
      "execution_count": null,
      "outputs": []
    },
    {
      "cell_type": "markdown",
      "source": [
        "**346: Convertir el codigo anterior en POO**"
      ],
      "metadata": {
        "id": "v8KPmnNkO5Ht"
      }
    },
    {
      "cell_type": "code",
      "source": [
        "import tkinter as tk\n",
        "from tkinter import ttk, messagebox, scrolledtext\n",
        "from time import sleep\n",
        "\n",
        "class ComponentesVentana(tk.Tk):\n",
        "    def __init__(self):\n",
        "        super().__init__()\n",
        "        self.geometry('650x400+1500+200')\n",
        "        self.title('Componentes')\n",
        "        self.iconbitmap('icono.ico')\n",
        "        self._crear_tabs()\n",
        "\n",
        "    def _crear_componentes_tabulador1(self, tabulador):\n",
        "        # Agregar una etiqueta y un componente de entrada\n",
        "        etiqueta1 = ttk.Label(tabulador, text='Nombre:')\n",
        "        etiqueta1.grid(row=0, column=0, sticky=tk.E)\n",
        "        entrada1 = ttk.Entry(tabulador, width=30)\n",
        "        entrada1.grid(row=0, column=1, padx=5, pady=5)\n",
        "\n",
        "        # Agregamos un botón\n",
        "        def enviar():\n",
        "            messagebox.showinfo('Mensaje', f'Nombre: {entrada1.get()}')\n",
        "\n",
        "        boton1 = ttk.Button(tabulador, text='Enviar', command=enviar)\n",
        "        boton1.grid(row=1, column=0, columnspan=2)\n",
        "\n",
        "    def _crear_componentes_tabulador2(self, tabulador):\n",
        "        contenido = 'Este es mi texto con el contenido'\n",
        "        # Creamos el componente de scroll\n",
        "        scroll = scrolledtext.ScrolledText(tabulador, width=50, height=10, wrap=tk.WORD)\n",
        "        scroll.insert(tk.INSERT, contenido)\n",
        "        # Mostramos el componente\n",
        "        scroll.grid(row=0, column=0)\n",
        "\n",
        "    def _crear_componentes_tabulador3(self, tabulador):\n",
        "        # Creamos una lista usando data list comprehensions\n",
        "        datos = [x+1 for x in range(100, 110)]\n",
        "        combobox = ttk.Combobox(tabulador, width=15, values=datos)\n",
        "        combobox.grid(row=0, column=0, padx=10, pady=10)\n",
        "        # Seleccionamos un elemento por default a mostrar\n",
        "        combobox.current(5)\n",
        "        # Agregar un boton para saber que opción seleccionó el usuario\n",
        "        def mostrar_valor():\n",
        "            messagebox.showinfo('Valor seleccionado', f'Valor seleccionado: {combobox.get()}')\n",
        "\n",
        "        boton1 = ttk.Button(tabulador, text='Mostrar valor Seleccionado', command=mostrar_valor)\n",
        "        boton1.grid(row=0, column=1)\n",
        "\n",
        "    def _crear_componentes_tabulador4(self, tabulador):\n",
        "        imagen = tk.PhotoImage(file='python-logo.png')\n",
        "        def mostrar_titulo():\n",
        "            messagebox.showinfo('Más info imagen', f'Nombre imagen: {imagen.cget(\"file\")}')\n",
        "        boton_imagen = ttk.Button(tabulador, image=imagen, command=mostrar_titulo)\n",
        "        boton_imagen.grid(row=0, column=0)\n",
        "\n",
        "    def _crear_componentes_tabulador5(self, tabulador):\n",
        "        # Creamos el componente de barra de progreso\n",
        "        barra_progreso = ttk.Progressbar(tabulador, orient='horizontal', length=550)\n",
        "        barra_progreso.grid(row=0, column=0, padx=10, pady=10, columnspan=4)\n",
        "        # Métodos para controlar los eventos de la barra de progreso\n",
        "        def ejecutar_barra():\n",
        "                barra_progreso['maximum'] = 100\n",
        "                for valor in range(101):\n",
        "                    # Mandamos a esperar un poco antes de continuar con la ejecución de la barra\n",
        "                    sleep(0.05)\n",
        "                    # Incrementamos nuestra barra de progreso\n",
        "                    barra_progreso['value'] = valor\n",
        "                    # Actualizamos la barra de progreso\n",
        "                    barra_progreso.update()\n",
        "                barra_progreso['value'] = 0\n",
        "\n",
        "        def ejecutar_ciclo():\n",
        "            barra_progreso.start()\n",
        "\n",
        "        def detener():\n",
        "            barra_progreso.stop()\n",
        "\n",
        "        def detener_despues():\n",
        "            esperar_ms = 1000\n",
        "            self.after(esperar_ms, barra_progreso.stop)\n",
        "\n",
        "        # Botones para controlar los eventos de una barra de progreso\n",
        "        boton_inicio = ttk.Button(tabulador,\n",
        "                                  text='Ejecutar Barra de Progreso', command=ejecutar_barra)\n",
        "        boton_inicio.grid(row=1, column=0)\n",
        "        boton_ciclo = ttk.Button(tabulador, text='Ejecutar ciclo', command=ejecutar_ciclo)\n",
        "        boton_ciclo.grid(row=1, column=1)\n",
        "        boton_detener = ttk.Button(tabulador, text='Detener Ejecución', command=detener)\n",
        "        boton_detener.grid(row=1, column=2)\n",
        "        boton_despues = ttk.Button(tabulador,\n",
        "                                   text='Detener Ejecución después', command=detener_despues)\n",
        "        boton_despues.grid(row=1, column=3)\n",
        "\n",
        "    def _crear_tabs(self):\n",
        "        # Creamos un tab control, para ello usamos la clase Notebook\n",
        "        control_tabulador = ttk.Notebook(self)\n",
        "        # Agregamos un marco (frame) para agregar dentrol del tab y organizar elementos\n",
        "        tabulador1 = ttk.Frame(control_tabulador)\n",
        "        # Agregamos el tabulador al control de tabuladores\n",
        "        control_tabulador.add(tabulador1, text='Tabulador 1')\n",
        "        # Mostramos el tabulador\n",
        "        control_tabulador.pack(fill='both')\n",
        "        # Creamos los componentes del tabulador1\n",
        "        self._crear_componentes_tabulador1(tabulador1)\n",
        "        # Creamos un segundo tabulador\n",
        "        tabulador2 = ttk.LabelFrame(control_tabulador, text='Contenido')\n",
        "        control_tabulador.add(tabulador2, text='Tabulador 2')\n",
        "        # Creamos los componentes del segundo tabulador\n",
        "        self._crear_componentes_tabulador2(tabulador2)\n",
        "        # Crear un tercer tabulador\n",
        "        tabulador3 = ttk.Frame(control_tabulador)\n",
        "        control_tabulador.add(tabulador3, text='Tabulador 3')\n",
        "        # Creamos los componentes del tercer tabulador\n",
        "        self._crear_componentes_tabulador3(tabulador3)\n",
        "        # Crear un cuarto tabulador\n",
        "        tabulador4 = ttk.LabelFrame(control_tabulador, text='Imagen')\n",
        "        control_tabulador.add(tabulador4, text='Tabulador 4')\n",
        "        # Creamos los componentes del cuarto tabulador\n",
        "        self._crear_componentes_tabulador4(tabulador4)\n",
        "        # Crear un quinto tabulador\n",
        "        tabulador5 = ttk.LabelFrame(control_tabulador, text='Progress Bar')\n",
        "        control_tabulador.add(tabulador5, text='Tabulador 5')\n",
        "        # Creamos los componentes del quinto tabulador\n",
        "        self._crear_componentes_tabulador5(tabulador5)\n",
        "\n",
        "\n",
        "if __name__ == '__main__':\n",
        "    # Creamos un objeto de nuestra clase\n",
        "    componentes_ventana = ComponentesVentana()\n",
        "    componentes_ventana.mainloop()\n"
      ],
      "metadata": {
        "id": "yZKEnkTV-1DF"
      },
      "execution_count": null,
      "outputs": []
    },
    {
      "cell_type": "markdown",
      "source": [
        "**347-356: Calculadora**"
      ],
      "metadata": {
        "id": "dmNeaAp5_ELU"
      }
    },
    {
      "cell_type": "code",
      "source": [
        "import tkinter as tk\n",
        "from tkinter import messagebox\n",
        "\n",
        "class Calculadora(tk.Tk):\n",
        "    def __init__(self):\n",
        "        super().__init__()\n",
        "        self.geometry('400x450')\n",
        "        self.resizable(0,0)\n",
        "        self.title('Calculadora')\n",
        "        self.iconbitmap('calculadora.ico')\n",
        "        # Atributos de clase\n",
        "        self.expresion = ''\n",
        "        # Caja de texto (input)\n",
        "        self.entrada = None\n",
        "        # StringVar lo utilizamos para obtener el valor del input\n",
        "        self.entrada_texto = tk.StringVar()\n",
        "        # Creamos los componentes\n",
        "        self._creacion_componentes()\n",
        "\n",
        "    # Métodos de Clase\n",
        "    # Método para crear los componentes\n",
        "    def _creacion_componentes(self):\n",
        "        # Creamos un frame para la caja de texto\n",
        "        entrada_frame = tk.Frame(self, width=400, height=50, bg='grey')\n",
        "        entrada_frame.pack(side=tk.TOP)\n",
        "        # Caja de Texto\n",
        "        entrada = tk.Entry(entrada_frame, font=('arial', 18, 'bold'),\n",
        "                           textvariable=self.entrada_texto, width=30, justify=tk.RIGHT)\n",
        "        entrada.grid(row=0, column=0, ipady=10)\n",
        "\n",
        "        # Creamos otro frame para la parte inferior\n",
        "        botones_frame = tk.Frame(self, width=400, height=450, bg='grey')\n",
        "        botones_frame.pack()\n",
        "\n",
        "        # Primer renglón\n",
        "        # Botón limpiar\n",
        "        boton_limpiar = tk.Button(botones_frame, text='C', width='32', height=3,\n",
        "                                  bd=0, bg='#eee', cursor='hand2',\n",
        "                                  command=self._evento_limpiar)\n",
        "        boton_limpiar.grid(row=0, column=0, columnspan=3, padx=1,pady=1)\n",
        "        # Botón dividir\n",
        "        boton_dividir = tk.Button(botones_frame, text='/', width=10, height=3, bd=0,\n",
        "                                  bg='#eee', cursor='hand2',\n",
        "                                  command=lambda: self._evento_click('/')\n",
        "                                  ).grid(row=0, column=3, padx=1, pady=1)\n",
        "        # boton_dividir.grid(row=0, column=3, padx=1, pady=1)\n",
        "\n",
        "        # Segundo renglón\n",
        "        boton_siete = tk.Button(botones_frame, text='7', width=10, height=3, bd=0, bg='#fff',\n",
        "                                cursor='hand2', command=lambda: self._evento_click(7))\n",
        "        boton_siete.grid(row=1, column=0, padx=1, pady=1)\n",
        "\n",
        "        boton_ocho = tk.Button(botones_frame, text='8', width=10, height=3, bd=0, bg='#fff',\n",
        "                               cursor='hand2', command=lambda: self._evento_click(8))\n",
        "        boton_ocho.grid(row=1, column=1, padx=1, pady=1)\n",
        "\n",
        "        boton_nueve = tk.Button(botones_frame, text='9', width=10, height=3, bd=0, bg='#fff',\n",
        "                               cursor='hand2', command=lambda: self._evento_click(9))\n",
        "        boton_nueve.grid(row=1, column=2, padx=1, pady=1)\n",
        "\n",
        "        boton_multiplicar = tk.Button(botones_frame, text='*', width=10, height=3, bd=0,\n",
        "                                  bg='#eee', cursor='hand2',\n",
        "                                  command=lambda: self._evento_click('*'))\n",
        "        boton_multiplicar.grid(row=1, column=3, padx=1, pady=1)\n",
        "\n",
        "        # Tercer renglón\n",
        "        boton_cuatro = tk.Button(botones_frame, text='4', width=10, height=3, bd=0, bg='#fff',\n",
        "                                cursor='hand2', command=lambda: self._evento_click(4))\n",
        "        boton_cuatro.grid(row=2, column=0, padx=1, pady=1)\n",
        "\n",
        "        boton_cinco = tk.Button(botones_frame, text='5', width=10, height=3, bd=0, bg='#fff',\n",
        "                               cursor='hand2', command=lambda: self._evento_click(5))\n",
        "        boton_cinco.grid(row=2, column=1, padx=1, pady=1)\n",
        "\n",
        "        boton_seis = tk.Button(botones_frame, text='6', width=10, height=3, bd=0, bg='#fff',\n",
        "                                cursor='hand2', command=lambda: self._evento_click(6))\n",
        "        boton_seis.grid(row=2, column=2, padx=1, pady=1)\n",
        "\n",
        "        boton_restar = tk.Button(botones_frame, text='-', width=10, height=3, bd=0,\n",
        "                                      bg='#eee', cursor='hand2',\n",
        "                                      command=lambda: self._evento_click('-'))\n",
        "        boton_restar.grid(row=2, column=3, padx=1, pady=1)\n",
        "\n",
        "        # Cuarto renglón\n",
        "        boton_uno = tk.Button(botones_frame, text='1', width=10, height=3, bd=0, bg='#fff',\n",
        "                                cursor='hand2', command=lambda: self._evento_click(1))\n",
        "        boton_uno.grid(row=3, column=0, padx=1, pady=1)\n",
        "\n",
        "        boton_dos = tk.Button(botones_frame, text='2', width=10, height=3, bd=0, bg='#fff',\n",
        "                               cursor='hand2', command=lambda: self._evento_click(2))\n",
        "        boton_dos.grid(row=3, column=1, padx=1, pady=1)\n",
        "\n",
        "        boton_tres = tk.Button(botones_frame, text='3', width=10, height=3, bd=0, bg='#fff',\n",
        "                                cursor='hand2', command=lambda: self._evento_click(3))\n",
        "        boton_tres.grid(row=3, column=2, padx=1, pady=1)\n",
        "\n",
        "        boton_sumar = tk.Button(botones_frame, text='+', width=10, height=3, bd=0,\n",
        "                                      bg='#eee', cursor='hand2',\n",
        "                                      command=lambda: self._evento_click('+'))\n",
        "        boton_sumar.grid(row=3, column=3, padx=1, pady=1)\n",
        "\n",
        "        # Quinto renglón\n",
        "        boton_cero = tk.Button(botones_frame, text='0', width=21, height=3, bd=0, bg='#fff',\n",
        "                               cursor='hand2', command=lambda: self._evento_click(0))\n",
        "        boton_cero.grid(row=4, column=0, columnspan=2, padx=1, pady=1)\n",
        "\n",
        "        boton_punto = tk.Button(botones_frame, text='.', width=10, height=3, bd=0, bg='#eee',\n",
        "                                cursor='hand2', command=lambda : self._evento_click('.'))\n",
        "        boton_punto.grid(row=4, column=2, padx=1, pady=1)\n",
        "\n",
        "        boton_evaluar = tk.Button(botones_frame, text='=', width=10, height=3, bd=0, bg='#eee',\n",
        "                                  cursor='hand2', command=self._evento_evaluar)\n",
        "        boton_evaluar.grid(row=4, column=3, padx=1, pady=1)\n",
        "\n",
        "    def _evento_evaluar(self):\n",
        "        # eval evalua la expresion str como una expresión aritmética\n",
        "        resultado = str(eval(self.expresion))\n",
        "        self.entrada_texto.set(resultado)\n",
        "        self.expresion = ''\n",
        "\n",
        "    def _evento_limpiar(self):\n",
        "        self.expresion = ''\n",
        "        self.entrada_texto.set(self.expresion)\n",
        "\n",
        "    def _evento_click(self, elemento):\n",
        "        # Concatenamos el nuevo elemento a la expresion ya existente\n",
        "        self.expresion = f'{self.expresion}{elemento}'\n",
        "        self.entrada_texto.set(self.expresion)\n",
        "\n",
        "if __name__ == '__main__':\n",
        "    calculadora = Calculadora()\n",
        "    calculadora.mainloop()"
      ],
      "metadata": {
        "id": "b201irs2jRw3"
      },
      "execution_count": null,
      "outputs": []
    },
    {
      "cell_type": "markdown",
      "source": [
        "**357-363:Editor de texto con Tkinter**"
      ],
      "metadata": {
        "id": "a-JCbtbflVgG"
      }
    },
    {
      "cell_type": "code",
      "source": [
        "import tkinter as tk\n",
        "from tkinter.filedialog import askopenfile, asksaveasfilename\n",
        "\n",
        "class Editor(tk.Tk):\n",
        "    def __init__(self):\n",
        "        super().__init__()\n",
        "        self.title('GlobalMentoring.com.mx - Editor de Texto')\n",
        "        # Configuración tamaño mínimo de la venta\n",
        "        self.rowconfigure(0, minsize=600, weight=1)\n",
        "        # Configuración mínima de la segunda columna\n",
        "        self.columnconfigure(1, minsize=600, weight=1)\n",
        "        # Atributo de campo de texto\n",
        "        self.campo_texto = tk.Text(self, wrap=tk.WORD)\n",
        "        # Atributo de archivo\n",
        "        self.archivo = None\n",
        "        # Atributo para saber si ya se abrió un archivo anteriormente\n",
        "        self.archivo_abierto = False\n",
        "        # Creación de componentes\n",
        "        self._crear_componentes()\n",
        "        # Crear menú\n",
        "        self._crear_menu()\n",
        "\n",
        "    def _crear_componentes(self):\n",
        "        frame_botones = tk.Frame(self, relief=tk.RAISED, bd=2)\n",
        "        boton_abrir = tk.Button(frame_botones, text='Abrir', command=self._abrir_archivo)\n",
        "        boton_guardar = tk.Button(frame_botones, text='Guardar',\n",
        "                                  command=self._guardar)\n",
        "        boton_guardar_como = tk.Button(frame_botones, text='Guardar como...',\n",
        "                                       command=self._guardar_como)\n",
        "        # Los botones los expandimos de manera horizontal (sticky='we')\n",
        "        boton_abrir.grid(row=0, column=0, sticky='we', padx=5, pady=5)\n",
        "        boton_guardar.grid(row=1, column=0, sticky='we', padx=5, pady=5)\n",
        "        boton_guardar_como.grid(row=2, column=0, sticky='we', padx=5, pady=5)\n",
        "        # Se coloca el frame de manera vertical\n",
        "        frame_botones.grid(row=0, column=0, sticky='ns')\n",
        "        # Agregamos el campo de texto, se expandirá por completo el espacio disponible\n",
        "        self.campo_texto.grid(row=0, column=1, sticky='nswe')\n",
        "\n",
        "\n",
        "    def _crear_menu(self):\n",
        "        # Creamos el menú de la app\n",
        "        menu_app = tk.Menu(self)\n",
        "        self.config(menu=menu_app)\n",
        "        # Agregamos las opciones a nuestro menú\n",
        "        # Agregamos menú archivo\n",
        "        menu_archivo = tk.Menu(menu_app, tearoff=False)\n",
        "        menu_app.add_cascade(label='Archivo', menu=menu_archivo)\n",
        "        # Agregamos las opciones del menú de archivo\n",
        "        menu_archivo.add_command(label='Abrir', command=self._abrir_archivo)\n",
        "        menu_archivo.add_command(label='Guardar', command=self._guardar)\n",
        "        menu_archivo.add_command(label='Guardar como...', command=self._guardar_como)\n",
        "        menu_archivo.add_separator()\n",
        "        menu_archivo.add_command(label='Salir', command=self.quit)\n",
        "\n",
        "    def _abrir_archivo(self):\n",
        "        # Abrimos el archivo para edición (lectura-escritura)\n",
        "        self.archivo_abierto = askopenfile(mode='r+')\n",
        "        # Eliminamos el texto anterior\n",
        "        self.campo_texto.delete(1.0, tk.END)\n",
        "        # Revisamos si hay un archivo\n",
        "        if not self.archivo_abierto:\n",
        "            return\n",
        "        # Abrimos el archivo en modo lectura/escritura como un recurso\n",
        "        with open(self.archivo_abierto.name, 'r+') as self.archivo:\n",
        "            # Leemos el contenido del archivo\n",
        "            texto = self.archivo.read()\n",
        "            # Insertamos el contenido del archivo\n",
        "            self.campo_texto.insert(1.0, texto)\n",
        "            # Modificamos el título de la aplicación\n",
        "            self.title(f'*Editor Texto - {self.archivo.name}')\n",
        "\n",
        "\n",
        "    def _guardar(self):\n",
        "        # Si ya se abrió previamente un archivo, lo sobreescribimos\n",
        "        if self.archivo_abierto:\n",
        "            # Salvamos el archivo (lo abrimos en modo escritura)\n",
        "            with open(self.archivo_abierto.name, 'w') as self.archivo:\n",
        "                # Leemos el contenido de la caja de texto\n",
        "                texto = self.campo_texto.get(1.0, tk.END)\n",
        "                # Escribimos el contenido al mismo archivo\n",
        "                self.archivo.write(texto)\n",
        "                # Cambiamos el nombre del título de la app\n",
        "                self.title(f'Editor Texto - {self.archivo.name}')\n",
        "        else:\n",
        "            self._guardar_como()\n",
        "\n",
        "    def _guardar_como(self):\n",
        "        # Salvamos el archivo actual como un nuevo archivo\n",
        "        self.archivo = asksaveasfilename(\n",
        "            defaultextension='txt',\n",
        "            filetypes=[('Archivos de Texto', '*.txt'), ('Todos los archivos', '*.*')]\n",
        "        )\n",
        "        if not self.archivo:\n",
        "            return\n",
        "        # Abrimos el archivo en modo escritura (write)\n",
        "        with open(self.archivo, 'w') as archivo:\n",
        "            # Leemos el contenido de la caja de texto\n",
        "            texto = self.campo_texto.get(1.0, tk.END)\n",
        "            # Escribimos el contenido al nuevo archivo\n",
        "            archivo.write(texto)\n",
        "            # Cambiamos el nombre del archivo\n",
        "            self.title(f'Editor Texto - {archivo.name}')\n",
        "            # Indicamos que hemos abierto un archivo\n",
        "            self.archivo_abierto = archivo\n",
        "\n",
        "if __name__ == '__main__':\n",
        "    editor = Editor()\n",
        "    editor.mainloop()"
      ],
      "metadata": {
        "id": "xXWPud9OhKIa"
      },
      "execution_count": null,
      "outputs": []
    },
    {
      "cell_type": "markdown",
      "source": [
        "**364-376**"
      ],
      "metadata": {
        "id": "c8RGGzVLePXx"
      }
    },
    {
      "cell_type": "code",
      "source": [
        "# Signals y slots\n",
        "import sys\n",
        "\n",
        "from PySide6.QtWidgets import QMainWindow, QPushButton, QApplication, QLabel, QLineEdit, QVBoxLayout, QWidget\n",
        "\n",
        "\n",
        "class VentanaPrincipal(QMainWindow):\n",
        "\n",
        "    def __init__(self):\n",
        "        super().__init__()\n",
        "        self.setWindowTitle('Signals y Slots')\n",
        "        self.setFixedSize(400, 200)\n",
        "        # Definimos la etiqueta y línea de edición\n",
        "        self.etiqueta = QLabel()\n",
        "        self.entrada_texto = QLineEdit()\n",
        "        # Conectar el widget de entrada_texto con la etiqueta\n",
        "        # la señal es textChanged, el slot es setText\n",
        "        self.entrada_texto.textChanged.connect(self.etiqueta.setText)\n",
        "        # Publicamos los componentes usando un layout\n",
        "        disposicion = QVBoxLayout()\n",
        "        disposicion.addWidget(self.entrada_texto)\n",
        "        disposicion.addWidget(self.etiqueta)\n",
        "        # Crear un contenedor\n",
        "        contenedor = QWidget()\n",
        "        contenedor.setLayout(disposicion)\n",
        "        # Publicamos el contenedor, el cual ya incluye los demás elementos\n",
        "        self.setCentralWidget(contenedor)\n",
        "\n",
        "\n",
        "if __name__ == '__main__':\n",
        "    # Creamos el objeto aplicación\n",
        "    app = QApplication([])\n",
        "    # Creamos una instancia de nuestra clase\n",
        "    ventana = VentanaPrincipal()\n",
        "    ventana.show()\n",
        "    sys.exit(app.exec())"
      ],
      "metadata": {
        "id": "wZaoiiH9eVnz"
      },
      "execution_count": null,
      "outputs": []
    },
    {
      "cell_type": "markdown",
      "source": [
        "**378:Manejo de una imagen en una etiqueta**"
      ],
      "metadata": {
        "id": "QHHqboHdg7K0"
      }
    },
    {
      "cell_type": "code",
      "source": [
        "from PySide6.QtCore import Qt\n",
        "from PySide6.QtGui import QPixmap\n",
        "from PySide6.QtWidgets import QMainWindow, QLabel, QApplication\n",
        "\n",
        "\n",
        "class Componentes(QMainWindow):\n",
        "    def __init__(self):\n",
        "        super().__init__()\n",
        "        self.setWindowTitle('Componentes')\n",
        "        self.setFixedSize(500, 600)\n",
        "        # Creamos un componente de tipo etiqueta (Label)\n",
        "        etiqueta = QLabel('Hola')\n",
        "        etiqueta.setPixmap(QPixmap('layla.jpg'))\n",
        "        etiqueta.setScaledContents(True)\n",
        "        # Publicamos este componente\n",
        "        self.setCentralWidget(etiqueta)\n",
        "\n",
        "\n",
        "if __name__ == '__main__':\n",
        "    app = QApplication([])\n",
        "    ventana = Componentes()\n",
        "    ventana.show()\n",
        "    app.exec()"
      ],
      "metadata": {
        "id": "q8jCTvnhg7g9"
      },
      "execution_count": null,
      "outputs": []
    },
    {
      "cell_type": "markdown",
      "source": [
        "**379: Componente checkbox**"
      ],
      "metadata": {
        "id": "sFGlCkw4hFlG"
      }
    },
    {
      "cell_type": "code",
      "source": [
        "from PySide6.QtCore import Qt\n",
        "from PySide6.QtWidgets import QMainWindow, QApplication, QCheckBox\n",
        "\n",
        "\n",
        "class Componentes(QMainWindow):\n",
        "    def __init__(self):\n",
        "        super().__init__()\n",
        "        self.setWindowTitle('Componentes')\n",
        "        # Creamos un nuevo checkbox\n",
        "        checkbox = QCheckBox('Este es un checkbox')\n",
        "        # Activamos el 3er estado\n",
        "        # Tenemos 3 estados (0-Apagado, 1-Sin estado, 2-Encendido)\n",
        "        checkbox.setTristate(True)\n",
        "        # Conectar la señal de cambio de componente\n",
        "        checkbox.stateChanged.connect(self.mostrar_estado)\n",
        "        # Publicamos este componente\n",
        "        self.setCentralWidget(checkbox)\n",
        "\n",
        "    def mostrar_estado(self, estado):\n",
        "        print('Estado checkbox:', estado)\n",
        "        # Trabajamos con las constantes\n",
        "        if estado == Qt.Checked:\n",
        "            print('Checkbox encendido')\n",
        "        elif estado == Qt.PartiallyChecked:\n",
        "            print('Checkbox sin estado o parcialmente checado')\n",
        "        elif estado == Qt.Unchecked:\n",
        "            print('Checkbox apagado')\n",
        "        else:\n",
        "            print('Checkbox con estado inválido')\n",
        "\n",
        "\n",
        "if __name__ == '__main__':\n",
        "    app = QApplication([])\n",
        "    ventana = Componentes()\n",
        "    ventana.show()\n",
        "    app.exec()"
      ],
      "metadata": {
        "id": "I2VdvUekhGAj"
      },
      "execution_count": null,
      "outputs": []
    },
    {
      "cell_type": "markdown",
      "source": [
        "**380-382:Combobox en Pyside**"
      ],
      "metadata": {
        "id": "zLqkz9jEpRkg"
      }
    },
    {
      "cell_type": "code",
      "source": [
        "\n",
        "\n",
        "class Componentes(QMainWindow):\n",
        "    def __init__(self):\n",
        "        super().__init__()\n",
        "        self.setWindowTitle('Componentes')\n",
        "        # Creamos un nuevo combo box (drop down list)\n",
        "        combobox = QComboBox()\n",
        "        # Agregamos elementos\n",
        "        combobox.addItem('Uno')\n",
        "        combobox.addItems(['Dos','Tres'])\n",
        "        # Monitoreamos el cambio de elemento seleccionado, tanto de indice como de texto\n",
        "        combobox.currentIndexChanged.connect(self.cambio_indice)\n",
        "        combobox.currentTextChanged.connect(self.cambio_texto)\n",
        "        # Hacemos editable el combobox\n",
        "        combobox.setEditable(True)\n",
        "        # Especificamos la politica de insercion\n",
        "        # No permite agregar nuevos elementos\n",
        "        # combobox.setInsertPolicy(QComboBox.NoInsert)\n",
        "        # Agregar al inicio de nuestro combobox\n",
        "        #combobox.setInsertPolicy(QComboBox.InsertAtTop)\n",
        "        # Modifica el elemento actual\n",
        "        #combobox.setInsertPolicy(QComboBox.InsertAtCurrent)\n",
        "        # Insertar al final\n",
        "        # combobox.setInsertPolicy(QComboBox.InsertAtBottom)\n",
        "        # Insertar antes del elemento actual\n",
        "        # combobox.setInsertPolicy(QComboBox.InsertBeforeCurrent)\n",
        "        # Insertar despues del elemento actual\n",
        "        # combobox.setInsertPolicy(QComboBox.InsertAfterCurrent)\n",
        "        # Insertar alfabeticamente\n",
        "        combobox.setInsertPolicy(QComboBox.InsertAlphabetically)\n",
        "\n",
        "        # Limitar cuantos elementos agregamos al combobox\n",
        "        combobox.setMaxCount(6)\n",
        "\n",
        "        # Publicamos este componente\n",
        "        self.setCentralWidget(combobox)\n",
        "\n",
        "    def cambio_indice(self, nuevo_indice):\n",
        "        print(f'Nuevo índice seleccionado: {nuevo_indice}')\n",
        "\n",
        "    def cambio_texto(self, nuevo_texto):\n",
        "        print(f'Nuevo texto seleccionado: {nuevo_texto}')\n",
        "\n",
        "if __name__ == '__main__':\n",
        "    app = QApplication([])\n",
        "    ventana = Componentes()\n",
        "    ventana.show()\n",
        "    app.exec()"
      ],
      "metadata": {
        "id": "G6TcWupGpR1Q"
      },
      "execution_count": null,
      "outputs": []
    },
    {
      "cell_type": "markdown",
      "source": [
        "**383:Qlistwidget en Pyside**"
      ],
      "metadata": {
        "id": "z2EmQUqcBJQs"
      }
    },
    {
      "cell_type": "code",
      "source": [
        "\n",
        "\n",
        "class Componentes(QMainWindow):\n",
        "    def __init__(self):\n",
        "        super().__init__()\n",
        "        self.setWindowTitle('Componentes')\n",
        "        # Componente QListWidget se parece al combobox\n",
        "        lista = QListWidget()\n",
        "        # Agregamos elementos\n",
        "        lista.addItem('Uno')\n",
        "        lista.addItems(['Dos','Tres'])\n",
        "        # Monitoreamos el cambio del elemento seleccionado, tanto el elemento con el texto\n",
        "        lista.currentItemChanged.connect(self.cambio_elemento)\n",
        "        lista.currentTextChanged.connect(self.cambio_texto)\n",
        "\n",
        "        # Publicamos este componente\n",
        "        self.setCentralWidget(lista)\n",
        "\n",
        "    def cambio_elemento(self, nuevo_elemento):\n",
        "        print(f'Nuevo elemento seleccionado: {nuevo_elemento.text()}')\n",
        "\n",
        "    def cambio_texto(self, nuevo_texto):\n",
        "        print(f'Nuevo texto seleccionado: {nuevo_texto}')\n",
        "\n",
        "if __name__ == '__main__':\n",
        "    app = QApplication([])\n",
        "    ventana = Componentes()\n",
        "    ventana.show()\n",
        "    app.exec()"
      ],
      "metadata": {
        "id": "A1cQpNJSBQe8"
      },
      "execution_count": null,
      "outputs": []
    },
    {
      "cell_type": "markdown",
      "source": [
        "**seccion 70: Aplicación calculadora con pyside**"
      ],
      "metadata": {
        "id": "bpvWJeGj0088"
      }
    },
    {
      "cell_type": "code",
      "source": [
        "from functools import partial\n",
        "\n",
        "from PySide6.QtCore import Qt\n",
        "from PySide6.QtWidgets import QMainWindow, QApplication, QWidget, QVBoxLayout, QLineEdit, QGridLayout, QPushButton\n",
        "\n",
        "\n",
        "class Calculadora(QMainWindow):\n",
        "    def __init__(self):\n",
        "        super().__init__()\n",
        "        self.setWindowTitle('Calculadora')\n",
        "        self.setFixedSize(235,235)\n",
        "        self.componente_general = QWidget(self)\n",
        "        self.setCentralWidget(self.componente_general)\n",
        "        # Creamos un layout principal\n",
        "        self.layout_principal = QVBoxLayout()\n",
        "        self.componente_general.setLayout(self.layout_principal)\n",
        "        # Metodos para crear la parte visual de la calculadora\n",
        "        self._crear_area_captura()\n",
        "        # Agregamos los botones\n",
        "        self._crear_botones()\n",
        "        # Conectamos las señales con los slots\n",
        "        self._conectar_botones()\n",
        "\n",
        "    def _crear_area_captura(self):\n",
        "        self.linea_entrada = QLineEdit()\n",
        "        # Modificamos algunas propiedades\n",
        "        self.linea_entrada.setFixedHeight(35)\n",
        "        self.linea_entrada.setAlignment(Qt.AlignRight)\n",
        "        self.linea_entrada.setReadOnly(True)\n",
        "        # Agregamos la linea de entrada al layout principal\n",
        "        self.layout_principal.addWidget(self.linea_entrada)\n",
        "\n",
        "    def _crear_botones(self):\n",
        "        # Creamos un diccionario para definir cada boton (texto) de la calculadora\n",
        "        self.botones = {}\n",
        "        layout_botones = QGridLayout()\n",
        "        # Texto | Posicion en el grid layout\n",
        "        self.botones = {\n",
        "            '7':(0,0),\n",
        "            '8':(0,1),\n",
        "            '9':(0,2),\n",
        "            '/':(0,3),\n",
        "            '4':(1,0),\n",
        "            '5':(1,1),\n",
        "            '6':(1,2),\n",
        "            '*':(1,3),\n",
        "            '1':(2,0),\n",
        "            '2':(2,1),\n",
        "            '3':(2,2),\n",
        "            '-':(2,3),\n",
        "            '0':(3,0),\n",
        "            '.':(3,1),\n",
        "            'C':(3,2),\n",
        "            '+':(3,3),\n",
        "            '=':(3,4)\n",
        "        }\n",
        "\n",
        "        # Creamos los botones y los agregamos al grid layout\n",
        "        # La posicion es una tupla con dos valores (renglon-columna)\n",
        "        for texto_boton, posicion in self.botones.items():\n",
        "            self.botones[texto_boton] = QPushButton(texto_boton)\n",
        "            self.botones[texto_boton].setFixedSize(40,40)\n",
        "            # Publicamos el boton en el grid layout\n",
        "            layout_botones.addWidget(self.botones[texto_boton], posicion[0],posicion[1])\n",
        "        # Agregamos el layout de botones al layout principal\n",
        "        self.layout_principal.addLayout(layout_botones)\n",
        "\n",
        "    def _conectar_botones(self):\n",
        "        # Recorrer cada boton del diccionario (key:value) (texto:PushButton)\n",
        "        for texto_boton, boton in self.botones.items():\n",
        "            if texto_boton not in {'=','C'}:\n",
        "                # boton.clicked.connect(lambda: self._construir_expresion(texto_boton))\n",
        "                boton.clicked.connect(partial(self._construir_expresion, texto_boton))\n",
        "\n",
        "    def _construir_expresion(self, texto_boton):\n",
        "        expresion = self.obtener_texto() + texto_boton\n",
        "        # Actualizamos la linea de entrada\n",
        "        self.actualizar_texto(expresion)\n",
        "\n",
        "    def obtener_texto(self):\n",
        "        return self.linea_entrada.text()\n",
        "\n",
        "    def actualizar_texto(self, texto):\n",
        "        self.linea_entrada.setText(texto)\n",
        "        self.linea_entrada.setFocus()\n",
        "\n",
        "    def _limpiar_linea_entrada(self):\n",
        "        self.actualizar_texto('')\n",
        "\n",
        "if __name__ == '__main__':\n",
        "    app = QApplication()\n",
        "    calculadora = Calculadora()\n",
        "    calculadora.show()\n",
        "    app.exec()"
      ],
      "metadata": {
        "id": "0cLC7wc3He3Q"
      },
      "execution_count": null,
      "outputs": []
    },
    {
      "cell_type": "markdown",
      "source": [
        "**434-437: Acerciones**"
      ],
      "metadata": {
        "id": "jFdGrLOOCYDy"
      }
    },
    {
      "cell_type": "code",
      "source": [
        "# Tip. Las aserciones nos pueden ayudar a depurar nuestros programas de errores que no podemos recuperarnos\n",
        "# no son sustituto del manejo de excepciones, sino un complemente para errores irrecuperables\n",
        "# Las aserciones son una expresion booleana, si es verdadera el programa continua normalmente\n",
        "# si es falso se lanza una excepcion, con un mensaje de manera opcional\n",
        "\n",
        "# Ejemplo 1. Revisamos si la division es entre 0\n",
        "def dividir(a, b):\n",
        "    # Nos aseguramos que el valor de b no es cero para poder continuar\n",
        "    assert b != 0, 'División entre cero'\n",
        "    print(f'Resultado division: {a / b}')\n",
        "\n",
        "# Ejemplo 2. Realizamos el calculo del promedio de una lista de calificaciones\n",
        "def obtener_promedio(calificaciones):\n",
        "    # Si la lista de calificaciones esta vacia no deberia continuar el programa\n",
        "    assert len(calificaciones) != 0, 'Lista de calificaciones vacia'\n",
        "    print(f'El promedio de calificaciones es: {sum(calificaciones)/len(calificaciones)}')\n",
        "\n",
        "# Ejemplo 3. Realizamos un descuento al producto proporcionado\n",
        "def aplicar_descuento(productos, descuento):\n",
        "    precio_con_descuento = productos['precio'] * (1.0 - descuento)\n",
        "    print(f'Nuevo precio del producto: {precio_con_descuento:0.2f}')\n",
        "    assert 0<= precio_con_descuento <= productos['precio'], f'Descuento Invalido {precio_con_descuento:0.2f}'\n",
        "    print('Descuento valido...')\n",
        "\n",
        "if __name__ == '__main__':\n",
        "    # Prueba Ejemplo 1. Division entre cero\n",
        "    # dividir(10, 0)\n",
        "    dividir(10,2)\n",
        "\n",
        "    # Prueba Ejemplo 2. Calculo promedio de calificaciones\n",
        "    calificaciones = [10,8,7,9]\n",
        "    # calificaciones = []\n",
        "    obtener_promedio(calificaciones)\n",
        "\n",
        "    # Prueba Ejemplo 3. Aplicar descuento a un producto\n",
        "    productos = {'nombre':'Camisa', 'precio':1500}\n",
        "    # aplicar_descuento(productos, 1.2)\n",
        "    aplicar_descuento(productos, .10)"
      ],
      "metadata": {
        "id": "YUQVFKuvCYXk"
      },
      "execution_count": null,
      "outputs": []
    },
    {
      "cell_type": "markdown",
      "source": [
        "**439-441: Context manager en python y en clases**"
      ],
      "metadata": {
        "id": "6hc_gyRTcCR1"
      }
    },
    {
      "cell_type": "code",
      "source": [
        "with open('prueba.txt','w') as archivo:\n",
        "    archivo.write('hola desde Python')\n",
        "\n",
        "# Esto es equivalente a:\n",
        "# archivo = open('prueba.txt','w')\n",
        "# try:\n",
        "#     archivo.write('hola desde Python')\n",
        "# finally:\n",
        "#     archivo.close()\n",
        "\n",
        "# Esto NO es equivalente\n",
        "archivo = open('prueba.txt', 'w')\n",
        "archivo.write('hola sin with')\n",
        "# Esto no asegura el cierre de recursos en caso de error\n",
        "archivo.close()\n",
        "\n",
        "# Manejo de Context Manager en Clases\n",
        "# 1. Implementando el protocolo con las funciones (__enter__) y (__exit__)\n",
        "# 2. Utilizando la libreria de contextlib\n",
        "\n",
        "# Veamos la opcion 1\n",
        "class ManejoArchivos:\n",
        "    def __init__(self, nombre):\n",
        "        self.nombre = nombre\n",
        "\n",
        "    def __enter__(self):\n",
        "        self.archivo = open(self.nombre, 'w')\n",
        "        return self.archivo\n",
        "\n",
        "    def __exit__(self, exc_type, exc_val, exc_tb):\n",
        "        if self.archivo:\n",
        "            self.archivo.close()\n",
        "\n",
        "\n",
        "if __name__ == '__main__':\n",
        "    # Prueba implementando el protocolo de Context Manager\n",
        "    with ManejoArchivos('prueba.txt') as archivo:\n",
        "        archivo.write('prueba desde ManejoArchivo')"
      ],
      "metadata": {
        "id": "-5TNnw7VcGKl"
      },
      "execution_count": null,
      "outputs": []
    },
    {
      "cell_type": "markdown",
      "source": [
        "**442: Manejo de contextlib**"
      ],
      "metadata": {
        "id": "mSgOIfWDdKNE"
      }
    },
    {
      "cell_type": "code",
      "source": [
        "from contextlib import contextmanager\n",
        "\n",
        "with open('prueba.txt','w') as archivo:\n",
        "    archivo.write('hola desde Python')\n",
        "\n",
        "# Esto es equivalente a:\n",
        "# archivo = open('prueba.txt','w')\n",
        "# try:\n",
        "#     archivo.write('hola desde Python')\n",
        "# finally:\n",
        "#     archivo.close()\n",
        "\n",
        "# Esto NO es equivalente\n",
        "archivo = open('prueba.txt', 'w')\n",
        "archivo.write('hola sin with')\n",
        "# Esto no asegura el cierre de recursos en caso de error\n",
        "archivo.close()\n",
        "\n",
        "# Manejo de Context Manager en Clases\n",
        "# 1. Implementando el protocolo con las funciones (__enter__) y (__exit__)\n",
        "# 2. Utilizando la libreria de contextlib\n",
        "\n",
        "# Veamos la opcion 1\n",
        "class ManejoArchivos:\n",
        "    def __init__(self, nombre):\n",
        "        self.nombre = nombre\n",
        "\n",
        "    def __enter__(self):\n",
        "        self.archivo = open(self.nombre, 'w')\n",
        "        return self.archivo\n",
        "\n",
        "    def __exit__(self, exc_type, exc_val, exc_tb):\n",
        "        if self.archivo:\n",
        "            self.archivo.close()\n",
        "\n",
        "# Este metodo es un generador, en primer lugar adquiere el recurso\n",
        "# posteriomente suspende temporalmente la ejecucion al utilizar yield\n",
        "# cuando de ser utilizado este metodo, regresa a la ejecucion y cierra el recurso\n",
        "@contextmanager\n",
        "def manejador_archivos(nombre):\n",
        "    try:\n",
        "        archivo = open(nombre, 'w')\n",
        "        yield archivo\n",
        "    finally:\n",
        "        archivo.close()\n",
        "\n",
        "if __name__ == '__main__':\n",
        "    # Prueba implementando el protocolo de Context Manager\n",
        "    with ManejoArchivos('prueba.txt') as archivo:\n",
        "        archivo.write('prueba desde ManejoArchivo')\n",
        "\n",
        "    # Prueba con la libreria contextlib\n",
        "    with manejador_archivos('prueba.txt') as archivo:\n",
        "        archivo.write('prueba desde decorador')\n",
        "        archivo.write('\\nadios')"
      ],
      "metadata": {
        "id": "yBm5yoxgdPFw"
      },
      "execution_count": null,
      "outputs": []
    },
    {
      "cell_type": "markdown",
      "source": [
        "**443-444: Identador con contextlib**"
      ],
      "metadata": {
        "id": "2HXRpEOndP_Z"
      }
    },
    {
      "cell_type": "code",
      "source": [
        "from contextlib import contextmanager, ContextDecorator\n",
        "\n",
        "with open('prueba.txt','w') as archivo:\n",
        "    archivo.write('hola desde Python')\n",
        "\n",
        "# Esto es equivalente a:\n",
        "# archivo = open('prueba.txt','w')\n",
        "# try:\n",
        "#     archivo.write('hola desde Python')\n",
        "# finally:\n",
        "#     archivo.close()\n",
        "\n",
        "# Esto NO es equivalente\n",
        "archivo = open('prueba.txt', 'w')\n",
        "archivo.write('hola sin with')\n",
        "# Esto no asegura el cierre de recursos en caso de error\n",
        "archivo.close()\n",
        "\n",
        "# Manejo de Context Manager en Clases\n",
        "# 1. Implementando el protocolo con las funciones (__enter__) y (__exit__)\n",
        "# 2. Utilizando la libreria de contextlib\n",
        "\n",
        "# Veamos la opcion 1\n",
        "class ManejoArchivos:\n",
        "    def __init__(self, nombre):\n",
        "        self.nombre = nombre\n",
        "\n",
        "    def __enter__(self):\n",
        "        self.archivo = open(self.nombre, 'w')\n",
        "        return self.archivo\n",
        "\n",
        "    def __exit__(self, exc_type, exc_val, exc_tb):\n",
        "        if self.archivo:\n",
        "            self.archivo.close()\n",
        "\n",
        "# Este metodo es un generador, en primer lugar adquiere el recurso\n",
        "# posteriomente suspende temporalmente la ejecucion al utilizar yield\n",
        "# cuando de ser utilizado este metodo, regresa a la ejecucion y cierra el recurso\n",
        "@contextmanager\n",
        "def manejador_archivos(nombre):\n",
        "    try:\n",
        "        archivo = open(nombre, 'w')\n",
        "        yield archivo\n",
        "    finally:\n",
        "        archivo.close()\n",
        "\n",
        "# Ejercicio de Identador\n",
        "class Identador():\n",
        "    def __init__(self):\n",
        "        self.nivel = 0\n",
        "\n",
        "    def __enter__(self):\n",
        "        self.nivel += 1\n",
        "        return self\n",
        "\n",
        "    def __exit__(self, exc_type, exc_val, exc_tb):\n",
        "        self.nivel -= 1\n",
        "\n",
        "    def imprimir(self, texto):\n",
        "        print(' '*self.nivel + texto)\n",
        "\n",
        "# Mismo ejercicio identador con contextlib\n",
        "class Identador2():\n",
        "    def __init__(self):\n",
        "        self.nivel = 0\n",
        "\n",
        "    @contextmanager\n",
        "    def identador(self):\n",
        "        try:\n",
        "            self.nivel += 1\n",
        "            yield self\n",
        "        finally:\n",
        "            self.nivel -= 1\n",
        "\n",
        "    def imprimir(self, texto):\n",
        "        print(' ' * self.nivel + texto)\n",
        "\n",
        "\n",
        "if __name__ == '__main__':\n",
        "    # Prueba implementando el protocolo de Context Manager\n",
        "    with ManejoArchivos('prueba.txt') as archivo:\n",
        "        archivo.write('prueba desde ManejoArchivo')\n",
        "\n",
        "    # Prueba con la libreria contextlib\n",
        "    with manejador_archivos('prueba.txt') as archivo:\n",
        "        archivo.write('prueba desde decorador')\n",
        "        archivo.write('\\nadios')\n",
        "\n",
        "    # Prueba de Identador\n",
        "    with Identador() as identador:\n",
        "        identador.imprimir('primer nivel')\n",
        "        with identador:\n",
        "            identador.imprimir('segundo nivel')\n",
        "            identador.imprimir('continua segundo nivel...')\n",
        "            with identador:\n",
        "                identador.imprimir('tercer nivel')\n",
        "                identador.imprimir('continua tercer nivel...')\n",
        "        identador.imprimir('fin primer nivel')\n",
        "\n",
        "    # Creamos el objeto identador\n",
        "    objeto = Identador2()\n",
        "    with objeto.identador():\n",
        "        objeto.imprimir('primer nivel')\n",
        "        objeto.imprimir('continua primer nivel..')\n",
        "        with objeto.identador():\n",
        "            objeto.imprimir('segundo nivel')\n",
        "            objeto.imprimir('continua segundo nivel...')\n",
        "            with objeto.identador():\n",
        "                objeto.imprimir('tercer nivel')\n",
        "                objeto.imprimir('continua tercer nivel...')\n",
        "        objeto.imprimir('fin primer nivel')"
      ],
      "metadata": {
        "id": "BTqvmB800qsN"
      },
      "execution_count": null,
      "outputs": []
    },
    {
      "cell_type": "markdown",
      "source": [
        "**445: Uso de guion bajo al final de una variable**"
      ],
      "metadata": {
        "id": "2O0KxbHo5AZ1"
      }
    },
    {
      "cell_type": "code",
      "source": [
        "# El guion bajo al final se usa para evitar conflictos con nombres (keywords)\n",
        "# Ej. class, def, etc\n",
        "def funcion1(nombre, class_):\n",
        "    print('funcion que recibe una clase', nombre, class_)\n",
        "\n",
        "# Llamamos la funcion\n",
        "funcion1('Juan', None)"
      ],
      "metadata": {
        "id": "gT1xvDh45FGP"
      },
      "execution_count": null,
      "outputs": []
    },
    {
      "cell_type": "markdown",
      "source": [
        "**446-450: Guiones**"
      ],
      "metadata": {
        "id": "zm3nr9e_SIVu"
      }
    },
    {
      "cell_type": "code",
      "source": [
        "# Con doble guion bajo, no solo es una convencion\n",
        "# sino que afecta la forma en que se acceden los atributos o metodos\n",
        "\n",
        "class Padre:\n",
        "    def __init__(self):\n",
        "        self.variable_publica = 1\n",
        "        self._variable_protegida = 2\n",
        "        self.__variable_privada = 3\n",
        "\n",
        "    def get_variable_privada(self):\n",
        "        return self.__variable_privada\n",
        "\n",
        "    def __metodo_privado(self):\n",
        "        print('Accediendo metodo privado padre...')\n",
        "\n",
        "class Hijo(Padre):\n",
        "    def __init__(self):\n",
        "        super().__init__()\n",
        "        self.variable_publica = 'sobreescrita 1'\n",
        "        self._variable_protegida = 'sobreescrita 2'\n",
        "        self.__variable_privada = 'sobreescrita 3'\n",
        "\n",
        "    def __metodo_privado(self):\n",
        "        print('Accediendo metodo privado hijo')\n",
        "\n",
        "# Prueba usando una variable global\n",
        "_Prueba__variable_global = 10\n",
        "\n",
        "class Prueba:\n",
        "    def obtener_variable(self):\n",
        "       return __variable_global\n",
        "\n",
        "\n",
        "if __name__ == '__main__':\n",
        "    # Imprimir todos los atributos de la clase\n",
        "    padre = Padre()\n",
        "    print(dir(padre))\n",
        "    # Accedemos a los atributos de la clase\n",
        "    print(f'Variable publica: {padre.variable_publica}')\n",
        "    print(f'Variable protegida: {padre._variable_protegida}')\n",
        "    # print(f'Variable privada manda error: {padre.__variable_privada}')\n",
        "    print(f'Variable privada usando name mangling: {padre._Padre__variable_privada}')\n",
        "\n",
        "    # Name mangling es transparente para el programador\n",
        "    print(f'Acceso por medio del metodo get: {padre.get_variable_privada()}')\n",
        "\n",
        "    # Prueba clase Hijo\n",
        "    hijo = Hijo()\n",
        "    print(f'Acceso publico desde hijo: {hijo.variable_publica}')\n",
        "    print(f'Acceso protegido desde hijo: {hijo._variable_protegida}')\n",
        "    # print(f'Acceso privado desde hijo: {hijo.__variable_privada}')\n",
        "    # Utilizando name mangling desde la clase hijo\n",
        "    print(f'Acceso privado desde hijo con name mangling: {hijo._Hijo__variable_privada}')\n",
        "    print(f'Acceso privada desde hijo a la clase padre: {hijo._Padre__variable_privada}')\n",
        "\n",
        "    # Tambien podemos usar metodos con doble guion bajo\n",
        "    # padre.__metodo_privado() arroja error\n",
        "    padre._Padre__metodo_privado()\n",
        "    # Ahora desde la clase hijo\n",
        "    hijo._Hijo__metodo_privado()\n",
        "    hijo._Padre__metodo_privado()\n",
        "\n",
        "    # Accediendo a la variable global\n",
        "    print(f'Accediendo variable global: {_Prueba__variable_global}')\n",
        "    # Usando name mangling y la clase para acceder a la variable global\n",
        "    prueba = Prueba()\n",
        "    print(f'Accediendo variable global desde una clase: {prueba.obtener_variable()}')"
      ],
      "metadata": {
        "id": "bkDr84oHSI30"
      },
      "execution_count": null,
      "outputs": []
    },
    {
      "cell_type": "markdown",
      "source": [
        "**451: Atributos y métodos dunder**"
      ],
      "metadata": {
        "id": "1485HKuSU85w"
      }
    },
    {
      "cell_type": "code",
      "source": [
        "# dunder = Double underscore\n",
        "\n",
        "class Padre:\n",
        "    def __init__(self):\n",
        "        # Al usar dunder (double underscore) al inicio y al final\n",
        "        # No se aplica el concepto de name mangling\n",
        "        self.__variable_privada = 10\n",
        "        self.__variable_dunder__ = 15\n",
        "\n",
        "\n",
        "if __name__ == '__main__':\n",
        "    padre = Padre()\n",
        "    print(dir(padre))\n",
        "    print(f'Accediendo a la variable privada: {padre._Padre__variable_privada}')\n",
        "    print(f'Accediendo a la variable dunder: {padre.__variable_dunder__}')"
      ],
      "metadata": {
        "id": "0FebOM8aj7CG"
      },
      "execution_count": null,
      "outputs": []
    },
    {
      "cell_type": "markdown",
      "source": [
        "**452: Uso de guión bajo como variable temporal**"
      ],
      "metadata": {
        "id": "YNkAWJCvqsmc"
      }
    },
    {
      "cell_type": "code",
      "source": [
        "# El guion bajo simple por convencion se usa para indicar\n",
        "# que una variable es temporal o sin importancia\n",
        "\n",
        "for _ in range(3):\n",
        "    print(f'Hola... {_}')\n",
        "\n",
        "# Tambien lo podemos utilizar cuando trabajamos con tuplas\n",
        "valores = ('Juan', 'Perez', 31)\n",
        "nombre, _ , edad = valores\n",
        "print(f'Nombre: {nombre}')\n",
        "print(f'Edad: {edad}')\n",
        "print(f'Apellido: {_}')\n",
        "\n",
        "# Se puede usar como variable temporal de cualquier tipo\n",
        "_ = list()\n",
        "_.append(1)\n",
        "_.append(2)\n",
        "_.append(3)\n",
        "print(f'Variable temporal que apunta a una lista: {_}')"
      ],
      "metadata": {
        "id": "S2_YjoeLqwhW"
      },
      "execution_count": null,
      "outputs": []
    },
    {
      "cell_type": "markdown",
      "source": [
        "**453-455:Forma de cadenas**"
      ],
      "metadata": {
        "id": "8-4uOH2XqxWh"
      }
    },
    {
      "cell_type": "code",
      "source": [
        "# 2. Nuevo Estilo de formato de cadenas en Python\n",
        "nombre = 'Juan'\n",
        "mi_cadena = 'Hola, {}'.format(nombre)\n",
        "print(mi_cadena)\n",
        "\n",
        "# Podemos convertir enteros a hexadecimales\n",
        "error = 500\n",
        "cadena_hexadecimal = 'Error en hexadecimal: {error:x}'.format(error=error)\n",
        "print(cadena_hexadecimal)\n",
        "# Ejemplo entero a flotante\n",
        "entero = 50\n",
        "cadena_flotante = 'Numero flotante: {entero:0.2f}'.format(entero=entero)\n",
        "print(cadena_flotante)\n",
        "\n",
        "# Podemos hacer lo mismo, pero usando String Interpolation (f-string literal)\n",
        "mi_cadena = f'Hola, {nombre}'\n",
        "print(mi_cadena)\n",
        "# Mandar a imprimir directamente\n",
        "print(f'Hola, {nombre}')\n",
        "# Este es el mismo ejemplo de hexadecimal con String Interpolation\n",
        "print(f'Error hexadecimal: {error:x}')\n",
        "# El mismo ejemplo de impresion de entero a flotante\n",
        "print(f'Numero flotante: {entero:.2f}')\n",
        "# Podemos incluir expresiones o llamadas a funciones\n",
        "a = 10\n",
        "b = 3\n",
        "print(f'Dividimos y damos formato: {a/b:.2f}')"
      ],
      "metadata": {
        "id": "B58lJG2peiBV"
      },
      "execution_count": null,
      "outputs": []
    },
    {
      "cell_type": "markdown",
      "source": [
        "**456: El Zen de python**\n"
      ],
      "metadata": {
        "id": "n1n-01pCl1wN"
      }
    },
    {
      "cell_type": "code",
      "source": [
        "# https://peps.python.org/pep-0020/\n",
        "import this\n",
        "# Ponerlos en español\n",
        "# Hermoso es mejor que feo.\n",
        "# Explícito es mejor que implícito.\n",
        "# Simple es mejor que complejo.\n",
        "# Complejo es mejor que complicado.\n",
        "# Plano es mejor que anidado.\n",
        "# Espaciado es mejor que denso.\n",
        "# La legibilidad es importante.\n",
        "# Los casos especiales no son lo suficientemente especiales como para romper las reglas.\n",
        "# Sin embargo la practicidad le gana a la pureza.\n",
        "# Los errores nunca deberían pasar silenciosamente.\n",
        "# A menos que se silencien explícitamente.\n",
        "# Frente a la ambigüedad, evitar la tentación de adivinar.\n",
        "# Debería haber una, y preferiblemente solo una, manera obvia de hacerlo.\n",
        "# A pesar de que eso no sea obvio al principio a menos que seas Holandés.\n",
        "# Ahora es mejor que nunca.\n",
        "# A pesar de que nunca es muchas veces mejor que *ahora* mismo.\n",
        "# Si la implementación es difícil de explicar, es una mala idea.\n",
        "# Si la implementación es fácil de explicar, puede que sea una buena idea.\n",
        "# Los espacios de nombres son una gran idea, ¡tengamos más de esos!"
      ],
      "metadata": {
        "id": "yqjYOLr1ncmx"
      },
      "execution_count": null,
      "outputs": []
    },
    {
      "cell_type": "markdown",
      "source": [
        "**457-463: Tips and Tricks FUNCIONES**"
      ],
      "metadata": {
        "id": "wZrmp22Unld9"
      }
    },
    {
      "cell_type": "code",
      "source": [
        "# Las funciones en python son ciudadanos de primera clase\n",
        "def mayusculas(texto):\n",
        "    return texto.upper()\n",
        "\n",
        "# Uso normal de una funcion\n",
        "print(mayusculas('Hola'))\n",
        "\n",
        "# Uso de una funcion como un objeto\n",
        "# Asignar la referencia de la funcion a una variable, sin los parentesis\n",
        "variable_funcion = mayusculas\n",
        "print(f'Funcion mayusculas: {mayusculas}')\n",
        "print(f'Variable funcion: {variable_funcion}')\n",
        "\n",
        "# Utilizamos la variable funcion en cualquier momento\n",
        "print(variable_funcion('Nuevo texto'))\n",
        "\n",
        "# Para demostrar que las funciones son objetos, eliminamos la referencia original\n",
        "# del mayusculas\n",
        "\n",
        "# Aun asi, podemos utilizar la funcion con la variable_funcion\n",
        "print(variable_funcion('Saludos...'))\n",
        "# print(mayusculas('Ya se elimino....'))\n",
        "\n",
        "# Podemos saber el nombre por default que se le asigna a una funcion\n",
        "print(f'Nombre por default de la funcion: {variable_funcion.__name__}')\n",
        "print(mayusculas('Nombre por default'))\n",
        "\n",
        "#############################\n",
        "# Como almacenar una funcion es una estructura de datos (list)\n",
        "lista_funciones = [mayusculas, variable_funcion, str.upper]\n",
        "print(lista_funciones)\n",
        "\n",
        "for funcion in lista_funciones:\n",
        "    print(funcion, funcion('Saludos desde la funcion'))\n",
        "\n",
        "# O podemos acceder directamente a la funcion que deseemos\n",
        "print(lista_funciones[1]('Saludos desde variable_funcion'))\n",
        "\n",
        "#####################\n",
        "# Podemos pasar funciones a otras funciones\n",
        "# Este tipo de funciones se conocen como higher-order functions\n",
        "def saludar(argumento_funcion):\n",
        "    # Usamos la funcion que recibimos como argumento y devolvemos la referencia\n",
        "    referencia_funcion_retornada = argumento_funcion('Hola, saludos desde mi funcion')\n",
        "    print(referencia_funcion_retornada)\n",
        "\n",
        "# Llamamos la funcion saludar, pasamos la referencia de una funcion como argumento\n",
        "saludar(mayusculas)\n",
        "\n",
        "# Podemos pasar una nueva implementacion de la funcion que pasamos como argumento\n",
        "def minusculas(texto):\n",
        "    return texto.lower()\n",
        "\n",
        "saludar(minusculas)\n",
        "\n",
        "# El clasico ejemplo de higher-order functions es la funcion map\n",
        "# Esta funcion toma una funcion como referencia, y un iterable, llama a la funcion\n",
        "# en cada elemento del iterable proporcionado\n",
        "print(list(map(mayusculas, ['texto1', 'texto2', 'texto3'])))\n",
        "print(list(map(minusculas, ['Texto1', 'Texto2', 'Texto3'])))\n",
        "\n",
        "###################\n",
        "# Funciones Anidadas\n",
        "def mostrar(texto):\n",
        "    # Definicion de la funcion interna o anidada\n",
        "    def convetir_minusculas(t):\n",
        "        return t.lower()\n",
        "    # Una vez definida la funcion interna, la mandamos llamar\n",
        "    return convetir_minusculas(texto)\n",
        "\n",
        "# Cada vez que se llama la funcion mostrar\n",
        "# se crea la funcion interna convetir_minusculas\n",
        "print(mostrar('Desde funcion anidada...'))\n",
        "\n",
        "# No podemos utilizar la funcion interna desde fuera de la funcion externa\n",
        "# convetir_minusculas('texto1')\n",
        "# mostrar.convertir_minusculas('texto1')\n",
        "\n",
        "# Retornar la funcion anidada\n",
        "# Observar que en ningun momento se llama la funcion anidada desde la funcion externa\n",
        "def hablar(volumen):\n",
        "    def minusculas(texto):\n",
        "        return texto.lower()\n",
        "    def mayusculas(texto):\n",
        "        return texto.upper()\n",
        "    if volumen > 0.5:\n",
        "        return mayusculas\n",
        "    else:\n",
        "        return minusculas\n",
        "\n",
        "# Utilizamos la funcion anidada\n",
        "print(hablar(0.6)('hablo fuerte...'))\n",
        "print(hablar(0.2)('Hablo Suave...'))\n",
        "\n",
        "variable_minusculas = hablar(0.4)\n",
        "print(variable_minusculas('Hablo Suave Nuevamente'))\n",
        "\n",
        "##################\n",
        "# Closures\n",
        "# Las funciones internas pueden capturar y guardar el estado de la funcion externa\n",
        "def hablar(texto, volumen):\n",
        "    # La funcion interna ya no recibe parametros\n",
        "    # Utiliza el estado de la funcion padre (externa)\n",
        "    def minusculas():\n",
        "        return texto.lower()\n",
        "    def mayusculas():\n",
        "        return texto.upper()\n",
        "    if volumen > 0.5:\n",
        "        return mayusculas()\n",
        "    else:\n",
        "        return minusculas()\n",
        "\n",
        "print(hablar('hablo fuerte...', 0.8))\n",
        "print(hablar('Hablo Suave..', 0.1))\n",
        "\n",
        "# Otro ejemplo de closure\n",
        "# Podemos preconfigurar una funcion\n",
        "def mostrar(titulo):\n",
        "    # Definimos la funcion anidada\n",
        "    def saludar(mensaje):\n",
        "        return titulo + '. ' + mensaje\n",
        "    return saludar\n",
        "\n",
        "mostrar_ing = mostrar('Ingeniero')\n",
        "mostrar_lic = mostrar('Licenciado')\n",
        "\n",
        "# Podemos seguir usando el estado de la funcion previsamente configurada\n",
        "# aunque el valor de titulo ya esta fuera del alcance (scope)\n",
        "print(mostrar_ing('Alvaro Ruiz'))\n",
        "print(mostrar_lic('Carlos Esparza'))\n",
        "\n",
        "########################\n",
        "# La funcion callable nos permite saber si un objeto se puede llamar o no\n",
        "# Todas las funciones en python son objetos\n",
        "# Pero no todos en python son funciones\n",
        "print(f'Se puede llamar el objeto mostrar como funcion?: {callable(mostrar)}')\n",
        "print(f'Se puede llamar el objeto hablar como funcion?: {callable(hablar)}')\n",
        "print(f'Se puede llamar el objeto mostrar_ing como funcion?: {callable(mostrar_ing)}')\n",
        "print(f'Se puede llamar el objeto str como funcion?: {callable(\"cualquier texto\")}')\n",
        "\n",
        "# Si queremos que una clase defina objetos que se puedan llamar como funciones\n",
        "# tenemos que sobreescribir el metodo __call__\n",
        "class Mostrar:\n",
        "    def __init__(self, titulo):\n",
        "        self.titulo = titulo\n",
        "\n",
        "    def __call__(self, mensaje):\n",
        "        return self.titulo + '. ' + mensaje\n",
        "\n",
        "mostrar_doctor = Mostrar('Doctor')\n",
        "print(mostrar_doctor('Carlos Ugalde'))\n",
        "print(f'Se puede llamar el objeto mostrar_doctor como funcion?: {callable(mostrar_doctor)}')"
      ],
      "metadata": {
        "id": "vlWRU2kpZkGZ"
      },
      "execution_count": null,
      "outputs": []
    },
    {
      "cell_type": "markdown",
      "source": [
        "**464-468: Todo sobre funciones lambda**"
      ],
      "metadata": {
        "id": "UvJOauCCaSD7"
      }
    },
    {
      "cell_type": "code",
      "source": [
        "# Las funciones lambda nos permiten declarar funciones anonimas\n",
        "# en una sola linea de codigo\n",
        "# Ejemplo normal\n",
        "def sumar(a, b):\n",
        "    return a + b\n",
        "\n",
        "print(sumar(3, 5))\n",
        "\n",
        "# Funcion lambda\n",
        "sumar_lambda = lambda a, b: a + b\n",
        "print(sumar_lambda(2, 4))\n",
        "\n",
        "# Utilizando una sola linea de codigo\n",
        "print((lambda a, b: a + b)(5, 6))\n",
        "\n",
        "# Podemos usar una funcion lambda siempre que necesitemos una funcion concreta\n",
        "# Ej. Ordenar una lista de tuplas, por su segundo valor proporcionando una llave (key)\n",
        "lista_tuplas = [(1,'b'), (2, 'f'), (5, 'a'), (4, 'c')]\n",
        "# lista_tuplas_ordenada = sorted(lista_tuplas, key=lambda tupla: tupla[0], reverse=True)\n",
        "lista_tuplas_ordenada = sorted(lista_tuplas, key=lambda tupla: tupla[1], reverse=True)\n",
        "print(lista_tuplas_ordenada)\n",
        "\n",
        "# Otro ejemplo de ordenamiento usando una expresion lambda\n",
        "print(list(range(-3,4)))\n",
        "# Si queremos ordenar por el valor absoluto (sin considerar signo)\n",
        "for valor in range(-3,4):\n",
        "    print(valor, valor*valor)\n",
        "\n",
        "# Ahora lo aplicamos a una expresion lambda\n",
        "lista_ordenada = sorted(range(-3,4), key=lambda valor: valor*valor)\n",
        "print(lista_ordenada)\n",
        "\n",
        "# Las funciones lambda tambien podemos aplicar el concepto de closure\n",
        "def mostrar(titulo):\n",
        "    return lambda mensaje: titulo + '. ' + mensaje\n",
        "\n",
        "mostrar_ing = mostrar('Ingeniero')\n",
        "mostrar_lic = mostrar('Licenciado')\n",
        "print(mostrar_ing('Carlos Lara'))\n",
        "print(mostrar_lic('Armando Casas'))\n",
        "\n",
        "\n",
        "# Ejemplos de casos de funciones lambda que no son recomendables\n",
        "class Prueba:\n",
        "    mostrar = lambda self: print('Funcion mostrar...')\n",
        "    saludar = lambda self: print('Funcion saludar...')\n",
        "\n",
        "prueba = Prueba()\n",
        "prueba.mostrar()\n",
        "prueba.saludar()\n",
        "\n",
        "# Otro ejemplo donde una funcion lambda agregaria complejidad innecesaria\n",
        "lista_pares = list(filter(lambda valor: valor % 2 == 0, range(10)))\n",
        "print(lista_pares)\n",
        "\n",
        "# Resolviendo el mismo ejercicio pero utilizando list comprehensions\n",
        "lista_pares_modificada = [valor for valor in range(10) if valor % 2 == 0]\n",
        "print(lista_pares_modificada)"
      ],
      "metadata": {
        "id": "umpdkZ8mQZyu"
      },
      "execution_count": null,
      "outputs": []
    },
    {
      "cell_type": "markdown",
      "source": [
        "**469-473**: Todo sobre generadores**"
      ],
      "metadata": {
        "id": "LD7-xJ82qji2"
      }
    },
    {
      "cell_type": "code",
      "source": [
        "# Los decoradores permiten extender y modificar el comportamiento de las funciones\n",
        "# Ejemplos comunes: logging, seguridad, caching\n",
        "# Un decorador es codigo reutilizable\n",
        "# Primer ejemplo de un decorador\n",
        "def decorador_envolvente(funcion_a_decorar):\n",
        "    # Recibir la funcion y regresarla\n",
        "    print('Estamos dentro de la funcion decoradora')\n",
        "    return funcion_a_decorar\n",
        "\n",
        "# Ahora utilicemos este decorador\n",
        "def saludar():\n",
        "    return 'Saludos desde mi funcion...'\n",
        "\n",
        "# Llamamos manualmente el decorador (no es lo comun en Python)\n",
        "funcion_retornada = decorador_envolvente(saludar)\n",
        "print(funcion_retornada)\n",
        "\n",
        "@decorador_envolvente\n",
        "def saludar_funcion_a_decorar():\n",
        "    return 'Saludos desde funcion a decorar...'\n",
        "\n",
        "# La funcion devuelta por el decorador se ejecuta de manera inmediata, sin llamarla\n",
        "print(saludar_funcion_a_decorar())\n",
        "\n",
        "# Decorador que convierte el texto a mayusculas\n",
        "def mayusculas(funcion_a_decorar):\n",
        "    def envolvente():\n",
        "        # Mandamos a llamar la funcion original (closure)\n",
        "        print('antes de la llamada a la funcion a decorar...')\n",
        "        resultado_original = funcion_a_decorar()\n",
        "        print('despues de la llamada a la funcion a decorar...')\n",
        "        resultado_modificado = resultado_original.upper()\n",
        "        return resultado_modificado\n",
        "    return envolvente\n",
        "\n",
        "@mayusculas\n",
        "def saludar_minusculas():\n",
        "    return 'hola..'\n",
        "\n",
        "# La funcion devuelta por el decorador (envolvente) se ejecuta de manera inmediata\n",
        "print(saludar_minusculas())\n",
        "\n",
        "###########################\n",
        "# Decoradores multiples\n",
        "# <strong><em>Hola</em></strong>\n",
        "def negritas(funcion):\n",
        "    def funcion_envolvente():\n",
        "        return '<strong>' + funcion() + '</strong>'\n",
        "    return funcion_envolvente\n",
        "\n",
        "def enfatizar(funcion):\n",
        "    def funcion_envolvente():\n",
        "        return '<em>' + funcion() + '</em>'\n",
        "    return funcion_envolvente\n",
        "\n",
        "@negritas\n",
        "@enfatizar\n",
        "def saludar_html():\n",
        "    return 'Hola con HTML'\n",
        "\n",
        "print(saludar_html())\n",
        "\n",
        "##################\n",
        "# Decoradores con Argumentos\n",
        "# *args y **kwargs\n",
        "def decorador_con_argumentos(funcion):\n",
        "    def funcion_envolvente(*args, **kwargs):\n",
        "        print('Se esta ejecutando decorador')\n",
        "        print('args: ', args)\n",
        "        print('kwargs: ', kwargs)\n",
        "        # Modificar los argumentos antes de enviarlos\n",
        "        lista_arg = []\n",
        "        for indice, valor_tupla in enumerate(args):\n",
        "            lista_arg.append(args[indice].upper())\n",
        "        # Agregamos mas elementos a la lista\n",
        "        lista_arg.append('nuevo arg 1')\n",
        "        lista_arg.append('nuevo arg 2')\n",
        "        # Agregamos informacion al diccionario\n",
        "        kwargs['valor1'] = 'Nuevo valor 1'\n",
        "        kwargs['valor2'] = 'Nuevo valor 2'\n",
        "        # Propagamos los parametros a la funcion original\n",
        "        # return funcion(*args, **kwargs)\n",
        "        # Propagar los valores modificados\n",
        "        return funcion(*lista_arg, **kwargs)\n",
        "    return funcion_envolvente\n",
        "\n",
        "@decorador_con_argumentos\n",
        "def funcion_saludar(titulo, nombre, *args, **kwargs):\n",
        "    # Imprimir titulo con el nombre\n",
        "    print(f'{titulo}. {nombre}')\n",
        "    # Imprimimos los argumentos variables\n",
        "    print('args: ', args)\n",
        "    print('kwargs: ', kwargs)\n",
        "\n",
        "funcion_saludar('Ingeniera', 'Maria Quiroz')"
      ],
      "metadata": {
        "id": "acH7y2qnqj95"
      },
      "execution_count": null,
      "outputs": []
    },
    {
      "cell_type": "markdown",
      "source": [
        "**474: Funciones y argumentos en python**"
      ],
      "metadata": {
        "id": "_eHG869NLsjw"
      }
    },
    {
      "cell_type": "code",
      "source": [
        "def imprimir_vector(x, y, z):\n",
        "    print(f'<{x}, {y}, {z}>')\n",
        "\n",
        "imprimir_vector(10, 3, 12)\n",
        "\n",
        "# Desempaquetar un iterable (tupla, lista, set, etc)\n",
        "tupla_vector = (8,2,15)\n",
        "imprimir_vector(*tupla_vector)\n",
        "\n",
        "lista_vector = [4,2,7]\n",
        "imprimir_vector(*lista_vector)\n",
        "\n",
        "expresion_generador = (x * x for x in range(3))\n",
        "imprimir_vector(*expresion_generador)\n",
        "\n",
        "# Desempaquetar un diccionario\n",
        "diccionario_vector = {'x':10, 'y': 15, 'z':3}\n",
        "imprimir_vector(**diccionario_vector)\n",
        "\n",
        "# Pasar las llaves\n",
        "imprimir_vector(*diccionario_vector)"
      ],
      "metadata": {
        "id": "t0RqsY_UL7ZN"
      },
      "execution_count": null,
      "outputs": []
    },
    {
      "cell_type": "markdown",
      "source": [
        "**475: Valores de retorno None en funciones**"
      ],
      "metadata": {
        "id": "Nd1VTr1iL-SE"
      }
    },
    {
      "cell_type": "code",
      "source": [
        "# De manera explicita se regresa el valor de None\n",
        "def funcion1(valor):\n",
        "    if valor:\n",
        "        return valor\n",
        "    else:\n",
        "        return None\n",
        "\n",
        "print(funcion1(0))\n",
        "\n",
        "# De manera implicita se regresa el valor de None\n",
        "def funcion2(valor):\n",
        "    if valor:\n",
        "        return valor\n",
        "\n",
        "print(funcion2(0))\n",
        "\n",
        "def funcion3(valor):\n",
        "    print(valor)\n",
        "    # return None\n",
        "\n",
        "# funcion3(15)\n",
        "print(funcion3(10))"
      ],
      "metadata": {
        "id": "D2oZ8k68MBGW"
      },
      "execution_count": null,
      "outputs": []
    },
    {
      "cell_type": "markdown",
      "source": [
        "**476: Identidad de objetos en python**"
      ],
      "metadata": {
        "id": "nykUKqo6Om26"
      }
    },
    {
      "cell_type": "code",
      "source": [
        "# Comparacion del uso de operador == o el operador is en POO\n",
        "\n",
        "# El operador == compara el contenido de 2 objetos (contenido igual)\n",
        "# no necesariamente son el mismo objeto (pueden apuntar a objetos distintos)\n",
        "\n",
        "# Operador is revisa si dos objetos son iguales (objetos son identicos)\n",
        "# Ambos deben estar apuntando a la misma direccion de memoria para ser iguales\n",
        "\n",
        "# Ejemplo de una lista\n",
        "lista_a = [1,2,3]\n",
        "lista_b = lista_a\n",
        "\n",
        "# En este caso tanto la lista a y b tienen el mismo contenido (== es True)\n",
        "# y tambien apuntan a la misma referencia (is regresa True)\n",
        "print(f'Lista a y b tienen el mismo contenido?: {lista_a == lista_b}')\n",
        "print(f'Lista a y b apunta al mismo objeto?: {lista_a is lista_b}')\n",
        "\n",
        "# Sin embargo, si creamos un nuevo objeto\n",
        "lista_c = list(lista_a)\n",
        "# en este caso la lista a tienen el mismo contenido que c (== es True)\n",
        "#pero... lista c apunta a un objeto distinto en memoria (is es False)\n",
        "print(f'Lista a  y c tienen el mismo contenido?: {lista_a == lista_c}')\n",
        "print(f'Lista a y c apuntan al mismo objeto en memoria?: {lista_a is lista_c}')"
      ],
      "metadata": {
        "id": "ZwnkdW1C7x8w"
      },
      "execution_count": null,
      "outputs": []
    },
    {
      "cell_type": "markdown",
      "source": [
        "**477-478: Representación de objetos**\n",
        "\n",
        "\n",
        "Debugging in Python refers to the process of identifying and fixing errors, bugs, and unexpected behavior in your Python code. The purpose of debugging is to locate and correct issues in the code to ensure that it runs as intended. Python provides several tools and techniques for debugging. Here are some common methods:\n",
        "\n",
        "\n",
        "Inserting print statements at various points in your code to display the values of variables and help you understand the flow of execution.\n",
        "\n",
        "Logging:\n",
        "\n",
        "Utilizing the logging module to add log messages with different levels (info, warning, error) to track the program's progress.\n",
        "\n",
        "Python Debugger (pdb):\n",
        "\n",
        "Using Python's built-in debugger, pdb, to interactively debug your code. You can set breakpoints, inspect variables, and step through the code. Execute your script, and it will stop at the specified breakpoint, allowing you to interact with the code.\n",
        "\n",
        "IDE Debugging Tools:\n",
        "\n",
        "Integrated Development Environments (IDEs) such as PyCharm, VSCode, and others provide graphical debugging tools. You can set breakpoints, inspect variables, and step through the code directly within the IDE.\n",
        "Assertions:\n",
        "\n",
        "Using the assert statement to check if a condition is true. If it's not, an AssertionError is raised, helping you identify problems in your code.\n",
        "\n",
        "Unit Testing:\n",
        "\n",
        "Implementing unit tests to check individual components of your code, ensuring that they work correctly. This can help catch bugs early in the development process.\n",
        "Code Review:\n",
        "\n",
        "Having peers review your code can often help identify issues that you may have missed.\n",
        "Remember that effective debugging involves a combination of these techniques, and the choice depends on the nature of the problem you are trying to solve.\n",
        "\n"
      ],
      "metadata": {
        "id": "MvY-BMNx74ip"
      }
    },
    {
      "cell_type": "code",
      "source": [
        "# __str__ su objetivo es que la informacion sea legible para el usuario\n",
        "# __repr__ su objetivo es que la informacion no sea ambigua\n",
        "# se utilizar para hacer debugging (formato tipo constructor)\n",
        "# La implementacion por default del metodo str llama a repr\n",
        "\n",
        "class Auto:\n",
        "    def __init__(self, marca, modelo, color):\n",
        "        self.marca = marca\n",
        "        self.modelo = modelo\n",
        "        self.color = color\n",
        "\n",
        "# Por default solo es muestra el nombre de la clase y id del objeto (direccion memoria)\n",
        "audi_a3 = Auto('audi', 'A3', 'rojo')\n",
        "print(f'Audi: {audi_a3}')\n",
        "\n",
        "class AutoStr:\n",
        "    def __init__(self, marca, modelo, color):\n",
        "        self.marca = marca\n",
        "        self.modelo = modelo\n",
        "        self.color = color\n",
        "\n",
        "    def __str__(self):\n",
        "        return f'str: Marca: {self.marca}, Modelo: {self.modelo}, Color: {self.color}'\n",
        "\n",
        "    # def __repr__(self):\n",
        "    #     return f'repr: Marca: {self.marca}, Modelo: {self.modelo}, Color: {self.color}'\n",
        "\n",
        "    def __repr__(self):\n",
        "        return (f'{self.__class__.__name__}('\n",
        "                f'{self.marca!r}, {self.modelo}, {self.color!r})')\n",
        "\n",
        "audi_a1 = AutoStr('Audi', 'a1', 'blanco')\n",
        "# Tenemos diferentes formas de imprimir el objeto\n",
        "print(audi_a1)\n",
        "print(audi_a1.__str__())\n",
        "print(str(audi_a1))\n",
        "print('{}'.format(audi_a1))\n",
        "print(f'{audi_a1}')\n",
        "\n",
        "# Sin embargo es mas recomendable usar __repr__ en lugar de __str__\n",
        "# Ej. cualquier coleccion utiliza repr en lugar de str para mostrar la informacion\n",
        "print([audi_a1])\n",
        "# Tambien usando !r\n",
        "print(f'{audi_a1!r}')\n",
        "\n",
        "# Tambien manualmente podemos escoger que metodo utilizar\n",
        "print(str(audi_a1))\n",
        "print(repr(audi_a1))"
      ],
      "metadata": {
        "id": "NhjBK3qc74ze"
      },
      "execution_count": null,
      "outputs": []
    },
    {
      "cell_type": "markdown",
      "source": [
        "**479-480: Clases de excepción personalizadas**"
      ],
      "metadata": {
        "id": "maf4Vuo9_9eF"
      }
    },
    {
      "cell_type": "code",
      "source": [
        "# Crear una clase para definir una clase de excepcion personalizada\n",
        "# Ej. Validar que un nombre no pueda tener menos de 3 caracteres\n",
        "\n",
        "# Este tipo de validacion no indica cual es el problama en especifico\n",
        "def validar(nombre_completo):\n",
        "    if len(nombre_completo) < 3:\n",
        "        raise ValueError\n",
        "    else:\n",
        "        print('Validacion correcta...')\n",
        "\n",
        "nombre = 'Pi'\n",
        "# validar(nombre)\n",
        "\n",
        "# Validacion personalizada, indica cual es el problemas, y queda autodocumentado\n",
        "# class NombreDemasiadoCorto(ValueError):\n",
        "#     pass\n",
        "#\n",
        "# def validar_mejorado(nombre_completo):\n",
        "#     if len(nombre_completo) < 3:\n",
        "#         raise NombreDemasiadoCorto(nombre_completo)\n",
        "#     else:\n",
        "#         print('Validacion correcta...')\n",
        "#\n",
        "# nombre = 'Ka'\n",
        "# validar_mejorado(nombre)\n",
        "\n",
        "# Es buena idea crear una clase base y de alli extender las demas clases\n",
        "class ClaseExcepcionBase(TypeError):\n",
        "    pass\n",
        "\n",
        "class NombreDemasiadoCorto(ClaseExcepcionBase):\n",
        "    pass\n",
        "\n",
        "def validar_mejorado(nombre_completo):\n",
        "    if len(nombre_completo) < 3:\n",
        "        raise NombreDemasiadoCorto(nombre_completo)\n",
        "    else:\n",
        "        print('Validacion correcta...')\n",
        "\n",
        "nombre = 'Ka'\n",
        "try:\n",
        "    validar_mejorado(nombre)\n",
        "except ClaseExcepcionBase as e:\n",
        "    print(f'{type(e).__name__}, linea {e.__traceback__.tb_lineno} en {__file__}: {e}')\n"
      ],
      "metadata": {
        "id": "z666-9lB_9yc"
      },
      "execution_count": null,
      "outputs": []
    },
    {
      "cell_type": "markdown",
      "source": [
        "**481-482: Clonación de objetos en python**"
      ],
      "metadata": {
        "id": "7wpwTqWa4Xxu"
      }
    },
    {
      "cell_type": "code",
      "source": [
        "import copy\n",
        "\n",
        "# Clonacion (copia) de objetos\n",
        "# Copia superficial (shallow) o copia poco profunda\n",
        "lista_a = [[1,2],[3,4],[5,6]]\n",
        "# Copia superficial (shallow)\n",
        "lista_b = list(lista_a)\n",
        "# Las listas son dos objetos distintos, apuntan a diferente posicion de memoria\n",
        "# pero los niveles internos solo se copio la referencia, no se crearon nuevos objetos\n",
        "print(f'Lista a: {lista_a}')\n",
        "print(f'Lista b: {lista_b}')\n",
        "# Comprobacion de que los objetos son distintos (a nivel superior)\n",
        "# Un cambio en el nivel superior, no afecta a la otra lista\n",
        "lista_a.append([7,8])\n",
        "print('Son distintos objetos (nivel superior)')\n",
        "print(f'Lista a: {lista_a}')\n",
        "print(f'Lista b: {lista_b}')\n",
        "# Comprobacion de que los objetos internos tiene la misma referencia (copia superficial)\n",
        "# Un cambio en un elemento de una sublista, afecta a la otra sublista de la otra lista\n",
        "lista_a[0][1]='A'\n",
        "print(f'La copia fue superficial, los elementos internos solo se copio la referencia')\n",
        "print(f'Lista a: {lista_a}')\n",
        "print(f'Lista b: {lista_b}')\n",
        "\n",
        "# Crear copias profundas (import copy)\n",
        "lista_c = [[1,2],[3,4],[5,6]]\n",
        "lista_d = copy.deepcopy(lista_c)\n",
        "# Comprobacion de que son objetos distintos\n",
        "lista_c.append([7,8])\n",
        "print(f'Son distintos objetos (nivel superior)')\n",
        "print(f'Lista c: {lista_c}')\n",
        "print(f'Lista d: {lista_d}')\n",
        "# Ahora si, los elementos internos son nuevos objetos, no solo se copio la referencia\n",
        "lista_c[0][1]='A'\n",
        "print(f'Lista c: {lista_c}')\n",
        "print(f'Lista d: {lista_d}')\n",
        "# El metodo copy sirve para realizar copias poco profundas (shallow)"
      ],
      "metadata": {
        "id": "jhag7o4K4YZG"
      },
      "execution_count": null,
      "outputs": []
    },
    {
      "cell_type": "markdown",
      "source": [
        "**483-484: Clonación de objetos y sus atributos**"
      ],
      "metadata": {
        "id": "Ecgr--kuGVNI"
      }
    },
    {
      "cell_type": "code",
      "source": [
        "import copy\n",
        "\n",
        "# Copia de atributos de objetos\n",
        "\n",
        "# Definimos una clase de tipo Punto 2D\n",
        "class Punto:\n",
        "    def __init__(self, x, y):\n",
        "        self.x = x\n",
        "        self.y = y\n",
        "\n",
        "    def __repr__(self):\n",
        "        return f'Punto({self.x!r}, {self.y!r})'\n",
        "\n",
        "    def __eq__(self, otro):\n",
        "        return isinstance(otro, Punto) and self.x == otro.x and self.y == otro.y\n",
        "\n",
        "punto_a = Punto(2,3)\n",
        "punto_b = copy.copy(punto_a)\n",
        "# Copia poco profunda (shallow), son distintos objetos\n",
        "print(f'Copia poco profunda (shallow)')\n",
        "print(f'Punto a: {punto_a}')\n",
        "print(f'Punto b: {punto_b}')\n",
        "print(f'Son objetos con el mismo contenido:? {punto_a == punto_b}')\n",
        "print(f'Son los mismo objetos (misma referencia)?: {punto_a is punto_b}')\n",
        "\n",
        "# Clase Rectangulo utiliza dos puntos (superior izquierdo e inferior derecho)\n",
        "class Rectangulo:\n",
        "    def __init__(self, sup_izq, inf_der):\n",
        "        self.sup_izq = sup_izq\n",
        "        self.inf_der = inf_der\n",
        "\n",
        "    def __repr__(self):\n",
        "        return f'Rectangulo({self.sup_izq!r}, {self.inf_der!r})'\n",
        "\n",
        "rect_a = Rectangulo(Punto(0,1), Punto(3,4))\n",
        "# Copia superficial (shallow)\n",
        "rect_b = copy.copy(rect_a)\n",
        "print(f'Copia superficial rectangulos')\n",
        "print(f'Rectangulo a: {rect_a}')\n",
        "print(f'Rectangulo b: {rect_b}')\n",
        "# debido a que la copia fue superficial, un cambio en un punto afecta al otro rectangulo\n",
        "rect_a.inf_der.y = 6\n",
        "print(f'Cambio en un punto afecta al otro rectangulo (shallow copy)')\n",
        "print(f'Rectangulo a: {rect_a}')\n",
        "print(f'Rectangulo b: {rect_b}')\n",
        "\n",
        "# Creacion copia profunda (deep copy)\n",
        "rect_c = copy.deepcopy(rect_a)\n",
        "# Modificamos un valor en un punto, no afecta al otro rectangulo (copia profunda)\n",
        "rect_c.sup_izq.x = 2\n",
        "rect_a.sup_izq.y = 3\n",
        "print(f'Cambio en un punto NO afecta al otro rectangulo (deep copy)')\n",
        "print(f'Rectangulo a: {rect_a}')\n",
        "print(f'Rectangulo c: {rect_c}')"
      ],
      "metadata": {
        "id": "hc2cHQlwGXG4"
      },
      "execution_count": null,
      "outputs": []
    },
    {
      "cell_type": "markdown",
      "source": [
        "**485-487: Clases abstractas en python**"
      ],
      "metadata": {
        "id": "j9IVeqebR4_K"
      }
    },
    {
      "cell_type": "code",
      "source": [
        "# ABC - Abstract Base Class\n",
        "# Nos permite asegurar que las clases que heredan implementen los metodos\n",
        "# ABC permite escribir una jerarquia de clases mas robuta y escribir codigo mas mantenible\n",
        "\n",
        "# Ej. Sin usar ABC y los posibles problemas\n",
        "from abc import ABCMeta, abstractmethod\n",
        "\n",
        "\n",
        "class ClaseBase1:\n",
        "    def metodo_1(self):\n",
        "        raise NotImplementedError\n",
        "\n",
        "    def metodo_2(self):\n",
        "        raise NotImplementedError\n",
        "\n",
        "class ClaseConcreta1(ClaseBase1):\n",
        "    # Implementacion de la clase padre\n",
        "    def metodo_1(self):\n",
        "        print('Metodo 1 implementado...')\n",
        "\n",
        "    # El metodo 2 no se va a implementar\n",
        "    # Esto ya es un problema por que no se reporta la falta de implementacion\n",
        "\n",
        "# Hay un problema, se puede instanciar la clase Base\n",
        "clase_base = ClaseBase1()\n",
        "# clase_base.metodo_1()\n",
        "\n",
        "# Esto funciona segun lo esperado\n",
        "clase_concreta = ClaseConcreta1()\n",
        "# clase_concreta.metodo_1()\n",
        "# El metodo2, se llama el metodo heradado\n",
        "# clase_concreta.metodo_2()\n",
        "\n",
        "# Vamos a resolver los detalles anteriores usando ABC (Abstract Base Class)\n",
        "class ClaseBase2(metaclass=ABCMeta):\n",
        "    # No tenemos la agregar la implementacion al ser un metodo abstracto\n",
        "    @abstractmethod\n",
        "    def metodo_1(self):\n",
        "        pass\n",
        "\n",
        "    @abstractmethod\n",
        "    def metodo_2(self):\n",
        "        pass\n",
        "\n",
        "class ClaseConcreta2(ClaseBase2):\n",
        "    def metodo_1(self):\n",
        "        print('Metodo 1 implementado...')\n",
        "\n",
        "    # Estamos obligados a implementar todos los metodos abstractos\n",
        "    def metodo_2(self):\n",
        "        print('Metodo 2 implementado...')\n",
        "\n",
        "# Intentamos crear un objeto de la clase base\n",
        "# Esto no es posible\n",
        "# clase_base = ClaseBase2()\n",
        "\n",
        "# Instanciamos la clase concreta 2\n",
        "clase_concreta = ClaseConcreta2()\n",
        "clase_concreta.metodo_1()\n",
        "clase_concreta.metodo_2()"
      ],
      "metadata": {
        "id": "_pEiUlEYSCmq"
      },
      "execution_count": null,
      "outputs": []
    },
    {
      "cell_type": "markdown",
      "source": [
        "**487-489: Namedtuple en python**"
      ],
      "metadata": {
        "id": "HguN4Haa6rJK"
      }
    },
    {
      "cell_type": "code",
      "source": [
        "# Namedtuples son una extension del tipo tupla\n",
        "# Son una alternativa para escribir clases (atributos tipos inmutables)\n",
        "# Asignar un identicador a cada elemento de la tupla\n",
        "from collections import namedtuple\n",
        "# Definimos una clase con atributos inmutables pero usando namedtuple\n",
        "Persona1 = namedtuple('Persona1', 'nombre apellido edad')\n",
        "# Creamos una instancia de la clase (se agrega un constructor por default con los atributos)\n",
        "persona1 = Persona1('Juan','Perez',28)\n",
        "# En automatico se crea un metodo __repr__ con los atributos proporcionados\n",
        "print(persona1)\n",
        "\n",
        "# Creamos nuestra clase con los atributos usando una lista\n",
        "Persona2 = namedtuple('Persona2', ['nombre', 'apellido', 'edad'])\n",
        "persona2 = Persona2('Karla', 'Gomez', 30)\n",
        "print(persona2)\n",
        "\n",
        "# Podemos acceder a los atributos de manera individual por nombre\n",
        "print(f'Nombre: {persona2.nombre}')\n",
        "print(f'Apellido: {persona2.apellido}')\n",
        "print(f'Edad: {persona2.edad}')\n",
        "# Acceder a los atributos por indice\n",
        "print(f'Nombre: {persona2[0]}')\n",
        "print(f'Apellido: {persona2[1]}')\n",
        "print(f'Edad: {persona2[2]}')\n",
        "# Podemos convertir los valores a una tupla\n",
        "print(tuple(persona2))\n",
        "# Podemos hacer unpacking de los elementos de la tupla\n",
        "nombre, apellido, edad = persona2\n",
        "print(f'Valores tupla persona: {nombre}, {apellido}, {edad}')\n",
        "# Podemos hacer unpacking pansado como argumento\n",
        "print(*persona2)\n",
        "# Las tuplas son inmutables al igual que namedtuple\n",
        "# persona2.edad = 30\n",
        "\n",
        "# Subclases de namedtuples\n",
        "class Persona3(Persona2):\n",
        "    # Agregamos un nuevo metodo a la clase hija\n",
        "    def convertir_mayusculas(self):\n",
        "        return f'Nombre completo: {self.nombre.upper()} {self.apellido.upper()}'\n",
        "\n",
        "persona3 = Persona3('Maria','Lara',35)\n",
        "print(persona3)\n",
        "print(persona3.convertir_mayusculas())\n",
        "\n",
        "# Existe otra forma de hacer extends de la clase (la forma recomendada con namedtuple)\n",
        "Persona4 = namedtuple('Persona4', Persona2._fields + ('email',))\n",
        "# Creamos un objeto persona4 con el nuevo atributo de email\n",
        "persona4 = Persona4('Armando','Quintero', 38, 'aquintero@mail.com')\n",
        "print(persona4)\n",
        "\n",
        "# Metodos de ayuda (built-in) en namedtuple\n",
        "print(persona4._fields)\n",
        "# Ej. convetir a un diccionario\n",
        "diccionario_persona4 = persona4._asdict()\n",
        "print(diccionario_persona4)"
      ],
      "metadata": {
        "id": "0Ly1uwnz6rmE"
      },
      "execution_count": null,
      "outputs": []
    },
    {
      "cell_type": "markdown",
      "source": [
        "**490-491: Diferencia entre variables de estancia y clase**"
      ],
      "metadata": {
        "id": "q_d4TtmeIrLf"
      }
    },
    {
      "cell_type": "code",
      "source": [
        "# Diferencia entre variables de clase y de instancia (objeto)\n",
        "class Perro:\n",
        "    no_patas = 4 # <- Variable de Clase\n",
        "\n",
        "    def __init__(self, nombre):\n",
        "        self.nombre = nombre # <- Variable de instancia (del objeto)\n",
        "\n",
        "# Definimos algunos objetos\n",
        "layla = Perro('Layla')\n",
        "venus = Perro('Venus')\n",
        "# Cada objeto tiene su propio atributo de nombre\n",
        "print(layla.nombre, venus.nombre)\n",
        "\n",
        "# La variable de clase se puede acceder con el nombre de la clase o con los objetos\n",
        "print(layla.no_patas, venus.no_patas, Perro.no_patas)\n",
        "\n",
        "# Si tratamos de acceder la variable de instancia desde la clase no es posible\n",
        "# print(Perro.nombre)\n",
        "\n",
        "# Si queremos modificar el no_patas para todos los perros\n",
        "Perro.no_patas = 5\n",
        "print(layla.no_patas, venus.no_patas, Perro.no_patas)\n",
        "\n",
        "# Si queremos modificar el no_patas para un solo perro\n",
        "venus.no_patas = 6 # Se crea una variable de instancia (oculta a la variable de clase)\n",
        "print(layla.no_patas, venus.no_patas, Perro.no_patas)\n",
        "\n",
        "# Imprimimos el valor de la variable de instancia y ademas la variable de clase\n",
        "print(venus.no_patas, venus.__class__.no_patas)\n",
        "\n",
        "# Si creamos una variable desde la clase\n",
        "Perro.nombre = 'Clase Perro'\n",
        "print(layla.nombre, venus.nombre, Perro.nombre)\n",
        "\n",
        "# Si definimos una variable de clase que no esta en los objetos\n",
        "Perro.no_orejas = 2\n",
        "print(layla.no_orejas, venus.no_orejas, Perro.no_orejas)"
      ],
      "metadata": {
        "id": "qk7nyMbTIrf2"
      },
      "execution_count": null,
      "outputs": []
    },
    {
      "cell_type": "markdown",
      "source": [
        "**492: Ejercicio de variables de instancia y de clases en python**"
      ],
      "metadata": {
        "id": "k0JVGW2tj3Nw"
      }
    },
    {
      "cell_type": "code",
      "source": [
        "\n",
        "# Contador de objetos de una clase\n",
        "# Implementacion Erronea\n",
        "class ContadorObjetosErronea:\n",
        "    no_instancias = 0\n",
        "\n",
        "    def __init__(self):\n",
        "        # Aca esta el error\n",
        "        self.no_instancias += 1\n",
        "\n",
        "print('contador de Instancias Erroneo:')\n",
        "print(ContadorObjetosErronea.no_instancias)\n",
        "print(ContadorObjetosErronea().no_instancias)\n",
        "print(ContadorObjetosErronea().no_instancias)\n",
        "print(ContadorObjetosErronea.no_instancias)\n",
        "\n",
        "# Implementacion corregida\n",
        "class ContadorObjetos:\n",
        "    no_instancias = 0\n",
        "\n",
        "    def __init__(self):\n",
        "        # Incrementamos la variable de clase\n",
        "        self.__class__.no_instancias += 1\n",
        "\n",
        "print('Contador Instancias:')\n",
        "print(ContadorObjetos.no_instancias)\n",
        "print(ContadorObjetos().no_instancias)\n",
        "print(ContadorObjetos().no_instancias)\n",
        "print(ContadorObjetos().no_instancias)\n",
        "print(ContadorObjetos.no_instancias)"
      ],
      "metadata": {
        "id": "weywquUsoZTE"
      },
      "execution_count": null,
      "outputs": []
    },
    {
      "cell_type": "markdown",
      "source": [
        "**493-494: Metodos de instancia, clases y estáticos en python**"
      ],
      "metadata": {
        "id": "Uq6vPBlwoc3A"
      }
    },
    {
      "cell_type": "code",
      "source": [
        "# Metodos de instancia, clase y static y sus diferencias\n",
        "class MiClase:\n",
        "\n",
        "    def metodo_instancia(self):\n",
        "        # Retornamos una tupla\n",
        "        return 'Metodo de instancia ejecutado...', self\n",
        "\n",
        "    @classmethod\n",
        "    def metodo_clase(cls):\n",
        "        # Retornar una tupla\n",
        "        return 'Metodo de clase ejecutado...', cls\n",
        "\n",
        "    @staticmethod\n",
        "    def metodo_estatico():\n",
        "        return 'Metodo estatico ejecutado...'\n",
        "\n",
        "# Caso 1. Ejecutamos el metodo de instancia de manera implicita\n",
        "objeto = MiClase()\n",
        "print(objeto.metodo_instancia())\n",
        "# Caso 2. Ejecutamos el metodo de instancia de manera explicita\n",
        "print(MiClase.metodo_instancia(objeto))\n",
        "\n",
        "# Caso 3. Ejecutamos el metodo de instancia desde la clase\n",
        "print(MiClase.metodo_instancia(MiClase))\n",
        "\n",
        "# Caso 4. Ejecutamos el metodo de clase\n",
        "print(MiClase.metodo_clase())\n",
        "# Caso 5. Desde las instancias podemos acceder a los metodos de clase\n",
        "print(objeto.metodo_clase())\n",
        "\n",
        "# Caso 6. Ejecutamos el metodo estatico\n",
        "print(MiClase.metodo_estatico())\n",
        "# Caso 7. Desde la instancia\n",
        "print(objeto.metodo_estatico())\n",
        "\n",
        "# En resumen:\n",
        "# La clase no puede acceder los metodos de instancia (Caso 2)\n",
        "# a menos que se proporcione una instancia\n",
        "# Pero los objetos si pueden acceder a los metodos de clase y estaticos (Casos 5 y 7)\n",
        "# Los metodos de clase pueden modificar el estado de la clase (variables de instancia)\n",
        "# pero no tiene acceso a las variables de instancia (No tiene acceso a self)\n",
        "\n",
        "# Los metodos de instancia puede modificar tanto el estado del objeto (variables de instancia)\n",
        "# asi como el estado de la clase (variables de clase) usando self.__class__\n",
        "\n",
        "# Los metodos estaticos no tienen acceso a cls ni self, por lo que no pueden modificar\n",
        "# el estado del objeto ni el estado de la clase\n",
        "# Los metodos estaticos son funciones normales pero asociadas a una clase\n",
        "# que indican que su intencion no es modificar el estado de la clase ni del objeto\n",
        "# ya que no tienen relacion directa con estos estados por que NO acceden a self ni cls\n",
        "# Esto permite mostrar la intencion del programador de usar metodos estaticos\n",
        "\n",
        "# Recordar que self y cls es solo un nombre que se usa por estandar, pero puede modificarse"
      ],
      "metadata": {
        "id": "QAsU2hwHodNQ"
      },
      "execution_count": null,
      "outputs": []
    },
    {
      "cell_type": "markdown",
      "source": [
        "**495-499: Diccionarios en python, diccionarios ordenados, diccionarios por default, Mezclando diccionarios y diccionarios de solo lectura**"
      ],
      "metadata": {
        "id": "uK09gqn6rzH7"
      }
    },
    {
      "cell_type": "code",
      "source": [
        "# Diccionarios - dicts\n",
        "# maps, hashmaps, lookup tables, etc (llave-valor)\n",
        "# Ejemplo clasico: directorio (llave=nombre, valor=telefono)\n",
        "directorio = {\n",
        "    'Juan': 55689001,\n",
        "    'Alicia': 56432217,\n",
        "    'Carlos': 56772345\n",
        "}\n",
        "# Imprimir el diccionario\n",
        "print(directorio)\n",
        "\n",
        "# Recuperar un elemento\n",
        "print(directorio['Juan'])\n",
        "\n",
        "# Arroja un error KeyError al no encontrar una llave\n",
        "# print(directorio['juan'])\n",
        "\n",
        "# Podemos utilizar una expresion para crear un diccionario\n",
        "valores_al_cuadrado = {x: x*x for x in range(5)}\n",
        "print(valores_al_cuadrado)\n",
        "\n",
        "# Los tipos mutables no pueden ser llaves de un diccionario\n",
        "lista = [1,2,3]\n",
        "# diccionario_erroneo = {lista: 'A'}\n",
        "# print(diccionario_erroneo)\n",
        "\n",
        "# Pero los tipos inmutables pueden ser llaves de un diccionario\n",
        "tupla = (1,2,3)\n",
        "diccionario_correcto = {tupla: 'A'}\n",
        "print(diccionario_correcto)\n",
        "\n",
        "# Si queremos garantizar un orden de insercion, OrderedDict\n",
        "from collections import OrderedDict\n",
        "\n",
        "diccionario_ordenado = OrderedDict(uno=1,dos=2,tres=3)\n",
        "print(diccionario_ordenado)\n",
        "# Agregamos un nuevo elemento\n",
        "diccionario_ordenado['cuatro']=4\n",
        "print(diccionario_ordenado)\n",
        "# Obtenemos las llaves\n",
        "print(diccionario_ordenado.keys())\n",
        "\n",
        "# Si cambiamos algun valor de alguna llave, se mantiene el orden de insercion de las llaves\n",
        "diccionario_ordenado['uno']=-1\n",
        "print(diccionario_ordenado)\n",
        "\n",
        "# Eliminamos una llave\n",
        "diccionario_ordenado.pop('tres')\n",
        "print(diccionario_ordenado)\n",
        "\n",
        "# Volvemos a insertar el elemento eliminado\n",
        "diccionario_ordenado['tres']=3\n",
        "print(diccionario_ordenado)\n",
        "\n",
        "# defaultdict es una subclase de dict\n",
        "from collections import defaultdict\n",
        "\n",
        "diccionario_default = defaultdict(lambda : 'Valor Erroneo')\n",
        "diccionario_default['a']=1\n",
        "diccionario_default['b']=2\n",
        "print(diccionario_default.items())\n",
        "# Imprimir un elemento no existente\n",
        "print(diccionario_default['c'])\n",
        "\n",
        "# Podemos crear valores por default como una lista\n",
        "diccionario_default_lista = defaultdict(list)\n",
        "# Si accedemos a una llave no existente, la crea y los valores se asignan como una lista\n",
        "diccionario_default_lista['nombres'].append('Juan')\n",
        "diccionario_default_lista['nombres'].append('Karla')\n",
        "diccionario_default_lista['nombres'].append('Laura')\n",
        "print(diccionario_default_lista)\n",
        "print(diccionario_default_lista.items())\n",
        "print(diccionario_default_lista.keys())\n",
        "print(diccionario_default_lista.values())\n",
        "\n",
        "# Buscar en multiples diccionarios como un diccionario unico\n",
        "from collections import ChainMap\n",
        "\n",
        "diccionario1 = {'uno': 1, 'dos': 2, 'tres':3, 'cinco': 'A'}\n",
        "diccionario2 = {'cuatro': 4, 'cinco': 5}\n",
        "# Combinacion de diccionarios\n",
        "combinacion_diccionarios = ChainMap(diccionario1, diccionario2)\n",
        "print(combinacion_diccionarios)\n",
        "# Buscamos en todos los diccionarios (de izquierda a derecha)\n",
        "print(combinacion_diccionarios['cinco'])\n",
        "# Una llave no existente arroja un KeyError\n",
        "# print(combinacion_diccionarios['seis'])\n",
        "\n",
        "# Obtencion de diccionarios de solo lectura (read-only)\n",
        "from types import MappingProxyType\n",
        "diccionario_modificable = {'uno':1, 'dos': 2, 'tres': 3}\n",
        "diccionario_solo_lectura = MappingProxyType(diccionario_modificable)\n",
        "# Leemos el valor del diccionario\n",
        "print(diccionario_solo_lectura)\n",
        "print(diccionario_solo_lectura['uno'])\n",
        "# Arroja error si queremos modificar el valor del diccionario de solo lectura\n",
        "# diccionario_solo_lectura['uno']=-1\n",
        "# si modificamos el diccionario mutable, afecta al de solo lectura\n",
        "diccionario_modificable['dos']=22\n",
        "# veamos los cambios en los diccionarios\n",
        "print(diccionario_modificable)\n",
        "print(diccionario_solo_lectura)"
      ],
      "metadata": {
        "id": "LxTpNQ8ur0wb"
      },
      "execution_count": null,
      "outputs": []
    },
    {
      "cell_type": "markdown",
      "source": [],
      "metadata": {
        "id": "8HxBgW1Xyj2K"
      }
    },
    {
      "cell_type": "code",
      "source": [],
      "metadata": {
        "id": "Yz5bAjZwykU8"
      },
      "execution_count": null,
      "outputs": []
    }
  ]
}